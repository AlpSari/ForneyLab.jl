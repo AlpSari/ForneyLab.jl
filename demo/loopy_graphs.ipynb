{
 "metadata": {
  "language": "Julia",
  "name": "",
  "signature": "sha256:6dae9246fefa93c0d7f6ccfda7597e0fdcb4d7fe1d2a72aed3bf21785e189776"
 },
 "nbformat": 3,
 "nbformat_minor": 0,
 "worksheets": [
  {
   "cells": [
    {
     "cell_type": "markdown",
     "metadata": {},
     "source": [
      "Loopy graphs\n",
      "===\n",
      "\n",
      "The schedules demo already briefly mentioned loopy graphs. An example graph is given below.\n",
      "\n",
      "```\n",
      "    (driver)\n",
      "   -->[A]---\n",
      "   |       |\n",
      "   |      [+]<-[N]\n",
      "   |       |\n",
      "   ---[B]<--\n",
      "  (inhibitor)\n",
      "```\n",
      "\n",
      "A graph with loops must have its cycles 'opened' before a schedule can be generated. A breaker message must be set at one of the interfaces to provide the autoscheduler with a place to start."
     ]
    },
    {
     "cell_type": "markdown",
     "metadata": {},
     "source": [
      "Calculating a message within the loop\n",
      "---\n",
      "\n",
      "Suppose we want to calculate the outgoing message on the driver node. Let's first define the graph. "
     ]
    },
    {
     "cell_type": "code",
     "collapsed": false,
     "input": [
      "using ForneyLab\n",
      "\n",
      "# Define the graph\n",
      "driver      = FixedGainNode([1.1], name=\"driver\")\n",
      "inhibitor   = FixedGainNode([0.1], name=\"inhibitor\")\n",
      "noise       = TerminalNode(GaussianDistribution(m=0.0, V=0.1), name=\"noise\")\n",
      "add         = AdditionNode(name=\"adder\")\n",
      "Edge(add.out, inhibitor.in1)\n",
      "Edge(inhibitor.out, driver.in1)\n",
      "Edge(driver.out, add.in1)\n",
      "Edge(noise.out, add.in2);"
     ],
     "language": "python",
     "metadata": {},
     "outputs": [],
     "prompt_number": 1
    },
    {
     "cell_type": "markdown",
     "metadata": {},
     "source": [
      "Because we want to calculate the message at the outgoing interface, we need to break the loop there as well. Let's set the breaker message and generate a schedule."
     ]
    },
    {
     "cell_type": "code",
     "collapsed": false,
     "input": [
      "breaker_message = Message(uninformative(GaussianDistribution)) # Set an uninformative Gaussian distribution\n",
      "setMessage!(driver.out, breaker_message)\n",
      "schedule = generateSchedule(driver.out) # Generate the schedule based on the set breaker message\n",
      "show(schedule)"
     ],
     "language": "python",
     "metadata": {},
     "outputs": [
      {
       "output_type": "stream",
       "stream": "stdout",
       "text": [
        "Message passing schedule:\n"
       ]
      },
      {
       "output_type": "stream",
       "stream": "stdout",
       "text": [
        " TerminalNode noise:1 (out)\n",
        " AdditionNode adder:3 (out)\n",
        " FixedGainNode inhibitor:2 (out)\n",
        " FixedGainNode driver:2 (out)\n"
       ]
      }
     ],
     "prompt_number": 2
    },
    {
     "cell_type": "markdown",
     "metadata": {},
     "source": [
      "Now we can execute this schedule until convergence with a simple `while` loop."
     ]
    },
    {
     "cell_type": "code",
     "collapsed": false,
     "input": [
      "prev_dist = deepcopy(breaker_message.value) # Store the previous distribution for comparison\n",
      "converged = false\n",
      "while !converged\n",
      "    dist = ensureMVParametrization!(executeSchedule(schedule).value)\n",
      "    converged = isApproxEqual(prev_dist.m, dist.m)\n",
      "    prev_dist = deepcopy(dist) # Store the previous distribution for comparison\n",
      "end\n",
      "show(driver.out.message)\n"
     ],
     "language": "python",
     "metadata": {},
     "outputs": [
      {
       "output_type": "stream",
       "stream": "stdout",
       "text": [
        "Message"
       ]
      },
      {
       "output_type": "stream",
       "stream": "stdout",
       "text": [
        "{GaussianDistribution} with value GaussianDistribution"
       ]
      },
      {
       "output_type": "stream",
       "stream": "stdout",
       "text": [
        "\n",
        "m  = [0.0]\n",
        "V  = 1x1 Array{Float64,2}:\n",
        " "
       ]
      },
      {
       "output_type": "stream",
       "stream": "stdout",
       "text": [
        "12.1012\n",
        "W  = nothing\n",
        "xi = nothing\n",
        ".\n"
       ]
      }
     ],
     "prompt_number": 3
    },
    {
     "cell_type": "markdown",
     "metadata": {},
     "source": [
      "Calculating a message outside the loop\n",
      "---\n",
      "\n",
      "Now suppose we want to calculate the message from the addition node towards the noise node. In this case, calculating the message at the top interface of the addition node requires the message at the bottom and vice versa. This indicates that we need to set breaker messages at these positions.\n",
      "\n",
      "But first we need to clear all messages in the graph."
     ]
    },
    {
     "cell_type": "code",
     "collapsed": false,
     "input": [
      "clearAllMessages!(noise); # we pass noise as a 'seed node' so clearAllMessages!() can walk through the entire graph"
     ],
     "language": "python",
     "metadata": {},
     "outputs": [
      {
       "metadata": {},
       "output_type": "pyout",
       "prompt_number": 4,
       "text": [
        "4-element Array{Nothing,1}:\n",
        " nothing\n",
        " nothing\n",
        " nothing\n",
        " nothing"
       ]
      }
     ],
     "prompt_number": 4
    },
    {
     "cell_type": "markdown",
     "metadata": {},
     "source": [
      "Now we have a clean slate again, so we can set the breaker messages and generate the schedule."
     ]
    },
    {
     "cell_type": "code",
     "collapsed": false,
     "input": [
      "setMessage!(add.in1, Message(uninformative(GaussianDistribution)))\n",
      "setMessage!(add.out, Message(uninformative(GaussianDistribution)))\n",
      "schedule = generateSchedule(add.in2) # Generate the schedule based on the set breaker message\n",
      "show(schedule)"
     ],
     "language": "python",
     "metadata": {},
     "outputs": [
      {
       "output_type": "stream",
       "stream": "stdout",
       "text": [
        "Message passing schedule:"
       ]
      },
      {
       "output_type": "stream",
       "stream": "stdout",
       "text": [
        "\n",
        " FixedGainNode inhibitor:2 (out)\n",
        " FixedGainNode driver:2 (out)\n",
        " FixedGainNode driver:1 (in1)\n",
        " FixedGainNode inhibitor:1 (in1)\n",
        " AdditionNode adder:2 (in2)\n"
       ]
      }
     ],
     "prompt_number": 5
    },
    {
     "cell_type": "markdown",
     "metadata": {},
     "source": [
      "Again we can execute the schedule until convergence of the target."
     ]
    },
    {
     "cell_type": "code",
     "collapsed": false,
     "input": [
      "prev_dist = uninformative(GaussianDistribution) # Set a starting point for comparison\n",
      "converged = false\n",
      "while !converged\n",
      "    dist = ensureMVParametrization!(executeSchedule(schedule).value) # Calculates the message at add.in2\n",
      "    converged = isApproxEqual(add.in1.message.value.m, dist.m)\n",
      "    prev_dist = deepcopy(dist) # Store the previous distribution for comparison\n",
      "end\n",
      "show(add.in2.message)"
     ],
     "language": "python",
     "metadata": {},
     "outputs": [
      {
       "output_type": "stream",
       "stream": "stdout",
       "text": [
        "Message{GaussianDistribution} with value GaussianDistribution\n",
        "m  = [0.0]\n",
        "V  = 1x1 Array{Float64,2}:\n",
        " 82656.7\n",
        "W  = nothing\n",
        "xi = nothing\n",
        ".\n"
       ]
      }
     ],
     "prompt_number": 6
    }
   ],
   "metadata": {}
  }
 ]
}