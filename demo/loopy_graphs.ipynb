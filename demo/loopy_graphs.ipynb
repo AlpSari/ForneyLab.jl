{
 "metadata": {
  "language": "Julia",
  "name": "",
  "signature": "sha256:3e24099c9377be9443300f7c27413e69cae1530c0050f857598764da91ed9ba9"
 },
 "nbformat": 3,
 "nbformat_minor": 0,
 "worksheets": [
  {
   "cells": [
    {
     "cell_type": "markdown",
     "metadata": {},
     "source": [
      "Loopy graphs\n",
      "===\n",
      "\n",
      "The schedules demo already briefly mentioned loopy graphs. An example graph is given below.\n",
      "\n",
      "```\n",
      "    (driver)\n",
      "   -->[A]---\n",
      "   |       |\n",
      "   |      [+]<-[N]\n",
      "   |       |\n",
      "   ---[B]<--\n",
      "  (inhibitor)\n",
      "```\n",
      "\n",
      "A graph with loops must have its cycles 'opened' before a schedule can be generated. A breaker message must be set at one of the interfaces to provide the autoscheduler with a place to start."
     ]
    },
    {
     "cell_type": "markdown",
     "metadata": {},
     "source": [
      "Calculating a message within the loop\n",
      "---\n",
      "\n",
      "Suppose we want to calculate the outgoing message on the driver node. Let's first define the graph. "
     ]
    },
    {
     "cell_type": "code",
     "collapsed": false,
     "input": [
      "using ForneyLab\n",
      "\n",
      "# Define the graph\n",
      "driver      = FixedGainNode([1.1], name=\"driver\")\n",
      "inhibitor   = FixedGainNode([0.1], name=\"inhibitor\")\n",
      "noise       = TerminalNode(GaussianDistribution(m=0.0, V=0.1), name=\"noise\")\n",
      "add         = AdditionNode(name=\"adder\")\n",
      "Edge(add.out, inhibitor.in1)\n",
      "Edge(inhibitor.out, driver.in1)\n",
      "Edge(driver.out, add.in1)\n",
      "Edge(noise.out, add.in2);"
     ],
     "language": "python",
     "metadata": {},
     "outputs": [],
     "prompt_number": 1
    },
    {
     "cell_type": "markdown",
     "metadata": {},
     "source": [
      "Because we want to calculate the message at the outgoing interface, we need to break the loop there as well. Let's set the breaker message and generate a schedule."
     ]
    },
    {
     "cell_type": "code",
     "collapsed": false,
     "input": [
      "breaker_message = Message(uninformative(GaussianDistribution)) # Set an uninformative Gaussian distribution\n",
      "setMessage!(driver.out, breaker_message)\n",
      "schedule = generateSchedule(driver.out) # Generate the schedule based on the set breaker message\n",
      "show(schedule)"
     ],
     "language": "python",
     "metadata": {},
     "outputs": [
      {
       "output_type": "stream",
       "stream": "stdout",
       "text": [
        "Message passing schedule [{node type} {node name}:{outbound iface index} ({outbound iface name})]:\n"
       ]
      },
      {
       "output_type": "stream",
       "stream": "stdout",
       "text": [
        " TerminalNode noise:1 (out)\n",
        " AdditionNode adder:3 (out)\n",
        " FixedGainNode inhibitor:2 (out)\n",
        " FixedGainNode driver:2 (out)\n"
       ]
      }
     ],
     "prompt_number": 2
    },
    {
     "cell_type": "markdown",
     "metadata": {},
     "source": [
      "Now we can execute this schedule until convergence with a simple `while` loop."
     ]
    },
    {
     "cell_type": "code",
     "collapsed": false,
     "input": [
      "prev_dist = deepcopy(breaker_message.payload) # Store the previous distribution for comparison\n",
      "converged = false\n",
      "while !converged\n",
      "    dist = ensureMVParametrization!(executeSchedule(schedule).payload)\n",
      "    converged = isApproxEqual(prev_dist.m, dist.m)\n",
      "    prev_dist = deepcopy(dist) # Store the previous distribution for comparison\n",
      "end\n",
      "show(driver.out.message)\n"
     ],
     "language": "python",
     "metadata": {},
     "outputs": [
      {
       "output_type": "stream",
       "stream": "stdout",
       "text": [
        "Message{GaussianDistribution} with payload GaussianDistribution\n",
        "m  = [0.0]\n",
        "V  = [12.101210000000004]\n",
        "W  = nothing\n",
        "xi = nothing\n"
       ]
      },
      {
       "output_type": "stream",
       "stream": "stdout",
       "text": [
        "\n"
       ]
      }
     ],
     "prompt_number": 3
    },
    {
     "cell_type": "markdown",
     "metadata": {},
     "source": [
      "Calculating a message outside the loop\n",
      "---\n",
      "\n",
      "Now suppose we want to calculate the message from the addition node towards the noise node. In this case, calculating the message at the top interface of the addition node requires the message at the bottom and vice versa. This indicates that we need to set breaker messages at these positions.\n",
      "\n",
      "But first we need to clear all messages in the graph."
     ]
    },
    {
     "cell_type": "code",
     "collapsed": false,
     "input": [
      "clearMessages!();"
     ],
     "language": "python",
     "metadata": {},
     "outputs": [],
     "prompt_number": 4
    },
    {
     "cell_type": "markdown",
     "metadata": {},
     "source": [
      "Now we have a clean slate again, so we can set the breaker messages and generate the schedule."
     ]
    },
    {
     "cell_type": "code",
     "collapsed": false,
     "input": [
      "setMessage!(add.in1, Message(uninformative(GaussianDistribution)))\n",
      "setMessage!(add.out, Message(uninformative(GaussianDistribution)))\n",
      "schedule = generateSchedule(add.in2) # Generate the schedule based on the set breaker message\n",
      "show(schedule)"
     ],
     "language": "python",
     "metadata": {},
     "outputs": [
      {
       "output_type": "stream",
       "stream": "stdout",
       "text": [
        "Message passing schedule [{node type} {node name}:{outbound iface index} ({outbound iface name})]:"
       ]
      },
      {
       "output_type": "stream",
       "stream": "stdout",
       "text": [
        "\n",
        " FixedGainNode inhibitor:2 (out)\n",
        " FixedGainNode driver:2 (out)\n",
        " FixedGainNode driver:1 (in1)\n",
        " FixedGainNode inhibitor:1 (in1)\n",
        " AdditionNode adder:2 (in2)\n"
       ]
      }
     ],
     "prompt_number": 5
    },
    {
     "cell_type": "markdown",
     "metadata": {},
     "source": [
      "Again we can execute the schedule until convergence of the target."
     ]
    },
    {
     "cell_type": "code",
     "collapsed": false,
     "input": [
      "prev_dist = uninformative(GaussianDistribution) # Set a starting point for comparison\n",
      "converged = false\n",
      "while !converged\n",
      "    dist = ensureMVParametrization!(executeSchedule(schedule).payload) # Calculates the message at add.in2\n",
      "    converged = isApproxEqual(mean(add.in1.message.payload), dist.m)\n",
      "    prev_dist = deepcopy(dist) # Store the previous distribution for comparison\n",
      "end\n",
      "show(add.in2.message)"
     ],
     "language": "python",
     "metadata": {},
     "outputs": [
      {
       "output_type": "stream",
       "stream": "stdout",
       "text": [
        "Message{GaussianDistribution} with payload GaussianDistribution\n",
        "m  = [0.0]\n",
        "V  = [82656.72809917355]\n",
        "W  = nothing\n",
        "xi = nothing\n"
       ]
      },
      {
       "output_type": "stream",
       "stream": "stdout",
       "text": [
        "\n"
       ]
      }
     ],
     "prompt_number": 6
    }
   ],
   "metadata": {}
  }
 ]
}