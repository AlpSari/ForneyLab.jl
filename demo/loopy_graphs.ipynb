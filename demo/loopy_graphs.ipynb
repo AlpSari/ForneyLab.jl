{
 "metadata": {
  "language": "Julia",
  "name": "loopy_graphs",
  "signature": "sha256:9e75764e782291da15ec6b5dc312704ef6f31e01b5b3dd1349737cfffc012faa"
 },
 "nbformat": 3,
 "nbformat_minor": 0,
 "worksheets": [
  {
   "cells": [
    {
     "cell_type": "markdown",
     "metadata": {},
     "source": "Loopy graphs\n===\n\nThe schedules demo already briefly mentioned loopy graphs. An example graph is given below.\n\n```\n    (driver)\n   -->[A]---\n   |       |\n   |      [+]<-[N]\n   |       |\n   ---[B]<--\n  (inhibitor)\n```\n\nA graph with loops must have its cycles 'opened' before a schedule can be generated. A breaker message must be set at one of the interfaces to provide the schedule with a place to start."
    },
    {
     "cell_type": "markdown",
     "metadata": {},
     "source": "Calculating a message within the loop\n---\n\nSuppose we want to calculate the outgoing message on the driver node. Let's first define the graph. "
    },
    {
     "cell_type": "code",
     "collapsed": false,
     "input": "using ForneyLab\n\n# Define the graph\ndriver      = FixedGainNode([1.1], name=\"driver\")\ninhibitor   = FixedGainNode([0.1], name=\"inhibitor\")\nnoise       = ConstantNode(GaussianDistribution(m=[0.0], V=[0.1]), name=\"noise\")\nadd         = AdditionNode(name=\"adder\")\nEdge(add.out, inhibitor.in1)\nEdge(inhibitor.out, driver.in1)\nEdge(driver.out, add.in1)\nEdge(noise.out, add.in2);",
     "language": "python",
     "metadata": {},
     "outputs": [],
     "prompt_number": 1
    },
    {
     "cell_type": "markdown",
     "metadata": {},
     "source": "Because we want to calculate the message at the outgoing interface, we need to break the loop there as well. Let's set the breaker message and generate a schedule."
    },
    {
     "cell_type": "code",
     "collapsed": false,
     "input": "breaker_message = Message(uninformative(GaussianDistribution)) # Set an uninformative Gaussian distribution\nsetMessage!(driver.out, breaker_message)\nschedule = generateSchedule(driver.out) # Generate the schedule based on the set breaker message\nshow(schedule)",
     "language": "python",
     "metadata": {},
     "outputs": [
      {
       "output_type": "stream",
       "stream": "stdout",
       "text": "Message passing schedule:\n"
      },
      {
       "output_type": "stream",
       "stream": "stdout",
       "text": " ConstantNode noise:1 (out)\n AdditionNode adder:3 (out)\n FixedGainNode inhibitor:2 (out)\n FixedGainNode driver:2 (out)\n"
      }
     ],
     "prompt_number": 2
    },
    {
     "cell_type": "markdown",
     "metadata": {},
     "source": "Now we can execute this schedule until convergence with a simple `while` loop."
    },
    {
     "cell_type": "code",
     "collapsed": false,
     "input": "prev_dist = deepcopy(breaker_message.value) # Store the previous distribution for comparison\nconverged = false\nwhile !converged\n    dist = ensureMVParametrization!(executeSchedule(schedule).value)\n    converged = isApproxEqual(prev_dist.m, dist.m)\n    prev_dist = deepcopy(dist) # Store the previous distribution for comparison\nend\nshow(driver.out.message)\n",
     "language": "python",
     "metadata": {},
     "outputs": [
      {
       "output_type": "stream",
       "stream": "stdout",
       "text": "Message"
      },
      {
       "output_type": "stream",
       "stream": "stdout",
       "text": "{GaussianDistribution} with value GaussianDistribution"
      },
      {
       "output_type": "stream",
       "stream": "stdout",
       "text": "\nm  = [0.0]\nV  = 1x1 Array{Float64,2}:\n "
      },
      {
       "output_type": "stream",
       "stream": "stdout",
       "text": "12.1012\nW  = nothing\nxi = nothing\n.\n"
      }
     ],
     "prompt_number": 3
    },
    {
     "cell_type": "markdown",
     "metadata": {},
     "source": "Calculating a message outside the loop\n---\n\nNow suppose we want to calculate the message from the addition node towards the noise node. In this case, calclating the message at the top interface of the addition node requires the message at the bottom and vice versa. This indicates that we need to set breaker messages at these positions.\n\nBut first we need to clear all messages in the graph."
    },
    {
     "cell_type": "code",
     "collapsed": false,
     "input": "clearAllMessages!(noise);",
     "language": "python",
     "metadata": {},
     "outputs": [],
     "prompt_number": 4
    },
    {
     "cell_type": "markdown",
     "metadata": {},
     "source": "Now we started with a clean slate, we need to set the breaker messages and regenerate the schedule."
    },
    {
     "cell_type": "code",
     "collapsed": false,
     "input": "setMessage!(add.in1, Message(uninformative(GaussianDistribution)))\nsetMessage!(add.out, Message(uninformative(GaussianDistribution)))\nschedule = generateSchedule(add.in2) # Generate the schedule based on the set breaker message\nshow(schedule)",
     "language": "python",
     "metadata": {},
     "outputs": [
      {
       "output_type": "stream",
       "stream": "stdout",
       "text": "Message passing schedule:"
      },
      {
       "output_type": "stream",
       "stream": "stdout",
       "text": "\n FixedGainNode inhibitor:2 (out)\n FixedGainNode driver:2 (out)\n FixedGainNode driver:1 (in1)\n FixedGainNode inhibitor:1 (in1)\n AdditionNode adder:2 (in2)\n"
      }
     ],
     "prompt_number": 5
    },
    {
     "cell_type": "markdown",
     "metadata": {},
     "source": "Now we can generate a schedule and iterate until convergence."
    },
    {
     "cell_type": "code",
     "collapsed": false,
     "input": "prev_dist = uninformative(GaussianDistribution) # Set a starting point for comparison\nconverged = false\nwhile !converged\n    dist = ensureMVParametrization!(executeSchedule(schedule).value) # Calculates the message at add.in2\n    converged = isApproxEqual(add.in1.message.value.m, dist.m)\n    prev_dist = deepcopy(dist) # Store the previous distribution for comparison\nend\nshow(add.in2.message)",
     "language": "python",
     "metadata": {},
     "outputs": [
      {
       "output_type": "stream",
       "stream": "stdout",
       "text": "Message"
      },
      {
       "output_type": "stream",
       "stream": "stdout",
       "text": "{GaussianDistribution} with value GaussianDistribution\nm  = [0.0]\nV  = 1x1 Array{Float64,2}:\n 82656.7\nW  = nothing\nxi = nothing\n.\n"
      }
     ],
     "prompt_number": 6
    }
   ],
   "metadata": {}
  }
 ]
}