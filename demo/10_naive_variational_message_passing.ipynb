{
 "metadata": {
  "language": "Julia",
  "name": "",
  "signature": "sha256:20b68883677f53cec60e8845c6aca84d8c25a1fec0a4fa5a47f95846242e6702"
 },
 "nbformat": 3,
 "nbformat_minor": 0,
 "worksheets": [
  {
   "cells": [
    {
     "cell_type": "markdown",
     "metadata": {},
     "source": [
      "Naive variational message passing demo\n",
      "===\n",
      "\n",
      "The variational method is used to approximate an intractable posterior distribution when hidden variables are present. Variational approximation can be viewed as the minimization of a variational free energy function. This free energy measures the dissimilarity between the intractable true posterior and a more friendly approximate distribution. When the Kullback Leibler divergence is used as dissimilariy measure, the approximate distribution lives under the true posterior and attempts to fit the local properties of the posterior distribution.\n",
      "\n",
      "Variational methods often involve complicated and extensive derivations in order to execute the free energy minimizations. Variational message passing (VMP) eases our derivation troubles by expressing the variational algorithm in terms of local update rules, using the factorization of the posterior. In his 2007 article, Dauwels gives a generic introduction to VMP on a factor graph. We will implement this VMP approach for the case of a univariate Gaussian posterior. We wish to estimate the latent mean and variance of this Gaussian using VMP.\n",
      "\n",
      "The corresponding factor graph is shown below, where $q(m)$, $q(s)$ and $q(y)$ represent the approximated marginals for the mean, variance and sample respectively. Variational messages $v(.)$ are passed forward and backward, and the approximate marginals $q(.)$ are calculated as $q(.)=\\overrightarrow{v}(.) \\times \\overleftarrow{v}(.)$. We observe the samples `y` and wish to estimate the posterior distribution over the mean and variance given these samples.\n",
      "\n",
      "\n",
      "```\n",
      " [s_0]---------->[=]---------->[=]--->    -->[s_N]\n",
      "                      |             |   etc...\n",
      " [m_0]-->[=]---------->[=]--------->      -->[m_N]\n",
      "          q(m)|   q(s)|     |       |\n",
      "              -->[N]<--     -->[N]<--\n",
      "                  |             |\n",
      "                  v q(y)        v\n",
      "                [y_1]         [y_2]\n",
      "```\n",
      "\n",
      "We start by building this graph."
     ]
    },
    {
     "cell_type": "code",
     "collapsed": false,
     "input": [
      "using(ForneyLab)\n",
      "\n",
      "# Initial settings\n",
      "n_samples = 10 # Number of observed samples\n",
      "n_its = 50 # Number of vmp iterations\n",
      "true_mean = 5.0\n",
      "true_variance = 2.0\n",
      "y_observations = sqrt(true_variance)*randn(n_samples)+true_mean # y observation buffer\n",
      "\n",
      "# Pre-assign arrays for later reference\n",
      "g_nodes = Array(GaussianNode, n_samples)\n",
      "m_eq_nodes = Array(EqualityNode, n_samples)\n",
      "s_eq_nodes = Array(EqualityNode, n_samples)\n",
      "y_nodes = Array(TerminalNode, n_samples)\n",
      "\n",
      "# Build graph\n",
      "for section=1:n_samples\n",
      "    g_nodes[section] = GaussianNode()\n",
      "    m_eq_nodes[section] = EqualityNode() # Equality node chain for mean\n",
      "    s_eq_nodes[section] = EqualityNode() # Equality node chain for variance\n",
      "    y_nodes[section] = TerminalNode(y_observations[section]) # Observed y values are stored in terminal node values\n",
      "    Edge(g_nodes[section].out, y_nodes[section].out, GaussianDistribution)\n",
      "    Edge(m_eq_nodes[section].interfaces[3], g_nodes[section].mean, GaussianDistribution)\n",
      "    Edge(s_eq_nodes[section].interfaces[3], g_nodes[section].variance, InverseGammaDistribution)\n",
      "    if section > 1 # Connect sections\n",
      "        Edge(m_eq_nodes[section-1].interfaces[2], m_eq_nodes[section].interfaces[1], GaussianDistribution)\n",
      "        Edge(s_eq_nodes[section-1].interfaces[2], s_eq_nodes[section].interfaces[1], InverseGammaDistribution)\n",
      "    end\n",
      "end\n",
      "# Attach beginning and end nodes\n",
      "m_0 = TerminalNode(GaussianDistribution(m=0.0, V=100.0)) # Prior\n",
      "s_0 = TerminalNode(InverseGammaDistribution(a=0.01, b=0.01)) # Prior\n",
      "m_N = TerminalNode(uninformative(GaussianDistribution)) # Neutral 'one' message\n",
      "s_N = TerminalNode(uninformative(InverseGammaDistribution)) # Neutral 'one' message\n",
      "Edge(m_0.out, m_eq_nodes[1].interfaces[1], GaussianDistribution)\n",
      "Edge(s_0.out, s_eq_nodes[1].interfaces[1], InverseGammaDistribution)\n",
      "Edge(m_eq_nodes[end].interfaces[2], m_N.out, GaussianDistribution)\n",
      "Edge(s_eq_nodes[end].interfaces[2], s_N.out, InverseGammaDistribution);"
     ],
     "language": "python",
     "metadata": {},
     "outputs": [],
     "prompt_number": 2
    },
    {
     "cell_type": "markdown",
     "metadata": {},
     "source": [
      "Next we need to specify the factorization, an update schedule and preset the uninformative marginals. This sounds like a lot of work, but it can be accomlished automatically."
     ]
    },
    {
     "cell_type": "code",
     "collapsed": false,
     "input": [
      "graph = getCurrentGraph()\n",
      "\n",
      "# Perform mean field factorization\n",
      "factorizeMeanField!(graph)\n",
      "\n",
      "# Initialize schedules\n",
      "for subgraph in graph.factorization\n",
      "    generateSchedule!(subgraph, graph)\n",
      "end\n",
      "\n",
      "# Preset uninformative marginals\n",
      "setUninformativeMarginals!(graph);"
     ],
     "language": "python",
     "metadata": {},
     "outputs": [],
     "prompt_number": 3
    },
    {
     "cell_type": "markdown",
     "metadata": {},
     "source": [
      "Now we can iteratively execute these schedules and inspect the results. "
     ]
    },
    {
     "cell_type": "code",
     "collapsed": false,
     "input": [
      "# The mean field factorization factorizes the graphs in a random order, so we need to name them\n",
      "mean_subgraph = getSubgraph(g_nodes[1].mean.edge) # Gets the subgraph for the mean equality chain\n",
      "var_subgraph = getSubgraph(g_nodes[1].variance.edge) # Gets the subgraph for the variance equality chain\n",
      "\n",
      "# Perform vmp updates\n",
      "for iter = 1:n_its\n",
      "    # q(y) update\n",
      "    for y_node in y_nodes\n",
      "        y_subgraph = getSubgraph(y_node.out.edge)\n",
      "        executeSchedule(y_subgraph)\n",
      "    end\n",
      "    # q(m) update\n",
      "    executeSchedule(mean_subgraph)\n",
      "    # q(s) update\n",
      "    executeSchedule(var_subgraph)\n",
      "end\n",
      "# Request the final outcome at the end of the equality chains\n",
      "m_out = calculateMessage!(m_N.out.partner)\n",
      "s_out = calculateMessage!(s_N.out.partner)\n",
      "ensureMVParametrization!(m_out.payload)\n",
      "\n",
      "# Inspect the results\n",
      "println(\"True mean: $(true_mean)\")\n",
      "println(\"True variance: $(true_variance)\")\n",
      "println(\"Number of samples: $(length(y_observations))\")\n",
      "println(\"Sample mean: $(mean(y_observations))\")\n",
      "println(\"Sample variance: $(var(y_observations))\")\n",
      "println(\"\\n----- Estimation after $(n_its) VMP updates -----\")\n",
      "println(\"Mean estimate: $(mean(m_out.payload)[1]), with variance $(var(m_out.payload)[1, 1])\")\n",
      "println(\"Variance estimate: $(mean(s_out.payload)), with variance $(var(s_out.payload))\")"
     ],
     "language": "python",
     "metadata": {},
     "outputs": [
      {
       "output_type": "stream",
       "stream": "stdout",
       "text": [
        "True mean: 5.0\n"
       ]
      },
      {
       "output_type": "stream",
       "stream": "stdout",
       "text": [
        "True variance: 2.0\n",
        "Number of samples: 10\n",
        "Sample mean: 5.093501914929245\n",
        "Sample variance: 1.4417019235388233\n",
        "\n",
        "----- Estimation after 50 VMP updates -----\n",
        "Mean estimate: 5.089089034356272, with variance 0.0866374578173365\n",
        "Variance estimate: 1.7284147911686105, with variance 0.9924975715383495\n"
       ]
      }
     ],
     "prompt_number": 4
    }
   ],
   "metadata": {}
  }
 ]
}