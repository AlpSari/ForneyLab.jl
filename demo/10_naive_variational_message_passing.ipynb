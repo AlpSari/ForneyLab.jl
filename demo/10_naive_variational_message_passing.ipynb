{
 "metadata": {
  "language": "Julia",
  "name": "",
  "signature": "sha256:6ecc63a3f4c262181c19c4aa77386b783f1e54f83f9ff4e48cb3680aadd722db"
 },
 "nbformat": 3,
 "nbformat_minor": 0,
 "worksheets": [
  {
   "cells": [
    {
     "cell_type": "markdown",
     "metadata": {},
     "source": [
      "Naive variational message passing demo\n",
      "===\n",
      "\n",
      "ForneyLab comes with support for variational message passing (VMP). Variational methods often involve complicated and extensive derivations. VMP on a factor graph eases our derivation troubles by expressing the variational algorithm in terms of local update rules. In his 2007 article, Dauwels gives a generic introduction to VMP on a factor graph. ForneyLab implements this VMP approach.\n",
      "\n",
      "In this demo we illustrate VMP by estimating the mean and variance of samples drawn from a Gaussian distribution. The corresponding factor graph is shown below, where $q(m)$, $q(s)$ and $q(y)$ represent the approximated marginals for the mean, variance and sample respectively. Variational messages $v(.)$ are passed forward and backward, and the approximate marginals $q(.)$ are calculated as $q(.)=\\overrightarrow{v}(.) \\times \\overleftarrow{v}(.)$. We observe the samples `y` and wish to estimate the posterior distribution over the mean and variance given these samples.\n",
      "\n",
      "\n",
      "```\n",
      "     [s_0]---------->[=]---------->[=]--->    -->[s_N]\n",
      "                      |             |   etc...\n",
      "     [m_0]-->[=]---------->[=]--------->      -->[m_N]\n",
      "          q(m)|   q(s)|     |       |\n",
      "              -->[N]<--     -->[N]<--\n",
      "                  |             |\n",
      "                  v q(y)        v\n",
      "                [y_1]         [y_2]\n",
      "```\n",
      "\n",
      "We start by building this graph."
     ]
    },
    {
     "cell_type": "code",
     "collapsed": false,
     "input": [
      "using(ForneyLab)\n",
      "\n",
      "# Initial settings\n",
      "n_samples = 10 # Number of observed samples\n",
      "n_its = 50 # Number of vmp iterations\n",
      "true_mean = 5.0\n",
      "true_variance = 2.0\n",
      "y_observations = sqrt(true_variance)*randn(n_samples)+true_mean # y observation buffer\n",
      "\n",
      "# Pre-assign arrays for later reference\n",
      "g_nodes = Array(GaussianNode, n_samples)\n",
      "m_eq_nodes = Array(EqualityNode, n_samples)\n",
      "s_eq_nodes = Array(EqualityNode, n_samples)\n",
      "y_nodes = Array(TerminalNode, n_samples)\n",
      "\n",
      "# Build graph\n",
      "for section=1:n_samples\n",
      "    g_nodes[section] = GaussianNode()\n",
      "    m_eq_nodes[section] = EqualityNode() # Equality node chain for mean\n",
      "    s_eq_nodes[section] = EqualityNode() # Equality node chain for variance\n",
      "    y_nodes[section] = TerminalNode(GaussianDistribution(m=y_observations[section], V=tiny())) # Observed y values are stored in terminal node values\n",
      "    Edge(g_nodes[section].out, y_nodes[section].out, GaussianDistribution)\n",
      "    Edge(m_eq_nodes[section].interfaces[3], g_nodes[section].mean, GaussianDistribution)\n",
      "    Edge(s_eq_nodes[section].interfaces[3], g_nodes[section].variance, InverseGammaDistribution)\n",
      "    if section > 1 # Connect sections\n",
      "        Edge(m_eq_nodes[section-1].interfaces[2], m_eq_nodes[section].interfaces[1], GaussianDistribution)\n",
      "        Edge(s_eq_nodes[section-1].interfaces[2], s_eq_nodes[section].interfaces[1], InverseGammaDistribution)\n",
      "    end\n",
      "end\n",
      "# Attach beginning and end nodes\n",
      "m_0 = TerminalNode(GaussianDistribution(m=0.0, V=100.0)) # Prior\n",
      "s_0 = TerminalNode(InverseGammaDistribution(a=0.01, b=0.01)) # Prior\n",
      "m_N = TerminalNode(vague(GaussianDistribution)) # Uninformative distribution\n",
      "s_N = TerminalNode(vague(InverseGammaDistribution)) # Uninformative distribution\n",
      "Edge(m_0.out, m_eq_nodes[1].interfaces[1], GaussianDistribution)\n",
      "Edge(s_0.out, s_eq_nodes[1].interfaces[1], InverseGammaDistribution)\n",
      "Edge(m_eq_nodes[end].interfaces[2], m_N.out, GaussianDistribution)\n",
      "Edge(s_eq_nodes[end].interfaces[2], s_N.out, InverseGammaDistribution);"
     ],
     "language": "python",
     "metadata": {},
     "outputs": [],
     "prompt_number": 1
    },
    {
     "cell_type": "markdown",
     "metadata": {},
     "source": [
      "Next we need to specify the factorization, an update schedule and preset the vague/uninformative marginals. This sounds like a lot of work, but it can be accomlished automatically."
     ]
    },
    {
     "cell_type": "code",
     "collapsed": false,
     "input": [
      "# Perform mean field factorization\n",
      "factorizeMeanField!()\n",
      "\n",
      "# Generate schedules for all subgraphs\n",
      "generateSchedule!()\n",
      "\n",
      "# Init uninformative marginals\n",
      "setVagueMarginals!();"
     ],
     "language": "python",
     "metadata": {},
     "outputs": [],
     "prompt_number": 2
    },
    {
     "cell_type": "markdown",
     "metadata": {},
     "source": [
      "We can visualize a subgraph with the `graphViz()` function. The external edges of the subgraph are then denoted by red dashed arrows. "
     ]
    },
    {
     "cell_type": "code",
     "collapsed": false,
     "input": [
      "y_1_subgraph = getSubgraph(y_nodes[1].out.edge)\n",
      "graphViz(y_1_subgraph)"
     ],
     "language": "python",
     "metadata": {},
     "outputs": [
      {
       "metadata": {},
       "output_type": "display_data",
       "svg": [
        "<?xml version=\"1.0\" encoding=\"UTF-8\" standalone=\"no\"?>\n",
        "<!DOCTYPE svg PUBLIC \"-//W3C//DTD SVG 1.1//EN\"\n",
        " \"http://www.w3.org/Graphics/SVG/1.1/DTD/svg11.dtd\">\n",
        "<!-- Generated by graphviz version 2.36.0 (20140111.2315)\n",
        " -->\n",
        "<!-- Title: G Pages: 1 -->\n",
        "<svg width=\"187pt\" height=\"248pt\"\n",
        " viewBox=\"0.00 0.00 187.00 248.00\" xmlns=\"http://www.w3.org/2000/svg\" xmlns:xlink=\"http://www.w3.org/1999/xlink\">\n",
        "<g id=\"graph0\" class=\"graph\" transform=\"scale(1 1) rotate(0) translate(4 244)\">\n",
        "<title>G</title>\n",
        "<polygon fill=\"white\" stroke=\"none\" points=\"-4,4 -4,-244 183,-244 183,4 -4,4\"/>\n",
        "<!-- 17747223238747599032 -->\n",
        "<g id=\"node1\" class=\"node\"><title>17747223238747599032</title>\n",
        "<polygon fill=\"none\" stroke=\"black\" points=\"104,-190 32,-190 32,-118 104,-118 104,-190\"/>\n",
        "<text text-anchor=\"middle\" x=\"68\" y=\"-156.8\" font-family=\"Times,serif\" font-size=\"9.00\">GaussianNode</text>\n",
        "<text text-anchor=\"middle\" x=\"68\" y=\"-146.8\" font-family=\"Times,serif\" font-size=\"9.00\">unnamed1</text>\n",
        "</g>\n",
        "<!-- 2343182422375881271 -->\n",
        "<g id=\"node2\" class=\"node\"><title>2343182422375881271</title>\n",
        "<polygon fill=\"lightgrey\" stroke=\"black\" points=\"95,-54 41,-54 41,-0 95,-0 95,-54\"/>\n",
        "<text text-anchor=\"middle\" x=\"68\" y=\"-24.8\" font-family=\"Times,serif\" font-size=\"9.00\">unnamed4</text>\n",
        "</g>\n",
        "<!-- 17747223238747599032&#45;&gt;2343182422375881271 -->\n",
        "<g id=\"edge1\" class=\"edge\"><title>17747223238747599032&#45;&gt;2343182422375881271</title>\n",
        "<path fill=\"none\" stroke=\"black\" d=\"M68,-117.848C68,-101.104 68,-81.0982 68,-64.2192\"/>\n",
        "<polygon fill=\"none\" stroke=\"black\" points=\"71.5001,-64.1708 68,-54.1708 64.5001,-64.1708 71.5001,-64.1708\"/>\n",
        "<text text-anchor=\"middle\" x=\"123.5\" y=\"-93.1\" font-family=\"Times,serif\" font-size=\"8.00\">FW: \u25cb</text>\n",
        "<text text-anchor=\"middle\" x=\"123.5\" y=\"-84.1\" font-family=\"Times,serif\" font-size=\"8.00\">BW: \u25cb</text>\n",
        "<text text-anchor=\"middle\" x=\"123.5\" y=\"-75.1\" font-family=\"Times,serif\" font-size=\"8.00\">Distribution: GaussianDistribution</text>\n",
        "<text text-anchor=\"middle\" x=\"60\" y=\"-56.7708\" font-family=\"Times,serif\" font-size=\"8.00\">1 out</text>\n",
        "<text text-anchor=\"middle\" x=\"60\" y=\"-111.448\" font-family=\"Times,serif\" font-size=\"8.00\">3 out</text>\n",
        "</g>\n",
        "<!-- 6443485794867648281 -->\n",
        "<g id=\"node3\" class=\"node\"><title>6443485794867648281</title>\n",
        "</g>\n",
        "<!-- 6443485794867648281&#45;&gt;17747223238747599032 -->\n",
        "<g id=\"edge2\" class=\"edge\"><title>6443485794867648281&#45;&gt;17747223238747599032</title>\n",
        "<path fill=\"none\" stroke=\"red\" stroke-dasharray=\"5,2\" d=\"M8.75227,-228.354C13.7501,-222.167 23.1099,-210.578 32.9383,-198.41\"/>\n",
        "<polygon fill=\"none\" stroke=\"red\" points=\"35.8628,-200.359 39.4234,-190.381 30.4172,-195.961 35.8628,-200.359\"/>\n",
        "<text text-anchor=\"middle\" x=\"22.4234\" y=\"-192.981\" font-family=\"Times,serif\" font-size=\"8.00\">2 variance</text>\n",
        "<text text-anchor=\"middle\" x=\"5.25227\" y=\"-221.954\" font-family=\"Times,serif\" font-size=\"8.00\">3 </text>\n",
        "</g>\n",
        "<!-- 3066304542391240464 -->\n",
        "<g id=\"node4\" class=\"node\"><title>3066304542391240464</title>\n",
        "</g>\n",
        "<!-- 3066304542391240464&#45;&gt;17747223238747599032 -->\n",
        "<g id=\"edge3\" class=\"edge\"><title>3066304542391240464&#45;&gt;17747223238747599032</title>\n",
        "<path fill=\"none\" stroke=\"red\" stroke-dasharray=\"5,2\" d=\"M127.248,-228.354C122.25,-222.167 112.89,-210.578 103.062,-198.41\"/>\n",
        "<polygon fill=\"none\" stroke=\"red\" points=\"105.583,-195.961 96.5766,-190.381 100.137,-200.359 105.583,-195.961\"/>\n",
        "<text text-anchor=\"middle\" x=\"84.5766\" y=\"-192.981\" font-family=\"Times,serif\" font-size=\"8.00\">1 mean</text>\n",
        "<text text-anchor=\"middle\" x=\"123.748\" y=\"-221.954\" font-family=\"Times,serif\" font-size=\"8.00\">3 </text>\n",
        "</g>\n",
        "</g>\n",
        "</svg>\n"
       ]
      }
     ],
     "prompt_number": 3
    },
    {
     "cell_type": "markdown",
     "metadata": {},
     "source": [
      "Now we can iteratively execute these schedules and inspect the results. "
     ]
    },
    {
     "cell_type": "code",
     "collapsed": false,
     "input": [
      "mean_subgraph = getSubgraph(g_nodes[1].mean.edge)\n",
      "var_subgraph = getSubgraph(g_nodes[1].variance.edge)\n",
      "\n",
      "# Perform vmp updates\n",
      "for iter = 1:n_its\n",
      "    # q(y) update\n",
      "    for y_node in y_nodes\n",
      "        y_subgraph = getSubgraph(y_node.out.edge)\n",
      "        executeSchedule(y_subgraph)\n",
      "    end\n",
      "    # q(m) update\n",
      "    executeSchedule(mean_subgraph)\n",
      "    # q(s) update\n",
      "    executeSchedule(var_subgraph)\n",
      "end\n",
      "# Request the final outcome at the end of the equality chains\n",
      "m_out = calculateMessage!(m_N.out.partner)\n",
      "s_out = calculateMessage!(s_N.out.partner)\n",
      "ensureMVParametrization!(m_out.payload)\n",
      "\n",
      "# Inspect the results\n",
      "println(\"True mean: $(true_mean)\")\n",
      "println(\"True variance: $(true_variance)\")\n",
      "println(\"Number of samples: $(length(y_observations))\")\n",
      "println(\"Sample mean: $(mean(y_observations))\")\n",
      "println(\"Sample variance: $(var(y_observations))\")\n",
      "println(\"\\n----- Estimation after $(n_its) VMP updates -----\")\n",
      "println(\"Mean estimate: $(mean(m_out.payload)[1]), with variance $(var(m_out.payload)[1, 1])\")\n",
      "println(\"Variance estimate: $(mean(s_out.payload)), with variance $(var(s_out.payload))\")"
     ],
     "language": "python",
     "metadata": {},
     "outputs": [
      {
       "output_type": "stream",
       "stream": "stdout",
       "text": [
        "True mean: 5.0\n"
       ]
      },
      {
       "output_type": "stream",
       "stream": "stdout",
       "text": [
        "True variance: 2.0\n",
        "Number of samples: 10\n",
        "Sample mean: 5.540801270189782\n",
        "Sample variance: 1.3434297236820736\n",
        "\n",
        "----- Estimation after 50 VMP updates -----"
       ]
      },
      {
       "output_type": "stream",
       "stream": "stdout",
       "text": [
        "\n",
        "Mean estimate: 5.535695677037668, with variance 0.09214539383643067\n",
        "Variance estimate: 1.6250102396898263, with variance 0.8772951093344806\n"
       ]
      }
     ],
     "prompt_number": 4
    }
   ],
   "metadata": {}
  }
 ]
}