{
 "cells": [
  {
   "cell_type": "markdown",
   "metadata": {},
   "source": [
    "Loopy graphs\n",
    "===\n",
    "\n",
    "It is possible for a factor graph to contain cycles.\n",
    "\n",
    "```\n",
    "    (driver)\n",
    "   -->[A]---\n",
    "   |       |\n",
    "   |      [+]<-[N]\n",
    "   |       |\n",
    "   ---[B]<--\n",
    "  (inhibitor)\n",
    "```\n",
    "\n",
    "Message passing on cyclic graphs can be executed with loopy belief propagation. Loopy belief propagation is similar to sum-product message passing, but the schedule is executed recursively.\n",
    "\n",
    "We need to set a 'breaker' message at certain interfaces to provide initial conditions for the algorithm. Since we have no knowledge about the graph beyond our breaker message, we start with a vague message that represents our ignorance. The `vague()` function can be used to produce vague (virtually uninformative) distributions."
   ]
  },
  {
   "cell_type": "markdown",
   "metadata": {},
   "source": [
    "Calculating a message within the loop\n",
    "---\n",
    "\n",
    "Suppose we want to calculate the outgoing message on the driver node, at `driver.out`. Let's first define the graph. "
   ]
  },
  {
   "cell_type": "code",
   "execution_count": 1,
   "metadata": {
    "collapsed": false
   },
   "outputs": [],
   "source": [
    "using ForneyLab\n",
    "\n",
    "# Define the graph\n",
    "GainNode(gain=1.1, id=:driver)\n",
    "GainNode(gain=0.1, id=:inhibitor)\n",
    "TerminalNode(Gaussian(m=0.0, V=0.1), id=:noise)\n",
    "AdditionNode(id=:add)\n",
    "Edge(n(:add).i[:out], n(:inhibitor).i[:in])\n",
    "Edge(n(:inhibitor).i[:out], n(:driver).i[:in])\n",
    "Edge(n(:driver).i[:out], n(:add).i[:in1])\n",
    "Edge(n(:noise), n(:add).i[:in2]);"
   ]
  },
  {
   "cell_type": "markdown",
   "metadata": {},
   "source": [
    "The automatic sumproduct schedule generator depends on present messages in the graph. Trying to generate a sumproduct schedule in a loopy graph without predefining any breaker messages will raise an error: \n",
    "\n",
    "```\n",
    "LoadError: Loop detected around Interface 2 (out) of ForneyLab.GainNode driver.\n",
    "Consider using a loopy algorithm and setting a breaker message somewhere in this loop.\n",
    "```"
   ]
  },
  {
   "cell_type": "code",
   "execution_count": 2,
   "metadata": {
    "collapsed": false
   },
   "outputs": [],
   "source": [
    "# Uncomment below to reproduce the error\n",
    "# algo = SumProduct(n(:driver).i[:out])"
   ]
  },
  {
   "cell_type": "markdown",
   "metadata": {},
   "source": [
    "Let's follow this advise and define a loopy sum-product algorithm."
   ]
  },
  {
   "cell_type": "code",
   "execution_count": 5,
   "metadata": {
    "collapsed": false
   },
   "outputs": [
    {
     "data": {
      "text/plain": []
     },
     "execution_count": 5,
     "metadata": {},
     "output_type": "execute_result"
    },
    {
     "name": "stdout",
     "output_type": "stream",
     "text": [
      "LoopySumProduct inference algorithm\n",
      "    pre-schedule length: 1\n",
      "    iterative schedule length: 3\n",
      "    post-schedule length: 0\n",
      "    number of iterations: 10\n",
      "Use show(algo.pre_schedule), show(algo.iterative_schedule), show(algo.post_schedule) to view the message passing schedules.\n"
     ]
    }
   ],
   "source": [
    "algo = LoopySumProduct( n(:driver).i[:out],\n",
    "                        breaker_messages=Dict(n(:driver).i[:out] => Message(vague(Gaussian))),\n",
    "                        n_iterations=10)"
   ]
  },
  {
   "cell_type": "markdown",
   "metadata": {},
   "source": [
    "Now we can generate a sumproduct schedule that calculates an updated value for `driver.out`:"
   ]
  },
  {
   "cell_type": "code",
   "execution_count": 6,
   "metadata": {
    "collapsed": false
   },
   "outputs": [
    {
     "name": "stdout",
     "output_type": "stream",
     "text": [
      "ForneyLab.Message{ForneyLab.Gaussian} with payload N(m=0.00, V=1.22e-03)\n",
      "\n"
     ]
    }
   ],
   "source": [
    "# Run the algorithm for one step\n",
    "run(algo)\n",
    "show(n(:driver).i[:out].message)"
   ]
  },
  {
   "cell_type": "markdown",
   "metadata": {},
   "source": [
    "Calculating a message outside the loop\n",
    "---\n",
    "\n",
    "Now suppose we want to calculate the message from the addition node towards the noise node, so at interface `add.i[:in2]`. In this case, calculating the message towards `add.i[:in1]` requires the inbound message at `add.i[:out]` and vice versa, because of the loop. This indicates that we need to set breaker messages in both directions."
   ]
  },
  {
   "cell_type": "code",
   "execution_count": 8,
   "metadata": {
    "collapsed": false
   },
   "outputs": [
    {
     "data": {
      "text/plain": []
     },
     "execution_count": 8,
     "metadata": {},
     "output_type": "execute_result"
    },
    {
     "name": "stdout",
     "output_type": "stream",
     "text": [
      "LoopySumProduct inference algorithm\n",
      "    pre-schedule length: 1\n",
      "    iterative schedule length: 6\n",
      "    post-schedule length: 1\n",
      "    number of iterations: 10\n",
      "Use show(algo.pre_schedule), show(algo.iterative_schedule), show(algo.post_schedule) to view the message passing schedules.\n"
     ]
    }
   ],
   "source": [
    "algo2 = LoopySumProduct( n(:add).i[:in2],\n",
    "                         breaker_messages=Dict(\n",
    "                             n(:add).i[:in1] => Message(vague(Gaussian)),\n",
    "                             n(:add).i[:out] => Message(vague(Gaussian))),\n",
    "                         n_iterations=10)"
   ]
  },
  {
   "cell_type": "code",
   "execution_count": 9,
   "metadata": {
    "collapsed": false
   },
   "outputs": [
    {
     "name": "stdout",
     "output_type": "stream",
     "text": [
      "ForneyLab.Message{ForneyLab.Gaussian} with payload N(m=0.00, V=1.49e+31)\n",
      "\n"
     ]
    }
   ],
   "source": [
    "run(algo2)\n",
    "show(n(:add).i[:in2].message)"
   ]
  },
  {
   "cell_type": "code",
   "execution_count": null,
   "metadata": {
    "collapsed": true
   },
   "outputs": [],
   "source": []
  }
 ],
 "metadata": {
  "kernelspec": {
   "display_name": "Julia 0.4.0",
   "language": "julia",
   "name": "julia-0.4"
  },
  "language_info": {
   "file_extension": ".jl",
   "mimetype": "application/julia",
   "name": "julia",
   "version": "0.4.0"
  }
 },
 "nbformat": 4,
 "nbformat_minor": 0
}
