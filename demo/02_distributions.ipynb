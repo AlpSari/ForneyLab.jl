{
 "metadata": {
  "language": "Julia",
  "name": "",
  "signature": "sha256:ebc7b09eab7cef21079ccd2a41d41b49d1f181db20b831062fd3612769408d32"
 },
 "nbformat": 3,
 "nbformat_minor": 0,
 "worksheets": [
  {
   "cells": [
    {
     "cell_type": "markdown",
     "metadata": {},
     "source": [
      "Built-in probability distributions\n",
      "==================================\n",
      "\n",
      "This notebook lists and describes all built-in probability distributions. Distribution-specific functions are also covered.\n",
      "\n",
      "Currently, ForneyLab.jl comes with the following built-in probability distributions:\n",
      "- **[GaussianDistribution](#gaussian)**: encodes an univariate or multivariate Gaussian PDF\n",
      "- **[InverseGammaDistribution](#inversegamma)**: inverse gamma distribution, parameterized by shape and rate\n",
      "- **[GammaDistribution](#gamma)**: standard gamma distribution, parameterized by shape and rate\n",
      "- **[DeltaDistribution](#delta)**: probability distribution that is 0 everywhere except at its mode\n",
      "\n",
      "All probability distributions are subtypes of the abstract `ProbabilityDistribution`.\n",
      "For every probability distribution, at least the following functions are implemented:\n",
      "\n",
      "- `mean(dist::ProbabilityDistribution)`\n",
      "- `var(dist::ProbabilityDistribution)`\n",
      "- `==` (equality check)"
     ]
    },
    {
     "cell_type": "markdown",
     "metadata": {},
     "source": [
      "<a name=\"inversegamma\"></a>`InverseGammaDistribution`\n",
      "---------------\n",
      "---\n",
      "`InverseGammaDistribution` is the inverse gamma distribution parameterized by shape and rate, often used as a prior for the variance of a Gaussian."
     ]
    },
    {
     "cell_type": "code",
     "collapsed": false,
     "input": [
      "using ForneyLab\n",
      "InverseGammaDistribution(a=3.0, b=4.0)"
     ],
     "language": "python",
     "metadata": {},
     "outputs": [
      {
       "metadata": {},
       "output_type": "pyout",
       "prompt_number": 2,
       "text": [
        "InverseGammaDistribution\n",
        "a = 3.0 (shape)\n",
        "b = 4.0 (rate)\n"
       ]
      }
     ],
     "prompt_number": 2
    },
    {
     "cell_type": "markdown",
     "metadata": {},
     "source": [
      "The uninformative function returns an `InverseGammaDistribution` that is an effective multiplication factor of one."
     ]
    },
    {
     "cell_type": "code",
     "collapsed": false,
     "input": [
      "uninformative(InverseGammaDistribution)"
     ],
     "language": "python",
     "metadata": {},
     "outputs": [
      {
       "metadata": {},
       "output_type": "pyout",
       "prompt_number": 3,
       "text": [
        "InverseGammaDistribution\n",
        "a = -0.999999999999 (shape)\n",
        "b = 1.0e-12 (rate)\n"
       ]
      }
     ],
     "prompt_number": 3
    },
    {
     "cell_type": "markdown",
     "metadata": {},
     "source": [
      "Some functions are available for returning the mean and variance"
     ]
    },
    {
     "cell_type": "code",
     "collapsed": false,
     "input": [
      "println( mean(InverseGammaDistribution(a=3.0, b=4.0)) )\n",
      "println( var(InverseGammaDistribution(a=3.0, b=4.0)) )"
     ],
     "language": "python",
     "metadata": {},
     "outputs": [
      {
       "output_type": "stream",
       "stream": "stdout",
       "text": [
        "2.0"
       ]
      },
      {
       "output_type": "stream",
       "stream": "stdout",
       "text": [
        "\n",
        "4.0\n"
       ]
      }
     ],
     "prompt_number": 4
    },
    {
     "cell_type": "markdown",
     "metadata": {},
     "source": [
      "<a name=\"gamma\"></a>`GammaDistribution`\n",
      "---------------\n",
      "---\n",
      "`GammaDistribution` is the standard gamma distribution parameterized by shape and rate. It can be used as a prior distribution over the precision of a Gaussian."
     ]
    },
    {
     "cell_type": "code",
     "collapsed": false,
     "input": [
      "GammaDistribution(a=3.0, b=4.0)"
     ],
     "language": "python",
     "metadata": {},
     "outputs": [
      {
       "metadata": {},
       "output_type": "pyout",
       "prompt_number": 5,
       "text": [
        "GammaDistribution\n",
        "a = 3.0 (shape)\n",
        "b = 4.0 (rate)\n"
       ]
      }
     ],
     "prompt_number": 5
    },
    {
     "cell_type": "markdown",
     "metadata": {},
     "source": [
      "There is also an uninformative gamma distribution that represents an effective multiplication factor of one"
     ]
    },
    {
     "cell_type": "code",
     "collapsed": false,
     "input": [
      "uninformative(GammaDistribution)"
     ],
     "language": "python",
     "metadata": {},
     "outputs": [
      {
       "metadata": {},
       "output_type": "pyout",
       "prompt_number": 6,
       "text": [
        "GammaDistribution\n",
        "a = 0.999999999999 (shape)\n",
        "b = 1.0e-12 (rate)\n"
       ]
      }
     ],
     "prompt_number": 6
    },
    {
     "cell_type": "markdown",
     "metadata": {},
     "source": [
      "There are also functions that return the mean and variance for the GammaMessage"
     ]
    },
    {
     "cell_type": "code",
     "collapsed": false,
     "input": [
      "println( mean(GammaDistribution(a=3.0, b=4.0)) )\n",
      "println( var(GammaDistribution(a=3.0, b=4.0)) )"
     ],
     "language": "python",
     "metadata": {},
     "outputs": [
      {
       "output_type": "stream",
       "stream": "stdout",
       "text": [
        "0.75"
       ]
      },
      {
       "output_type": "stream",
       "stream": "stdout",
       "text": [
        "\n",
        "0.1875\n"
       ]
      }
     ],
     "prompt_number": 7
    },
    {
     "cell_type": "markdown",
     "metadata": {},
     "source": [
      "<a name=\"gaussian\"></a>`GaussianDistribution`\n",
      "---------------\n",
      "---\n",
      "`GaussianDistribution` encodes a univariate or multivariate Gaussian probability density function. A Gaussian PDF can be parametrized in various ways. `GaussianDistribution` allows 4 different parametrizations:\n",
      "- $(\\mathbf{m},\\mathbf{V})$ parametrization. $\\mathbf{m}$ is the mean vector and $\\mathbf{V}$ is the covariance matrix. In case of a univariate distribution, $\\mathbf{m}$ has length 1 and $\\mathbf{V}$ is a $1 \\times 1$ matrix.\n",
      "- $(\\mathbf{m},\\mathbf{W})$ parametrization. $\\mathbf{m}$ is the mean vector and $\\mathbf{W}$ is the weight matrix. If $\\mathbf{W}^{-1}$ exists, then it holds that $\\mathbf{V}=\\mathbf{W}^{-1}$.\n",
      "- $(\\mathbf{\\xi},\\mathbf{V})$ parametrization. $\\mathbf{\\xi}$ is the weighted mean vector: $\\mathbf{\\xi} = \\mathbf{W}\\mathbf{m}$. Also, $\\mathbf{m} = \\mathbf{V}\\mathbf{\\xi}$.\n",
      "- $(\\mathbf{\\xi},\\mathbf{W})$ parametrization.\n",
      "\n",
      "Depending on the required operations, different parametrizations will be convenient. \n",
      "\n",
      "An instance of `GaussianDistribution` is constructed by passing valid parameter values to the constructor. Some examples:"
     ]
    },
    {
     "cell_type": "code",
     "collapsed": false,
     "input": [
      "GaussianDistribution(m=0.0, V=1.0) # univariate with (m,V) parameters"
     ],
     "language": "python",
     "metadata": {},
     "outputs": [
      {
       "metadata": {},
       "output_type": "pyout",
       "prompt_number": 9,
       "text": [
        "GaussianDistribution\n",
        "m  = [0.0]\n",
        "V  = 1x1 Array{Float64,2}:\n",
        " 1.0\n",
        "W  = nothing\n",
        "xi = nothing\n"
       ]
      }
     ],
     "prompt_number": 9
    },
    {
     "cell_type": "code",
     "collapsed": false,
     "input": [
      "GaussianDistribution(xi=2.0, W=0.5)  # univariate with (xi,W) parameters"
     ],
     "language": "python",
     "metadata": {},
     "outputs": [
      {
       "metadata": {},
       "output_type": "pyout",
       "prompt_number": 10,
       "text": [
        "GaussianDistribution\n",
        "m  = nothing\n",
        "V  = nothing\n",
        "W  = 1x1 Array{Float64,2}:\n",
        " 0.5\n",
        "xi = [2.0]\n"
       ]
      }
     ],
     "prompt_number": 10
    },
    {
     "cell_type": "code",
     "collapsed": false,
     "input": [
      "GaussianDistribution(m=[0.0, 2.0], V=0.5*eye(2,2)) # multivariate"
     ],
     "language": "python",
     "metadata": {},
     "outputs": [
      {
       "metadata": {},
       "output_type": "pyout",
       "prompt_number": 11,
       "text": [
        "GaussianDistribution\n",
        "m  = [0.0,2.0]\n",
        "V  = 2x2 Array{Float64,2}:\n",
        " 0.5  0.0\n",
        " 0.0  0.5\n",
        "W  = nothing\n",
        "xi = nothing\n"
       ]
      }
     ],
     "prompt_number": 11
    },
    {
     "cell_type": "markdown",
     "metadata": {},
     "source": [
      "If no parameter values are passed, default values will be used:"
     ]
    },
    {
     "cell_type": "code",
     "collapsed": false,
     "input": [
      "GaussianDistribution()"
     ],
     "language": "python",
     "metadata": {},
     "outputs": [
      {
       "metadata": {},
       "output_type": "pyout",
       "prompt_number": 12,
       "text": [
        "GaussianDistribution\n",
        "m  = [0.0]\n",
        "V  = 1x1 Array{Float64,2}:\n",
        " 1.0\n",
        "W  = nothing\n",
        "xi = nothing\n"
       ]
      }
     ],
     "prompt_number": 12
    },
    {
     "cell_type": "markdown",
     "metadata": {},
     "source": [
      "There is also an uninformative Gaussian distribution, which represent an effective multiplication factor of one."
     ]
    },
    {
     "cell_type": "code",
     "collapsed": false,
     "input": [
      "uninformative(GaussianDistribution)"
     ],
     "language": "python",
     "metadata": {},
     "outputs": [
      {
       "metadata": {},
       "output_type": "pyout",
       "prompt_number": 13,
       "text": [
        "GaussianDistribution\n",
        "m  = [0.0]\n",
        "V  = 1x1 Array{Float64,2}:\n",
        " 1.0e12\n",
        "W  = nothing\n",
        "xi = nothing\n"
       ]
      }
     ],
     "prompt_number": 13
    },
    {
     "cell_type": "markdown",
     "metadata": {},
     "source": [
      "The mean and variance of a Gaussian distribution can again be obtained by using `mean()` and `var()`:"
     ]
    },
    {
     "cell_type": "code",
     "collapsed": false,
     "input": [
      "println(mean(GaussianDistribution(m=2.0, V=1.0)))\n",
      "println(var(GaussianDistribution(m=2.0, V=1.0)))"
     ],
     "language": "python",
     "metadata": {},
     "outputs": [
      {
       "output_type": "stream",
       "stream": "stdout",
       "text": [
        "[2"
       ]
      },
      {
       "output_type": "stream",
       "stream": "stdout",
       "text": [
        ".0]\n",
        "[1.0]\n"
       ]
      }
     ],
     "prompt_number": 14
    },
    {
     "cell_type": "markdown",
     "metadata": {},
     "source": [
      "###Converting parametrizations\n",
      "\n",
      "ForneyLab.jl provides functions to convert the parametrization of a `GaussianDistribution`. This is useful if you for example need the mean vector in $(\\mathbf{\\xi},\\mathbf{W})$ parametrization.\n",
      "\n",
      "The following parametrization conversion functions are available:\n",
      "- `ensureMVParametrization!(msg::GaussianDistribution)`: calculate $(\\mathbf{m},\\mathbf{V})$ parameters.\n",
      "- `ensureMWParametrization!(msg::GaussianDistribution)`: calculate $(\\mathbf{m},\\mathbf{W})$ parameters.\n",
      "- `ensureXiVParametrization!(msg::GaussianDistribution)`: calculate $(\\mathbf{\\xi},\\mathbf{V})$ parameters.\n",
      "- `ensureXiWParametrization!(msg::GaussianDistribution)`: calculate $(\\mathbf{\\xi},\\mathbf{W})$ parameters.\n",
      "\n",
      "The distribution is modified, and a reference to the distribution is also returned. The old parameters are still valid, so they won't be deleted. Example:"
     ]
    },
    {
     "cell_type": "code",
     "collapsed": false,
     "input": [
      "my_gaussian = GaussianDistribution(xi=2.0, W=0.5)\n",
      "show(my_gaussian)\n",
      "ensureMVParametrization!(my_gaussian)\n",
      "show(my_gaussian)"
     ],
     "language": "python",
     "metadata": {},
     "outputs": [
      {
       "output_type": "stream",
       "stream": "stdout",
       "text": [
        "GaussianDistribution\n"
       ]
      },
      {
       "output_type": "stream",
       "stream": "stdout",
       "text": [
        "m  = nothing\n",
        "V  = nothing\n",
        "W  = ["
       ]
      },
      {
       "output_type": "stream",
       "stream": "stdout",
       "text": [
        "0.5]\n",
        "xi = [2.0]\n",
        "GaussianDistribution\n",
        "m  = [4.0]\n",
        "V  = [2.0]\n",
        "W  = [0.5]\n",
        "xi = [2.0]\n"
       ]
      }
     ],
     "prompt_number": 15
    },
    {
     "cell_type": "markdown",
     "metadata": {},
     "source": [
      "If a `GaussianDistribution` is 'over-parametrized', the values of the different parameters should be consistent. For example, it should always hold that $\\mathbf{W}=\\mathbf{V}^{-1}$ and $\\mathbf{\\xi} = \\mathbf{W}\\mathbf{m}$. To check the consistency of a `GaussianDistribution`, use the `isConsistent(msg::GaussianDistribution)` function:"
     ]
    },
    {
     "cell_type": "code",
     "collapsed": false,
     "input": [
      "isConsistent(my_gaussian)"
     ],
     "language": "python",
     "metadata": {},
     "outputs": [
      {
       "metadata": {},
       "output_type": "pyout",
       "prompt_number": 16,
       "text": [
        "true"
       ]
      }
     ],
     "prompt_number": 16
    },
    {
     "cell_type": "markdown",
     "metadata": {},
     "source": [
      "<a name=\"delta\"></a>`DeltaDistribution`\n",
      "---------------------------------------------\n",
      "---\n",
      "The `DeltaDistribution` is zero everywhere except at its mode. A `DeltaDistribution` can be defined over any set of objects, continuous or discrete. Examples:"
     ]
    },
    {
     "cell_type": "code",
     "collapsed": false,
     "input": [
      "DeltaDistribution(2.0)"
     ],
     "language": "python",
     "metadata": {},
     "outputs": [
      {
       "metadata": {},
       "output_type": "pyout",
       "prompt_number": 19,
       "text": [
        "DeltaDistribution(2.0)\n"
       ]
      }
     ],
     "prompt_number": 19
    },
    {
     "cell_type": "code",
     "collapsed": false,
     "input": [
      "mean(DeltaDistribution(2.0))"
     ],
     "language": "python",
     "metadata": {},
     "outputs": [
      {
       "metadata": {},
       "output_type": "pyout",
       "prompt_number": 20,
       "text": [
        "2.0"
       ]
      }
     ],
     "prompt_number": 20
    },
    {
     "cell_type": "code",
     "collapsed": false,
     "input": [
      "var(DeltaDistribution(2.0))"
     ],
     "language": "python",
     "metadata": {},
     "outputs": [
      {
       "metadata": {},
       "output_type": "pyout",
       "prompt_number": 21,
       "text": [
        "0.0"
       ]
      }
     ],
     "prompt_number": 21
    },
    {
     "cell_type": "code",
     "collapsed": false,
     "input": [
      "DeltaDistribution(:some_discrete_object)"
     ],
     "language": "python",
     "metadata": {},
     "outputs": [
      {
       "metadata": {},
       "output_type": "pyout",
       "prompt_number": 22,
       "text": [
        "DeltaDistribution(some_discrete_object)\n"
       ]
      }
     ],
     "prompt_number": 22
    },
    {
     "cell_type": "code",
     "collapsed": false,
     "input": [
      "mean(DeltaDistribution(:some_discrete_object))"
     ],
     "language": "python",
     "metadata": {},
     "outputs": [
      {
       "metadata": {},
       "output_type": "pyout",
       "prompt_number": 23,
       "text": [
        ":some_discrete_object"
       ]
      }
     ],
     "prompt_number": 23
    },
    {
     "cell_type": "markdown",
     "metadata": {},
     "source": [
      "If the mode of a `DeltaDistribution` is a number or a vector, one can convert the `DeltaDistribution` to a `GaussianDistribution`:"
     ]
    },
    {
     "cell_type": "code",
     "collapsed": false,
     "input": [
      "convert(GaussianDistribution, DeltaDistribution(1.0))"
     ],
     "language": "python",
     "metadata": {},
     "outputs": [
      {
       "metadata": {},
       "output_type": "pyout",
       "prompt_number": 24,
       "text": [
        "GaussianDistribution\n",
        "m  = [1.0]\n",
        "V  = 1x1 Array{Float64,2}:\n",
        " 1.0e-12\n",
        "W  = nothing\n",
        "xi = nothing\n"
       ]
      }
     ],
     "prompt_number": 24
    },
    {
     "cell_type": "markdown",
     "metadata": {},
     "source": [
      "This is useful for nodes that have update rules for Gaussians but not for fixed values encoded by a `DeltaDistribution`. In those cases, Julia will convert the delta to a Gaussian in the background."
     ]
    }
   ],
   "metadata": {}
  }
 ]
}