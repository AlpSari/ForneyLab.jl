{
 "metadata": {
  "language": "Julia",
  "name": "",
  "signature": "sha256:a2ecbb831d5a060d30f0227136e6ad144315461c9df93825ef5afbb366070c4c"
 },
 "nbformat": 3,
 "nbformat_minor": 0,
 "worksheets": [
  {
   "cells": [
    {
     "cell_type": "markdown",
     "metadata": {},
     "source": [
      "Message passing schedules\n",
      "=========================\n",
      "\n",
      "In the simple demo's, we use `calculateMessage!(outbound_interface)` to calculate the outbound interface on an interface. This function automatically detects what required messages have to be (re)calculated to be able to calculate the outbound message on `outbound_interface`. \n",
      "\n",
      "Actually, `calculateMessage!()` is really simple. It just uses ForneyLab's auto-scheduler to find a correct message passing schedule and then just executes this schedule:\n",
      "\n",
      "```jl\n",
      "function calculateMessage!(outbound_interface::Interface, track_invalidations::Bool=true)\n",
      "    # Calculate the outbound message on a specific interface by generating a schedule and executing it.\n",
      "    # The resulting message is stored in the specified interface and returned.\n",
      "\n",
      "    # Generate a message passing schedule\n",
      "    schedule = generateSchedule(outbound_interface)\n",
      "\n",
      "    # Execute the schedule\n",
      "    executeSchedule(schedule, track_invalidations)\n",
      "\n",
      "    return outbound_interface.message\n",
      "end\n",
      "\n",
      "```\n",
      "\n",
      "In this demo, we'll look at `generateSchedule()` and `executeSchedule()` in detail. Instead of just auto-generating a schedule every time `calculateMessage!()` is called, one can also manually create a message passing schedule and execute it (a lot of times)."
     ]
    },
    {
     "cell_type": "markdown",
     "metadata": {},
     "source": [
      "Auto-scheduler: `generateSchedule()`\n",
      "====================================\n",
      "\n",
      "In ForneyLab, a message passing schedule is just a 1D `Array` with `Interface` elements. The auto-scheduler `generateSchedule(outbound_interface::Interface)` can generate such a schedule, under the assumption that one of the following requirements is met:\n",
      "\n",
      "- The graph has no cycles **OR**\n",
      "- The graph has cycles, but sufficient initial messages (flagged valid) are defined in the graph, such that all cycles are 'cut open' by valid messages.\n",
      "\n",
      "If the graph has 'uncut' cycles, the scheduler will throw an error. "
     ]
    },
    {
     "cell_type": "markdown",
     "metadata": {},
     "source": [
      "Non-loopy example\n",
      "-----------------\n",
      "\n",
      "Let's consider the non-loopy graph from the `simple_kalman` demo and let auto-scheduler find a schedule:\n",
      "\n",
      "```\n",
      "                   (u)\n",
      "            (equ)   |\n",
      "    (xin) --> = --> + --> (xout)\n",
      "              |    (add_u_xin)\n",
      "       (n)--> +(add_n_y)\n",
      "              |\n",
      "             (y)\n",
      "\n",
      "```"
     ]
    },
    {
     "cell_type": "code",
     "collapsed": false,
     "input": [
      "using ForneyLab\n",
      "\n",
      "# Create nodes\n",
      "xin         = ConstantNode(name=\"xin\")\n",
      "n           = ConstantNode(GaussianMessage(m=[0.0], V=[200.0]), name=\"n\")\n",
      "y           = ConstantNode(name=\"y\")\n",
      "add_n_y     = AdditionNode(name=\"add_n_y\")\n",
      "equ         = EqualityNode(3, name=\"equ\") # equ node with 3 interfaces\n",
      "add_u_xin   = AdditionNode(name=\"add_u_xin\")\n",
      "u           = ConstantNode(GaussianMessage(m=[1.0], V=[0.0]), name=\"u\");\n",
      "\n",
      "# Create edges\n",
      "Edge(xin.out, equ.interfaces[1])\n",
      "Edge(n.out, add_n_y.in1)\n",
      "Edge(y.out, add_n_y.in2)\n",
      "Edge(add_n_y.out, equ.interfaces[2])\n",
      "Edge(equ.interfaces[3], add_u_xin.in2)\n",
      "Edge(u.out, add_u_xin.in1);\n",
      "\n",
      "# Invoke the auto-scheduler to calculate the message towards xout\n",
      "schedule = generateSchedule(add_u_xin.out)\n",
      "show(schedule)"
     ],
     "language": "python",
     "metadata": {},
     "outputs": [
      {
       "output_type": "stream",
       "stream": "stdout",
       "text": [
        "Message passing schedule:\n"
       ]
      },
      {
       "output_type": "stream",
       "stream": "stdout",
       "text": [
        " ConstantNode u\n",
        " ConstantNode xin\n",
        " ConstantNode n\n",
        " ConstantNode y\n",
        " AdditionNode add_n_y\n",
        " EqualityNode equ\n",
        " AdditionNode add_u_xin\n"
       ]
      }
     ],
     "prompt_number": 1
    },
    {
     "cell_type": "markdown",
     "metadata": {},
     "source": [
      "As is easily verified, this schedule solves all dependencies. However, it is not unique. We could also put the message from `u` towards `add_u_xin` in the end of the schedule. \n",
      "\n",
      "Sometimes a user might be interested in providing a **partial schedule**, and let the auto-schedules derive a complete schedule that preserves the order of the messages in the partial schedule. This is possible by just passing the partial schedule to `generateSchedule()`. So, if we want to incorporate the message from `u` in the end, we can do:"
     ]
    },
    {
     "cell_type": "code",
     "collapsed": false,
     "input": [
      "schedule = generateSchedule([equ.interfaces[3], add_u_xin.out])\n",
      "show(schedule)"
     ],
     "language": "python",
     "metadata": {},
     "outputs": [
      {
       "output_type": "stream",
       "stream": "stdout",
       "text": [
        "Message passing schedule:\n"
       ]
      },
      {
       "output_type": "stream",
       "stream": "stdout",
       "text": [
        " ConstantNode xin\n",
        " ConstantNode n\n",
        " ConstantNode y\n",
        " AdditionNode add_n_y\n",
        " EqualityNode equ\n",
        " ConstantNode u\n",
        " AdditionNode add_u_xin\n"
       ]
      }
     ],
     "prompt_number": 2
    },
    {
     "cell_type": "markdown",
     "metadata": {},
     "source": [
      "`executeSchedule(schedule)`\n",
      "===========================\n",
      "\n",
      "**TODO**"
     ]
    },
    {
     "cell_type": "code",
     "collapsed": false,
     "input": [],
     "language": "python",
     "metadata": {},
     "outputs": []
    }
   ],
   "metadata": {}
  }
 ]
}