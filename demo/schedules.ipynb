{
 "metadata": {
  "language": "Julia",
  "name": "",
  "signature": "sha256:f7f0eef52c7cd38415d73527067598f214f09c201ae64d742c4b313db35a9461"
 },
 "nbformat": 3,
 "nbformat_minor": 0,
 "worksheets": [
  {
   "cells": [
    {
     "cell_type": "markdown",
     "metadata": {},
     "source": [
      "Message passing schedules\n",
      "=========================\n",
      "\n",
      "In the simple demo's, we use `calculateMessage!(outbound_interface)` to calculate the outbound interface on an interface. This function automatically detects what required messages have to be (re)calculated to be able to calculate the outbound message on `outbound_interface`. \n",
      "\n",
      "Actually, `calculateMessage!()` is really simple. It just uses ForneyLab's auto-scheduler to find a correct message passing schedule and then just executes this schedule:\n",
      "\n",
      "```jl\n",
      "function calculateMessage!(outbound_interface::Interface)\n",
      "    # Calculate the outbound message on a specific interface by generating a schedule and executing it.\n",
      "    # The resulting message is stored in the specified interface and returned.\n",
      "\n",
      "    # Generate a message passing schedule\n",
      "    schedule = generateSchedule(outbound_interface)\n",
      "\n",
      "    # Execute the schedule\n",
      "    executeSchedule(schedule)\n",
      "\n",
      "    return outbound_interface.message\n",
      "end\n",
      "\n",
      "```\n",
      "\n",
      "In this demo, we'll look at `generateSchedule()` and `executeSchedule()` in detail. Instead of just auto-generating a schedule every time `calculateMessage!()` is called, one can also manually create a message passing schedule and execute it (many times). This approach comes in handy when working with a loopy graph."
     ]
    },
    {
     "cell_type": "markdown",
     "metadata": {},
     "source": [
      "Auto-scheduler: `generateSchedule()`\n",
      "====================================\n",
      "\n",
      "In ForneyLab, a message passing schedule is just a 1D `Array` with `Interface` elements. The auto-scheduler `generateSchedule(outbound_interface::Interface)` can generate such a schedule, under the assumption that one of the following requirements is met:\n",
      "\n",
      "- The graph has no cycles **OR**\n",
      "- The graph has cycles, but there are sufficient initial messages present in the graph, such that all cycles are 'cut open'.\n",
      "\n",
      "If the graph has 'uncut' cycles, the scheduler will throw an error. "
     ]
    },
    {
     "cell_type": "markdown",
     "metadata": {},
     "source": [
      "Non-loopy example\n",
      "-----------------\n",
      "\n",
      "First, let's consider the non-loopy graph from the `simple_kalman` demo and let auto-scheduler find a schedule:\n",
      "\n",
      "```\n",
      "                   (u)\n",
      "            (equ)   |\n",
      "    (xin) --> = --> + --> (xout)\n",
      "              |    (add_u_xin)\n",
      "       (n)--> +(add_n_y)\n",
      "              |\n",
      "             (y)\n",
      "\n",
      "```"
     ]
    },
    {
     "cell_type": "code",
     "collapsed": false,
     "input": [
      "using ForneyLab\n",
      "\n",
      "# Create nodes\n",
      "xin         = TerminalNode(name=\"xin\")\n",
      "n           = TerminalNode(GaussianDistribution(m=0.0, V=200.0), name=\"n\")\n",
      "y           = TerminalNode(name=\"y\")\n",
      "add_n_y     = AdditionNode(name=\"add_n_y\")\n",
      "equ         = EqualityNode(3, name=\"equ\") # equ node with 3 interfaces\n",
      "add_u_xin   = AdditionNode(name=\"add_u_xin\")\n",
      "u           = TerminalNode(GaussianDistribution(m=1.0, V=0.0), name=\"u\");\n",
      "\n",
      "# Create edges\n",
      "Edge(xin.out, equ.interfaces[1])\n",
      "Edge(n.out, add_n_y.in1)\n",
      "Edge(y.out, add_n_y.in2)\n",
      "Edge(add_n_y.out, equ.interfaces[2])\n",
      "Edge(equ.interfaces[3], add_u_xin.in2)\n",
      "Edge(u.out, add_u_xin.in1);\n",
      "\n",
      "# Invoke the auto-scheduler to calculate the message towards xout\n",
      "schedule = generateSchedule(add_u_xin.out)\n",
      "show(schedule)"
     ],
     "language": "python",
     "metadata": {},
     "outputs": [
      {
       "output_type": "stream",
       "stream": "stdout",
       "text": [
        "Message passing schedule:\n"
       ]
      },
      {
       "output_type": "stream",
       "stream": "stdout",
       "text": [
        " TerminalNode u:1 (out)\n",
        " TerminalNode xin:1 (out)\n",
        " TerminalNode n:1 (out)\n",
        " TerminalNode y:1 (out)\n",
        " AdditionNode add_n_y:3 (out)\n",
        " EqualityNode equ:3 \n",
        " AdditionNode add_u_xin:3 (out)\n"
       ]
      }
     ],
     "prompt_number": 1
    },
    {
     "cell_type": "markdown",
     "metadata": {},
     "source": [
      "As is easily verified, this schedule solves all dependencies. However, it is not unique. We could also put the message from `u` towards `add_u_xin` in the end of the schedule. \n",
      "\n",
      "Sometimes a user might be interested in providing a **partial schedule**, and let the auto-scheduler derive a complete schedule that preserves the order of the messages in the partial schedule. This is possible by just passing the partial schedule to `generateSchedule()`. So, if we want to incorporate the message from `u` in the end, we can do:"
     ]
    },
    {
     "cell_type": "code",
     "collapsed": false,
     "input": [
      "schedule = generateSchedule([equ.interfaces[3], add_u_xin.out])\n",
      "show(schedule)"
     ],
     "language": "python",
     "metadata": {},
     "outputs": [
      {
       "output_type": "stream",
       "stream": "stdout",
       "text": [
        "Message passing schedule:"
       ]
      },
      {
       "output_type": "stream",
       "stream": "stdout",
       "text": [
        "\n",
        " TerminalNode xin:1 (out)\n",
        " TerminalNode n:1 (out)\n",
        " TerminalNode y:1 (out)\n",
        " AdditionNode add_n_y:3 (out)\n",
        " EqualityNode equ:3 \n",
        " TerminalNode u:1 (out)\n",
        " AdditionNode add_u_xin:3 (out)\n"
       ]
      }
     ],
     "prompt_number": 2
    },
    {
     "cell_type": "markdown",
     "metadata": {},
     "source": [
      "Loopy example\n",
      "-------------\n",
      "\n",
      "Now let us concider a loopy graph. A graph with loops must have its cycles 'opened' before a schedule can be generated. Opening of a loop can be done by placing an initial message on an interface. Take the graph below as an example, where we wish to calculate the outgoing message on the driver node.\n",
      "\n",
      "```\n",
      "    (driver)\n",
      "   -->[A]---\n",
      "   |       |\n",
      "   |      [+]<-[N]\n",
      "   |       |\n",
      "   ---[B]<--\n",
      "  (inhibitor)\n",
      "```\n",
      "\n",
      "Let's be a little naive and try to generate a schedule without predefining any breaker messages."
     ]
    },
    {
     "cell_type": "code",
     "collapsed": false,
     "input": [
      "# Define the graph\n",
      "driver      = FixedGainNode(1.1, name=\"driver\")\n",
      "inhibitor   = FixedGainNode(0.1, name=\"inhibitor\")\n",
      "noise       = TerminalNode(GaussianDistribution(m=0.0, V=0.1), name=\"noise\")\n",
      "add         = AdditionNode(name=\"adder\")\n",
      "Edge(add.out, inhibitor.in1)\n",
      "Edge(inhibitor.out, driver.in1)\n",
      "Edge(driver.out, add.in1)\n",
      "Edge(noise.out, add.in2)\n",
      "\n",
      "# Generate a schedule without predefining any breaker messages\n",
      "schedule = generateSchedule(driver.out)"
     ],
     "language": "python",
     "metadata": {},
     "outputs": [
      {
       "ename": "LoadError",
       "evalue": "Loop detected around Interface of FixedGainNode with node name driver holds message of type Nothing.\n Consider setting an initial message somewhere in this loop.\nat In[3]:12",
       "output_type": "pyerr",
       "traceback": [
        "Loop detected around Interface of FixedGainNode with node name driver holds message of type Nothing.\n Consider setting an initial message somewhere in this loop.\nat In[3]:12",
        " in error at error.jl:21",
        " in generateScheduleByDFS at /home/marco/.julia/v0.2/ForneyLab/src/ForneyLab.jl:413",
        " in generateScheduleByDFS at /home/marco/.julia/v0.2/ForneyLab/src/ForneyLab.jl:433 (repeats 3 times)",
        " in generateSchedule at /home/marco/.julia/v0.2/ForneyLab/src/ForneyLab.jl:381"
       ]
      }
     ],
     "prompt_number": 3
    },
    {
     "cell_type": "markdown",
     "metadata": {},
     "source": [
      "ForneyLab throws an error and suggests we break the loop by setting an initial message. Let's follow this advise and see what happens."
     ]
    },
    {
     "cell_type": "code",
     "collapsed": false,
     "input": [
      "# Set a relatively uninformative breaker message\n",
      "breaker_message = Message(GaussianDistribution(m=10.0, V=100.0))\n",
      "setMessage!(driver.out, breaker_message)\n",
      "\n",
      "# See what happens\n",
      "schedule = generateSchedule(driver.out)\n",
      "show(schedule)"
     ],
     "language": "python",
     "metadata": {},
     "outputs": [
      {
       "output_type": "stream",
       "stream": "stdout",
       "text": [
        "Message passing schedule:"
       ]
      },
      {
       "output_type": "stream",
       "stream": "stdout",
       "text": [
        "\n",
        " TerminalNode noise:1 (out)\n",
        " AdditionNode adder:3 (out)\n",
        " FixedGainNode inhibitor:2 (out)\n",
        " FixedGainNode driver:2 (out)\n"
       ]
      }
     ],
     "prompt_number": 4
    },
    {
     "cell_type": "markdown",
     "metadata": {},
     "source": [
      "And there it is, we have our schedule. Next we can use this schedule to perform our calculations."
     ]
    },
    {
     "cell_type": "markdown",
     "metadata": {},
     "source": [
      "`executeSchedule(schedule)`\n",
      "===========================\n",
      "\n",
      "The function `executeSchedule()` takes the schedule as argument and calculates each message in order by simply executing a for-loop over the schedule. It does not matter whether the schedule is defined for the full graph or just partially, as long as all incoming messages are at the involved nodes are present.\n",
      "\n",
      "In the previous section we defined our loopy graph, set an initial message and generated our schedule. Now the task remains to execute this schedule, to convergence preferrably."
     ]
    },
    {
     "cell_type": "code",
     "collapsed": false,
     "input": [
      "prev_msg = deepcopy(breaker_message)\n",
      "converged = false\n",
      "while !converged\n",
      "    msg = executeSchedule(schedule)\n",
      "    converged = isApproxEqual(mean(prev_msg.payload), mean(msg.payload))\n",
      "    prev_msg = deepcopy(msg)\n",
      "end\n",
      "show(prev_msg)"
     ],
     "language": "python",
     "metadata": {},
     "outputs": [
      {
       "output_type": "stream",
       "stream": "stdout",
       "text": [
        "Message"
       ]
      },
      {
       "output_type": "stream",
       "stream": "stdout",
       "text": [
        "{GaussianDistribution} with payload GaussianDistribution"
       ]
      },
      {
       "output_type": "stream",
       "stream": "stdout",
       "text": [
        "\n",
        "m  = [4.1772481694156604e-14]\n",
        "V  = 1x1 Array{Float64,2}:\n",
        " "
       ]
      },
      {
       "output_type": "stream",
       "stream": "stdout",
       "text": [
        "0.00122482\n",
        "W  = nothing\n",
        "xi = nothing\n",
        ".\n"
       ]
      }
     ],
     "prompt_number": 5
    },
    {
     "cell_type": "markdown",
     "metadata": {},
     "source": [
      "We see the message has converged to a mean of approximately zero, which is apparent from the settings of the driver, inhibitor and noise node."
     ]
    },
    {
     "cell_type": "markdown",
     "metadata": {},
     "source": [
      "Schedules of edges\n",
      "===\n",
      "\n",
      "There is a second type of schedule, `MarginalSchedule`, that is a schedule consisting of an array of edges. This schedule is used in the variational message passing setting to define the update order for the marginals. It has no generate function, but it does have an execute function. `executeSchedule(schedule::MarginalSchedule)` simply calls `calculateMarginal!(edge::Edge)` on each of the entries, writing the marginal back to `edge`."
     ]
    }
   ],
   "metadata": {}
  }
 ]
}