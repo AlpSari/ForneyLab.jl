{
 "metadata": {
  "language": "Julia",
  "name": "schedules",
  "signature": "sha256:a2ecbb831d5a060d30f0227136e6ad144315461c9df93825ef5afbb366070c4c"
 },
 "nbformat": 3,
 "nbformat_minor": 0,
 "worksheets": [
  {
   "cells": [
    {
     "cell_type": "markdown",
     "metadata": {},
     "source": "Message passing schedules\n=========================\n\nIn the simple demo's, we use `calculateMessage!(outbound_interface)` to calculate the outbound interface on an interface. This function automatically detects what required messages have to be (re)calculated to be able to calculate the outbound message on `outbound_interface`. \n\nActually, `calculateMessage!()` is really simple. It just uses ForneyLab's auto-scheduler to find a correct message passing schedule and then just executes this schedule:\n\n```jl\nfunction calculateMessage!(outbound_interface::Interface, track_invalidations::Bool=true)\n    # Calculate the outbound message on a specific interface by generating a schedule and executing it.\n    # The resulting message is stored in the specified interface and returned.\n\n    # Generate a message passing schedule\n    schedule = generateSchedule(outbound_interface)\n\n    # Execute the schedule\n    executeSchedule(schedule, track_invalidations)\n\n    return outbound_interface.message\nend\n\n```\n\nIn this demo, we'll look at `generateSchedule()` and `executeSchedule()` in detail. Instead of just auto-generating a schedule every time `calculateMessage!()` is called, one can also manually create a message passing schedule and execute it (a lot of times). This approach comes in handy when working with a loopy graph."
    },
    {
     "cell_type": "markdown",
     "metadata": {},
     "source": "Auto-scheduler: `generateSchedule()`\n====================================\n\nIn ForneyLab, a message passing schedule is just a 1D `Array` with `Interface` elements. The auto-scheduler `generateSchedule(outbound_interface::Interface)` can generate such a schedule, under the assumption that one of the following requirements is met:\n\n- The graph has no cycles **OR**\n- The graph has cycles, but there are sufficient initial messages (flagged valid) defined in the graph, such that all cycles are 'cut open'.\n\nIf the graph has 'uncut' cycles, the scheduler will throw an error. "
    },
    {
     "cell_type": "markdown",
     "metadata": {},
     "source": "Non-loopy example\n-----------------\n\nFirst, let's consider the non-loopy graph from the `simple_kalman` demo and let auto-scheduler find a schedule:\n\n```\n                   (u)\n            (equ)   |\n    (xin) --> = --> + --> (xout)\n              |    (add_u_xin)\n       (n)--> +(add_n_y)\n              |\n             (y)\n\n```"
    },
    {
     "cell_type": "code",
     "collapsed": false,
     "input": "using ForneyLab\n\n# Create nodes\nxin         = ConstantNode(name=\"xin\")\nn           = ConstantNode(GaussianMessage(m=[0.0], V=[200.0]), name=\"n\")\ny           = ConstantNode(name=\"y\")\nadd_n_y     = AdditionNode(name=\"add_n_y\")\nequ         = EqualityNode(3, name=\"equ\") # equ node with 3 interfaces\nadd_u_xin   = AdditionNode(name=\"add_u_xin\")\nu           = ConstantNode(GaussianMessage(m=[1.0], V=[0.0]), name=\"u\");\n\n# Create edges\nEdge(xin.out, equ.interfaces[1])\nEdge(n.out, add_n_y.in1)\nEdge(y.out, add_n_y.in2)\nEdge(add_n_y.out, equ.interfaces[2])\nEdge(equ.interfaces[3], add_u_xin.in2)\nEdge(u.out, add_u_xin.in1);\n\n# Invoke the auto-scheduler to calculate the message towards xout\nschedule = generateSchedule(add_u_xin.out)\nshow(schedule)",
     "language": "python",
     "metadata": {},
     "outputs": [
      {
       "output_type": "stream",
       "stream": "stdout",
       "text": "Message passing schedule:\n"
      },
      {
       "output_type": "stream",
       "stream": "stdout",
       "text": " ConstantNode u\n ConstantNode xin\n ConstantNode n\n ConstantNode y\n AdditionNode add_n_y\n EqualityNode equ\n AdditionNode add_u_xin\n"
      }
     ],
     "prompt_number": 3
    },
    {
     "cell_type": "markdown",
     "metadata": {},
     "source": "As is easily verified, this schedule solves all dependencies. However, it is not unique. We could also put the message from `u` towards `add_u_xin` in the end of the schedule. \n\nSometimes a user might be interested in providing a **partial schedule**, and let the auto-scheduler derive a complete schedule that preserves the order of the messages in the partial schedule. This is possible by just passing the partial schedule to `generateSchedule()`. So, if we want to incorporate the message from `u` in the end, we can do:"
    },
    {
     "cell_type": "code",
     "collapsed": false,
     "input": "schedule = generateSchedule([equ.interfaces[3], add_u_xin.out])\nshow(schedule)",
     "language": "python",
     "metadata": {},
     "outputs": [
      {
       "output_type": "stream",
       "stream": "stdout",
       "text": "Message passing schedule:\n"
      },
      {
       "output_type": "stream",
       "stream": "stdout",
       "text": " ConstantNode xin\n ConstantNode n\n ConstantNode y\n AdditionNode add_n_y\n EqualityNode equ\n ConstantNode u\n AdditionNode add_u_xin\n"
      }
     ],
     "prompt_number": 4
    },
    {
     "cell_type": "markdown",
     "metadata": {},
     "source": "Loopy example\n-------------\n\nNow let us concider a loopy graph. A graph with loops must have its cycles 'opened' before a schedule can be generated. Opening of a loop can be done by placing a valid initial message on an interface. Take the graph below as an example, where we wish to calculate the outgoing message on the driver node.\n\n```\n    (driver)\n   -->[A]---\n   |       |\n   |      [+]<-[N]\n   |       |\n   ---[B]<--\n  (inhibitor)\n```\n\nLet's be a little naive and try to generate a schedule without predefining any breaker messages."
    },
    {
     "cell_type": "code",
     "collapsed": false,
     "input": "# Define the graph\ndriver      = FixedGainNode([1.1], name=\"driver\")\ninhibitor   = FixedGainNode([0.1], name=\"inhibitor\")\nnoise       = ConstantNode(GaussianMessage(m=[0.0], V=[0.1]), name=\"noise\")\nadd         = AdditionNode(name=\"adder\")\nEdge(add.out, inhibitor.in1)\nEdge(inhibitor.out, driver.in1)\nEdge(driver.out, add.in1)\nEdge(noise.out, add.in2)\n\n# Generate a schedule without predefining any breaker messages\nschedule = generateSchedule(driver.out)",
     "language": "python",
     "metadata": {},
     "outputs": [
      {
       "ename": "LoadError",
       "evalue": "Loop detected around Interface of FixedGainNode with node name driver holds INVALID message of type Nothing.\n Consider setting an initial message at this interface.\nat In[23]:12",
       "output_type": "pyerr",
       "traceback": [
        "Loop detected around Interface of FixedGainNode with node name driver holds INVALID message of type Nothing.\n Consider setting an initial message at this interface.\nat In[23]:12",
        " in error at error.jl:21",
        " in generateScheduleByDFS at /home/thijs/Code/ForneyLab.jl/src/ForneyLab.jl:316",
        " in generateScheduleByDFS at /home/thijs/Code/ForneyLab.jl/src/ForneyLab.jl:334 (repeats 3 times)",
        " in generateSchedule at /home/thijs/Code/ForneyLab.jl/src/ForneyLab.jl:284"
       ]
      }
     ],
     "prompt_number": 23
    },
    {
     "cell_type": "markdown",
     "metadata": {},
     "source": "ForneyLab throws an error and suggests we break the loop by setting an initial message. Let's follow this advise and see what happens."
    },
    {
     "cell_type": "code",
     "collapsed": false,
     "input": "# Set a relatively uninformative breaker message\nbreaker_message = GaussianMessage(m=[10.0], V=[100.0])\nsetMessage!(driver.out, breaker_message)\n\n# See what happens\nschedule = generateSchedule(driver.out)\nshow(schedule)",
     "language": "python",
     "metadata": {},
     "outputs": [
      {
       "output_type": "stream",
       "stream": "stdout",
       "text": "Message passing schedule:\n"
      },
      {
       "output_type": "stream",
       "stream": "stdout",
       "text": " ConstantNode noise\n AdditionNode adder\n FixedGainNode inhibitor\n FixedGainNode driver\n"
      }
     ],
     "prompt_number": 24
    },
    {
     "cell_type": "markdown",
     "metadata": {},
     "source": "And there it is, we have our schedule. Next we can use this schedule to perform our calculations."
    },
    {
     "cell_type": "markdown",
     "metadata": {},
     "source": "`executeSchedule(schedule)`\n===========================\n\nThe function `executeSchedule()` takes the schedule as argument and calculates each message in order by simply executing a for-loop over the schedule. It does not matter whether the schedule is defined for the full graph or just partially, as long as all incoming messages are at the ready. The function also takes a flag `track_invalidations` as argument. This flag defaults to `true` and decides whether a message invalidation is pushed after each calculated message. \n\nIn the previous section we defined our loopy graph, set an initial message and generated our schedule. Now the task remains to execute this schedule, to convergence preferrably."
    },
    {
     "cell_type": "code",
     "collapsed": false,
     "input": "prev_msg = breaker_message\nconverged = false\nwhile !converged\n    msg = executeSchedule(schedule)\n    converged = isApproxEqual(prev_msg.m, msg.m)\n    prev_msg = msg\nend\nshow(prev_msg)",
     "language": "python",
     "metadata": {},
     "outputs": [
      {
       "output_type": "stream",
       "stream": "stdout",
       "text": "GaussianMessage\n"
      },
      {
       "output_type": "stream",
       "stream": "stdout",
       "text": "m  = [4.1772481694156604e-14]\nV  = 1x1 Array{Float64,2}:\n 0.00122482\nW  = nothing\nxi = nothing\n"
      }
     ],
     "prompt_number": 25
    },
    {
     "cell_type": "markdown",
     "metadata": {},
     "source": "We see the message has converged to a mean of approximately zero, which is apparent from the settings of the driver, inhibitor and noise node."
    }
   ],
   "metadata": {}
  }
 ]
}