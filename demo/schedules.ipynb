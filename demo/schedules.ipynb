{
 "metadata": {
  "language": "Julia",
  "name": "",
  "signature": "sha256:617b7b8303e6cf8d08c21d0fe9785a126d5a315139b3b4f36310592d0c12b266"
 },
 "nbformat": 3,
 "nbformat_minor": 0,
 "worksheets": [
  {
   "cells": [
    {
     "cell_type": "markdown",
     "metadata": {},
     "source": [
      "**TODO: write demo about message passing schedules here**\n",
      "\n",
      "Describe:\n",
      "\n",
      "* `generateSchedule(interface)` to automatically generate message passing schedules.\n",
      "* `executeSchedule(schedule)` to execute a schedule.\n",
      "* How `calculateMessage!(interface)` generates and executes a schedule in the background.\n",
      "* How composite nodes with internal graphs appear in the higher-level schedule.\n",
      "* How to define a manual schedule.\n",
      "* When it is OK to NOT perform message invalidations to increase performance.\n",
      "\n",
      "Work in progress..."
     ]
    }
   ],
   "metadata": {}
  }
 ]
}