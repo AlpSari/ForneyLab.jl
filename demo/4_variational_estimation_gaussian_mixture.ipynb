{
 "cells": [
  {
   "cell_type": "markdown",
   "metadata": {},
   "source": [
    "# Variational Message Passing for Estimation\n",
    "\n",
    "In this demo we showcase a more advanced use of VMP. We wish to estimate the statistics of a two-component Gaussian mixture model.\n",
    "\n",
    "\\begin{align*}\n",
    "    z_i &\\sim \\mathcal{B}er(\\pi)\\\\\n",
    "    y_i &\\sim\n",
    "    \\begin{cases}\n",
    "        \\mathcal{N}(m_1, w_1^{-1}) &\\text{if } z_i = 1\\\\\n",
    "        \\mathcal{N}(m_2, w_2^{-1}) &\\text{otherwise}\n",
    "    \\end{cases}\n",
    "\\end{align*}\n",
    "\n",
    "A single section of the factor graph is drawn below\n",
    "\n",
    "```\n",
    "           [Ber]\n",
    "             | (z_i)\n",
    "             |\n",
    "-------------|-------> = -> (w2)\n",
    "             |         |\n",
    "-------------|----> = -|--> (w1)\n",
    "             |      |  |\n",
    "-----> = ----|------|--|--> (m1)\n",
    "       |     |      |  |\n",
    "--> = -|-----|------|--|--> (m2)\n",
    "    |  |     v      |  |\n",
    "    |  --->|----|<---  |\n",
    "    |      | GM |      |\n",
    "    ------>|----|<------ \n",
    "             |\n",
    "             v\n",
    "           (y_i)\n",
    "```"
   ]
  },
  {
   "cell_type": "code",
   "execution_count": 1,
   "metadata": {},
   "outputs": [],
   "source": [
    "# Generate toy dataset\n",
    "srand(238)\n",
    "n = 20\n",
    "\n",
    "y_data = Vector{Float64}(n)\n",
    "m_1_data = 4.0\n",
    "w_1_data = 2.0\n",
    "m_2_data = -4.0\n",
    "w_2_data = 2.0\n",
    "\n",
    "z_data = rand(n)\n",
    "for i = 1:n\n",
    "    if z_data[i] < 0.5\n",
    "        y_data[i] = sqrt(1/w_1_data)*randn() + m_1_data\n",
    "    else\n",
    "        y_data[i] = sqrt(1/w_2_data)*randn() + m_2_data\n",
    "    end\n",
    "end"
   ]
  },
  {
   "cell_type": "markdown",
   "metadata": {},
   "source": [
    "# Build\n",
    "\n",
    "The `GaussianMixture` constructor allows for a variable number of arguments. E.g. for a three-component mixture, an `m_3` and `w_3` argument may be appended. Note that in that case, the `Bernoulli` variable will need to change to a `Categorical` as well."
   ]
  },
  {
   "cell_type": "code",
   "execution_count": 2,
   "metadata": {},
   "outputs": [],
   "source": [
    "using ForneyLab\n",
    "\n",
    "g = FactorGraph()\n",
    "\n",
    "# Specify generative model\n",
    "@RV m_1 ~ GaussianMeanVariance(constant(5.0), constant(100.0), id=:m_1)\n",
    "@RV w_1 ~ Gamma(constant(0.01), constant(0.01), id=:w_1)\n",
    "@RV m_2 ~ GaussianMeanVariance(constant(-5.0), constant(100.0), id=:m_2)\n",
    "@RV w_2 ~ Gamma(constant(0.01), constant(0.01), id=:w_2)\n",
    "\n",
    "z = Vector{Variable}(n)\n",
    "y = Vector{Variable}(n)\n",
    "for i = 1:n\n",
    "    @RV z[i] ~ Bernoulli(constant(0.5), id=:z_*i)\n",
    "    @RV y[i] ~ GaussianMixture(z[i], m_1, w_1, m_2, w_2, id=:y_*i)\n",
    "    \n",
    "    placeholder(y[i], :y, index=i)\n",
    "end"
   ]
  },
  {
   "cell_type": "markdown",
   "metadata": {},
   "source": [
    "# Schedule"
   ]
  },
  {
   "cell_type": "code",
   "execution_count": 3,
   "metadata": {},
   "outputs": [],
   "source": [
    "rf = RecognitionFactorization()\n",
    "\n",
    "# Specify recognition factorization\n",
    "q_m_1 = RecognitionFactor(m_1)\n",
    "q_w_1 = RecognitionFactor(w_1)\n",
    "q_m_2 = RecognitionFactor(m_2)\n",
    "q_w_2 = RecognitionFactor(w_2)\n",
    "q_z = RecognitionFactor(z)\n",
    ";"
   ]
  },
  {
   "cell_type": "code",
   "execution_count": 4,
   "metadata": {},
   "outputs": [],
   "source": [
    "# ForneyLab.draw(q_z)"
   ]
  },
  {
   "cell_type": "code",
   "execution_count": 5,
   "metadata": {},
   "outputs": [],
   "source": [
    "# Generate Julia algorithm code\n",
    "algo_q_m_1 = variationalAlgorithm(q_m_1, name=\"M1\")\n",
    "algo_q_w_1 = variationalAlgorithm(q_w_1, name=\"W1\")\n",
    "algo_q_m_2 = variationalAlgorithm(q_m_2, name=\"M2\")\n",
    "algo_q_w_2 = variationalAlgorithm(q_w_2, name=\"W2\")\n",
    "algo_q_z = variationalAlgorithm(q_z, name=\"Z\")\n",
    "\n",
    "algo_F = freeEnergyAlgorithm()\n",
    ";"
   ]
  },
  {
   "cell_type": "code",
   "execution_count": 6,
   "metadata": {},
   "outputs": [],
   "source": [
    "# println(algo_q_z)"
   ]
  },
  {
   "cell_type": "markdown",
   "metadata": {},
   "source": [
    "# Infer"
   ]
  },
  {
   "cell_type": "code",
   "execution_count": 7,
   "metadata": {},
   "outputs": [],
   "source": [
    "# Load algorithms\n",
    "eval(parse(algo_q_m_1))\n",
    "eval(parse(algo_q_w_1))\n",
    "eval(parse(algo_q_m_2))\n",
    "eval(parse(algo_q_w_2))\n",
    "eval(parse(algo_q_z))\n",
    "eval(parse(algo_F))\n",
    ";"
   ]
  },
  {
   "cell_type": "code",
   "execution_count": 8,
   "metadata": {},
   "outputs": [],
   "source": [
    "data = Dict(:y => y_data)\n",
    "\n",
    "# Prepare recognition distributions\n",
    "marginals = Dict(:m_1 => vague(Gaussian),\n",
    "                 :w_1 => vague(Gamma),\n",
    "                 :m_2 => vague(Gaussian),\n",
    "                 :w_2 => vague(Gamma))\n",
    "for i = 1:n\n",
    "    marginals[:z_*i] = vague(Bernoulli)\n",
    "end\n",
    "\n",
    "# Execute algorithm\n",
    "n_its = 3*n\n",
    "F = Vector{Float64}(n_its)\n",
    "m_1_est = Vector{Float64}(n_its)\n",
    "w_1_est = Vector{Float64}(n_its)\n",
    "m_2_est = Vector{Float64}(n_its)\n",
    "w_2_est = Vector{Float64}(n_its)\n",
    "for i = 1:n_its\n",
    "    stepM1!(data, marginals)\n",
    "    stepW1!(data, marginals)\n",
    "    stepM2!(data, marginals)\n",
    "    stepW2!(data, marginals)\n",
    "    stepZ!(data, marginals)\n",
    "    \n",
    "    F[i] = freeEnergy(data, marginals)\n",
    "    \n",
    "    # Store estimates for visualization\n",
    "    m_1_est[i] = mean(marginals[:m_1])\n",
    "    w_1_est[i] = mean(marginals[:w_1])\n",
    "    m_2_est[i] = mean(marginals[:m_2])\n",
    "    w_2_est[i] = mean(marginals[:w_2])\n",
    "end"
   ]
  },
  {
   "cell_type": "markdown",
   "metadata": {},
   "source": [
    "# Results"
   ]
  },
  {
   "cell_type": "code",
   "execution_count": 9,
   "metadata": {},
   "outputs": [
    {
     "data": {
      "image/png": "[encoded data removed]",
      "text/plain": [
       "PyPlot.Figure(PyObject <matplotlib.figure.Figure object at 0x11cb2fda0>)"
      ]
     },
     "metadata": {},
     "output_type": "display_data"
    }
   ],
   "source": [
    "using PyPlot\n",
    "\n",
    "# Plot free energy to check for convergence\n",
    "plot(1:n_its, F, color=\"black\")\n",
    "grid(\"on\")\n",
    "xlabel(\"Iteration\")\n",
    "ylabel(\"F\")\n",
    "\n",
    "# Plot estimated distribution\n",
    "PyPlot.plt[:twinx]()\n",
    "plot(1:n_its, m_1_est, color=\"blue\")\n",
    "fill_between(1:n_its, m_1_est-sqrt.(1.0./w_1_est), m_1_est+sqrt.(1.0./w_1_est), color=\"blue\", alpha=0.2)\n",
    "plot(1:n_its, m_2_est, color=\"orange\")\n",
    "fill_between(1:n_its, m_2_est-sqrt.(1.0./w_2_est), m_2_est+sqrt.(1.0./w_2_est), color=\"orange\", alpha=0.2)\n",
    "ylabel(\"Estimate\")\n",
    "\n",
    "# Plot samples\n",
    "scatter(n_its*ones(sum(z_data .< 0.5)), y_data[z_data .< 0.5], color=\"blue\", linewidth=5)\n",
    "scatter(n_its*ones(sum(z_data .>= 0.5)), y_data[z_data .>= 0.5], color=\"orange\", linewidth=5)\n",
    "\n",
    "xlim(0.0, n_its+1)\n",
    ";"
   ]
  },
  {
   "cell_type": "code",
   "execution_count": 10,
   "metadata": {},
   "outputs": [
    {
     "name": "stdout",
     "output_type": "stream",
     "text": [
      "\n",
      "----- Estimates after 60 VMP updates -----\n",
      "m_1 estimate: 3.9, with variance 0.04\n",
      "w_1 estimate: 1.81, with variance 0.5\n",
      "m_2 estimate: -3.85, with variance 0.01\n",
      "w_2 estimate: 16.05, with variance 73.43\n"
     ]
    }
   ],
   "source": [
    "# Inspect the results\n",
    "println(\"\\n----- Estimates after $(n_its) VMP updates -----\")\n",
    "println(\"m_1 estimate: $(round(mean(marginals[:m_1]),2)), with variance $(round(var(marginals[:m_1]),2))\")\n",
    "println(\"w_1 estimate: $(round(mean(marginals[:w_1]),2)), with variance $(round(var(marginals[:w_1]),2))\")\n",
    "println(\"m_2 estimate: $(round(mean(marginals[:m_2]),2)), with variance $(round(var(marginals[:m_2]),2))\")\n",
    "println(\"w_2 estimate: $(round(mean(marginals[:w_2]),2)), with variance $(round(var(marginals[:w_2]),2))\")"
   ]
  },
  {
   "cell_type": "code",
   "execution_count": null,
   "metadata": {},
   "outputs": [],
   "source": []
  }
 ],
 "metadata": {
  "kernelspec": {
   "display_name": "Julia 0.6.2",
   "language": "julia",
   "name": "julia-0.6"
  },
  "language_info": {
   "file_extension": ".jl",
   "mimetype": "application/julia",
   "name": "julia",
   "version": "0.6.2"
  }
 },
 "nbformat": 4,
 "nbformat_minor": 1
}
