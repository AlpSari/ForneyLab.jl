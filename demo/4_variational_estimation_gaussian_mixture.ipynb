{
 "cells": [
  {
   "cell_type": "code",
   "execution_count": 1,
   "metadata": {},
   "outputs": [
    {
     "ename": "LoadError",
     "evalue": "UndefVarError: n not defined",
     "output_type": "error",
     "traceback": [
      "UndefVarError: n not defined",
      ""
     ]
    }
   ],
   "source": [
    "# Generate toy dataset\n",
    "srand(238)\n",
    "\n",
    "y = Vector{Float64}(n)\n",
    "m_1_true = 4.0\n",
    "w_1_true = 2.0\n",
    "m_2_true = -4.0\n",
    "w_2_true = 2.0\n",
    "\n",
    "z_true = rand(n)\n",
    "for i = 1:n\n",
    "    if z_true[i] > 0.5\n",
    "        y[i] = sqrt(1/w_1_true)*randn() + m_1_true\n",
    "    else\n",
    "        y[i] = sqrt(1/w_2_true)*randn() + m_2_true\n",
    "    end\n",
    "end"
   ]
  },
  {
   "cell_type": "markdown",
   "metadata": {},
   "source": [
    "# Build"
   ]
  },
  {
   "cell_type": "code",
   "execution_count": 2,
   "metadata": {
    "collapsed": true
   },
   "outputs": [],
   "source": [
    "using ForneyLab\n",
    "\n",
    "n = 20\n",
    "\n",
    "g = FactorGraph()\n",
    "\n",
    "# Specify model\n",
    "m_1 ~ GaussianMeanVariance(constant(5.0), constant(100.0))\n",
    "w_1 ~ Gamma(constant(0.01), constant(0.01))\n",
    "m_2 ~ GaussianMeanVariance(constant(-5.0), constant(100.0))\n",
    "w_2 ~ Gamma(constant(0.01), constant(0.01))\n",
    "\n",
    "z = Vector{Variable}(n)\n",
    "for i = 1:n\n",
    "    z[i] ~ Bernoulli(constant(0.5))\n",
    "    y_i ~ GaussianMixture(z[i], m_1, w_1, m_2, w_2)\n",
    "    placeholder(y_i, :y, index=i)\n",
    "    z[i].id = :z_*i\n",
    "    y_i.id = :y_*i\n",
    "end\n",
    "\n",
    "# Assign ids for easy lookup\n",
    "m_1.id = :m_1\n",
    "w_1.id = :w_1\n",
    "m_2.id = :m_2\n",
    "w_2.id = :w_2\n",
    ";"
   ]
  },
  {
   "cell_type": "markdown",
   "metadata": {},
   "source": [
    "# Schedule"
   ]
  },
  {
   "cell_type": "code",
   "execution_count": 3,
   "metadata": {
    "collapsed": true
   },
   "outputs": [],
   "source": [
    "rf = RecognitionFactorization()\n",
    "\n",
    "# Specify recognition factorization\n",
    "q_m_1 = RecognitionFactor(m_1)\n",
    "q_w_1 = RecognitionFactor(w_1)\n",
    "q_m_2 = RecognitionFactor(m_2)\n",
    "q_w_2 = RecognitionFactor(w_2)\n",
    "q_z = RecognitionFactor(z)\n",
    ";"
   ]
  },
  {
   "cell_type": "code",
   "execution_count": 4,
   "metadata": {
    "collapsed": true
   },
   "outputs": [],
   "source": [
    "# Generate Julia algorithm code\n",
    "algo_q_m_1 = messagePassingAlgorithm(variationalSchedule(q_m_1), m_1, name=\"M1\")\n",
    "algo_q_w_1 = messagePassingAlgorithm(variationalSchedule(q_w_1), w_1, name=\"W1\")\n",
    "algo_q_m_2 = messagePassingAlgorithm(variationalSchedule(q_m_2), m_2, name=\"M2\")\n",
    "algo_q_w_2 = messagePassingAlgorithm(variationalSchedule(q_w_2), w_2, name=\"W2\")\n",
    "algo_q_z = messagePassingAlgorithm(variationalSchedule(q_z), z, name=\"Z\")\n",
    "algo_F = freeEnergyAlgorithm()\n",
    ";"
   ]
  },
  {
   "cell_type": "markdown",
   "metadata": {},
   "source": [
    "# Infer"
   ]
  },
  {
   "cell_type": "code",
   "execution_count": 5,
   "metadata": {
    "collapsed": true
   },
   "outputs": [],
   "source": [
    "# Load algorithms\n",
    "eval(parse(algo_q_m_1))\n",
    "eval(parse(algo_q_w_1))\n",
    "eval(parse(algo_q_m_2))\n",
    "eval(parse(algo_q_w_2))\n",
    "eval(parse(algo_q_z))\n",
    "eval(parse(algo_F))\n",
    ";"
   ]
  },
  {
   "cell_type": "code",
   "execution_count": 6,
   "metadata": {},
   "outputs": [
    {
     "ename": "LoadError",
     "evalue": "UndefVarError: y not defined",
     "output_type": "error",
     "traceback": [
      "UndefVarError: y not defined",
      ""
     ]
    }
   ],
   "source": [
    "data = Dict(:y => y)\n",
    "\n",
    "# Prepare recognition distributions\n",
    "marginals = Dict(:m_1 => vague(Gaussian),\n",
    "                 :w_1 => vague(Gamma),\n",
    "                 :m_2 => vague(Gaussian),\n",
    "                 :w_2 => vague(Gamma))\n",
    "for i = 1:n\n",
    "    marginals[:z_*i] = vague(Bernoulli)\n",
    "end\n",
    "\n",
    "# Execute algorithm\n",
    "n_its = 3*n\n",
    "F = Vector{Float64}(n_its)\n",
    "m_1_est = Vector{Float64}(n_its)\n",
    "w_1_est = Vector{Float64}(n_its)\n",
    "m_2_est = Vector{Float64}(n_its)\n",
    "w_2_est = Vector{Float64}(n_its)\n",
    "for i = 1:n_its\n",
    "    stepM1!(data, marginals)\n",
    "    stepW1!(data, marginals)\n",
    "    stepM2!(data, marginals)\n",
    "    stepW2!(data, marginals)\n",
    "    stepZ!(data, marginals)\n",
    "    \n",
    "    F[i] = freeEnergy(data, marginals)\n",
    "    m_1_est[i] = mean(marginals[:m_1])\n",
    "    w_1_est[i] = mean(marginals[:w_1])\n",
    "    m_2_est[i] = mean(marginals[:m_2])\n",
    "    w_2_est[i] = mean(marginals[:w_2])\n",
    "end"
   ]
  },
  {
   "cell_type": "markdown",
   "metadata": {},
   "source": [
    "# Results"
   ]
  },
  {
   "cell_type": "code",
   "execution_count": 7,
   "metadata": {},
   "outputs": [
    {
     "ename": "LoadError",
     "evalue": "UndefVarError: n_its not defined",
     "output_type": "error",
     "traceback": [
      "UndefVarError: n_its not defined",
      ""
     ]
    }
   ],
   "source": [
    "using PyPlot\n",
    "\n",
    "# Plot free energy to check for convergence\n",
    "plot(1:n_its, F, color=\"black\")\n",
    "grid(\"on\")\n",
    "xlabel(\"Iteration\")\n",
    "ylabel(\"F\")\n",
    "\n",
    "# Plot estimated distribution\n",
    "PyPlot.plt[:twinx]()\n",
    "plot(1:n_its, m_1_est, color=\"blue\")\n",
    "fill_between(1:n_its, m_1_est-sqrt(1.0./w_1_est), m_1_est+sqrt(1.0./w_1_est), color=\"blue\", alpha=0.2)\n",
    "plot(1:n_its, m_2_est, color=\"orange\")\n",
    "fill_between(1:n_its, m_2_est-sqrt(1.0./w_2_est), m_2_est+sqrt(1.0./w_2_est), color=\"orange\", alpha=0.2)\n",
    "ylabel(\"Estimate\")\n",
    "\n",
    "# Plot samples\n",
    "scatter(n_its*ones(sum(z_true .> 0.5)), y[z_true .> 0.5], color=\"blue\", linewidth=5)\n",
    "scatter(n_its*ones(sum(z_true .<= 0.5)), y[z_true .<= 0.5], color=\"orange\", linewidth=5)\n",
    "\n",
    "xlim(0.0, n_its+1)\n",
    ";"
   ]
  },
  {
   "cell_type": "code",
   "execution_count": 8,
   "metadata": {},
   "outputs": [
    {
     "ename": "LoadError",
     "evalue": "UndefVarError: n_its not defined",
     "output_type": "error",
     "traceback": [
      "UndefVarError: n_its not defined",
      ""
     ]
    }
   ],
   "source": [
    "# Inspect the results\n",
    "println(\"\\n----- Estimates after $(n_its) VMP updates -----\")\n",
    "println(\"m_1 estimate: $(round(mean(marginals[:m_1]),2)), with variance $(round(var(marginals[:m_1]),2))\")\n",
    "println(\"w_1 estimate: $(round(mean(marginals[:w_1]),2)), with variance $(round(var(marginals[:w_1]),2))\")\n",
    "println(\"m_2 estimate: $(round(mean(marginals[:m_2]),2)), with variance $(round(var(marginals[:m_2]),2))\")\n",
    "println(\"w_2 estimate: $(round(mean(marginals[:w_2]),2)), with variance $(round(var(marginals[:w_2]),2))\")"
   ]
  },
  {
   "cell_type": "code",
   "execution_count": null,
   "metadata": {
    "collapsed": true
   },
   "outputs": [],
   "source": []
  }
 ],
 "metadata": {
  "kernelspec": {
   "display_name": "Julia 0.5.0",
   "language": "julia",
   "name": "julia-0.5"
  },
  "language_info": {
   "file_extension": ".jl",
   "mimetype": "application/julia",
   "name": "julia",
   "version": "0.5.0"
  }
 },
 "nbformat": 4,
 "nbformat_minor": 1
}
