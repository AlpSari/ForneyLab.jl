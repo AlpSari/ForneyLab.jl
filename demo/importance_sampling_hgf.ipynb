{
 "cells": [
  {
   "cell_type": "markdown",
   "metadata": {},
   "source": [
    "# Filtering with stochastic volatility model using importance sampling\n",
    "\n",
    "This demo applies variational message passing with messages approximated using importance sampling to a filtering problem with a stochastic volatility model.\n",
    "\n",
    "We choose hierarchical Gaussian filter with $\\kappa=1$ and $\\omega=0$."
   ]
  },
  {
   "cell_type": "code",
   "execution_count": 1,
   "metadata": {},
   "outputs": [],
   "source": [
    "using ForneyLab\n",
    "using Distributions: Normal"
   ]
  },
  {
   "cell_type": "markdown",
   "metadata": {},
   "source": [
    "## Data generation"
   ]
  },
  {
   "cell_type": "code",
   "execution_count": 2,
   "metadata": {},
   "outputs": [],
   "source": [
    "#Generate data\n",
    "T = 200\n",
    "\n",
    "vz, vy = 0.1, 1\n",
    "\n",
    "z_data_0 = 0\n",
    "z_data = [rand(Normal(z_data_0,sqrt(vz)))]\n",
    "x_data_0 = 0\n",
    "x_data = [rand(Normal(x_data_0,sqrt(exp(z_data[1]))))]\n",
    "y_data = [rand(Normal(x_data[1],sqrt(vy)))]\n",
    "for t=2:T\n",
    "    append!(z_data, rand(Normal(z_data[end],sqrt(vz))))\n",
    "    append!(x_data, rand(Normal(x_data[end],sqrt(exp(z_data[end])))))\n",
    "    append!(y_data, rand(Normal(x_data[end],sqrt(vy))))\n",
    "end"
   ]
  },
  {
   "cell_type": "markdown",
   "metadata": {},
   "source": [
    "## Model specification"
   ]
  },
  {
   "cell_type": "code",
   "execution_count": 3,
   "metadata": {},
   "outputs": [],
   "source": [
    "g = FactorGraph()\n",
    "\n",
    "\n",
    "@RV m_z_t_min \n",
    "@RV v_z_t_min \n",
    "@RV z_t_min ~ GaussianMeanVariance(m_z_t_min, v_z_t_min)\n",
    "model_vz = 0.1\n",
    "@RV z_t ~ GaussianMeanVariance(z_t_min, model_vz)\n",
    "\n",
    "@RV m_x_t_min\n",
    "@RV v_x_t_min\n",
    "@RV x_t_min ~ GaussianMeanVariance(m_x_t_min, v_x_t_min)\n",
    "\n",
    "f(z) = 1/exp(z)\n",
    "@RV wx_t ~ Nonlinear{Sampling}(z_t, f)\n",
    "@RV x_t ~ GaussianMeanPrecision(x_t_min, wx_t)\n",
    "model_vy = 0.1\n",
    "@RV y_t ~ GaussianMeanVariance(x_t, model_vy)\n",
    "\n",
    "# Placeholders for prior\n",
    "placeholder(m_z_t_min, :m_z_t_min)\n",
    "placeholder(v_z_t_min, :v_z_t_min)\n",
    "\n",
    "# Placeholders for prior\n",
    "placeholder(m_x_t_min, :m_x_t_min)\n",
    "placeholder(v_x_t_min, :v_x_t_min)\n",
    "\n",
    "# Placeholder for data\n",
    "placeholder(y_t, :y_t);"
   ]
  },
  {
   "cell_type": "code",
   "execution_count": null,
   "metadata": {},
   "outputs": [],
   "source": [
    "ForneyLab.draw()"
   ]
  },
  {
   "cell_type": "markdown",
   "metadata": {},
   "source": [
    "## Inference specification"
   ]
  },
  {
   "cell_type": "code",
   "execution_count": null,
   "metadata": {},
   "outputs": [],
   "source": [
    "PosteriorFactorization()\n",
    "\n",
    "q_x = PosteriorFactor([x_t, x_t_min], id=:XMF)\n",
    "q_z = PosteriorFactor(z_t, id=:ZMF)\n",
    "q_z_t_min = PosteriorFactor(z_t_min, id=:ZMinMF)\n",
    "algo_mf = variationalAlgorithm();"
   ]
  },
  {
   "cell_type": "markdown",
   "metadata": {},
   "source": [
    "# Algorithm generation"
   ]
  },
  {
   "cell_type": "code",
   "execution_count": null,
   "metadata": {},
   "outputs": [],
   "source": [
    "source_code = algorithmSourceCode(algo_mf)\n",
    "eval(Meta.parse(source_code));"
   ]
  },
  {
   "cell_type": "markdown",
   "metadata": {},
   "source": [
    "## Execution"
   ]
  },
  {
   "cell_type": "code",
   "execution_count": null,
   "metadata": {},
   "outputs": [],
   "source": [
    "# Define values for prior statistics\n",
    "m_z_0, v_z_0 = 0.0, 10.0\n",
    "m_x_0, v_x_0 = 0.0, 10.0\n",
    "\n",
    "m_z = Vector{Float64}(undef, T)\n",
    "v_z = Vector{Float64}(undef, T)\n",
    "m_x = Vector{Float64}(undef, T)\n",
    "v_x = Vector{Float64}(undef, T)\n",
    "\n",
    "m_z_t_min, v_z_t_min = m_z_0, v_z_0\n",
    "m_x_t_min, v_x_t_min = m_x_0, v_x_0\n",
    "mwx_t_min, vwx_t_min = f(m_z_0), v_z_0\n",
    "\n",
    "n_its = 10\n",
    "marginals_mf = Dict()\n",
    "for t = 1:T\n",
    "    # Prepare data and prior statistics\n",
    "    data = Dict(:y_t       => y_data[t],\n",
    "                :m_z_t_min => m_z_t_min,\n",
    "                :v_z_t_min => v_z_t_min,\n",
    "                :m_x_t_min => m_x_t_min,\n",
    "                :v_x_t_min => v_x_t_min)\n",
    "    \n",
    "    # Initial recognition distributions\n",
    "    marginals_mf[:z_t] = ProbabilityDistribution(Univariate, GaussianMeanVariance, m=m_z_t_min, v=v_z_t_min)\n",
    "    marginals_mf[:x_t_min] = ProbabilityDistribution(Univariate, GaussianMeanVariance, m=m_x_t_min, v=v_x_t_min)\n",
    "    marginals_mf[:z_t_min] = ProbabilityDistribution(Univariate, GaussianMeanVariance, m=m_z_t_min, v=v_z_t_min)\n",
    "    marginals_mf[:wx_t] = ProbabilityDistribution(Univariate, GaussianMeanVariance, m=mwx_t_min, v=vwx_t_min)\n",
    "    \n",
    "    # Execute algorithm\n",
    "    for i = 1:n_its\n",
    "        stepZMinMF!(data, marginals_mf)\n",
    "        stepXMF!(data, marginals_mf)\n",
    "        stepZMF!(data, marginals_mf)\n",
    "    end\n",
    "\n",
    "    m_z_t_min = mean(marginals_mf[:z_t])\n",
    "    v_z_t_min = var(marginals_mf[:z_t])\n",
    "    m_x_t_min = mean(marginals_mf[:x_t])\n",
    "    v_x_t_min = var(marginals_mf[:x_t])\n",
    "    mwx_t_min = mean(marginals_mf[:wx_t])\n",
    "    vwx_t_min = var(marginals_mf[:wx_t])\n",
    "    \n",
    "    # Store to buffer \n",
    "    m_x[t] = m_x_t_min\n",
    "    v_x[t] = v_x_t_min\n",
    "    m_z[t] = m_z_t_min\n",
    "    v_z[t] = v_z_t_min\n",
    "end"
   ]
  },
  {
   "cell_type": "markdown",
   "metadata": {},
   "source": [
    "## Results"
   ]
  },
  {
   "cell_type": "code",
   "execution_count": null,
   "metadata": {},
   "outputs": [],
   "source": [
    "using PyPlot\n",
    "\n",
    "plot(collect(1:T), x_data, \"k--\", label=\"true x\")\n",
    "plot(collect(1:T), m_x, \"b-\", label=\"estimated x\")\n",
    "fill_between(1:T, m_x-sqrt.(v_x), m_x+sqrt.(v_x), color=\"b\", alpha=0.2);\n",
    "grid(\"on\")\n",
    "xlabel(\"t\")\n",
    "legend(loc=\"upper left\");"
   ]
  }
 ],
 "metadata": {
  "kernelspec": {
   "display_name": "Julia 1.4.0",
   "language": "julia",
   "name": "julia-1.4"
  },
  "language_info": {
   "file_extension": ".jl",
   "mimetype": "application/julia",
   "name": "julia",
   "version": "1.4.0"
  }
 },
 "nbformat": 4,
 "nbformat_minor": 4
}
