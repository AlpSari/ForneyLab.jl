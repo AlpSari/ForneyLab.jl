{
 "cells": [
  {
   "cell_type": "code",
   "execution_count": 1,
   "metadata": {},
   "outputs": [],
   "source": [
    "using ForneyLab\n",
    "using PyPlot\n",
    "\n",
    "n = 20\n",
    "\n",
    "g = FactorGraph()\n",
    "\n",
    "# Specify model\n",
    "m_1 ~ GaussianMeanVariance(constant(0.05), constant(100.0))\n",
    "w_1 ~ Gamma(constant(0.01), constant(0.01))\n",
    "m_2 ~ GaussianMeanVariance(constant(-0.05), constant(100.0))\n",
    "w_2 ~ Gamma(constant(0.01), constant(0.01))\n",
    "\n",
    "z = Vector{Variable}(n)\n",
    "for i = 1:n\n",
    "    z[i] ~ Bernoulli(constant(0.5))\n",
    "    y_i ~ GaussianMixture(m_1, w_1, m_2, w_2, z[i])\n",
    "    placeholder(y_i, :y, index=i)\n",
    "    z[i].id = :z_*i\n",
    "    y_i.id = :y_*i\n",
    "end\n",
    "\n",
    "# Assign ids for easy lookup\n",
    "m_1.id = :m_1\n",
    "w_1.id = :w_1\n",
    "m_2.id = :m_2\n",
    "w_2.id = :w_2\n",
    ";"
   ]
  },
  {
   "cell_type": "code",
   "execution_count": 2,
   "metadata": {
    "collapsed": true
   },
   "outputs": [],
   "source": [
    "rf = RecognitionFactorization()\n",
    "\n",
    "# Specify recognition factorization\n",
    "q_m_1 = RecognitionFactor(m_1)\n",
    "q_w_1 = RecognitionFactor(w_1)\n",
    "q_m_2 = RecognitionFactor(m_2)\n",
    "q_w_2 = RecognitionFactor(w_2)\n",
    "q_z = RecognitionFactor(z)\n",
    ";"
   ]
  },
  {
   "cell_type": "code",
   "execution_count": 3,
   "metadata": {},
   "outputs": [],
   "source": [
    "# Generate Julia algorithm code\n",
    "algo_q_m_1 = messagePassingAlgorithm(variationalSchedule(q_m_1), m_1, name=\"M1\")\n",
    "algo_q_w_1 = messagePassingAlgorithm(variationalSchedule(q_w_1), w_1, name=\"W1\")\n",
    "algo_q_m_2 = messagePassingAlgorithm(variationalSchedule(q_m_2), m_2, name=\"M2\")\n",
    "algo_q_w_2 = messagePassingAlgorithm(variationalSchedule(q_w_2), w_2, name=\"W2\")\n",
    "algo_q_z = messagePassingAlgorithm(variationalSchedule(q_z), z, name=\"Z\")\n",
    "algo_F = freeEnergyAlgorithm()\n",
    ";"
   ]
  },
  {
   "cell_type": "code",
   "execution_count": 4,
   "metadata": {},
   "outputs": [
    {
     "name": "stdout",
     "output_type": "stream",
     "text": [
      "function stepM1!(data::Dict, marginals::Dict=Dict(), messages::Vector{Message}=Array{Message}(40))\n",
      "\n",
      "messages[1] = ruleVBGaussianMeanVariance3(ProbabilityDistribution(PointMass, m=0.05), ProbabilityDistribution(PointMass, m=100.0), nothing)\n",
      "messages[2] = ruleVBGaussianMixture1(nothing, marginals[:w_1], marginals[:m_2], marginals[:w_2], marginals[:z_19], ProbabilityDistribution(PointMass, m=data[:y][19]))\n",
      "messages[3] = ruleVBGaussianMixture1(nothing, marginals[:w_1], marginals[:m_2], marginals[:w_2], marginals[:z_20], ProbabilityDistribution(PointMass, m=data[:y][20]))\n",
      "messages[4] = ruleSPEqualityGaussian(messages[2], nothing, messages[3])\n",
      "messages[5] = ruleVBGaussianMixture1(nothing, marginals[:w_1], marginals[:m_2], marginals[:w_2], marginals[:z_18], ProbabilityDistribution(PointMass, m=data[:y][18]))\n",
      "messages[6] = ruleSPEqualityGaussian(messages[5], nothing, messages[4])\n",
      "messages[7] = ruleVBGaussianMixture1(nothing, marginals[:w_1], marginals[:m_2], marginals[:w_2], marginals[:z_17], ProbabilityDistribution(PointMass, m=data[:y][17]))\n",
      "messages[8] = ruleSPEqualityGaussian(messages[7], nothing, messages[6])\n",
      "messages[9] = ruleVBGaussianMixture1(nothing, marginals[:w_1], marginals[:m_2], marginals[:w_2], marginals[:z_16], ProbabilityDistribution(PointMass, m=data[:y][16]))\n",
      "messages[10] = ruleSPEqualityGaussian(messages[9], nothing, messages[8])\n",
      "messages[11] = ruleVBGaussianMixture1(nothing, marginals[:w_1], marginals[:m_2], marginals[:w_2], marginals[:z_15], ProbabilityDistribution(PointMass, m=data[:y][15]))\n",
      "messages[12] = ruleSPEqualityGaussian(messages[11], nothing, messages[10])\n",
      "messages[13] = ruleVBGaussianMixture1(nothing, marginals[:w_1], marginals[:m_2], marginals[:w_2], marginals[:z_14], ProbabilityDistribution(PointMass, m=data[:y][14]))\n",
      "messages[14] = ruleSPEqualityGaussian(messages[13], nothing, messages[12])\n",
      "messages[15] = ruleVBGaussianMixture1(nothing, marginals[:w_1], marginals[:m_2], marginals[:w_2], marginals[:z_13], ProbabilityDistribution(PointMass, m=data[:y][13]))\n",
      "messages[16] = ruleSPEqualityGaussian(messages[15], nothing, messages[14])\n",
      "messages[17] = ruleVBGaussianMixture1(nothing, marginals[:w_1], marginals[:m_2], marginals[:w_2], marginals[:z_12], ProbabilityDistribution(PointMass, m=data[:y][12]))\n",
      "messages[18] = ruleSPEqualityGaussian(messages[17], nothing, messages[16])\n",
      "messages[19] = ruleVBGaussianMixture1(nothing, marginals[:w_1], marginals[:m_2], marginals[:w_2], marginals[:z_11], ProbabilityDistribution(PointMass, m=data[:y][11]))\n",
      "messages[20] = ruleSPEqualityGaussian(messages[19], nothing, messages[18])\n",
      "messages[21] = ruleVBGaussianMixture1(nothing, marginals[:w_1], marginals[:m_2], marginals[:w_2], marginals[:z_10], ProbabilityDistribution(PointMass, m=data[:y][10]))\n",
      "messages[22] = ruleSPEqualityGaussian(messages[21], nothing, messages[20])\n",
      "messages[23] = ruleVBGaussianMixture1(nothing, marginals[:w_1], marginals[:m_2], marginals[:w_2], marginals[:z_9], ProbabilityDistribution(PointMass, m=data[:y][9]))\n",
      "messages[24] = ruleSPEqualityGaussian(messages[23], nothing, messages[22])\n",
      "messages[25] = ruleVBGaussianMixture1(nothing, marginals[:w_1], marginals[:m_2], marginals[:w_2], marginals[:z_8], ProbabilityDistribution(PointMass, m=data[:y][8]))\n",
      "messages[26] = ruleSPEqualityGaussian(messages[25], nothing, messages[24])\n",
      "messages[27] = ruleVBGaussianMixture1(nothing, marginals[:w_1], marginals[:m_2], marginals[:w_2], marginals[:z_7], ProbabilityDistribution(PointMass, m=data[:y][7]))\n",
      "messages[28] = ruleSPEqualityGaussian(messages[27], nothing, messages[26])\n",
      "messages[29] = ruleVBGaussianMixture1(nothing, marginals[:w_1], marginals[:m_2], marginals[:w_2], marginals[:z_6], ProbabilityDistribution(PointMass, m=data[:y][6]))\n",
      "messages[30] = ruleSPEqualityGaussian(messages[29], nothing, messages[28])\n",
      "messages[31] = ruleVBGaussianMixture1(nothing, marginals[:w_1], marginals[:m_2], marginals[:w_2], marginals[:z_5], ProbabilityDistribution(PointMass, m=data[:y][5]))\n",
      "messages[32] = ruleSPEqualityGaussian(messages[31], nothing, messages[30])\n",
      "messages[33] = ruleVBGaussianMixture1(nothing, marginals[:w_1], marginals[:m_2], marginals[:w_2], marginals[:z_4], ProbabilityDistribution(PointMass, m=data[:y][4]))\n",
      "messages[34] = ruleSPEqualityGaussian(messages[33], nothing, messages[32])\n",
      "messages[35] = ruleVBGaussianMixture1(nothing, marginals[:w_1], marginals[:m_2], marginals[:w_2], marginals[:z_3], ProbabilityDistribution(PointMass, m=data[:y][3]))\n",
      "messages[36] = ruleSPEqualityGaussian(messages[35], nothing, messages[34])\n",
      "messages[37] = ruleVBGaussianMixture1(nothing, marginals[:w_1], marginals[:m_2], marginals[:w_2], marginals[:z_2], ProbabilityDistribution(PointMass, m=data[:y][2]))\n",
      "messages[38] = ruleSPEqualityGaussian(messages[37], nothing, messages[36])\n",
      "messages[39] = ruleVBGaussianMixture1(nothing, marginals[:w_1], marginals[:m_2], marginals[:w_2], marginals[:z_1], ProbabilityDistribution(PointMass, m=data[:y][1]))\n",
      "messages[40] = ruleSPEqualityGaussian(nothing, messages[39], messages[38])\n",
      "\n",
      "marginals[:m_1] = messages[1].dist * messages[40].dist\n",
      "\n",
      "return marginals\n",
      "\n",
      "end\n"
     ]
    }
   ],
   "source": [
    "println(algo_q_m_1)"
   ]
  },
  {
   "cell_type": "code",
   "execution_count": 5,
   "metadata": {},
   "outputs": [],
   "source": [
    "# Load algorithms\n",
    "eval(parse(algo_q_m_1))\n",
    "eval(parse(algo_q_w_1))\n",
    "eval(parse(algo_q_m_2))\n",
    "eval(parse(algo_q_w_2))\n",
    "eval(parse(algo_q_z))\n",
    "eval(parse(algo_F))\n",
    ";"
   ]
  },
  {
   "cell_type": "code",
   "execution_count": 6,
   "metadata": {},
   "outputs": [],
   "source": [
    "# Generate toy dataset\n",
    "y = Vector{Float64}(n)\n",
    "m_1_true = -1.0\n",
    "w_1_true = 0.5\n",
    "m_2_true = 1.0\n",
    "w_2_true = 2.0\n",
    "\n",
    "z_true = rand(n)\n",
    "for i = 1:n\n",
    "    if z_true[i] > 0.5\n",
    "        y[i] = sqrt(1/w_1_true)*randn() + m_1_true\n",
    "    else\n",
    "        y[i] = sqrt(1/w_2_true)*randn() + m_2_true\n",
    "    end\n",
    "end\n",
    "data = Dict(:y => y)\n",
    "\n",
    "# Prepare recognition distributions\n",
    "marginals = Dict(:m_1 => vague(ProbabilityDistribution{Gaussian}),\n",
    "                 :w_1 => vague(ProbabilityDistribution{Gamma}),\n",
    "                 :m_2 => vague(ProbabilityDistribution{Gaussian}),\n",
    "                 :w_2 => vague(ProbabilityDistribution{Gamma}))\n",
    "for i = 1:n\n",
    "    marginals[:z_*i] = vague(ProbabilityDistribution{Bernoulli})\n",
    "end\n",
    "\n",
    "# Execute algorithm\n",
    "n_its = 2*n\n",
    "F = Vector{Float64}(n_its)\n",
    "for i = 1:n_its\n",
    "    stepM1!(data, marginals)\n",
    "    stepW1!(data, marginals)\n",
    "    stepM2!(data, marginals)\n",
    "    stepW2!(data, marginals)\n",
    "    stepZ!(data, marginals)\n",
    "    F[i] = freeEnergy(data, marginals)\n",
    "end"
   ]
  },
  {
   "cell_type": "code",
   "execution_count": 7,
   "metadata": {},
   "outputs": [
    {
     "data": {
      "image/png": "[encoded data removed]",
      "text/plain": [
       "PyPlot.Figure(PyObject <matplotlib.figure.Figure object at 0x7fdf4c2e4b50>)"
      ]
     },
     "metadata": {},
     "output_type": "display_data"
    },
    {
     "data": {
      "text/plain": [
       "PyObject <matplotlib.text.Text object at 0x7fdf4befac10>"
      ]
     },
     "execution_count": 7,
     "metadata": {},
     "output_type": "execute_result"
    }
   ],
   "source": [
    "# Plot free energy to check for convergence\n",
    "plot(1:n_its, F)\n",
    "grid(\"on\")\n",
    "xlabel(\"Iteration\")\n",
    "ylabel(\"F\")"
   ]
  },
  {
   "cell_type": "code",
   "execution_count": 8,
   "metadata": {},
   "outputs": [
    {
     "name": "stdout",
     "output_type": "stream",
     "text": [
      "True m_1: -1.0\n",
      "True w_1: 0.5\n",
      "True m_2: 1.0\n",
      "True w_2: 2.0\n",
      "Number of samples: 20\n",
      "Sample m_1: -0.76\n",
      "Sample w_1: 0.26\n",
      "Sample m_2: 0.8\n",
      "Sample w_2: 1.37\n",
      "\n",
      "----- Estimates after 40 VMP updates -----\n",
      "m_1 estimate: 0.67, with variance 0.08\n",
      "w_1 estimate: 1.14, with variance 0.24\n",
      "m_2 estimate: -0.24, with variance 0.41\n",
      "w_2 estimate: 0.27, with variance 0.02\n"
     ]
    }
   ],
   "source": [
    "# Inspect the results\n",
    "println(\"True m_1: $(m_1_true)\")\n",
    "println(\"True w_1: $(w_1_true)\")\n",
    "println(\"True m_2: $(m_2_true)\")\n",
    "println(\"True w_2: $(w_2_true)\")\n",
    "println(\"Number of samples: $(n)\")\n",
    "println(\"Sample m_1: $(round(mean(y[z_true .> 0.5]),2))\")\n",
    "println(\"Sample w_1: $(round(1/var(y[z_true .> 0.5]),2))\")\n",
    "println(\"Sample m_2: $(round(mean(y[z_true .<= 0.5]),2))\")\n",
    "println(\"Sample w_2: $(round(1/var(y[z_true .<= 0.5]),2))\")\n",
    "println(\"\\n----- Estimates after $(n_its) VMP updates -----\")\n",
    "println(\"m_1 estimate: $(round(mean(marginals[:m_1]),2)), with variance $(round(var(marginals[:m_1]),2))\")\n",
    "println(\"w_1 estimate: $(round(mean(marginals[:w_1]),2)), with variance $(round(var(marginals[:w_1]),2))\")\n",
    "println(\"m_2 estimate: $(round(mean(marginals[:m_2]),2)), with variance $(round(var(marginals[:m_2]),2))\")\n",
    "println(\"w_2 estimate: $(round(mean(marginals[:w_2]),2)), with variance $(round(var(marginals[:w_2]),2))\")"
   ]
  },
  {
   "cell_type": "code",
   "execution_count": null,
   "metadata": {
    "collapsed": true
   },
   "outputs": [],
   "source": []
  }
 ],
 "metadata": {
  "kernelspec": {
   "display_name": "Julia 0.5.0",
   "language": "julia",
   "name": "julia-0.5"
  },
  "language_info": {
   "file_extension": ".jl",
   "mimetype": "application/julia",
   "name": "julia",
   "version": "0.5.0"
  }
 },
 "nbformat": 4,
 "nbformat_minor": 1
}
