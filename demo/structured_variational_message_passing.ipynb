{
 "metadata": {
  "language": "Julia",
  "name": "",
  "signature": "sha256:6442454ca9e24c298b4ca42e636997285d2b0ca5de8d3c39f01c61e46e1a1c2d"
 },
 "nbformat": 3,
 "nbformat_minor": 0,
 "worksheets": [
  {
   "cells": [
    {
     "cell_type": "markdown",
     "metadata": {},
     "source": [
      "Structured variational message passing demo\n",
      "===\n",
      "\n",
      "VMP under the mean field approximation tends to be overconfident in the precision estimation. In the structured VMP (SVMP) method, the factorization of q is less constrained. SVMP allows arbitrary factorizations of the approximating `q` distribution. The factorization defines subgraphs (regions) with internal and external edges (Dauwels 2007). Internal edges carry standard sum-product messages while external edges and their connected nodes carry (joint) marginals.\n",
      "\n",
      "As an example case to illustrate and test our SVMP implementation in ForneyLab, we estimate the mean and variance of samples drawn from a Gaussian distribution. We factorize the approximating distribution as `q(m,gam,y)=q(m,gam)q(y)`. While the VMP approximation with the full factorization `q(m)q(gam)` lives under the true posterior, the joint `q(m,gam)` factor in SVMP will fit the true posterior better.\n",
      "\n",
      "A graph representation for multiple samples simultaneously introduces cycles in the `q(m, gam)` subgraph, which is against the assumptions for a variational algorithm. We have to resort to an online estimation, taking one sample at a time. The subgraph definitions are as follows:\n",
      "\n",
      "```\n",
      "         gam_0        gam_1       \n",
      "[T]---------------[=]------>[T] \n",
      "    m_0      m_1   |            \n",
      "[T]---->[=]--------|------->[T]      .         .\n",
      "         |         |                 .q(m, gam).\n",
      "       m --->[N]<--- gam             . .>[N]<. .\n",
      "              .                           |\n",
      "              . q(y)                      | y\n",
      "              v                           v\n",
      "                                         [T]\n",
      "```\n",
      "\n",
      "We begin by implementing the graph in ForneyLab and defining the structured factoriation. Note that the edges for `m` and `gam` now belong to the same subgraph."
     ]
    },
    {
     "cell_type": "code",
     "collapsed": false,
     "input": [
      "#include(\"../../ForneyLab.jl/src/ForneyLab.jl\")\n",
      "using(ForneyLab)\n",
      "\n",
      "# Initialize nodes and edges\n",
      "g_node = GaussianNode(; name=\"g_node\", form=\"precision\")\n",
      "m_eq_node = EqualityNode(; name=\"m_eq_node\") # Equality node for mean\n",
      "gam_eq_node = EqualityNode(; name=\"gam_eq_node\") # Equality node for precision\n",
      "y_node = TerminalNode(GaussianDistribution(), name=\"y_node\") # Observed y values are stored in y_node\n",
      "y_edge = Edge(g_node.out, y_node.out, GaussianDistribution)\n",
      "m_edge = Edge(m_eq_node.interfaces[3], g_node.mean, GaussianDistribution)\n",
      "gam_edge = Edge(gam_eq_node.interfaces[3], g_node.precision, GammaDistribution)\n",
      "\n",
      "# Attach beginning and end nodes\n",
      "m_0_node = TerminalNode(GaussianDistribution(m=0.0, V=100.0)) # Prior\n",
      "gam_0_node = TerminalNode(GammaDistribution(a=0.01, b=0.01)) # Prior\n",
      "m_N_node = TerminalNode(uninformative(GaussianDistribution)) # Neutral 'one' message\n",
      "gam_N_node = TerminalNode(uninformative(GammaDistribution)) # Neutral 'one' message\n",
      "m_0_eq_edge = Edge(m_0_node.out, m_eq_node.interfaces[1], GaussianDistribution)\n",
      "gam_0_eq_edge = Edge(gam_0_node.out, gam_eq_node.interfaces[1], GammaDistribution)\n",
      "m_N_eq_edge = Edge(m_eq_node.interfaces[2], m_N_node.out, GaussianDistribution)\n",
      "gam_N_eq_edge = Edge(gam_eq_node.interfaces[2], gam_N_node.out, GammaDistribution);"
     ],
     "language": "python",
     "metadata": {},
     "outputs": [],
     "prompt_number": 1
    },
    {
     "cell_type": "markdown",
     "metadata": {},
     "source": [
      "Now we need to specify the factorization, update schedules for both subgraphs and set the uninformative marginals."
     ]
    },
    {
     "cell_type": "code",
     "collapsed": false,
     "input": [
      "# Define the structured factorization\n",
      "factorize!(y_edge)\n",
      "\n",
      "# Update schedules for q(m, gam) subgraph\n",
      "m_gam_subgraph = getSubgraph(m_edge)\n",
      "generateSchedule!(m_gam_subgraph)\n",
      "# Update schedules for q(y) subgraph\n",
      "y_subgraph = getSubgraph(y_edge)\n",
      "generateSchedule!(y_subgraph)\n",
      "\n",
      "# Preset the uninformative marginals\n",
      "setUninformativeMarginals!();"
     ],
     "language": "python",
     "metadata": {},
     "outputs": [],
     "prompt_number": 2
    },
    {
     "cell_type": "markdown",
     "metadata": {},
     "source": [
      "Next we generate some data and specify the number of VMP iterations."
     ]
    },
    {
     "cell_type": "code",
     "collapsed": false,
     "input": [
      "true_mean = 5.0\n",
      "true_prec = 0.5\n",
      "n_samples = 100 # Draw 100 samples\n",
      "data = randn(n_samples)*(1/sqrt(true_prec))+true_mean\n",
      "n_its = 10 # Number of VMP iterations per data point;"
     ],
     "language": "python",
     "metadata": {},
     "outputs": [],
     "prompt_number": 3
    },
    {
     "cell_type": "markdown",
     "metadata": {},
     "source": [
      "Now the setup is done and we can start the iterations."
     ]
    },
    {
     "cell_type": "code",
     "collapsed": false,
     "input": [
      "for sample = 1:n_samples\n",
      "    # Reset\n",
      "    y_node.value = GaussianDistribution(m = data[sample], W=10.0) # Sample with measurement noise\n",
      "\n",
      "    # Do the VMP iterations\n",
      "    for it = 1:n_its\n",
      "        # Update q(y)\n",
      "        executeSchedule(y_subgraph)\n",
      "        # Update q(m, gam)\n",
      "        executeSchedule(m_gam_subgraph)\n",
      "    end\n",
      "    # Make sure the messages get propagated to the right\n",
      "    executeSchedule([g_node.precision, g_node.mean, m_N_node.out.partner, gam_N_node.out.partner])\n",
      "\n",
      "    # Switch posterior to prior for next sample\n",
      "    m_0_node.value = deepcopy(m_N_node.out.partner.message.payload)\n",
      "    gam_0_node.value = deepcopy(gam_N_node.out.partner.message.payload)\n",
      "end\n",
      "\n",
      "m_out = m_N_node.out.partner.message.payload\n",
      "gam_out = gam_N_node.out.partner.message.payload;"
     ],
     "language": "python",
     "metadata": {},
     "outputs": [],
     "prompt_number": 4
    },
    {
     "cell_type": "markdown",
     "metadata": {},
     "source": [
      "Let's inspect the results."
     ]
    },
    {
     "cell_type": "code",
     "collapsed": false,
     "input": [
      "println(\"True mean: $(true_mean)\")\n",
      "println(\"True precision: $(true_prec)\")\n",
      "println(\"Number of samples: $(n_samples)\")\n",
      "println(\"Sample mean: $(mean(data))\")\n",
      "println(\"Sample precision: $(1/var(data))\")\n",
      "println(\"\\n----- Online estimation after $(n_its) VMP updates per sample -----\")\n",
      "println(\"Mean estimate: $(mean(m_out)[1]), with variance $(var(m_out)[1])\")\n",
      "println(\"Precision estimate: $(mean(gam_out)), with variance $(var(gam_out))\")"
     ],
     "language": "python",
     "metadata": {},
     "outputs": [
      {
       "output_type": "stream",
       "stream": "stdout",
       "text": [
        "True mean: 5.0\n"
       ]
      },
      {
       "output_type": "stream",
       "stream": "stdout",
       "text": [
        "True precision: 0.5\n",
        "Number of samples: 100\n",
        "Sample mean: 4.989765129361186\n",
        "Sample precision: 0.590663236059063\n",
        "\n",
        "----- Online estimation after 10 VMP updates per sample -----\n",
        "Mean estimate: 4.955587564899852, with variance 0.024041337372203618\n",
        "Precision estimate: 0.541110795203855, with variance 0.005854846884346098\n"
       ]
      }
     ],
     "prompt_number": 7
    },
    {
     "cell_type": "code",
     "collapsed": false,
     "input": [],
     "language": "python",
     "metadata": {},
     "outputs": []
    }
   ],
   "metadata": {}
  }
 ]
}