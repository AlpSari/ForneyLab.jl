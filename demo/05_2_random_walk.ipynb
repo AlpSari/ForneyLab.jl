{
 "metadata": {
  "language": "Julia",
  "name": "",
  "signature": "sha256:65b7fff699bd8d549912ab2583a5abc4eea60fa64bd7cca9a38caf4bcc568519"
 },
 "nbformat": 3,
 "nbformat_minor": 0,
 "worksheets": [
  {
   "cells": [
    {
     "cell_type": "markdown",
     "metadata": {},
     "source": [
      "Generating samples from a random walk model\n",
      "=====\n",
      "\n",
      "Instead of estimating the expectation over all paths as in the previous demo, we can also sample data from the model by drawing a sample after each step. We start by building the same model as before."
     ]
    },
    {
     "cell_type": "code",
     "collapsed": false,
     "input": [
      "# Load ForneyLab.jl\n",
      "using ForneyLab\n",
      "\n",
      "graph = FactorGraph()\n",
      "\n",
      "# Basic settings\n",
      "n_steps = 50  # Total number of timesteps.\n",
      "m_noise = 0.0 # Mean of the noise, corresponds with a drift of X.\n",
      "V_noise = 1.0 # Variance of the Gaussian noise.\n",
      "m_0     = 0.0 # Initial setting for the state X at n=0;\n",
      "\n",
      "# Initialize and connect nodes\n",
      "X_n_min_1_node = TerminalNode(DeltaDistribution([m_0]), name=\"X_n_min_1\") # Initial state\n",
      "X_n_node       = TerminalNode(name=\"X_n\")\n",
      "N_node     = TerminalNode(GaussianDistribution(m=m_noise, V=V_noise), name=\"N\") # Constant noise\n",
      "add_node       = AdditionNode()\n",
      "\n",
      "Edge(X_n_min_1_node.out, add_node.in1)\n",
      "Edge(N_node.out, add_node.in2)\n",
      "Edge(add_node.out, X_n_node.out)\n",
      "\n",
      "addTimeWrap(X_n_node, X_n_min_1_node)\n",
      "\n",
      "X = setWriteBuffer(add_node.out)\n",
      "generateSchedule!();"
     ],
     "language": "python",
     "metadata": {},
     "outputs": [],
     "prompt_number": 1
    },
    {
     "cell_type": "markdown",
     "metadata": {},
     "source": [
      "But now instead of invoking the `sum_product` update, we make a `sample` update."
     ]
    },
    {
     "cell_type": "code",
     "collapsed": false,
     "input": [
      "graph.factorization[1].internal_schedule[end].summary_operation = \"sample\";"
     ],
     "language": "python",
     "metadata": {},
     "outputs": [
      {
       "metadata": {},
       "output_type": "pyout",
       "prompt_number": 2,
       "text": [
        "\"sample\""
       ]
      }
     ],
     "prompt_number": 2
    },
    {
     "cell_type": "markdown",
     "metadata": {},
     "source": [
      "We run the same updates as before."
     ]
    },
    {
     "cell_type": "code",
     "collapsed": false,
     "input": [
      "for n = 1:n_steps\n",
      "    step()\n",
      "end"
     ],
     "language": "python",
     "metadata": {},
     "outputs": [
      {
       "ename": "LoadError",
       "evalue": "type DeltaDistribution has no field V\nwhile loading In[3], in expression starting on line 1",
       "output_type": "pyerr",
       "traceback": [
        "type DeltaDistribution has no field V\nwhile loading In[3], in expression starting on line 1",
        "",
        " in updateNodeMessage! at /home/thijs/.julia/v0.3/ForneyLab/src/nodes/addition.jl:85",
        " in updateNodeMessage! at /home/thijs/.julia/v0.3/ForneyLab/src/nodes/addition.jl:195",
        " in updateNodeMessage! at /home/thijs/.julia/v0.3/ForneyLab/src/message_passing.jl:92",
        " in executeSchedule at /home/thijs/.julia/v0.3/ForneyLab/src/message_passing.jl:120",
        " in executeSchedule at /home/thijs/.julia/v0.3/ForneyLab/src/message_passing.jl:138",
        " in step at /home/thijs/.julia/v0.3/ForneyLab/src/step.jl:54",
        " in step at /home/thijs/.julia/v0.3/ForneyLab/src/step.jl:46",
        " in anonymous at no file:2"
       ]
      }
     ],
     "prompt_number": 3
    }
   ],
   "metadata": {}
  }
 ]
}