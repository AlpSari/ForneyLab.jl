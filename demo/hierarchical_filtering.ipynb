{
 "metadata": {
  "language": "Julia",
  "name": "",
  "signature": "sha256:c7ba2fee574a8473ad9b59cb24cb1c80b2af170758169f950153821b46295b3b"
 },
 "nbformat": 3,
 "nbformat_minor": 0,
 "worksheets": [
  {
   "cells": [
    {
     "cell_type": "markdown",
     "metadata": {},
     "source": [
      "#Hierarchical filtering\n",
      "\n",
      "This demo demonstrates a hierarchical filtering implementation with ForneyLab. We model a layered random walk, where the emission of a higher layer determines the precision of a lower layer. "
     ]
    },
    {
     "cell_type": "markdown",
     "metadata": {},
     "source": [
      "##The generative model"
     ]
    },
    {
     "cell_type": "code",
     "collapsed": false,
     "input": [
      "using ForneyLab\n",
      "\n",
      "# Layer 1\n",
      "l1_x_k_min_node = TerminalNode(name=\"l1_x_k_min\") # Observed signal\n",
      "l1_x_k_node = TerminalNode(vague(GaussianDistribution), name=\"l1_x_k\")\n",
      "l1_add_node = AdditionNode(name=\"l1_add\")\n",
      "l1_log_node = LogarithmicNode(name=\"l1_log\")\n",
      "l1_g_node = GaussianNode(form=\"precision\", name=\"l1_g\")\n",
      "l1_mean_node = TerminalNode(GaussianDistribution(m=0.0, V=tiny()), name=\"l1_mean\")\n",
      "Edge(l1_x_k_min_node.out, l1_add_node.in1)\n",
      "Edge(l1_add_node.out, l1_x_k_node.out)\n",
      "Edge(l1_log_node.out, l1_g_node.precision)\n",
      "Edge(l1_g_node.out, l1_add_node.in1)\n",
      "Edge(l1_mean_node.out, l1_g_node.mean)\n",
      "\n",
      "# Layer 2\n",
      "l2_x_k_min_node = TerminalNode(name=\"l2_x_k_min\")\n",
      "l2_x_k_node = TerminalNode(vague(GaussianDistribution), name=\"l2_x_k\")\n",
      "l2_add_node = AdditionNode(name=\"l2_add\")\n",
      "l2_eq_node = EqualityNode(name=\"l2_eq\")\n",
      "l2_log_node = LogarithmicNode(name=\"l2_log\")\n",
      "l2_g_node = GaussianNode(form=\"precision\", name=\"l2_g\")\n",
      "l2_mean_node = TerminalNode(GaussianDistribution(m=0.0, V=tiny()), name=\"l2_mean\")\n",
      "Edge(l2_eq_node.interfaces[3], l1_log_node.in1)\n",
      "Edge(l2_add_node.out, l2_eq_node.interfaces[1])\n",
      "Edge(l2_eq_node.interfaces[2], l2_x_k_node.out)\n",
      "Edge(l2_x_k_min_node.out, l2_add_node.in1)\n",
      "Edge(l2_log_node.out, l2_g_node.precision)\n",
      "Edge(l2_g_node.out, l2_add_node.in1)\n",
      "Edge(l2_mean_node.out, l2_g_node.mean)\n",
      "\n",
      "# Layer 3\n",
      "theta_k_min_node = TerminalNode(name=\"theta_k_min\")\n",
      "theta_k_node = TerminalNode(vague(GaussianDistribution), name=\"theta_k\")\n",
      "l3_eq_node = EqualityNode(name=\"l3_eq\")\n",
      "Edge(l3_eq_node.interfaces[3], l2_log_node.in1)\n",
      "Edge(l3_eq_node.interfaces[2], theta_k_node.out)\n",
      "Edge(theta_k_min_node.out, l3_eq_node.interfaces[1])"
     ],
     "language": "python",
     "metadata": {},
     "outputs": []
    },
    {
     "cell_type": "markdown",
     "metadata": {},
     "source": [
      "##Gain estimation"
     ]
    },
    {
     "cell_type": "code",
     "collapsed": false,
     "input": [
      "# Connect gain chains\n",
      "addTimeWrap(l1_x_k_node, l1_x_k_min_node)\n",
      "addTimeWrap(l2_x_k_node, l2_x_k_min_node)\n",
      "addTimeWrap(theta_k_node, theta_k_min_node)\n",
      "\n",
      "graphViz()"
     ],
     "language": "python",
     "metadata": {},
     "outputs": []
    }
   ],
   "metadata": {}
  }
 ]
}