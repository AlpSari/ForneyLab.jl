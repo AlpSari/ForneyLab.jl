{
 "cells": [
  {
   "cell_type": "markdown",
   "metadata": {},
   "source": [
    "Online state estimation for random walk example\n",
    "===\n",
    "This demo implements the state estimation for a random walk with Gaussian noise. Along the way we will use the `wrap` concept and make use of write buffers. \n",
    "\n",
    "Let our estimation of the state $X[n]$ be a univariate Gaussian distribution with mean $m$ and variance $V$ at time index $n$. At each consecutive timestep we update $X[n]$ by adding a constant Gaussian noise `N`, with mean `m_noise` and variance `V_noise`. We want to estimate the mean and variance for `X` at a final timestep `n=n_steps`. \n",
    "\n",
    "```\n",
    "           [N]\n",
    "            |   \n",
    "    X[n-1]  v  X[n]\n",
    "   ------->[+]----->\n",
    "```\n",
    "\n",
    "We start by including the ForneyLab.jl toolbox and initializing these basic settings."
   ]
  },
  {
   "cell_type": "code",
   "execution_count": null,
   "metadata": {
    "collapsed": false
   },
   "outputs": [],
   "source": [
    "# Load PyPlot and ForneyLab.jl\n",
    "using PyPlot\n",
    "using ForneyLab\n",
    "\n",
    "# Basic settings\n",
    "n_steps = 50  # Total number of timesteps.\n",
    "m_noise = 0.0 # Mean of the noise, corresponds with a drift of X.\n",
    "V_noise = 1.0 # Variance of the Gaussian noise.\n",
    "X_0     = DeltaDistribution(0.0) # Initial setting for the state X at n=0;"
   ]
  },
  {
   "cell_type": "markdown",
   "metadata": {},
   "source": [
    "The graph we will construct models one step in the random walk process. There are two ways to set up the nodes. Either initialize one timestep and feed the output back to the input, or build a chain by initializing all timesteps and connecting them to form the complete graph. We will choose the first option in this demo."
   ]
  },
  {
   "cell_type": "code",
   "execution_count": null,
   "metadata": {
    "collapsed": false
   },
   "outputs": [],
   "source": [
    "# Initialize and connect nodes\n",
    "X_n_min_1_node = PriorNode(X_0, name=\"X_n_min_1\") # Initial state\n",
    "X_n_node       = TerminalNode(name=\"X_n\")\n",
    "N_node         = PriorNode(GaussianDistribution(m=m_noise, V=V_noise), name=\"N\") # Constant noise\n",
    "add_node       = AdditionNode(name=\"add\")\n",
    "\n",
    "Edge(X_n_min_1_node, add_node.i[:in1])\n",
    "Edge(N_node, add_node.i[:in2])\n",
    "Edge(add_node.i[:out], X_n_node);"
   ]
  },
  {
   "cell_type": "markdown",
   "metadata": {},
   "source": [
    "Now we need to indicate that the output at the right is actually the input for the next section. We do so by defining a `wrap()`:"
   ]
  },
  {
   "cell_type": "code",
   "execution_count": null,
   "metadata": {
    "collapsed": false
   },
   "outputs": [],
   "source": [
    "wrap(X_n_node, X_n_min_1_node);"
   ]
  },
  {
   "cell_type": "markdown",
   "metadata": {},
   "source": [
    "Now when we visualize the graph, we notice the green arrow indicating the presence of wrap in time."
   ]
  },
  {
   "cell_type": "code",
   "execution_count": null,
   "metadata": {
    "collapsed": false
   },
   "outputs": [],
   "source": [
    "draw()"
   ]
  },
  {
   "cell_type": "markdown",
   "metadata": {},
   "source": [
    "The quantity we are interested in is the state of `x`. We can tell ForneyLab to store the online state estimate for each timepoint by initializing a write buffer."
   ]
  },
  {
   "cell_type": "code",
   "execution_count": null,
   "metadata": {
    "collapsed": false
   },
   "outputs": [],
   "source": [
    "X = setWriteBuffer(add_node.i[:out]);"
   ]
  },
  {
   "cell_type": "markdown",
   "metadata": {},
   "source": [
    "We also need to define an inference algorithm. With the write buffer set, `SumProduct.Algorithm()` will automatically initialize a sumproduct algorithm that passes messages towards the wraps and write buffers defined on the graph."
   ]
  },
  {
   "cell_type": "code",
   "execution_count": null,
   "metadata": {
    "collapsed": false
   },
   "outputs": [],
   "source": [
    "algo = SumProduct.Algorithm()"
   ]
  },
  {
   "cell_type": "markdown",
   "metadata": {},
   "source": [
    "Now our graph is ready for state estimation. We call the `step()` function on our algorithm `n_steps` times. Each call to `step()` executes the schedule, writes to the buffer and resets the graph for the next step."
   ]
  },
  {
   "cell_type": "code",
   "execution_count": null,
   "metadata": {
    "collapsed": false
   },
   "outputs": [],
   "source": [
    "for n = 1:n_steps\n",
    "    step(algo)\n",
    "end"
   ]
  },
  {
   "cell_type": "markdown",
   "metadata": {},
   "source": [
    "Our calculated state has been written to our buffer. We can extract the mean and standard deviation and plot the result."
   ]
  },
  {
   "cell_type": "code",
   "execution_count": null,
   "metadata": {
    "collapsed": false
   },
   "outputs": [],
   "source": [
    "# Extract mean and standard deviation\n",
    "X_means = [mean(X_n)[1] for X_n in [X_0, X]]\n",
    "X_sds = [sqrt(var(X_n)[1,1]) for X_n in [X_0, X]]\n",
    "\n",
    "# Make plot\n",
    "plot([0:n_steps], X_means, \"b-\")\n",
    "fill_between([0:n_steps], X_means-X_sds, X_means+X_sds, color=\"b\", alpha=0.3)\n",
    "xlabel(\"n\")\n",
    "ylabel(\"X[n]\")\n",
    "grid(true)"
   ]
  },
  {
   "cell_type": "markdown",
   "metadata": {},
   "source": [
    "#Sampling a random walk path\n",
    "\n",
    "Instead of estimating the expectation over all paths as in the previous section, we can also sample data from the model by drawing a sample after each step. For this we need to specify a `sample()` post-processing operation at the end of each section.\n",
    "\n",
    "Note that we do not alter the graph structure but simply construct a new sumproduct algorithm with an altered schedule."
   ]
  },
  {
   "cell_type": "code",
   "execution_count": null,
   "metadata": {
    "collapsed": false
   },
   "outputs": [],
   "source": [
    "# Define a new algorithm and edit the schedule entry that should draw a sample\n",
    "clearMessages!()\n",
    "algo2 = SumProduct.Algorithm()\n",
    "schedule = algo2.fields[:schedule]\n",
    "setPostProcessing!(schedule, X_n_node.i[:out].partner, sample) # Specify the sample function as post-processing\n",
    "show(schedule)"
   ]
  },
  {
   "cell_type": "code",
   "execution_count": null,
   "metadata": {
    "collapsed": false
   },
   "outputs": [],
   "source": [
    "# Reset the starting point and write buffers\n",
    "X_n_min_1_node.value = X_0\n",
    "emptyWriteBuffers()\n",
    "\n",
    "# Execute the mew schedule\n",
    "for n = 1:n_steps\n",
    "    step(algo2)\n",
    "end\n",
    "\n",
    "# Plot the samples\n",
    "X_vals = [mean(X_n)[1] for X_n in X]\n",
    "scatter(1:n_steps, X_vals)\n",
    "xlabel(\"n\")\n",
    "ylabel(\"X[n]\")\n",
    "grid(true)"
   ]
  }
 ],
 "metadata": {
  "kernelspec": {
   "display_name": "Julia 0.3.6",
   "language": "julia",
   "name": "julia 0.3"
  },
  "language_info": {
   "name": "julia",
   "version": "0.3.8"
  }
 },
 "nbformat": 4,
 "nbformat_minor": 0
}
