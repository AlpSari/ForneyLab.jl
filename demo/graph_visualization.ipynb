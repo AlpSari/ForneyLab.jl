{
 "metadata": {
  "language": "Julia",
  "name": "",
  "signature": "sha256:653471d140fac463eff50e09d0c8220bab16d436419e950bb9ed45118f790ad0"
 },
 "nbformat": 3,
 "nbformat_minor": 0,
 "worksheets": [
  {
   "cells": [
    {
     "cell_type": "markdown",
     "metadata": {},
     "source": [
      "Graph visualization\n",
      "===================\n",
      "\n",
      "ForneyLab includes some functions to visualize graphs. This can be useful for debugging or inspecting (large) graphs. \n",
      "\n",
      "If you want to be able to use the graph visualization functions, [GraphViz](http://www.graphviz.org/) should be installed. On Linux, just use `apt-get install graphviz` or `yum install graphviz`. For Windows, download the [installer](http://www.graphviz.org/Download_windows.php) from the website.\n",
      "\n",
      "Functions\n",
      "---------\n",
      "\n",
      "- `graphViz()` opens an interactive inspector to view the graph. It may be used in 3 different ways:\n",
      "    * `graphViz(seed_node::Node)` will visualize the graph connected to the `seed_node`. Composite node boundaries will not be crossed.\n",
      "    * `graphViz(nodes::Array{Node,1})` will visualize `nodes` and all the edges between them.\n",
      "    * `graphViz(composite_node::CompositeNode)` will visualize the internal graph of a `CompositeNode`.\n",
      "- `graphPdf(*, filename)` writes the visualization to a PDF file. The first argument is the same as for `graphViz()`.\n",
      "- `graph2dot()` is used internally to create a [DOT](http://en.wikipedia.org/wiki/DOT_%28graph_description_language%29) graph for visualization. This function can be used to obtain the DOT source of the graph. The arguments of `graph2dot()` are the same of for `graphViz()`.\n",
      "\n",
      "Message status indication\n",
      "-------------------------\n",
      "The visualization indicates where messages are present in the graph. An unfilled circle in front of the message type means that the message is currently not present in the graph. A filled circle represents a present message."
     ]
    },
    {
     "cell_type": "markdown",
     "metadata": {},
     "source": [
      "Example\n",
      "-------"
     ]
    },
    {
     "cell_type": "code",
     "collapsed": false,
     "input": [
      "using ForneyLab\n",
      "\n",
      "comp = GainEqualityCompositeNode(name=\"my_composite\")\n",
      "adder = AdditionNode(name=\"adder\")\n",
      "t1   = TerminalNode(GaussianDistribution(), name=\"t1\")\n",
      "t2   = TerminalNode(GaussianDistribution(), name=\"t2\")\n",
      "t3   = TerminalNode(GaussianDistribution(), name=\"t3\")\n",
      "t4   = TerminalNode(name=\"t4\")\n",
      "Edge(t1.out, comp.in1)\n",
      "Edge(t2.out, adder.in1)\n",
      "Edge(t3.out, adder.in2)\n",
      "Edge(adder.out, comp.in2)\n",
      "Edge(comp.out, t4.out);"
     ],
     "language": "python",
     "metadata": {},
     "outputs": [],
     "prompt_number": 1
    },
    {
     "cell_type": "markdown",
     "metadata": {},
     "source": [
      "**Visualize top-level graph**"
     ]
    },
    {
     "cell_type": "code",
     "collapsed": false,
     "input": [
      "graphViz(t1)"
     ],
     "language": "python",
     "metadata": {},
     "outputs": [],
     "prompt_number": 2
    },
    {
     "cell_type": "markdown",
     "metadata": {},
     "source": [
      "**Visualize part of the graph**"
     ]
    },
    {
     "cell_type": "code",
     "collapsed": false,
     "input": [
      "graphViz([t2, t3, adder])"
     ],
     "language": "python",
     "metadata": {},
     "outputs": [],
     "prompt_number": 3
    },
    {
     "cell_type": "markdown",
     "metadata": {},
     "source": [
      "**Visualize internals of the composite node**"
     ]
    },
    {
     "cell_type": "code",
     "collapsed": false,
     "input": [
      "graphViz(comp)"
     ],
     "language": "python",
     "metadata": {},
     "outputs": [],
     "prompt_number": 4
    },
    {
     "cell_type": "markdown",
     "metadata": {},
     "source": [
      "**Perform message passing and inspect message presence in the graph**"
     ]
    },
    {
     "cell_type": "code",
     "collapsed": false,
     "input": [
      "calculateMessage!(comp.out)\n",
      "graphViz(t1)\n",
      "#graphPdf(t1, \"graph.pdf\")"
     ],
     "language": "python",
     "metadata": {},
     "outputs": [],
     "prompt_number": 5
    }
   ],
   "metadata": {}
  }
 ]
}