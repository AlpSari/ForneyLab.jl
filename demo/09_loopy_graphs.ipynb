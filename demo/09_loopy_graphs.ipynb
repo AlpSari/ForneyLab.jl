{
 "metadata": {
  "language": "Julia",
  "name": "",
  "signature": "sha256:56918ab5505d6df86a50ca349cd52de0349442ecd430d003483c62c7acf2423d"
 },
 "nbformat": 3,
 "nbformat_minor": 0,
 "worksheets": [
  {
   "cells": [
    {
     "cell_type": "markdown",
     "metadata": {},
     "source": [
      "Loopy graphs\n",
      "===\n",
      "\n",
      "The schedules demo already briefly mentioned loopy graphs. An example graph is given below.\n",
      "\n",
      "```\n",
      "    (driver)\n",
      "   -->[A]---\n",
      "   |       |\n",
      "   |      [+]<-[N]\n",
      "   |       |\n",
      "   ---[B]<--\n",
      "  (inhibitor)\n",
      "```\n",
      "\n",
      "A graph with loops must have its cycles 'opened' before a schedule can be generated. We need to set an uninformative 'breaker' message at certain interfaces to provide the autoscheduler with a place to start. The `vague()` function can be used to produce vague (broad, quite uninformative) distributions."
     ]
    },
    {
     "cell_type": "markdown",
     "metadata": {},
     "source": [
      "Calculating a message within the loop\n",
      "---\n",
      "\n",
      "Suppose we want to calculate the outgoing message on the driver node, at `driver.out`. Let's first define the graph. "
     ]
    },
    {
     "cell_type": "code",
     "collapsed": false,
     "input": [
      "using ForneyLab\n",
      "\n",
      "# Define the graph\n",
      "driver      = FixedGainNode([1.1], name=\"driver\")\n",
      "inhibitor   = FixedGainNode([0.1], name=\"inhibitor\")\n",
      "noise       = TerminalNode(GaussianDistribution(m=0.0, V=0.1), name=\"noise\")\n",
      "add         = AdditionNode(name=\"adder\")\n",
      "Edge(add.out, inhibitor.in1)\n",
      "Edge(inhibitor.out, driver.in1)\n",
      "Edge(driver.out, add.in1)\n",
      "Edge(noise.out, add.in2);"
     ],
     "language": "python",
     "metadata": {},
     "outputs": [],
     "prompt_number": 1
    },
    {
     "cell_type": "markdown",
     "metadata": {},
     "source": [
      "Generating a schedule without predefining any breaker messages will throw an error like: \n",
      "\n",
      ">Loop detected around Interface of FixedGainNode with node name driver holds message of type Nothing.\n",
      "Consider setting an initial message somewhere in this loop.\n",
      "\n",
      "Let's follow this advise and set some initial messages before generating a schedule:"
     ]
    },
    {
     "cell_type": "markdown",
     "metadata": {},
     "source": [
      "Because we want to calculate the message at the outgoing interface, we need to break the loop there as well. Let's set the breaker message and generate a schedule."
     ]
    },
    {
     "cell_type": "code",
     "collapsed": false,
     "input": [
      "# Set a relatively uninformative breaker message\n",
      "breaker_message = Message(vague(GaussianDistribution))\n",
      "setMessage!(driver.out, breaker_message)\n",
      "\n",
      "# See what happens\n",
      "schedule = generateSchedule(driver.out)\n",
      "show(schedule)"
     ],
     "language": "python",
     "metadata": {},
     "outputs": [
      {
       "output_type": "stream",
       "stream": "stdout",
       "text": [
        "Message passing schedule [{node type} {node name}:{outbound iface index} ({outbound iface name})]:\n"
       ]
      },
      {
       "output_type": "stream",
       "stream": "stdout",
       "text": [
        " TerminalNode noise:1 (out)\n",
        " AdditionNode adder:3 (out)\n",
        " FixedGainNode inhibitor:2 (out)\n",
        " FixedGainNode driver:2 (out)\n"
       ]
      }
     ],
     "prompt_number": 2
    },
    {
     "cell_type": "markdown",
     "metadata": {},
     "source": [
      "And there it is, we have our schedule. Next we can use this schedule to perform our calculations. We can execute it over and over with a simple `for` of `while` loop."
     ]
    },
    {
     "cell_type": "code",
     "collapsed": false,
     "input": [
      "for itr = 1:10\n",
      "    executeSchedule(schedule)\n",
      "end\n",
      "show(driver.out.message)"
     ],
     "language": "python",
     "metadata": {},
     "outputs": [
      {
       "output_type": "stream",
       "stream": "stdout",
       "text": [
        "Message{GaussianDistribution} with payload GaussianDistribution\n",
        "m  = [0.0]\n",
        "V  = [0.0012248876009434153]\n",
        "W  = nothing\n",
        "xi = nothing\n"
       ]
      },
      {
       "output_type": "stream",
       "stream": "stdout",
       "text": [
        "\n"
       ]
      }
     ],
     "prompt_number": 3
    },
    {
     "cell_type": "markdown",
     "metadata": {},
     "source": [
      "Calculating a message outside the loop\n",
      "---\n",
      "\n",
      "Now suppose we want to calculate the message from the addition node towards the noise node, at `add.in2`. In this case, calculating the message at the top interface of the addition node requires the message at the bottom and vice versa. This indicates that we need to set breaker messages at these positions.\n",
      "\n",
      "But first we need to clear all messages in the graph."
     ]
    },
    {
     "cell_type": "code",
     "collapsed": false,
     "input": [
      "clearMessages!();"
     ],
     "language": "python",
     "metadata": {},
     "outputs": [],
     "prompt_number": 4
    },
    {
     "cell_type": "markdown",
     "metadata": {},
     "source": [
      "Now we have a clean slate again, so we can set the breaker messages and generate the schedule."
     ]
    },
    {
     "cell_type": "code",
     "collapsed": false,
     "input": [
      "setMessage!(add.in1, Message(vague(GaussianDistribution)))\n",
      "setMessage!(add.out, Message(vague(GaussianDistribution)))\n",
      "schedule = generateSchedule(add.in2) # Generate the schedule based on the set breaker message\n",
      "show(schedule)"
     ],
     "language": "python",
     "metadata": {},
     "outputs": [
      {
       "output_type": "stream",
       "stream": "stdout",
       "text": [
        "Message passing schedule [{node type} {node name}:{outbound iface index} ({outbound iface name})]:"
       ]
      },
      {
       "output_type": "stream",
       "stream": "stdout",
       "text": [
        "\n",
        " FixedGainNode inhibitor:2 (out)\n",
        " FixedGainNode driver:2 (out)\n",
        " FixedGainNode driver:1 (in1)\n",
        " FixedGainNode inhibitor:1 (in1)\n",
        " AdditionNode adder:2 (in2)\n"
       ]
      }
     ],
     "prompt_number": 5
    },
    {
     "cell_type": "markdown",
     "metadata": {},
     "source": [
      "Again we can execute the schedule as many times as we desire."
     ]
    },
    {
     "cell_type": "code",
     "collapsed": false,
     "input": [
      "for itr = 1:10\n",
      "    executeSchedule(schedule)\n",
      "end\n",
      "show(add.in2.message)"
     ],
     "language": "python",
     "metadata": {},
     "outputs": [
      {
       "output_type": "stream",
       "stream": "stdout",
       "text": [
        "Message{GaussianDistribution} with payload GaussianDistribution\n",
        "m  = [0.0]\n",
        "V  = [8.265672809917355e13]\n",
        "W  = nothing\n",
        "xi = nothing\n"
       ]
      },
      {
       "output_type": "stream",
       "stream": "stdout",
       "text": [
        "\n"
       ]
      }
     ],
     "prompt_number": 6
    },
    {
     "cell_type": "markdown",
     "metadata": {},
     "source": [
      "An important thing to keep in mind is that you make sure the schedule updates the breaker messages on each execution. Otherwise the outcome will never converge."
     ]
    }
   ],
   "metadata": {}
  }
 ]
}