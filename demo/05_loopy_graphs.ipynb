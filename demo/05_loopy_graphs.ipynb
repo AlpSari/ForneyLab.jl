{
 "metadata": {
  "language": "Julia",
  "name": "",
  "signature": "sha256:27f55dca302bf9fca812966ad0bab2bd0d616e9df0ce43899fec688cdcde8d64"
 },
 "nbformat": 3,
 "nbformat_minor": 0,
 "worksheets": [
  {
   "cells": [
    {
     "cell_type": "markdown",
     "metadata": {},
     "source": [
      "Loopy graphs\n",
      "===\n",
      "\n",
      "The schedules demo already briefly mentioned loopy graphs. An example graph is given below.\n",
      "\n",
      "```\n",
      "    (driver)\n",
      "   -->[A]---\n",
      "   |       |\n",
      "   |      [+]<-[N]\n",
      "   |       |\n",
      "   ---[B]<--\n",
      "  (inhibitor)\n",
      "```\n",
      "\n",
      "A graph with loops must have its cycles 'opened' before a schedule can be generated. We need to set a 'breaker' message at certain interfaces to provide the autoscheduler with a place to start. Since we have no knowledge about the graph beyond our breaker message, we start with a vague message that represents out ignorance. The `vague()` function can be used to produce vague (broad, quite uninformative) distributions."
     ]
    },
    {
     "cell_type": "markdown",
     "metadata": {},
     "source": [
      "Calculating a message within the loop\n",
      "---\n",
      "\n",
      "Suppose we want to calculate the outgoing message on the driver node, at `driver.out`. Let's first define the graph. "
     ]
    },
    {
     "cell_type": "code",
     "collapsed": false,
     "input": [
      "using ForneyLab\n",
      "\n",
      "# Define the graph\n",
      "driver      = FixedGainNode([1.1], name=\"driver\")\n",
      "inhibitor   = FixedGainNode([0.1], name=\"inhibitor\")\n",
      "noise       = TerminalNode(GaussianDistribution(m=0.0, V=0.1), name=\"noise\")\n",
      "add         = AdditionNode(name=\"adder\")\n",
      "Edge(add.out, inhibitor.in1)\n",
      "Edge(inhibitor.out, driver.in1)\n",
      "Edge(driver.out, add.in1)\n",
      "Edge(noise.out, add.in2);\n",
      "\n",
      "#SumProduct.generateSchedule(driver.out) # Uncomment to produce error"
     ],
     "language": "python",
     "metadata": {},
     "outputs": [
      {
       "metadata": {},
       "output_type": "pyout",
       "prompt_number": 1,
       "text": [
        "Edge from TerminalNode noise:1 to AdditionNode adder:2.\n"
       ]
      }
     ],
     "prompt_number": 1
    },
    {
     "cell_type": "markdown",
     "metadata": {},
     "source": [
      "The automated schedule generator for defining algorithms is dependent on present messages in the graph. Defining an algorithm in a loopy graph without predefining any breaker messages will throw an error like: \n",
      "\n",
      ">Loop detected around Interface 2 (out) of FixedGainNode driver.\n",
      " Consider setting an initial message somewhere in this loop.\n",
      "\n",
      "Let's follow this advise and set some initial messages before generating a schedule:"
     ]
    },
    {
     "cell_type": "markdown",
     "metadata": {},
     "source": [
      "Because we want to calculate the message at the outgoing interface, we need to break the loop there as well. Let's set the breaker message and generate a schedule."
     ]
    },
    {
     "cell_type": "code",
     "collapsed": false,
     "input": [
      "# Set a relatively uninformative breaker message\n",
      "breaker_message = Message(vague(GaussianDistribution))\n",
      "setMessage!(driver.out, breaker_message);"
     ],
     "language": "python",
     "metadata": {},
     "outputs": [],
     "prompt_number": 2
    },
    {
     "cell_type": "markdown",
     "metadata": {},
     "source": [
      "We can generate a sumproduct schedule that calculates a new value for `driver.out`:"
     ]
    },
    {
     "cell_type": "code",
     "collapsed": false,
     "input": [
      "schedule = SumProduct.generateSchedule(driver.out)\n",
      "show(schedule)"
     ],
     "language": "python",
     "metadata": {},
     "outputs": [
      {
       "output_type": "stream",
       "stream": "stdout",
       "text": [
        "Message passing schedule\n"
       ]
      },
      {
       "output_type": "stream",
       "stream": "stdout",
       "text": [
        "#  | {msg calc. func}  | {post proc.}      | {node type} {node name}:{outbound iface index} ({outbound iface name})       |\n",
        "---|-------------------|-------------------|------------------------------------------------------------------------------|\n",
        "1  | sumProduct!       |                   | TerminalNode noise:1 (out)                                                   |\n",
        "2  | sumProduct!       |                   | AdditionNode adder:3 (out)                                                   |\n",
        "3  | sumProduct!       |                   | FixedGainNode inhibitor:2 (out)                                              |"
       ]
      },
      {
       "output_type": "stream",
       "stream": "stdout",
       "text": [
        "\n",
        "4  | sumProduct!       |                   | FixedGainNode driver:2 (out)                                                 |\n"
       ]
      }
     ],
     "prompt_number": 3
    },
    {
     "cell_type": "markdown",
     "metadata": {},
     "source": [
      "And there it is, we have our schedule. Next we can use this schedule to perform our calculations. We construct a custom `execute()` function that evaluates the schedule over and over and construct an algorithm with it."
     ]
    },
    {
     "cell_type": "code",
     "collapsed": false,
     "input": [
      "# Construct custom update function that executes the schedule ten times\n",
      "function exec(fields)\n",
      "    for itr = 1:10\n",
      "        execute(fields[:schedule])\n",
      "    end\n",
      "end\n",
      "\n",
      "# Construct loopy sumproduct algorithm that executes exec with the proper schedule\n",
      "algo = Algorithm(exec, {:schedule => schedule})"
     ],
     "language": "python",
     "metadata": {},
     "outputs": [
      {
       "metadata": {},
       "output_type": "pyout",
       "prompt_number": 4,
       "text": [
        "Algorithm with fields:\n",
        " schedule::Array{ScheduleEntry,1}\n",
        "\n",
        "Use algorithm.fields[:field] to inspect field values.\n"
       ]
      }
     ],
     "prompt_number": 4
    },
    {
     "cell_type": "code",
     "collapsed": false,
     "input": [
      "# Run the algorithm for one step\n",
      "step(algo)\n",
      "show(driver.out.message)"
     ],
     "language": "python",
     "metadata": {},
     "outputs": [
      {
       "output_type": "stream",
       "stream": "stdout",
       "text": [
        "Message{GaussianDistribution} with payload N(m=[0.00], V=[[1.22e-03]])\n",
        "\n"
       ]
      }
     ],
     "prompt_number": 5
    },
    {
     "cell_type": "markdown",
     "metadata": {},
     "source": [
      "Calculating a message outside the loop\n",
      "---\n",
      "\n",
      "Now suppose we want to calculate the message from the addition node towards the noise node, at `add.in2`. In this case, calculating the message at `add.in1` requires the message at `add.out` and vice versa, because of the loop. This indicates that we need to set breaker messages in both directions.\n",
      "\n",
      "But first we need to clear all messages in the graph so we can create a new algorithm."
     ]
    },
    {
     "cell_type": "code",
     "collapsed": false,
     "input": [
      "clearMessages!();"
     ],
     "language": "python",
     "metadata": {},
     "outputs": [],
     "prompt_number": 6
    },
    {
     "cell_type": "markdown",
     "metadata": {},
     "source": [
      "Now we have a clean slate again, so we can set the breaker messages and generate the schedule."
     ]
    },
    {
     "cell_type": "code",
     "collapsed": false,
     "input": [
      "setMessage!(add.in1, Message(vague(GaussianDistribution)))\n",
      "setMessage!(add.out, Message(vague(GaussianDistribution)))\n",
      "schedule2 = SumProduct.generateSchedule(add.in2) # Generate the schedule based on the set breaker message\n",
      "show(schedule2)"
     ],
     "language": "python",
     "metadata": {},
     "outputs": [
      {
       "output_type": "stream",
       "stream": "stdout",
       "text": [
        "Message passing schedule"
       ]
      },
      {
       "output_type": "stream",
       "stream": "stdout",
       "text": [
        "\n",
        "#  | {msg calc. func}  | {post proc.}      | {node type} {node name}:{outbound iface index} ({outbound iface name})       |\n",
        "---|-------------------|-------------------|------------------------------------------------------------------------------|\n",
        "1  | sumProduct!       |                   | FixedGainNode inhibitor:2 (out)                                              |\n",
        "2  | sumProduct!       |                   | FixedGainNode driver:2 (out)                                                 |\n",
        "3  | sumProduct!       |                   | FixedGainNode driver:1 (in1)                                                 |\n",
        "4  | sumProduct!       |                   | FixedGainNode inhibitor:1 (in1)                                              |\n",
        "5  | sumProduct!       |                   | AdditionNode adder:2 (in2)                                                   |\n"
       ]
      }
     ],
     "prompt_number": 7
    },
    {
     "cell_type": "markdown",
     "metadata": {},
     "source": [
      "Again we can execute the schedule as many times as we desire."
     ]
    },
    {
     "cell_type": "code",
     "collapsed": false,
     "input": [
      "algo2 = Algorithm(exec, {:schedule => schedule2})\n",
      "step(algo2)\n",
      "show(add.in2.message)"
     ],
     "language": "python",
     "metadata": {},
     "outputs": [
      {
       "output_type": "stream",
       "stream": "stdout",
       "text": [
        "Message{GaussianDistribution} with payload N(m=[0.00], V=[[8.27e+13]])\n"
       ]
      },
      {
       "output_type": "stream",
       "stream": "stdout",
       "text": [
        "\n"
       ]
      }
     ],
     "prompt_number": 8
    }
   ],
   "metadata": {}
  }
 ]
}