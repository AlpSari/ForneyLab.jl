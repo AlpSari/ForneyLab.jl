{
 "cells": [
  {
   "cell_type": "markdown",
   "metadata": {},
   "source": [
    "Loopy graphs\n",
    "===\n",
    "\n",
    "It's possible for a factorgraph to contain loops. An example graph is given below.\n",
    "\n",
    "```\n",
    "    (driver)\n",
    "   -->[A]---\n",
    "   |       |\n",
    "   |      [+]<-[N]\n",
    "   |       |\n",
    "   ---[B]<--\n",
    "  (inhibitor)\n",
    "```\n",
    "\n",
    "A graph with loops must have its cycles 'opened' before a schedule can be generated. We need to set a 'breaker' message at certain interfaces to provide the autoscheduler with a place to start. Since we have no knowledge about the graph beyond our breaker message, we start with a vague message that represents our ignorance. The `vague()` function can be used to produce vague (broad, quite uninformative) distributions."
   ]
  },
  {
   "cell_type": "markdown",
   "metadata": {},
   "source": [
    "Calculating a message within the loop\n",
    "---\n",
    "\n",
    "Suppose we want to calculate the outgoing message on the driver node, at `driver.out`. Let's first define the graph. "
   ]
  },
  {
   "cell_type": "code",
   "execution_count": 1,
   "metadata": {
    "collapsed": false
   },
   "outputs": [],
   "source": [
    "using ForneyLab\n",
    "\n",
    "# Define the graph\n",
    "FixedGainNode([1.1], id=:driver)\n",
    "FixedGainNode([0.1], id=:inhibitor)\n",
    "TerminalNode(GaussianDistribution(m=0.0, V=0.1), id=:noise)\n",
    "AdditionNode(id=:add)\n",
    "Edge(n(:add).i[:out], n(:inhibitor).i[:in])\n",
    "Edge(n(:inhibitor).i[:out], n(:driver).i[:in])\n",
    "Edge(n(:driver).i[:out], n(:add).i[:in1])\n",
    "Edge(n(:noise), n(:add).i[:in2]);"
   ]
  },
  {
   "cell_type": "markdown",
   "metadata": {},
   "source": [
    "The automatic sumproduct schedule generator depends on present messages in the graph. Trying to generate a sumproduct schedule in a loopy graph without predefining any breaker messages will throw an error like: \n",
    "\n",
    ">Loop detected around Interface 2 (out) of FixedGainNode driver.\n",
    " Consider setting an initial message somewhere in this loop.\n",
    "\n",
    "Let's follow this advise and set some initial messages before generating a schedule. Because we want to calculate the message at the outgoing interface, we need to break the loop there as well. Let's set the breaker message and generate a schedule."
   ]
  },
  {
   "cell_type": "code",
   "execution_count": 2,
   "metadata": {
    "collapsed": false
   },
   "outputs": [],
   "source": [
    "# Set a relatively uninformative breaker message\n",
    "setMessage!(n(:driver).i[:out], Message(vague(GaussianDistribution)));"
   ]
  },
  {
   "cell_type": "markdown",
   "metadata": {},
   "source": [
    "Now we can generate a sumproduct schedule that calculates an updated value for `driver.out`:"
   ]
  },
  {
   "cell_type": "code",
   "execution_count": 3,
   "metadata": {
    "collapsed": false
   },
   "outputs": [
    {
     "name": "stdout",
     "output_type": "stream",
     "text": [
      "Message passing schedule (entry: node [interface], rule)\n"
     ]
    },
    {
     "name": "stdout",
     "output_type": "stream",
     "text": [
      "------------------------------------------------------\n",
      "1: TerminalNode noise [1:out], sumProduct! \n",
      "2: AdditionNode add [3:out], sumProduct! \n",
      "3: FixedGainNode inhibitor [2:out], sumProduct! \n",
      "4: FixedGainNode driver [2:out], sumProduct! \n"
     ]
    }
   ],
   "source": [
    "schedule = SumProduct.generateSchedule(n(:driver).i[:out])\n",
    "show(schedule)"
   ]
  },
  {
   "cell_type": "markdown",
   "metadata": {},
   "source": [
    "And there it is, we have our schedule. Next we can use this schedule to perform our calculations. We construct a custom `Algorithm` that executes the schedule 10 times so that the answer can converge."
   ]
  },
  {
   "cell_type": "code",
   "execution_count": 4,
   "metadata": {
    "collapsed": false
   },
   "outputs": [
    {
     "data": {
      "text/plain": [
       "Algorithm with fields:\n",
       " schedule::Array{ScheduleEntry,1}\n",
       "\n",
       "Use algorithm.fields[:field] to inspect field values.\n"
      ]
     },
     "execution_count": 4,
     "metadata": {},
     "output_type": "execute_result"
    }
   ],
   "source": [
    "# Construct custom update function that executes the schedule ten times\n",
    "function exec_ten_times(fields)\n",
    "    for itr = 1:10\n",
    "        execute(fields[:schedule])\n",
    "    end\n",
    "end\n",
    "\n",
    "# Construct custom sumproduct algorithm that executes a schedule multiple times\n",
    "algo = Algorithm(exec_ten_times, {:schedule => schedule})"
   ]
  },
  {
   "cell_type": "code",
   "execution_count": 5,
   "metadata": {
    "collapsed": false
   },
   "outputs": [
    {
     "name": "stdout",
     "output_type": "stream",
     "text": [
      "Message{GaussianDistribution} with payload N(m=[0.00], V=[[1.22e-03]])\n",
      "\n"
     ]
    }
   ],
   "source": [
    "# Run the algorithm for one step\n",
    "run(algo)\n",
    "show(n(:driver).i[:out].message)"
   ]
  },
  {
   "cell_type": "markdown",
   "metadata": {},
   "source": [
    "Calculating a message outside the loop\n",
    "---\n",
    "\n",
    "Now suppose we want to calculate the message from the addition node towards the noise node, so at interface `add.i[:in2]`. In this case, calculating the message towards `add.i[:in1]` requires the inbound message at `add.i[:out]` and vice versa, because of the loop. This indicates that we need to set breaker messages in both directions.\n",
    "\n",
    "But first we need to clear all messages in the graph so we can create a new algorithm."
   ]
  },
  {
   "cell_type": "code",
   "execution_count": 6,
   "metadata": {
    "collapsed": false
   },
   "outputs": [],
   "source": [
    "clearMessages!();"
   ]
  },
  {
   "cell_type": "markdown",
   "metadata": {},
   "source": [
    "Now we have a clean slate again, so we can set the breaker messages and generate the schedule."
   ]
  },
  {
   "cell_type": "code",
   "execution_count": 7,
   "metadata": {
    "collapsed": false
   },
   "outputs": [
    {
     "name": "stdout",
     "output_type": "stream",
     "text": [
      "Message passing schedule (entry: node [interface], rule)\n"
     ]
    },
    {
     "name": "stdout",
     "output_type": "stream",
     "text": [
      "------------------------------------------------------\n",
      "1: FixedGainNode inhibitor [2:out], sumProduct! \n",
      "2: FixedGainNode driver [2:out], sumProduct! \n",
      "3: FixedGainNode driver [1:in], sumProduct! \n",
      "4: FixedGainNode inhibitor [1:in], sumProduct! \n",
      "5: AdditionNode add [2:in2], sumProduct! \n"
     ]
    }
   ],
   "source": [
    "setMessage!(n(:add).i[:in1], Message(vague(GaussianDistribution)))\n",
    "setMessage!(n(:add).i[:out], Message(vague(GaussianDistribution)))\n",
    "schedule2 = SumProduct.generateSchedule(n(:add).i[:in2]) # Generate the schedule based on the set breaker message\n",
    "show(schedule2)"
   ]
  },
  {
   "cell_type": "markdown",
   "metadata": {},
   "source": [
    "Again we can execute the schedule as many times as we desire."
   ]
  },
  {
   "cell_type": "code",
   "execution_count": 8,
   "metadata": {
    "collapsed": false
   },
   "outputs": [
    {
     "name": "stdout",
     "output_type": "stream",
     "text": [
      "Message{GaussianDistribution} with payload N(m=[0.00], V=[[8.27e+13]])\n"
     ]
    },
    {
     "name": "stdout",
     "output_type": "stream",
     "text": [
      "\n"
     ]
    }
   ],
   "source": [
    "algo2 = Algorithm(exec_ten_times, {:schedule => schedule2})\n",
    "run(algo2)\n",
    "show(n(:add).i[:in2].message)"
   ]
  }
 ],
 "metadata": {
  "kernelspec": {
   "display_name": "Julia 0.3.7",
   "language": "julia",
   "name": "julia 0.3"
  },
  "language_info": {
   "name": "julia",
   "version": "0.3.7"
  }
 },
 "nbformat": 4,
 "nbformat_minor": 0
}