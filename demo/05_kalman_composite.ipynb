{
 "metadata": {
  "language": "Julia",
  "name": "",
  "signature": "sha256:caff530857e5c9d1cb22098b52a177c215bcd502a0561f00a2b6622ef7d70b17"
 },
 "nbformat": 3,
 "nbformat_minor": 0,
 "worksheets": [
  {
   "cells": [
    {
     "cell_type": "markdown",
     "metadata": {},
     "source": [
      "Kalman composite node\n",
      "=====================\n",
      "\n",
      "In this notebook, we demo a generic Kalman composite node that can be used as a \"building block\".\n",
      "\n",
      "First, let us introduce the factor graph of the generic Kalman filter. Note that this graph is an example of composite node nesting. There is a `GainEqualityNode` inside the `KalmanCompositeNode`, which is perfectly fine.\n",
      "\n",
      "<img src=\"files/images/kalman_composite_factorgraph.png\">"
     ]
    },
    {
     "cell_type": "markdown",
     "metadata": {},
     "source": [
      "$\\mathbf{X}_{n-1}$ is the previous state of the system, $\\mathbf{X}_{n}$ is the new state. Usually, the state is hidden, and the goal of the Kalman filter is to estimate the hidden state given noisy observations and the system input. $\\mathbf{U}_{n}$ is the system input, $\\mathbf{Z}_{n}$ is the (noisy) observation. $\\mathbf{W}_{n}$ and $\\mathbf{V}_{n}$ are the process and observation noise respectively. Both are assumed to be white Gaussian noise. The system equations are:\n",
      "\n",
      "$\\mathbf{X}_{n} = \\mathbf{A}\\mathbf{X}_{n-1} + \\mathbf{B}\\mathbf{U}_{n} + \\mathbf{W}_{n}$\n",
      "\n",
      "$\\mathbf{Z}_{n} = \\mathbf{C}\\mathbf{X}_{n} + \\mathbf{V}_{n}$\n",
      "\n",
      "$\\mathbf{W}_{n} \\sim \\mathcal{N}(\\mathbf{0},\\mathbf{\\Sigma}_W)$\n",
      "\n",
      "$\\mathbf{V}_{n} \\sim \\mathcal{N}(\\mathbf{0},\\mathbf{\\Sigma}_V)$"
     ]
    },
    {
     "cell_type": "markdown",
     "metadata": {},
     "source": [
      "The `KalmanCompositeNode` consists of the factor graph contained within the dashed block. It can be used for the following purposes:\n",
      "\n",
      "1. Estimating the hidden state of a system given the system input and (noisy) observations of the system output.\n",
      "2. Calculating the system output given the state and system input.\n",
      "3. Estimating the system input given the state and (noisy) observations of the system output.\n",
      "\n",
      "Clearly, $\\mathbf{X}_{n-1}$, $\\mathbf{X}_{n}$, $\\mathbf{U}_{n}$, and $\\mathbf{Z}_{n}$ are interfaces of the composite node. \n",
      "Matrices $\\mathbf{A}$, $\\mathbf{B}$, $\\mathbf{C}$, as well as noise covariances $\\mathbf{\\Sigma}_W$ and $\\mathbf{\\Sigma}_V$ are parameters of the node.\n",
      "\n",
      "Let us define `KalmanCompositeNode`:"
     ]
    },
    {
     "cell_type": "code",
     "collapsed": false,
     "input": [
      "using ForneyLab\n",
      "\n",
      "typealias ArrayOrScalar Union(Float64,Array{Float64})\n",
      "\n",
      "type KalmanCompositeNode <: CompositeNode\n",
      "    # Basic node properties.\n",
      "    # use_composite_update_rules is a flag for indicating use of\n",
      "    # shortcut update rules. When set to true, the outbound\n",
      "    # message is calculated via the provided update rules.\n",
      "    # When set to false (default), messages are passed through the internal\n",
      "    # graph of the composite node.\n",
      "    use_composite_update_rules::Bool # Always false in the current implementation\n",
      "    name::ASCIIString\n",
      "    interfaces::Array{Interface,1}\n",
      "    # Internal nodes\n",
      "    node_a::FixedGainNode\n",
      "    node_b::FixedGainNode\n",
      "    node_process_noise::TerminalNode\n",
      "    node_add_process_noise::AdditionNode\n",
      "    node_add_state::AdditionNode\n",
      "    node_add_observation_noise::AdditionNode\n",
      "    node_observation_noise::TerminalNode\n",
      "    node_gain_equ_composite::GainEqualityNode\n",
      "    # Named interfaces\n",
      "    x_in::Interface   # Interface 1\n",
      "    x_out::Interface  # Interface 2\n",
      "    u::Interface      # Interface 3\n",
      "    z::Interface      # Interface 4\n",
      "\n",
      "    function KalmanCompositeNode(a::ArrayOrScalar, b::ArrayOrScalar, c::ArrayOrScalar, process_noise_variance::ArrayOrScalar, observation_noise_variance::ArrayOrScalar; name=\"unnamed\")\n",
      "        self = new(false, name, Array(Interface, 4))\n",
      "\n",
      "        # Setup internal graph\n",
      "        self.node_a = FixedGainNode(a, name=\"$(name)_internal_A\")\n",
      "        self.node_b = FixedGainNode(b, name=\"$(name)_internal_B\")\n",
      "        self.node_process_noise = TerminalNode(GaussianDistribution(m=zeros(size(process_noise_variance,1)), V=process_noise_variance), name=\"$(name)_internal_procnoise\")\n",
      "        self.node_add_process_noise = AdditionNode(name=\"$(name)_internal_add_procnoise\")\n",
      "        self.node_add_state = AdditionNode(name=\"$(name)_internal_add_state\")\n",
      "        self.node_add_observation_noise = AdditionNode(name=\"$(name)_internal_add_obsnoise\")\n",
      "        self.node_observation_noise = TerminalNode(GaussianDistribution(m=zeros(size(observation_noise_variance,1)), V=observation_noise_variance), name=\"$(name)_internal_obsnoise\")\n",
      "        self.node_gain_equ_composite = GainEqualityNode(c, name=\"$(name)_internal_gainequcomposite\")\n",
      "        Edge(self.node_process_noise.out, self.node_add_process_noise.in1, add_to_graph=false)\n",
      "        Edge(self.node_b.out, self.node_add_process_noise.in2, add_to_graph=false)\n",
      "        Edge(self.node_add_process_noise.out, self.node_add_state.in2, add_to_graph=false)\n",
      "        Edge(self.node_a.out, self.node_add_state.in1, add_to_graph=false)\n",
      "        Edge(self.node_add_state.out, self.node_gain_equ_composite.in1, add_to_graph=false)\n",
      "        Edge(self.node_gain_equ_composite.out, self.node_add_observation_noise.in1, add_to_graph=false)\n",
      "        Edge(self.node_observation_noise.out, self.node_add_observation_noise.in2, add_to_graph=false)\n",
      "\n",
      "        # Setup the interfaces of the composite node\n",
      "        self.x_in  = self.interfaces[1] = Interface(self)\n",
      "        self.x_out = self.interfaces[2] = Interface(self)\n",
      "        self.u     = self.interfaces[3] = Interface(self)\n",
      "        self.z     = self.interfaces[4] = Interface(self)\n",
      "\n",
      "        # Link composite node interfaces to internal graph\n",
      "        self.x_in.child  = self.node_a.in1\n",
      "        self.x_out.child = self.node_gain_equ_composite.in2\n",
      "        self.u.child     = self.node_b.in1\n",
      "        self.z.child     = self.node_add_observation_noise.out\n",
      "\n",
      "        # Define internal message passing schedules\n",
      "        self.x_in.internal_schedule = convert(Schedule, [self.node_b.out, self.node_process_noise.out, self.node_add_process_noise.out,\n",
      "                                        self.node_observation_noise.out, self.node_add_observation_noise.in1,\n",
      "                                        self.node_gain_equ_composite.in1, self.node_add_state.in1, self.node_a.in1])\n",
      "        self.x_out.internal_schedule = convert(Schedule, [self.node_b.out, self.node_process_noise.out, self.node_add_process_noise.out,\n",
      "                                         self.node_a.out, self.node_add_state.out,\n",
      "                                         self.node_observation_noise.out, self.node_add_observation_noise.in1,\n",
      "                                         self.node_gain_equ_composite.in2])\n",
      "        self.u.internal_schedule = convert(Schedule, [self.node_observation_noise.out, self.node_add_observation_noise.in1,\n",
      "                                    self.node_gain_equ_composite.in1, self.node_a.out, self.node_add_state.in2,\n",
      "                                    self.node_process_noise.out, self.node_add_process_noise.in2, self.node_b.in1])\n",
      "        self.z.internal_schedule = convert(Schedule, [self.node_b.out, self.node_process_noise.out, self.node_add_process_noise.out,\n",
      "                                    self.node_a.out, self.node_add_state.out, self.node_gain_equ_composite.out,\n",
      "                                    self.node_observation_noise.out, self.node_add_observation_noise.out])\n",
      "\n",
      "        return self\n",
      "    end\n",
      "end\n",
      "\n",
      "# When creating a new node type we need to specify whether it's node function is deterministic\n",
      "ForneyLab.isDeterministic(::KalmanCompositeNode) = true;"
     ],
     "language": "python",
     "metadata": {},
     "outputs": [],
     "prompt_number": 1
    },
    {
     "cell_type": "markdown",
     "metadata": {},
     "source": [
      "In this case, we will just pass messages through the internal graph to calculate the outbound messages of the composite node. Because of this, we don't need to define an overloading for `sumProduct!()`. ForneyLab comes with a built-in implementation of `sumProduct!()` for composite nodes. However, the user is free to define his own shortcut rules.\n",
      "\n",
      "Now let's look at some example applications that use the new Kalman filter node."
     ]
    },
    {
     "cell_type": "markdown",
     "metadata": {},
     "source": [
      "Example 1: Simple Kalman demo revised\n",
      "=====================================\n",
      "\n",
      "To test the new Kalman composite node, first let us return to the simple_kalman demo. With the new composity node, the implementation of that demo becomes a lot easier. In the simple_kalman demo, a system is considered where $\\mathbf{A} = \\mathbf{B} = \\mathbf{C} = 1$. Moreover, $\\mathbf{U}_{n}=1$ and $\\mathbf{\\sigma}_w^2 = 200$. \n",
      "\n",
      "Building the factor graph with the Kalman composite node is easy:"
     ]
    },
    {
     "cell_type": "code",
     "collapsed": false,
     "input": [
      "obsnoise_variance = 200.0\n",
      "procnoise_variance = tiny()\n",
      "kalman_composite = KalmanCompositeNode(1.0, 1.0, 1.0, procnoise_variance, obsnoise_variance, name=\"kalman\")\n",
      "x_in = PriorNode(name=\"x_in\")\n",
      "x_out= TerminalNode(name=\"x_out\")\n",
      "u    = TerminalNode(GaussianDistribution(m=1.0, V=tiny()), name=\"u\")\n",
      "z    = TerminalNode(name=\"z\")\n",
      "Edge(x_in.out, kalman_composite.x_in)\n",
      "Edge(kalman_composite.x_out, x_out)\n",
      "Edge(u.out, kalman_composite.u)\n",
      "Edge(z.out, kalman_composite.z)\n",
      "wrap(x_out, x_in)\n",
      "\n",
      "# Visualize the graph\n",
      "draw()"
     ],
     "language": "python",
     "metadata": {},
     "outputs": [
      {
       "metadata": {},
       "output_type": "display_data",
       "svg": [
        "<?xml version=\"1.0\" encoding=\"UTF-8\" standalone=\"no\"?>\n",
        "<!DOCTYPE svg PUBLIC \"-//W3C//DTD SVG 1.1//EN\"\n",
        " \"http://www.w3.org/Graphics/SVG/1.1/DTD/svg11.dtd\">\n",
        "<!-- Generated by graphviz version 2.36.0 (20140111.2315)\n",
        " -->\n",
        "<!-- Title: G Pages: 1 -->\n",
        "<svg width=\"268pt\" height=\"408pt\"\n",
        " viewBox=\"0.00 0.00 267.59 408.00\" xmlns=\"http://www.w3.org/2000/svg\" xmlns:xlink=\"http://www.w3.org/1999/xlink\">\n",
        "<g id=\"graph0\" class=\"graph\" transform=\"scale(1 1) rotate(0) translate(4 404)\">\n",
        "<title>G</title>\n",
        "<polygon fill=\"white\" stroke=\"none\" points=\"-4,4 -4,-404 263.593,-404 263.593,4 -4,4\"/>\n",
        "<!-- 6815121451417486323 -->\n",
        "<g id=\"node1\" class=\"node\"><title>6815121451417486323</title>\n",
        "<polygon fill=\"lightgrey\" stroke=\"black\" points=\"61.5928,-400 7.59282,-400 7.59282,-346 61.5928,-346 61.5928,-400\"/>\n",
        "<text text-anchor=\"middle\" x=\"34.5928\" y=\"-370.8\" font-family=\"Times,serif\" font-size=\"9.00\">u</text>\n",
        "</g>\n",
        "<!-- 11352211678595980474 -->\n",
        "<g id=\"node5\" class=\"node\"><title>11352211678595980474</title>\n",
        "<polygon fill=\"none\" stroke=\"black\" points=\"173.093,-282 72.0928,-282 72.0928,-210 173.093,-210 173.093,-282\"/>\n",
        "<text text-anchor=\"middle\" x=\"122.593\" y=\"-248.8\" font-family=\"Times,serif\" font-size=\"9.00\">KalmanCompositeNode</text>\n",
        "<text text-anchor=\"middle\" x=\"122.593\" y=\"-238.8\" font-family=\"Times,serif\" font-size=\"9.00\">kalman</text>\n",
        "</g>\n",
        "<!-- 6815121451417486323&#45;&gt;11352211678595980474 -->\n",
        "<g id=\"edge4\" class=\"edge\"><title>6815121451417486323&#45;&gt;11352211678595980474</title>\n",
        "<path fill=\"none\" stroke=\"black\" d=\"M16,-345.976C8.20675,-331.646 2.77285,-313.985 11.5928,-300 23.0956,-281.761 42.7938,-269.664 62.4325,-261.702\"/>\n",
        "<polygon fill=\"none\" stroke=\"black\" points=\"63.889,-264.895 72.0324,-258.117 61.4399,-258.337 63.889,-264.895\"/>\n",
        "<text text-anchor=\"middle\" x=\"40.0928\" y=\"-321.1\" font-family=\"Times,serif\" font-size=\"8.00\">FW: \u25cb</text>\n",
        "<text text-anchor=\"middle\" x=\"40.0928\" y=\"-312.1\" font-family=\"Times,serif\" font-size=\"8.00\">BW: \u25cb</text>\n",
        "<text text-anchor=\"middle\" x=\"40.0928\" y=\"-303.1\" font-family=\"Times,serif\" font-size=\"8.00\">Distribution: Any</text>\n",
        "<text text-anchor=\"middle\" x=\"67.0324\" y=\"-260.717\" font-family=\"Times,serif\" font-size=\"8.00\">3 u</text>\n",
        "<text text-anchor=\"middle\" x=\"8\" y=\"-339.576\" font-family=\"Times,serif\" font-size=\"8.00\">1 out</text>\n",
        "</g>\n",
        "<!-- 16589476194184674593 -->\n",
        "<g id=\"node2\" class=\"node\"><title>16589476194184674593</title>\n",
        "<polygon fill=\"lightgrey\" stroke=\"black\" points=\"140.593,-54 86.5928,-54 86.5928,-0 140.593,-0 140.593,-54\"/>\n",
        "<text text-anchor=\"middle\" x=\"113.593\" y=\"-24.8\" font-family=\"Times,serif\" font-size=\"9.00\">x_in</text>\n",
        "</g>\n",
        "<!-- 16589476194184674593&#45;&gt;11352211678595980474 -->\n",
        "<g id=\"edge2\" class=\"edge\"><title>16589476194184674593&#45;&gt;11352211678595980474</title>\n",
        "<path fill=\"none\" stroke=\"black\" d=\"M102.366,-54.2669C98.084,-65.6435 93.7226,-79.2525 91.5928,-92 87.6378,-115.672 87.9653,-122.276 91.5928,-146 94.3691,-164.157 99.8532,-183.559 105.447,-200.332\"/>\n",
        "<polygon fill=\"none\" stroke=\"black\" points=\"102.168,-201.56 108.734,-209.875 108.786,-199.281 102.168,-201.56\"/>\n",
        "<text text-anchor=\"middle\" x=\"120.093\" y=\"-126.1\" font-family=\"Times,serif\" font-size=\"8.00\">FW: \u25cb</text>\n",
        "<text text-anchor=\"middle\" x=\"120.093\" y=\"-117.1\" font-family=\"Times,serif\" font-size=\"8.00\">BW: \u25cb</text>\n",
        "<text text-anchor=\"middle\" x=\"120.093\" y=\"-108.1\" font-family=\"Times,serif\" font-size=\"8.00\">Distribution: Any</text>\n",
        "<text text-anchor=\"middle\" x=\"98.7336\" y=\"-203.475\" font-family=\"Times,serif\" font-size=\"8.00\">1 x_in</text>\n",
        "<text text-anchor=\"middle\" x=\"94.366\" y=\"-56.8669\" font-family=\"Times,serif\" font-size=\"8.00\">1 out</text>\n",
        "</g>\n",
        "<!-- 14703090215037279934 -->\n",
        "<g id=\"node3\" class=\"node\"><title>14703090215037279934</title>\n",
        "<polygon fill=\"lightgrey\" stroke=\"black\" points=\"238.593,-400 184.593,-400 184.593,-346 238.593,-346 238.593,-400\"/>\n",
        "<text text-anchor=\"middle\" x=\"211.593\" y=\"-370.8\" font-family=\"Times,serif\" font-size=\"9.00\">z</text>\n",
        "</g>\n",
        "<!-- 14703090215037279934&#45;&gt;11352211678595980474 -->\n",
        "<g id=\"edge1\" class=\"edge\"><title>14703090215037279934&#45;&gt;11352211678595980474</title>\n",
        "<path fill=\"none\" stroke=\"black\" d=\"M192.936,-345.796C181.531,-329.779 166.662,-308.895 153.533,-290.456\"/>\n",
        "<polygon fill=\"none\" stroke=\"black\" points=\"156.294,-288.298 147.642,-282.182 150.591,-292.358 156.294,-288.298\"/>\n",
        "<text text-anchor=\"middle\" x=\"208.093\" y=\"-321.1\" font-family=\"Times,serif\" font-size=\"8.00\">FW: \u25cb</text>\n",
        "<text text-anchor=\"middle\" x=\"208.093\" y=\"-312.1\" font-family=\"Times,serif\" font-size=\"8.00\">BW: \u25cb</text>\n",
        "<text text-anchor=\"middle\" x=\"208.093\" y=\"-303.1\" font-family=\"Times,serif\" font-size=\"8.00\">Distribution: Any</text>\n",
        "<text text-anchor=\"middle\" x=\"142.642\" y=\"-284.782\" font-family=\"Times,serif\" font-size=\"8.00\">4 z</text>\n",
        "<text text-anchor=\"middle\" x=\"184.936\" y=\"-339.396\" font-family=\"Times,serif\" font-size=\"8.00\">1 out</text>\n",
        "</g>\n",
        "<!-- 3930926296629303439 -->\n",
        "<g id=\"node4\" class=\"node\"><title>3930926296629303439</title>\n",
        "<polygon fill=\"lightgrey\" stroke=\"black\" points=\"259.593,-146 205.593,-146 205.593,-92 259.593,-92 259.593,-146\"/>\n",
        "<text text-anchor=\"middle\" x=\"232.593\" y=\"-116.8\" font-family=\"Times,serif\" font-size=\"9.00\">x_out</text>\n",
        "</g>\n",
        "<!-- 3930926296629303439&#45;&gt;16589476194184674593 -->\n",
        "<g id=\"edge5\" class=\"edge\"><title>3930926296629303439&#45;&gt;16589476194184674593</title>\n",
        "<path fill=\"none\" stroke=\"green\" stroke-dasharray=\"1,5\" d=\"M205.59,-97.5776C188.82,-84.8947 167.083,-68.4545 148.948,-54.7395\"/>\n",
        "<polygon fill=\"none\" stroke=\"green\" points=\"150.988,-51.8937 140.901,-48.6531 146.765,-57.4768 150.988,-51.8937\"/>\n",
        "</g>\n",
        "<!-- 11352211678595980474&#45;&gt;3930926296629303439 -->\n",
        "<g id=\"edge3\" class=\"edge\"><title>11352211678595980474&#45;&gt;3930926296629303439</title>\n",
        "<path fill=\"none\" stroke=\"black\" d=\"M153.527,-209.848C168.956,-192.314 187.534,-171.204 202.803,-153.852\"/>\n",
        "<polygon fill=\"none\" stroke=\"black\" points=\"205.584,-155.99 209.563,-146.171 200.329,-151.366 205.584,-155.99\"/>\n",
        "<text text-anchor=\"middle\" x=\"222.093\" y=\"-185.1\" font-family=\"Times,serif\" font-size=\"8.00\">FW: \u25cb</text>\n",
        "<text text-anchor=\"middle\" x=\"222.093\" y=\"-176.1\" font-family=\"Times,serif\" font-size=\"8.00\">BW: \u25cb</text>\n",
        "<text text-anchor=\"middle\" x=\"222.093\" y=\"-167.1\" font-family=\"Times,serif\" font-size=\"8.00\">Distribution: Any</text>\n",
        "<text text-anchor=\"middle\" x=\"201.563\" y=\"-148.771\" font-family=\"Times,serif\" font-size=\"8.00\">1 out</text>\n",
        "<text text-anchor=\"middle\" x=\"141.527\" y=\"-203.448\" font-family=\"Times,serif\" font-size=\"8.00\">2 x_out</text>\n",
        "</g>\n",
        "</g>\n",
        "</svg>\n"
       ]
      }
     ],
     "prompt_number": 2
    },
    {
     "cell_type": "markdown",
     "metadata": {},
     "source": [
      "Now set the prior, create the read and write buffers and define a sumproduct algorithm."
     ]
    },
    {
     "cell_type": "code",
     "collapsed": false,
     "input": [
      "# Set initiatal value of x_in to get started\n",
      "x_in.value = GaussianDistribution(m=randn()*sqrt(obsnoise_variance), V=200.0)\n",
      "\n",
      "# Data\n",
      "n_samples = 100\n",
      "noisy_z = [i+randn()*sqrt(obsnoise_variance) for i=1:n_samples] # Generate noisy observations of z\n",
      "z_buffer = [GaussianDistribution(m=noisy_z[i], V=tiny()) for i=1:n_samples] # Convert scalar observations to delta distributions\n",
      "setReadBuffer(z, z_buffer) # TerminalNode z will take value z_buffer[n] in timestep n\n",
      "\n",
      "# Create a write buffer to record the values we wish to infer in every timestep\n",
      "state = setWriteBuffer(kalman_composite.x_out)\n",
      "\n",
      "# Define the algorithm\n",
      "algo = SumProduct.Algorithm()\n",
      "\n",
      "# Inspect schedule\n",
      "show(algo.fields[:schedule])"
     ],
     "language": "python",
     "metadata": {},
     "outputs": [
      {
       "output_type": "stream",
       "stream": "stdout",
       "text": [
        "Message passing schedule\n"
       ]
      },
      {
       "output_type": "stream",
       "stream": "stdout",
       "text": [
        "#  | {message calc. func}  | {post-processing}     | {node type} {node name}:{outbound iface index} ({outbound iface name})       |\n",
        "---|-----------------------|-----------------------|------------------------------------------------------------------------------|\n",
        "1  | sumProduct!           |                       | TerminalNode x_in:1 (out)                                                    |\n",
        "2  | sumProduct!           |                       | TerminalNode u:1 (out)                                                       |\n",
        "3  | sumProduct!           |                       | TerminalNode z:1 (out)                                                       |\n",
        "4  | sumProduct!           |                       | KalmanCompositeNode kalman:2 (x_out)                                         |\n"
       ]
      }
     ],
     "prompt_number": 3
    },
    {
     "cell_type": "markdown",
     "metadata": {},
     "source": [
      "Perform the filtering:"
     ]
    },
    {
     "cell_type": "code",
     "collapsed": false,
     "input": [
      "# Perform the inference\n",
      "run(algo)"
     ],
     "language": "python",
     "metadata": {},
     "outputs": [
      {
       "ename": "LoadError",
       "evalue": "`start` has no method matching start(::Message{GaussianDistribution})\nwhile loading In[4], in expression starting on line 2",
       "output_type": "pyerr",
       "traceback": [
        "`start` has no method matching start(::Message{GaussianDistribution})\nwhile loading In[4], in expression starting on line 2",
        "",
        " in execute at /home/thijs/.julia/v0.3/ForneyLab/src/message_passing.jl:24",
        " in execute at /home/thijs/.julia/v0.3/ForneyLab/src/message_passing.jl:54",
        " in _var4 at /home/thijs/.julia/v0.3/ForneyLab/src/algorithms/sum_product/sum_product.jl:19",
        " in step at /home/thijs/.julia/v0.3/ForneyLab/src/step.jl:76",
        " in run at /home/thijs/.julia/v0.3/ForneyLab/src/step.jl:101",
        " in run at /home/thijs/.julia/v0.3/ForneyLab/src/step.jl:99"
       ]
      }
     ],
     "prompt_number": 4
    },
    {
     "cell_type": "code",
     "collapsed": false,
     "input": [
      "using PyPlot\n",
      "results_mean = Float64[mean(s)[1] for s in state]\n",
      "results_variance = Float64[var(s)[1,1] for s in state]\n",
      "plot([1:n_samples], noisy_z, \"b*\")\n",
      "plot([1:n_samples], results_mean, \"b-\")\n",
      "fill_between([1:n_samples], results_mean-sqrt(results_variance), results_mean+sqrt(results_variance), color=\"b\", alpha=0.3);\n",
      "grid(true)"
     ],
     "language": "python",
     "metadata": {},
     "outputs": [
      {
       "output_type": "stream",
       "stream": "stderr",
       "text": [
        "INFO: Loading help data...\n",
        "Warning: using PyPlot.draw in module Main conflicts with an existing identifier.\n"
       ]
      },
      {
       "ename": "LoadError",
       "evalue": "PyError (:PyObject_Call) <type 'exceptions.ValueError'>\nValueError('x and y must have same first dimension',)\n  File \"/usr/lib/pymodules/python2.7/matplotlib/pyplot.py\", line 2987, in plot\n    ret = ax.plot(*args, **kwargs)\n  File \"/usr/lib/pymodules/python2.7/matplotlib/axes.py\", line 4137, in plot\n    for line in self._get_lines(*args, **kwargs):\n  File \"/usr/lib/pymodules/python2.7/matplotlib/axes.py\", line 317, in _grab_next_args\n    for seg in self._plot_args(remaining, kwargs):\n  File \"/usr/lib/pymodules/python2.7/matplotlib/axes.py\", line 295, in _plot_args\n    x, y = self._xy_from_xy(x, y)\n  File \"/usr/lib/pymodules/python2.7/matplotlib/axes.py\", line 237, in _xy_from_xy\n    raise ValueError(\"x and y must have same first dimension\")\n\nwhile loading In[5], in expression starting on line 5",
       "output_type": "pyerr",
       "traceback": [
        "PyError (:PyObject_Call) <type 'exceptions.ValueError'>\nValueError('x and y must have same first dimension',)\n  File \"/usr/lib/pymodules/python2.7/matplotlib/pyplot.py\", line 2987, in plot\n    ret = ax.plot(*args, **kwargs)\n  File \"/usr/lib/pymodules/python2.7/matplotlib/axes.py\", line 4137, in plot\n    for line in self._get_lines(*args, **kwargs):\n  File \"/usr/lib/pymodules/python2.7/matplotlib/axes.py\", line 317, in _grab_next_args\n    for seg in self._plot_args(remaining, kwargs):\n  File \"/usr/lib/pymodules/python2.7/matplotlib/axes.py\", line 295, in _plot_args\n    x, y = self._xy_from_xy(x, y)\n  File \"/usr/lib/pymodules/python2.7/matplotlib/axes.py\", line 237, in _xy_from_xy\n    raise ValueError(\"x and y must have same first dimension\")\n\nwhile loading In[5], in expression starting on line 5",
        "",
        " in getindex at /home/thijs/.julia/v0.3/PyCall/src/PyCall.jl:252",
        " in pysequence_query at /home/thijs/.julia/v0.3/PyCall/src/conversions.jl:776",
        " in pytype_query at /home/thijs/.julia/v0.3/PyCall/src/conversions.jl:792",
        " in convert at /home/thijs/.julia/v0.3/PyCall/src/conversions.jl:842",
        " in pycall at /home/thijs/.julia/v0.3/PyCall/src/PyCall.jl:417",
        " in fn at /home/thijs/.julia/v0.3/PyCall/src/conversions.jl:188",
        " in close_queued_figs at /home/thijs/.julia/v0.3/PyPlot/src/PyPlot.jl:295"
       ]
      }
     ],
     "prompt_number": 5
    },
    {
     "cell_type": "code",
     "collapsed": true,
     "input": [
      "DeltaDistribution(noisy_z[6])"
     ],
     "language": "python",
     "metadata": {},
     "outputs": [
      {
       "metadata": {},
       "output_type": "pyout",
       "prompt_number": 6,
       "text": [
        "\u03b4(m=-12.00)\n"
       ]
      }
     ],
     "prompt_number": 6
    },
    {
     "cell_type": "code",
     "collapsed": false,
     "input": [],
     "language": "python",
     "metadata": {},
     "outputs": [],
     "prompt_number": 7
    }
   ],
   "metadata": {}
  }
 ]
}