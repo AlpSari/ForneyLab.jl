{
 "cells": [
  {
   "cell_type": "markdown",
   "metadata": {},
   "source": [
    "ForneyLab.jl basics tutorial\n",
    "============================\n",
    "This is the first tutorial in a series of practical demos that showcase ForneyLab in action. In this demo we show how to build a basic factor graph and how to calculate a sum-product message. For clarification on the basic types and functionality of the ForneyLab.jl toolbox please consult the [ForneyLab documentation](http://spsbrats.github.io/ForneyLab/documentation). We assume the reader has basic knowledge of message passing algorithms and factor graphs. \n",
    "\n",
    "If you are following this tutorial online you do not need to install Julia. However, for working with the ForneyLab.jl toolbox on your own machine and executing the demo code you need to install Julia (v.0.3). Installation instructions can be found on the Julia webpage and the `README.md` file."
   ]
  },
  {
   "cell_type": "markdown",
   "metadata": {},
   "source": [
    "Graph contruction example\n",
    "-------------------------\n",
    "---\n",
    "Before starting any project, we need to include the ForneyLab toolbox."
   ]
  },
  {
   "cell_type": "code",
   "execution_count": 1,
   "metadata": {
    "collapsed": false
   },
   "outputs": [],
   "source": [
    "using ForneyLab"
   ]
  },
  {
   "cell_type": "markdown",
   "metadata": {},
   "source": [
    "We want to create a simple factor graph where an incoming message is multiplied with a constant factor `A`.\n",
    "\n",
    "```\n",
    "node1  node2    node3\n",
    " [N]--->[A]----->[T]\n",
    "            out\n",
    "```\n",
    "\n",
    "First we initialize the Gaussian source node on the left by constructing a `PriorNode` and setting its value to a Gaussian probability distribution. We set the distribution mean and variance to 1. We also assign an (optional) name. After construction we inspect the node and its value. We see that the node's value is exactly what we set it to be."
   ]
  },
  {
   "cell_type": "code",
   "execution_count": 2,
   "metadata": {
    "collapsed": false
   },
   "outputs": [
    {
     "name": "stdout",
     "output_type": "stream",
     "text": [
      "ForneyLab.TerminalNode with id prior_node\n",
      "N(m=1.00, V=1.00)\n"
     ]
    }
   ],
   "source": [
    "PriorNode(GaussianDistribution(m=1.0, V=1.0), id=:prior_node)\n",
    "show(node(:prior_node))\n",
    "show(node(:prior_node).value)"
   ]
  },
  {
   "cell_type": "markdown",
   "metadata": {},
   "source": [
    "There is also a more compact way to access nodes."
   ]
  },
  {
   "cell_type": "code",
   "execution_count": 3,
   "metadata": {
    "collapsed": false
   },
   "outputs": [
    {
     "name": "stdout",
     "output_type": "stream",
     "text": [
      "ForneyLab.TerminalNode with id prior_node\n"
     ]
    }
   ],
   "source": [
    "show(n(:prior_node))"
   ]
  },
  {
   "cell_type": "markdown",
   "metadata": {},
   "source": [
    "Next, we initialize the multiplication by `A` by constructing a `FixedGain` node. Here, we set the multiplication factor to 2. We inspect the node and its multiplication factor and see everything is in order."
   ]
  },
  {
   "cell_type": "code",
   "execution_count": 4,
   "metadata": {
    "collapsed": false
   },
   "outputs": [
    {
     "name": "stdout",
     "output_type": "stream",
     "text": [
      "ForneyLab.FixedGainNode with id factor_multiplication_node\n",
      "[2.0]"
     ]
    }
   ],
   "source": [
    "FixedGainNode(2.0, id=:factor_multiplication_node)\n",
    "show(n(:factor_multiplication_node))\n",
    "show(n(:factor_multiplication_node).A)"
   ]
  },
  {
   "cell_type": "markdown",
   "metadata": {},
   "source": [
    "Lastly, we create the `TerminalNode` that completes our model."
   ]
  },
  {
   "cell_type": "code",
   "execution_count": 5,
   "metadata": {
    "collapsed": false
   },
   "outputs": [
    {
     "data": {
      "text/plain": [
       "ForneyLab.TerminalNode with id end_node\n"
      ]
     },
     "execution_count": 5,
     "metadata": {},
     "output_type": "execute_result"
    }
   ],
   "source": [
    "TerminalNode(id=:end_node)"
   ]
  },
  {
   "cell_type": "markdown",
   "metadata": {},
   "source": [
    "The next step is to connect the nodes with edges. Edges can optionally be given an id. When no id is provided, ForneyLab combines the ids of the tail and head (in that order)."
   ]
  },
  {
   "cell_type": "code",
   "execution_count": 6,
   "metadata": {
    "collapsed": false
   },
   "outputs": [],
   "source": [
    "Edge(n(:prior_node), n(:factor_multiplication_node).i[:in])\n",
    "Edge(n(:factor_multiplication_node).i[:out], n(:end_node), id=:y);"
   ]
  },
  {
   "cell_type": "markdown",
   "metadata": {},
   "source": [
    "Edges can be accessed through their ids."
   ]
  },
  {
   "cell_type": "code",
   "execution_count": 7,
   "metadata": {
    "collapsed": false
   },
   "outputs": [
    {
     "name": "stdout",
     "output_type": "stream",
     "text": [
      "Edge with id prior_node_factor_multiplication_node from prior_node.i[:out] to factor_multiplication_node.i[:in].\n"
     ]
    }
   ],
   "source": [
    "show(edge(:prior_node_factor_multiplication_node))"
   ]
  },
  {
   "cell_type": "markdown",
   "metadata": {},
   "source": [
    "That's it, the graph is ready. We can inspect our work by invoking `draw()`:"
   ]
  },
  {
   "cell_type": "code",
   "execution_count": 8,
   "metadata": {
    "collapsed": false,
    "scrolled": true
   },
   "outputs": [
    {
     "data": {
      "text/html": [
       "<?xml version=\"1.0\" encoding=\"UTF-8\" standalone=\"no\"?>\n",
       "<!DOCTYPE svg PUBLIC \"-//W3C//DTD SVG 1.1//EN\"\n",
       " \"http://www.w3.org/Graphics/SVG/1.1/DTD/svg11.dtd\">\n",
       "<!-- Generated by graphviz version 2.38.0 (20140413.2041)\n",
       " -->\n",
       "<!-- Title: G Pages: 1 -->\n",
       "<svg width=\"123pt\" height=\"315pt\"\n",
       " viewBox=\"0.00 0.00 123.23 314.94\" xmlns=\"http://www.w3.org/2000/svg\" xmlns:xlink=\"http://www.w3.org/1999/xlink\">\n",
       "<g id=\"graph0\" class=\"graph\" transform=\"scale(1 1) rotate(0) translate(4 310.938)\">\n",
       "<title>G</title>\n",
       "<polygon fill=\"white\" stroke=\"none\" points=\"-4,4 -4,-310.938 119.229,-310.938 119.229,4 -4,4\"/>\n",
       "<!-- 3047027138709170343 -->\n",
       "<g id=\"node1\" class=\"node\"><title>3047027138709170343</title>\n",
       "<polygon fill=\"lightgrey\" stroke=\"black\" points=\"84.6143,-54 30.6143,-54 30.6143,-0 84.6143,-0 84.6143,-54\"/>\n",
       "<text text-anchor=\"middle\" x=\"57.6143\" y=\"-24.3\" font-family=\"Times,serif\" font-size=\"9.00\">end_node</text>\n",
       "</g>\n",
       "<!-- 4305495287659914237 -->\n",
       "<g id=\"node2\" class=\"node\"><title>4305495287659914237</title>\n",
       "<polygon fill=\"none\" stroke=\"black\" points=\"115.343,-189.469 -0.114485,-189.469 -0.114485,-117.469 115.343,-117.469 115.343,-189.469\"/>\n",
       "<text text-anchor=\"middle\" x=\"57.6143\" y=\"-155.269\" font-family=\"Times,serif\" font-size=\"9.00\">ForneyLab.FixedGainNode</text>\n",
       "<text text-anchor=\"middle\" x=\"57.6143\" y=\"-146.269\" font-family=\"Times,serif\" font-size=\"9.00\">factor_multiplication_node</text>\n",
       "</g>\n",
       "<!-- 4305495287659914237&#45;&gt;3047027138709170343 -->\n",
       "<g id=\"edge1\" class=\"edge\"><title>4305495287659914237&#45;&gt;3047027138709170343</title>\n",
       "<path fill=\"none\" stroke=\"black\" d=\"M57.6143,-117.466C57.6143,-100.793 57.6143,-80.8725 57.6143,-64.0653\"/>\n",
       "<polygon fill=\"none\" stroke=\"black\" points=\"61.1144,-64.0595 57.6143,-54.0596 54.1144,-64.0596 61.1144,-64.0595\"/>\n",
       "<text text-anchor=\"middle\" x=\"85.7295\" y=\"-93.0687\" font-family=\"Times,serif\" font-size=\"8.00\">FW: ○</text>\n",
       "<text text-anchor=\"middle\" x=\"85.7295\" y=\"-83.3344\" font-family=\"Times,serif\" font-size=\"8.00\">BW: ○</text>\n",
       "<text text-anchor=\"middle\" x=\"85.7295\" y=\"-73.6\" font-family=\"Times,serif\" font-size=\"8.00\">Distribution: Any</text>\n",
       "<text text-anchor=\"middle\" x=\"49.5029\" y=\"-55.6596\" font-family=\"Times,serif\" font-size=\"8.00\">1 out</text>\n",
       "<text text-anchor=\"middle\" x=\"49.5029\" y=\"-111.066\" font-family=\"Times,serif\" font-size=\"8.00\">2 out</text>\n",
       "</g>\n",
       "<!-- 693401599345903257 -->\n",
       "<g id=\"node3\" class=\"node\"><title>693401599345903257</title>\n",
       "<polygon fill=\"lightgrey\" stroke=\"black\" points=\"85.6057,-306.938 29.6228,-306.938 29.6228,-252.938 85.6057,-252.938 85.6057,-306.938\"/>\n",
       "<text text-anchor=\"middle\" x=\"57.6143\" y=\"-277.238\" font-family=\"Times,serif\" font-size=\"9.00\">prior_node</text>\n",
       "</g>\n",
       "<!-- 693401599345903257&#45;&gt;4305495287659914237 -->\n",
       "<g id=\"edge2\" class=\"edge\"><title>693401599345903257&#45;&gt;4305495287659914237</title>\n",
       "<path fill=\"none\" stroke=\"black\" d=\"M57.6143,-252.845C57.6143,-237.47 57.6143,-217.593 57.6143,-199.734\"/>\n",
       "<polygon fill=\"none\" stroke=\"black\" points=\"61.1144,-199.501 57.6143,-189.501 54.1144,-199.501 61.1144,-199.501\"/>\n",
       "<text text-anchor=\"middle\" x=\"85.7295\" y=\"-228.537\" font-family=\"Times,serif\" font-size=\"8.00\">FW: ○</text>\n",
       "<text text-anchor=\"middle\" x=\"85.7295\" y=\"-218.803\" font-family=\"Times,serif\" font-size=\"8.00\">BW: ○</text>\n",
       "<text text-anchor=\"middle\" x=\"85.7295\" y=\"-209.069\" font-family=\"Times,serif\" font-size=\"8.00\">Distribution: Any</text>\n",
       "<text text-anchor=\"middle\" x=\"51.5029\" y=\"-191.101\" font-family=\"Times,serif\" font-size=\"8.00\">1 in</text>\n",
       "<text text-anchor=\"middle\" x=\"49.5029\" y=\"-246.445\" font-family=\"Times,serif\" font-size=\"8.00\">1 out</text>\n",
       "</g>\n",
       "</g>\n",
       "</svg>\n"
      ]
     },
     "metadata": {},
     "output_type": "display_data"
    }
   ],
   "source": [
    "draw() # Visualizes the current graph"
   ]
  },
  {
   "cell_type": "markdown",
   "metadata": {},
   "source": [
    "Message calculation example\n",
    "---------------------------\n",
    "---\n",
    "Now suppose we want to calculate the sum-product message from the multiplication node towards the terminal node. We can do this by  defining a sum-product algorithm that implements a message passing schedule towards the `out` interface of the multiplication node. "
   ]
  },
  {
   "cell_type": "code",
   "execution_count": 9,
   "metadata": {
    "collapsed": false
   },
   "outputs": [
    {
     "name": "stdout",
     "output_type": "stream",
     "text": [
      "Message passing schedule (entry: node [interface], rule)\n",
      "------------------------------------------------------\n",
      "1: ForneyLab.TerminalNode prior_node [1:out], ForneyLab.sumProduct! \n",
      "2: ForneyLab.FixedGainNode factor_multiplication_node [2:out], ForneyLab.sumProduct! \n"
     ]
    }
   ],
   "source": [
    "algo = SumProduct.Algorithm(n(:factor_multiplication_node).i[:out])\n",
    "show(algo.fields[:schedule])"
   ]
  },
  {
   "cell_type": "markdown",
   "metadata": {},
   "source": [
    "Now we can run the algorithm in order to calculate our message of interest."
   ]
  },
  {
   "cell_type": "code",
   "execution_count": 10,
   "metadata": {
    "collapsed": false
   },
   "outputs": [
    {
     "data": {
      "text/plain": [
       "ForneyLab.Message{ForneyLab.GaussianDistribution} with payload N(m=2.00, V=4.00)\n",
       "\n"
      ]
     },
     "execution_count": 10,
     "metadata": {},
     "output_type": "execute_result"
    }
   ],
   "source": [
    "run(algo)"
   ]
  }
 ],
 "metadata": {
  "kernelspec": {
   "display_name": "Julia 0.4.0",
   "language": "julia",
   "name": "julia-0.4"
  },
  "language_info": {
   "file_extension": ".jl",
   "mimetype": "application/julia",
   "name": "julia",
   "version": "0.4.0"
  }
 },
 "nbformat": 4,
 "nbformat_minor": 0
}
