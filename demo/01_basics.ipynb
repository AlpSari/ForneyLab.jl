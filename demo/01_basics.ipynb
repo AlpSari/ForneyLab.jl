{
 "cells": [
  {
   "cell_type": "markdown",
   "metadata": {},
   "source": [
    "ForneyLab.jl basics tutorial\n",
    "============================\n",
    "This is the first tutorial in a series of practical demos that showcase ForneyLab in action. In this demo we show how to build a basic factor graph and how to calculate a sum-product message. For clarification on the basic types and functionality of the ForneyLab.jl toolbox please consult the [ForneyLab documentation](http://spsbrats.github.io/ForneyLab/documentation). We assume the reader has basic knowledge of message passing algorithms and factor graphs. \n",
    "\n",
    "If you are following this tutorial online you do not need to install Julia. However, for working with the ForneyLab.jl toolbox on your own machine and executing the demo code you need to install Julia (v.0.3). Installation instructions can be found on the Julia webpage and the `README.md` file."
   ]
  },
  {
   "cell_type": "markdown",
   "metadata": {},
   "source": [
    "Graph contruction example\n",
    "-------------------------\n",
    "---\n",
    "Before starting any project, we need to include the ForneyLab toolbox."
   ]
  },
  {
   "cell_type": "code",
   "execution_count": 1,
   "metadata": {
    "collapsed": false
   },
   "outputs": [],
   "source": [
    "using ForneyLab"
   ]
  },
  {
   "cell_type": "markdown",
   "metadata": {},
   "source": [
    "We want to create a simple factor graph where an incoming message is multiplied with a constant factor `A`.\n",
    "\n",
    "```\n",
    "node1  node2    node3\n",
    " [N]--->[A]----->[T]\n",
    "            out\n",
    "```\n",
    "\n",
    "First we initialize the Gaussian source node on the left by constructing a `PriorNode` and setting its value to a Gaussian probability distribution. We set the distribution mean and variance to 1. We also assign an (optional) name. After construction we inspect the node and its value. We see that the node's value is exactly what we set it to be."
   ]
  },
  {
   "cell_type": "code",
   "execution_count": 2,
   "metadata": {
    "collapsed": false
   },
   "outputs": [
    {
     "name": "stdout",
     "output_type": "stream",
     "text": [
      "TerminalNode with id prior_node\n",
      "N(m=[1.00], V=[[1.00]])\n"
     ]
    }
   ],
   "source": [
    "PriorNode(GaussianDistribution(m=1.0, V=1.0), id=:prior_node)\n",
    "show(n(:prior_node))\n",
    "show(n(:prior_node).value)"
   ]
  },
  {
   "cell_type": "markdown",
   "metadata": {},
   "source": [
    "Next, we initialize the multiplication by `A` by constructing a `FixedGain` node. Here, we set the multiplication factor to 2. We inspect the node and its multiplication factor and see everything is in order."
   ]
  },
  {
   "cell_type": "code",
   "execution_count": 3,
   "metadata": {
    "collapsed": false
   },
   "outputs": [
    {
     "name": "stdout",
     "output_type": "stream",
     "text": [
      "FixedGainNode with id factor_multiplication_node\n",
      "[2.0]"
     ]
    }
   ],
   "source": [
    "FixedGainNode(2.0, id=:factor_multiplication_node)\n",
    "show(n(:factor_multiplication_node))\n",
    "show(n(:factor_multiplication_node).A)"
   ]
  },
  {
   "cell_type": "markdown",
   "metadata": {},
   "source": [
    "Lastly, we create the `TerminalNode` that completes out model."
   ]
  },
  {
   "cell_type": "code",
   "execution_count": 4,
   "metadata": {
    "collapsed": false
   },
   "outputs": [
    {
     "data": {
      "text/plain": [
       "TerminalNode with id end_node\n"
      ]
     },
     "execution_count": 4,
     "metadata": {},
     "output_type": "execute_result"
    }
   ],
   "source": [
    "TerminalNode(id=:end_node)"
   ]
  },
  {
   "cell_type": "markdown",
   "metadata": {},
   "source": [
    "The next step is to connect the nodes with edges."
   ]
  },
  {
   "cell_type": "code",
   "execution_count": 5,
   "metadata": {
    "collapsed": false
   },
   "outputs": [],
   "source": [
    "Edge(n(:prior_node), n(:factor_multiplication_node).i[:in])\n",
    "Edge(n(:factor_multiplication_node).i[:out], n(:end_node));"
   ]
  },
  {
   "cell_type": "markdown",
   "metadata": {},
   "source": [
    "That's it, the graph is ready. We can inspect our work by invoking `draw()`:"
   ]
  },
  {
   "cell_type": "code",
   "execution_count": 6,
   "metadata": {
    "collapsed": false
   },
   "outputs": [
    {
     "data": {
      "text/html": [
       "<img src=\"data:image/gif;base64,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\" />"
      ]
     },
     "metadata": {},
     "output_type": "display_data"
    }
   ],
   "source": [
    "draw() # Visualizes the current graph"
   ]
  },
  {
   "cell_type": "markdown",
   "metadata": {},
   "source": [
    "Message calculation example\n",
    "---------------------------\n",
    "---\n",
    "Now suppose we want to calculate the sum-product message from the multiplication node towards the terminal node. We can do this by  defining a sum-product algorithm that implements a message passing schedule towards the `out` interface of the multiplication node. "
   ]
  },
  {
   "cell_type": "code",
   "execution_count": 7,
   "metadata": {
    "collapsed": false
   },
   "outputs": [
    {
     "name": "stdout",
     "output_type": "stream",
     "text": [
      "Message passing schedule (entry: node [interface], rule)\n",
      "------------------------------------------------------\n",
      "1: TerminalNode prior_node [1:out], sumProduct! \n",
      "2: FixedGainNode factor_multiplication_node [2:out], sumProduct! \n"
     ]
    }
   ],
   "source": [
    "algo = SumProduct.Algorithm(n(:factor_multiplication_node).i[:out])\n",
    "show(algo.fields[:schedule])"
   ]
  },
  {
   "cell_type": "markdown",
   "metadata": {},
   "source": [
    "Now we can run the algorithm in order to calculate our message of interest."
   ]
  },
  {
   "cell_type": "code",
   "execution_count": 8,
   "metadata": {
    "collapsed": false
   },
   "outputs": [
    {
     "data": {
      "text/plain": [
       "Message{GaussianDistribution} with payload N(m=[2.00], V=[[4.00]])\n",
       "\n"
      ]
     },
     "execution_count": 8,
     "metadata": {},
     "output_type": "execute_result"
    }
   ],
   "source": [
    "run(algo)"
   ]
  }
 ],
 "metadata": {
  "kernelspec": {
   "display_name": "Julia 0.3.7",
   "language": "julia",
   "name": "julia 0.3"
  },
  "language_info": {
   "name": "julia",
   "version": "0.3.7"
  }
 },
 "nbformat": 4,
 "nbformat_minor": 0
}
