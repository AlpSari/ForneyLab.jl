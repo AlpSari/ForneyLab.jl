{
 "cells": [
  {
   "cell_type": "markdown",
   "metadata": {},
   "source": [
    "ForneyLab.jl basics tutorial\n",
    "============================\n",
    "This is the first tutorial in a series of practical demos that showcase ForneyLab in action. In this demo we show how to build a basic factor graph and how to calculate a sum-product message. For clarification on the basic types and functionality of the ForneyLab.jl toolbox please consult the [ForneyLab documentation](http://spsbrats.github.io/ForneyLab/documentation). We assume the reader has basic knowledge of message passing algorithms and factor graphs. \n",
    "\n",
    "If you are following this tutorial online you do not need to install Julia. However, for working with the ForneyLab.jl toolbox on your own machine and executing the demo code you need to install Julia (v.0.3). Installation instructions can be found on the Julia webpage and the `README.md` file."
   ]
  },
  {
   "cell_type": "markdown",
   "metadata": {},
   "source": [
    "Graph contruction example\n",
    "-------------------------\n",
    "---\n",
    "Before starting any project, we need to include the ForneyLab toolbox."
   ]
  },
  {
   "cell_type": "code",
   "execution_count": 1,
   "metadata": {
    "collapsed": false
   },
   "outputs": [],
   "source": [
    "using ForneyLab"
   ]
  },
  {
   "cell_type": "markdown",
   "metadata": {},
   "source": [
    "We want to create a simple factor graph where an incoming message is multiplied with a constant factor `A`.\n",
    "\n",
    "```\n",
    "node1  node2    node3\n",
    " [N]--->[A]----->[T]\n",
    "            out\n",
    "```\n",
    "\n",
    "First we initialize the Gaussian source node on the left by constructing a `PriorNode` and setting its value to a Gaussian probability distribution. We set the distribution mean and variance to 1. We also assign an (optional) name. After construction we inspect the node and its value. We see that the node's value is exactly what we set it to be."
   ]
  },
  {
   "cell_type": "code",
   "execution_count": 2,
   "metadata": {
    "collapsed": false
   },
   "outputs": [
    {
     "name": "stdout",
     "output_type": "stream",
     "text": [
      "ForneyLab.TerminalNode with id prior_node\n",
      "N(m=1.00, V=1.00)\n"
     ]
    }
   ],
   "source": [
    "PriorNode(Gaussian(m=1.0, V=1.0), id=:prior_node)\n",
    "show(node(:prior_node))\n",
    "show(node(:prior_node).value)"
   ]
  },
  {
   "cell_type": "markdown",
   "metadata": {},
   "source": [
    "There is also a more compact way to access nodes."
   ]
  },
  {
   "cell_type": "code",
   "execution_count": 3,
   "metadata": {
    "collapsed": false
   },
   "outputs": [
    {
     "name": "stdout",
     "output_type": "stream",
     "text": [
      "ForneyLab.TerminalNode with id prior_node\n"
     ]
    }
   ],
   "source": [
    "show(n(:prior_node))"
   ]
  },
  {
   "cell_type": "markdown",
   "metadata": {},
   "source": [
    "Next, we initialize the multiplication by `A` by constructing a `FixedGain` node. Here, we set the multiplication factor to 2. We inspect the node and its multiplication factor and see everything is in order."
   ]
  },
  {
   "cell_type": "code",
   "execution_count": 4,
   "metadata": {
    "collapsed": false
   },
   "outputs": [
    {
     "name": "stdout",
     "output_type": "stream",
     "text": [
      "ForneyLab.GainNode with id factor_multiplication_node\n",
      "[2.0]"
     ]
    }
   ],
   "source": [
    "GainNode(gain=2.0, id=:factor_multiplication_node)\n",
    "show(n(:factor_multiplication_node))\n",
    "show(n(:factor_multiplication_node).gain)"
   ]
  },
  {
   "cell_type": "markdown",
   "metadata": {},
   "source": [
    "Lastly, we create the `TerminalNode` that completes our model."
   ]
  },
  {
   "cell_type": "code",
   "execution_count": 5,
   "metadata": {
    "collapsed": false
   },
   "outputs": [
    {
     "data": {
      "text/plain": [
       "ForneyLab.TerminalNode with id end_node\n"
      ]
     },
     "execution_count": 5,
     "metadata": {},
     "output_type": "execute_result"
    }
   ],
   "source": [
    "TerminalNode(id=:end_node)"
   ]
  },
  {
   "cell_type": "markdown",
   "metadata": {},
   "source": [
    "The next step is to connect the nodes with edges. Edges can optionally be given an id. When no id is provided, ForneyLab combines the ids of the tail and head (in that order)."
   ]
  },
  {
   "cell_type": "code",
   "execution_count": 6,
   "metadata": {
    "collapsed": false
   },
   "outputs": [],
   "source": [
    "Edge(n(:prior_node), n(:factor_multiplication_node).i[:in])\n",
    "Edge(n(:factor_multiplication_node).i[:out], n(:end_node), id=:y);"
   ]
  },
  {
   "cell_type": "markdown",
   "metadata": {},
   "source": [
    "Edges can be accessed through their ids."
   ]
  },
  {
   "cell_type": "code",
   "execution_count": 7,
   "metadata": {
    "collapsed": false
   },
   "outputs": [
    {
     "name": "stdout",
     "output_type": "stream",
     "text": [
      "Edge with id prior_node_factor_multiplication_node from prior_node.i[out] to factor_multiplication_node.i[in].\n"
     ]
    }
   ],
   "source": [
    "show(eg(:prior_node_factor_multiplication_node))"
   ]
  },
  {
   "cell_type": "markdown",
   "metadata": {},
   "source": [
    "That's it, the graph is ready. We can inspect our work by invoking `draw()`:"
   ]
  },
  {
   "cell_type": "code",
   "execution_count": 8,
   "metadata": {
    "collapsed": false,
    "scrolled": true
   },
   "outputs": [
    {
     "data": {
      "text/html": [
       "<?xml version=\"1.0\" encoding=\"UTF-8\" standalone=\"no\"?>\n",
       "<!DOCTYPE svg PUBLIC \"-//W3C//DTD SVG 1.1//EN\"\n",
       " \"http://www.w3.org/Graphics/SVG/1.1/DTD/svg11.dtd\">\n",
       "<!-- Generated by graphviz version 2.36.0 (20140111.2315)\n",
       " -->\n",
       "<!-- Title: G Pages: 1 -->\n",
       "<svg width=\"118pt\" height=\"260pt\"\n",
       " viewBox=\"0.00 0.00 118.00 260.00\" xmlns=\"http://www.w3.org/2000/svg\" xmlns:xlink=\"http://www.w3.org/1999/xlink\">\n",
       "<g id=\"graph0\" class=\"graph\" transform=\"scale(1 1) rotate(0) translate(4 256)\">\n",
       "<title>G</title>\n",
       "<polygon fill=\"white\" stroke=\"none\" points=\"-4,4 -4,-256 114,-256 114,4 -4,4\"/>\n",
       "<!-- 5020408712333339793 -->\n",
       "<g id=\"node1\" class=\"node\"><title>5020408712333339793</title>\n",
       "<polygon fill=\"lightgrey\" stroke=\"black\" points=\"82.5,-252 27.5,-252 27.5,-198 82.5,-198 82.5,-252\"/>\n",
       "<text text-anchor=\"middle\" x=\"55\" y=\"-222.8\" font-family=\"Times,serif\" font-size=\"9.00\">prior_node</text>\n",
       "</g>\n",
       "<!-- 11477614394547751938 -->\n",
       "<g id=\"node3\" class=\"node\"><title>11477614394547751938</title>\n",
       "<polygon fill=\"none\" stroke=\"black\" points=\"110.25,-162 -0.25,-162 -0.25,-90 110.25,-90 110.25,-162\"/>\n",
       "<text text-anchor=\"middle\" x=\"55\" y=\"-128.8\" font-family=\"Times,serif\" font-size=\"9.00\">GainNode</text>\n",
       "<text text-anchor=\"middle\" x=\"55\" y=\"-118.8\" font-family=\"Times,serif\" font-size=\"9.00\">factor_multiplication_node</text>\n",
       "</g>\n",
       "<!-- 5020408712333339793&#45;&gt;11477614394547751938 -->\n",
       "<g id=\"edge2\" class=\"edge\"><title>5020408712333339793&#45;&gt;11477614394547751938</title>\n",
       "<path fill=\"none\" stroke=\"black\" d=\"M55,-197.75C55,-189.846 55,-180.936 55,-172.171\"/>\n",
       "<polygon fill=\"none\" stroke=\"black\" points=\"58.5001,-172.017 55,-162.017 51.5001,-172.017 58.5001,-172.017\"/>\n",
       "<text text-anchor=\"middle\" x=\"48.5\" y=\"-164.617\" font-family=\"Times,serif\" font-size=\"8.00\">1 in</text>\n",
       "<text text-anchor=\"middle\" x=\"47\" y=\"-191.35\" font-family=\"Times,serif\" font-size=\"8.00\">1 out</text>\n",
       "</g>\n",
       "<!-- 2242546511018874913 -->\n",
       "<g id=\"node2\" class=\"node\"><title>2242546511018874913</title>\n",
       "<polygon fill=\"lightgrey\" stroke=\"black\" points=\"82,-54 28,-54 28,-0 82,-0 82,-54\"/>\n",
       "<text text-anchor=\"middle\" x=\"55\" y=\"-24.8\" font-family=\"Times,serif\" font-size=\"9.00\">end_node</text>\n",
       "</g>\n",
       "<!-- 11477614394547751938&#45;&gt;2242546511018874913 -->\n",
       "<g id=\"edge1\" class=\"edge\"><title>11477614394547751938&#45;&gt;2242546511018874913</title>\n",
       "<path fill=\"none\" stroke=\"black\" d=\"M55,-89.9808C55,-81.6627 55,-72.77 55,-64.3922\"/>\n",
       "<polygon fill=\"none\" stroke=\"black\" points=\"58.5001,-64.1377 55,-54.1378 51.5001,-64.1378 58.5001,-64.1377\"/>\n",
       "<text text-anchor=\"middle\" x=\"47\" y=\"-56.7378\" font-family=\"Times,serif\" font-size=\"8.00\">1 out</text>\n",
       "<text text-anchor=\"middle\" x=\"47\" y=\"-83.5808\" font-family=\"Times,serif\" font-size=\"8.00\">2 out</text>\n",
       "</g>\n",
       "</g>\n",
       "</svg>\n"
      ]
     },
     "metadata": {},
     "output_type": "display_data"
    }
   ],
   "source": [
    "draw() # Visualizes the current graph"
   ]
  },
  {
   "cell_type": "markdown",
   "metadata": {},
   "source": [
    "Message calculation example\n",
    "---------------------------\n",
    "---\n",
    "Now suppose we want to calculate the sum-product message from the multiplication node towards the terminal node. We can do this by  defining a sum-product algorithm that implements a message passing schedule towards the `out` interface of the multiplication node. "
   ]
  },
  {
   "cell_type": "code",
   "execution_count": 9,
   "metadata": {
    "collapsed": false
   },
   "outputs": [
    {
     "name": "stdout",
     "output_type": "stream",
     "text": [
      "Message passing schedule\n",
      "-----------------------------------------------\n",
      "1.\n",
      "sumProductRule! on TerminalNode prior_node interface 1 (out)\n",
      "[Void] -> Message{Gaussian}\n",
      "\n",
      "2.\n",
      "sumProductRule! on GainNode factor_multiplication_node interface 2 (out)\n",
      "[Message{Gaussian},Void] -> Message{Gaussian}\n",
      "\n"
     ]
    }
   ],
   "source": [
    "algo = SumProduct(n(:factor_multiplication_node).i[:out])\n",
    "show(algo.schedule)"
   ]
  },
  {
   "cell_type": "markdown",
   "metadata": {},
   "source": [
    "Now we can run the algorithm in order to calculate our message of interest."
   ]
  },
  {
   "cell_type": "code",
   "execution_count": 10,
   "metadata": {
    "collapsed": false
   },
   "outputs": [
    {
     "data": {
      "text/plain": [
       "ForneyLab.Message{ForneyLab.Gaussian} with payload N(m=2.00, V=4.00)\n",
       "\n"
      ]
     },
     "execution_count": 10,
     "metadata": {},
     "output_type": "execute_result"
    }
   ],
   "source": [
    "run(algo)"
   ]
  },
  {
   "cell_type": "code",
   "execution_count": null,
   "metadata": {
    "collapsed": true
   },
   "outputs": [],
   "source": []
  }
 ],
 "metadata": {
  "kernelspec": {
   "display_name": "Julia 0.4.0",
   "language": "julia",
   "name": "julia-0.4"
  },
  "language_info": {
   "file_extension": ".jl",
   "mimetype": "application/julia",
   "name": "julia",
   "version": "0.4.0"
  }
 },
 "nbformat": 4,
 "nbformat_minor": 0
}
