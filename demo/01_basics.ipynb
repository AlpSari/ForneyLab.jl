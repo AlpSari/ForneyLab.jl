{
 "cells": [
  {
   "cell_type": "markdown",
   "metadata": {},
   "source": [
    "ForneyLab.jl basics tutorial\n",
    "============================\n",
    "This is the first tutorial in a series of practical demos that showcase ForneyLab in action. In this demo we show how to build a basic factor graph and how to calculate a sum-product message. For clarification on the basic types and functionality of the ForneyLab.jl toolbox please consult the [ForneyLab documentation](http://spsbrats.github.io/ForneyLab/documentation). We assume the reader has basic knowledge of message passing algorithms and factor graphs. \n",
    "\n",
    "If you are following this tutorial online you do not need to install Julia. However, for working with the ForneyLab.jl toolbox on your own machine and executing the demo code you need to install Julia (v.0.3). Installation instructions can be found on the Julia webpage and the `README.md` file."
   ]
  },
  {
   "cell_type": "markdown",
   "metadata": {},
   "source": [
    "Graph contruction example\n",
    "-------------------------\n",
    "---\n",
    "Before starting any project, we need to include the ForneyLab toolbox."
   ]
  },
  {
   "cell_type": "code",
   "execution_count": 1,
   "metadata": {
    "collapsed": false
   },
   "outputs": [],
   "source": [
    "using ForneyLab"
   ]
  },
  {
   "cell_type": "markdown",
   "metadata": {},
   "source": [
    "We want to create a simple factor graph where an incoming message is multiplied with a constant factor `A`.\n",
    "\n",
    "```\n",
    "node1  node2    node3\n",
    " [N]--->[A]----->[T]\n",
    "            out\n",
    "```\n",
    "\n",
    "First we initialize the Gaussian source node on the left by constructing a `PriorNode` and setting its value to a Gaussian probability distribution. We set the distribution mean and variance to 1. We also assign an (optional) name. After construction we inspect the node and its value. We see that the node's value is exactly what we set it to be."
   ]
  },
  {
   "cell_type": "code",
   "execution_count": 2,
   "metadata": {
    "collapsed": false
   },
   "outputs": [
    {
     "name": "stdout",
     "output_type": "stream",
     "text": [
      "TerminalNode with id prior_node\n"
     ]
    },
    {
     "name": "stdout",
     "output_type": "stream",
     "text": [
      "N(m=[1.00], V=[[1.00]])\n"
     ]
    }
   ],
   "source": [
    "PriorNode(GaussianDistribution(m=1.0, V=1.0), id=:prior_node)\n",
    "show(node(:prior_node))\n",
    "show(node(:prior_node).value)"
   ]
  },
  {
   "cell_type": "markdown",
   "metadata": {},
   "source": [
    "There is also a more compact way to access nodes."
   ]
  },
  {
   "cell_type": "code",
   "execution_count": 3,
   "metadata": {
    "collapsed": false
   },
   "outputs": [
    {
     "name": "stdout",
     "output_type": "stream",
     "text": [
      "TerminalNode with id prior_node\n"
     ]
    }
   ],
   "source": [
    "show(n(:prior_node))"
   ]
  },
  {
   "cell_type": "markdown",
   "metadata": {},
   "source": [
    "Next, we initialize the multiplication by `A` by constructing a `FixedGain` node. Here, we set the multiplication factor to 2. We inspect the node and its multiplication factor and see everything is in order."
   ]
  },
  {
   "cell_type": "code",
   "execution_count": 4,
   "metadata": {
    "collapsed": false
   },
   "outputs": [
    {
     "name": "stdout",
     "output_type": "stream",
     "text": [
      "FixedGainNode with id factor_multiplication_node"
     ]
    },
    {
     "name": "stdout",
     "output_type": "stream",
     "text": [
      "\n",
      "["
     ]
    },
    {
     "name": "stdout",
     "output_type": "stream",
     "text": [
      "2.0]"
     ]
    }
   ],
   "source": [
    "FixedGainNode(2.0, id=:factor_multiplication_node)\n",
    "show(n(:factor_multiplication_node))\n",
    "show(n(:factor_multiplication_node).A)"
   ]
  },
  {
   "cell_type": "markdown",
   "metadata": {},
   "source": [
    "Lastly, we create the `TerminalNode` that completes out model."
   ]
  },
  {
   "cell_type": "code",
   "execution_count": 5,
   "metadata": {
    "collapsed": false
   },
   "outputs": [
    {
     "data": {
      "text/plain": [
       "TerminalNode with id end_node\n"
      ]
     },
     "execution_count": 5,
     "metadata": {},
     "output_type": "execute_result"
    }
   ],
   "source": [
    "TerminalNode(id=:end_node)"
   ]
  },
  {
   "cell_type": "markdown",
   "metadata": {},
   "source": [
    "The next step is to connect the nodes with edges. Edges can optionally be given an id. When no id is provided, ForneyLab combines the ids of the tail and head (in that order)."
   ]
  },
  {
   "cell_type": "code",
   "execution_count": 6,
   "metadata": {
    "collapsed": false
   },
   "outputs": [],
   "source": [
    "Edge(n(:prior_node), n(:factor_multiplication_node).i[:in])\n",
    "Edge(n(:factor_multiplication_node).i[:out], n(:end_node), id=:y);"
   ]
  },
  {
   "cell_type": "markdown",
   "metadata": {},
   "source": [
    "Edges can be accessed through their ids, in verbose and compact notation."
   ]
  },
  {
   "cell_type": "code",
   "execution_count": 7,
   "metadata": {
    "collapsed": false
   },
   "outputs": [
    {
     "name": "stdout",
     "output_type": "stream",
     "text": [
      "Edge with id prior_node_factor_multiplication_node from prior_node.i[:out] to factor_multiplication_node.i[:in].\n"
     ]
    },
    {
     "name": "stdout",
     "output_type": "stream",
     "text": [
      "Edge with id y from factor_multiplication_node.i[:out] to end_node.i[:out].\n"
     ]
    }
   ],
   "source": [
    "show(edge(:prior_node_factor_multiplication_node))\n",
    "show(e(:y))"
   ]
  },
  {
   "cell_type": "markdown",
   "metadata": {},
   "source": [
    "That's it, the graph is ready. We can inspect our work by invoking `draw()`:"
   ]
  },
  {
   "cell_type": "code",
   "execution_count": 8,
   "metadata": {
    "collapsed": false,
    "scrolled": true
   },
   "outputs": [
    {
     "data": {
      "text/html": [
       "<?xml version=\"1.0\" encoding=\"UTF-8\" standalone=\"no\"?>\n",
       "<!DOCTYPE svg PUBLIC \"-//W3C//DTD SVG 1.1//EN\"\n",
       " \"http://www.w3.org/Graphics/SVG/1.1/DTD/svg11.dtd\">\n",
       "<!-- Generated by graphviz version 2.36.0 (20140111.2315)\n",
       " -->\n",
       "<!-- Title: G Pages: 1 -->\n",
       "<svg width=\"120pt\" height=\"316pt\"\n",
       " viewBox=\"0.00 0.00 120.00 316.00\" xmlns=\"http://www.w3.org/2000/svg\" xmlns:xlink=\"http://www.w3.org/1999/xlink\">\n",
       "<g id=\"graph0\" class=\"graph\" transform=\"scale(1 1) rotate(0) translate(4 312)\">\n",
       "<title>G</title>\n",
       "<polygon fill=\"white\" stroke=\"none\" points=\"-4,4 -4,-312 116,-312 116,4 -4,4\"/>\n",
       "<!-- 2119643618463187072 -->\n",
       "<g id=\"node1\" class=\"node\"><title>2119643618463187072</title>\n",
       "<polygon fill=\"lightgrey\" stroke=\"black\" points=\"82.5,-308 27.5,-308 27.5,-254 82.5,-254 82.5,-308\"/>\n",
       "<text text-anchor=\"middle\" x=\"55\" y=\"-278.8\" font-family=\"Times,serif\" font-size=\"9.00\">prior_node</text>\n",
       "</g>\n",
       "<!-- 1747972883356198987 -->\n",
       "<g id=\"node3\" class=\"node\"><title>1747972883356198987</title>\n",
       "<polygon fill=\"none\" stroke=\"black\" points=\"110.25,-190 -0.25,-190 -0.25,-118 110.25,-118 110.25,-190\"/>\n",
       "<text text-anchor=\"middle\" x=\"55\" y=\"-156.8\" font-family=\"Times,serif\" font-size=\"9.00\">FixedGainNode</text>\n",
       "<text text-anchor=\"middle\" x=\"55\" y=\"-146.8\" font-family=\"Times,serif\" font-size=\"9.00\">factor_multiplication_node</text>\n",
       "</g>\n",
       "<!-- 2119643618463187072&#45;&gt;1747972883356198987 -->\n",
       "<g id=\"edge1\" class=\"edge\"><title>2119643618463187072&#45;&gt;1747972883356198987</title>\n",
       "<path fill=\"none\" stroke=\"black\" d=\"M55,-253.796C55,-238.284 55,-218.207 55,-200.207\"/>\n",
       "<polygon fill=\"none\" stroke=\"black\" points=\"58.5001,-200.182 55,-190.182 51.5001,-200.182 58.5001,-200.182\"/>\n",
       "<text text-anchor=\"middle\" x=\"83.5\" y=\"-229.1\" font-family=\"Times,serif\" font-size=\"8.00\">FW: ○</text>\n",
       "<text text-anchor=\"middle\" x=\"83.5\" y=\"-220.1\" font-family=\"Times,serif\" font-size=\"8.00\">BW: ○</text>\n",
       "<text text-anchor=\"middle\" x=\"83.5\" y=\"-211.1\" font-family=\"Times,serif\" font-size=\"8.00\">Distribution: Any</text>\n",
       "<text text-anchor=\"middle\" x=\"48.5\" y=\"-192.782\" font-family=\"Times,serif\" font-size=\"8.00\">1 in</text>\n",
       "<text text-anchor=\"middle\" x=\"47\" y=\"-247.396\" font-family=\"Times,serif\" font-size=\"8.00\">1 out</text>\n",
       "</g>\n",
       "<!-- 318913969658651498 -->\n",
       "<g id=\"node2\" class=\"node\"><title>318913969658651498</title>\n",
       "<polygon fill=\"lightgrey\" stroke=\"black\" points=\"82,-54 28,-54 28,-0 82,-0 82,-54\"/>\n",
       "<text text-anchor=\"middle\" x=\"55\" y=\"-24.8\" font-family=\"Times,serif\" font-size=\"9.00\">end_node</text>\n",
       "</g>\n",
       "<!-- 1747972883356198987&#45;&gt;318913969658651498 -->\n",
       "<g id=\"edge2\" class=\"edge\"><title>1747972883356198987&#45;&gt;318913969658651498</title>\n",
       "<path fill=\"none\" stroke=\"black\" d=\"M55,-117.848C55,-101.104 55,-81.0982 55,-64.2192\"/>\n",
       "<polygon fill=\"none\" stroke=\"black\" points=\"58.5001,-64.1708 55,-54.1708 51.5001,-64.1708 58.5001,-64.1708\"/>\n",
       "<text text-anchor=\"middle\" x=\"83.5\" y=\"-93.1\" font-family=\"Times,serif\" font-size=\"8.00\">FW: ○</text>\n",
       "<text text-anchor=\"middle\" x=\"83.5\" y=\"-84.1\" font-family=\"Times,serif\" font-size=\"8.00\">BW: ○</text>\n",
       "<text text-anchor=\"middle\" x=\"83.5\" y=\"-75.1\" font-family=\"Times,serif\" font-size=\"8.00\">Distribution: Any</text>\n",
       "<text text-anchor=\"middle\" x=\"47\" y=\"-56.7708\" font-family=\"Times,serif\" font-size=\"8.00\">1 out</text>\n",
       "<text text-anchor=\"middle\" x=\"47\" y=\"-111.448\" font-family=\"Times,serif\" font-size=\"8.00\">2 out</text>\n",
       "</g>\n",
       "</g>\n",
       "</svg>\n"
      ]
     },
     "metadata": {},
     "output_type": "display_data"
    }
   ],
   "source": [
    "draw() # Visualizes the current graph"
   ]
  },
  {
   "cell_type": "markdown",
   "metadata": {},
   "source": [
    "Message calculation example\n",
    "---------------------------\n",
    "---\n",
    "Now suppose we want to calculate the sum-product message from the multiplication node towards the terminal node. We can do this by  defining a sum-product algorithm that implements a message passing schedule towards the `out` interface of the multiplication node. "
   ]
  },
  {
   "cell_type": "code",
   "execution_count": 9,
   "metadata": {
    "collapsed": false
   },
   "outputs": [
    {
     "name": "stdout",
     "output_type": "stream",
     "text": [
      "Message passing schedule (entry: node [interface], rule)\n"
     ]
    },
    {
     "name": "stdout",
     "output_type": "stream",
     "text": [
      "------------------------------------------------------\n",
      "1: TerminalNode prior_node [1:out], sumProduct! \n",
      "2: FixedGainNode factor_multiplication_node [2:out], sumProduct! \n"
     ]
    }
   ],
   "source": [
    "algo = SumProduct.Algorithm(n(:factor_multiplication_node).i[:out])\n",
    "show(algo.fields[:schedule])"
   ]
  },
  {
   "cell_type": "markdown",
   "metadata": {},
   "source": [
    "Now we can run the algorithm in order to calculate our message of interest."
   ]
  },
  {
   "cell_type": "code",
   "execution_count": 10,
   "metadata": {
    "collapsed": false
   },
   "outputs": [
    {
     "data": {
      "text/plain": [
       "Message{GaussianDistribution} with payload N(m=[2.00], V=[[4.00]])\n",
       "\n"
      ]
     },
     "execution_count": 10,
     "metadata": {},
     "output_type": "execute_result"
    }
   ],
   "source": [
    "run(algo)"
   ]
  }
 ],
 "metadata": {
  "kernelspec": {
   "display_name": "Julia 0.3.7",
   "language": "julia",
   "name": "julia 0.3"
  },
  "language_info": {
   "name": "julia",
   "version": "0.3.7"
  }
 },
 "nbformat": 4,
 "nbformat_minor": 0
}