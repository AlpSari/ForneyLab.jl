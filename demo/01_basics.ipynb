{
 "metadata": {
  "language": "Julia",
  "name": "",
  "signature": "sha256:bb6ce02acdd7e481a8a93ef9a2dbfa7d81898230d948c5c2652e0a030035b778"
 },
 "nbformat": 3,
 "nbformat_minor": 0,
 "worksheets": [
  {
   "cells": [
    {
     "cell_type": "markdown",
     "metadata": {},
     "source": [
      "ForneyLab.jl basics tutorial\n",
      "============================\n",
      "This tutorial will show the basic types and functionality of the ForneyLab.jl toolbox. ForneyLab.jl is a toolbox for message passing in Forney style factor graphs (FFG). The FFG representation is convenient when working with message passing algorithms, and can represent complex signal processing systems in an intuitive manner. We assume the reader has basic knowledge of message passing algorithms and factor graphs. \n",
      "\n",
      "The toolbox is written in Julia and designed to be fast, extendible and modular. For more information on Julia you can visit the [Julia website](http://julialang.org/). If you are following this tutorial online you do not need to install Julia. However, for working with the ForneyLab.jl toolbox on your own machine you will need to install Julia (v.0.3). Installation instructions can be found on the Julia webpage and the `README.md` file."
     ]
    },
    {
     "cell_type": "markdown",
     "metadata": {},
     "source": [
      "Basic type structure\n",
      "--------------------\n",
      "---\n",
      "\n",
      "### FactorGraph\n",
      "The highest level type in ForneyLab is `FactorGraph`, which holds (among other stuff) the edges and nodes that you contruct. An initial `FactorGraph` is automatically created in the background. It's also possible to create a new `FactorGraph` manually:\n",
      "\n",
      "```jl\n",
      "my_graph = FactorGraph()\n",
      "```\n",
      "\n",
      "There is always one 'current' graph. If you add edges or nodes, these are automatically added to the current graph. To get an explicit handle to the current graph (not necessary most of the time), use:\n",
      "\n",
      "```jl\n",
      "my_graph = getCurrentGraph()\n",
      "```\n",
      "\n",
      "To make another graph active, use:\n",
      "\n",
      "```jl\n",
      "setCurrentGraph(FactorGraph())\n",
      "```\n",
      "\n",
      "### Nodes\n",
      "Every node type inherits from an abstract `Node` type. The following node types are built into the framework:\n",
      "\n",
      "* `AdditionNode`\n",
      "* `TerminalNode`\n",
      "* `EqualityNode`\n",
      "* `FixedGainNode`\n",
      "* `GaussianNode`\n",
      "* `ExponentialNode`\n",
      "\n",
      "Every node type is implemented in a separate file, which also contains detailed information about the node properties.\n",
      "\n",
      "For every node type, there is at least one `sumProduct!(...)` method that accepts a node of that type as argument. This update function holds the node function, specifying how to calculate a sumproduct update from the inbound messages. \n",
      "\n",
      "### Composite nodes\n",
      "\n",
      "Composite nodes contain an internal graph themselves. Composite nodes can come in handy if there is a shortcut rule available for the specific graph structure they model. Upon contruction, the option `use_composite_update_rules` decides whether this internal graph is created explicitly, or if a set of shortcut rules is used. At the moment the toolbox provides the following composite nodes:\n",
      "\n",
      "* `GainAdditionCompositeNode`\n",
      "* `GainEqualityCompositeNode`\n",
      "\n",
      "A composite node may itself contain composite nodes.\n",
      "\n",
      "### Interfaces\n",
      "An `Interface` is a half-edge that belongs to a `Node`, and carries an outgoing message from that node. Every `Node` has at least one `Interface`.\n",
      "\n",
      "### Edges\n",
      "Two interfaces of different nodes can be partnered to form an `Edge`. The constructor of `Edge` takes two `Interface` instances as arguments and connects them. Optionally, it also takes the distribution type of the variable that the edge represents. Although FFG's are undirected graphs, each edge has a direction to distinguish the forward from the backward messages. The edge direction is defined to be from the first towards the second argument.\n",
      "\n",
      "### Messages\n",
      "A `Message` is sent over edges and contains a `ProbabilityDistribution` as payload. A `Message` is parametrized by its payload type, for example: `Message{GaussianDistribution}`. Probability distributions are explained in the second demo."
     ]
    },
    {
     "cell_type": "markdown",
     "metadata": {},
     "source": [
      "Graph contruction example\n",
      "-------------------------\n",
      "---\n",
      "Before getting started we need to include the framework:"
     ]
    },
    {
     "cell_type": "code",
     "collapsed": false,
     "input": [
      "using ForneyLab"
     ],
     "language": "python",
     "metadata": {},
     "outputs": [],
     "prompt_number": 1
    },
    {
     "cell_type": "markdown",
     "metadata": {},
     "source": [
      "Suppose we want to create the following graph in which a Gaussian message is multiplied with a constant factor `A`:\n",
      "\n",
      "```\n",
      "node1  node2    node3\n",
      " [N]--->[A]----->[T]\n",
      "            out\n",
      "```\n",
      "\n",
      "First we initialize the Gaussian source node on the left by constructing a `TerminalNode` and setting its value to a Gaussian probability distribution. We set the distribution mean and variance to 1. We also assign an (optional) name. After construction we inspect the node and its value. We see that the node's value is exactly what we set it to be."
     ]
    },
    {
     "cell_type": "code",
     "collapsed": false,
     "input": [
      "node1 = TerminalNode(GaussianDistribution(m=1.0, V=1.0), name=\"noise_node\")\n",
      "show(node1)\n",
      "show(node1.value)"
     ],
     "language": "python",
     "metadata": {},
     "outputs": [
      {
       "output_type": "stream",
       "stream": "stdout",
       "text": [
        "TerminalNode with name noise_node\n"
       ]
      },
      {
       "output_type": "stream",
       "stream": "stdout",
       "text": [
        "GaussianDistribution"
       ]
      },
      {
       "output_type": "stream",
       "stream": "stdout",
       "text": [
        "\n",
        "m  = [1.0]\n",
        "V  = ["
       ]
      },
      {
       "output_type": "stream",
       "stream": "stdout",
       "text": [
        "1.0]\n",
        "W  = nothing\n",
        "xi = nothing\n"
       ]
      }
     ],
     "prompt_number": 2
    },
    {
     "cell_type": "markdown",
     "metadata": {},
     "source": [
      "Next, we initialize the multiplication by `A` by constructing a `FixedGain` node. Here, we set the multiplication factor to 2. We inspect the node and its multiplication factor and see everything is in order."
     ]
    },
    {
     "cell_type": "code",
     "collapsed": false,
     "input": [
      "node2 = FixedGainNode(2.0, name=\"factor_multiplication_node\")\n",
      "show(node2)\n",
      "show(node2.A)"
     ],
     "language": "python",
     "metadata": {},
     "outputs": [
      {
       "output_type": "stream",
       "stream": "stdout",
       "text": [
        "FixedGainNode with name factor_multiplication_node"
       ]
      },
      {
       "output_type": "stream",
       "stream": "stdout",
       "text": [
        "\n",
        "[2.0]"
       ]
      }
     ],
     "prompt_number": 3
    },
    {
     "cell_type": "markdown",
     "metadata": {},
     "source": [
      "In ForneyLab, every `Interfaces` needs to be partnered. We create the final `TerminalNode`:"
     ]
    },
    {
     "cell_type": "code",
     "collapsed": false,
     "input": [
      "node3 = TerminalNode(name=\"end_node\")"
     ],
     "language": "python",
     "metadata": {},
     "outputs": [
      {
       "metadata": {},
       "output_type": "pyout",
       "prompt_number": 4,
       "text": [
        "TerminalNode with name end_node\n"
       ]
      }
     ],
     "prompt_number": 4
    },
    {
     "cell_type": "markdown",
     "metadata": {},
     "source": [
      "The next step is to connect the nodes with edges. The noise node's output will be connected to the multiplier's input."
     ]
    },
    {
     "cell_type": "code",
     "collapsed": false,
     "input": [
      "Edge(node1.out, node2.in1) # Edge(node1, node2.in1) will give the same result since node1 has just 1 interface"
     ],
     "language": "python",
     "metadata": {},
     "outputs": [
      {
       "metadata": {},
       "output_type": "pyout",
       "prompt_number": 5,
       "text": [
        "Edge from TerminalNode noise_node:1 to FixedGainNode factor_multiplication_node:1.\n"
       ]
      }
     ],
     "prompt_number": 5
    },
    {
     "cell_type": "code",
     "collapsed": false,
     "input": [
      "Edge(node2.out, node3) # Connect the multiplier's output to the terminator node."
     ],
     "language": "python",
     "metadata": {},
     "outputs": [
      {
       "metadata": {},
       "output_type": "pyout",
       "prompt_number": 6,
       "text": [
        "Edge from FixedGainNode factor_multiplication_node:2 to TerminalNode end_node:1.\n"
       ]
      }
     ],
     "prompt_number": 6
    },
    {
     "cell_type": "markdown",
     "metadata": {},
     "source": [
      "That's it, the graph is ready. We can inspect our work by invoking `graphViz()`:"
     ]
    },
    {
     "cell_type": "code",
     "collapsed": false,
     "input": [
      "graphViz() # Visualizes the current graph"
     ],
     "language": "python",
     "metadata": {},
     "outputs": [
      {
       "metadata": {},
       "output_type": "display_data",
       "svg": [
        "<?xml version=\"1.0\" encoding=\"UTF-8\" standalone=\"no\"?>\n",
        "<!DOCTYPE svg PUBLIC \"-//W3C//DTD SVG 1.1//EN\"\n",
        " \"http://www.w3.org/Graphics/SVG/1.1/DTD/svg11.dtd\">\n",
        "<!-- Generated by graphviz version 2.36.0 (20140111.2315)\n",
        " -->\n",
        "<!-- Title: G Pages: 1 -->\n",
        "<svg width=\"120pt\" height=\"316pt\"\n",
        " viewBox=\"0.00 0.00 120.00 316.00\" xmlns=\"http://www.w3.org/2000/svg\" xmlns:xlink=\"http://www.w3.org/1999/xlink\">\n",
        "<g id=\"graph0\" class=\"graph\" transform=\"scale(1 1) rotate(0) translate(4 312)\">\n",
        "<title>G</title>\n",
        "<polygon fill=\"white\" stroke=\"none\" points=\"-4,4 -4,-312 116,-312 116,4 -4,4\"/>\n",
        "<!-- 6177655113999397288 -->\n",
        "<g id=\"node1\" class=\"node\"><title>6177655113999397288</title>\n",
        "<polygon fill=\"none\" stroke=\"black\" points=\"110.25,-190 -0.25,-190 -0.25,-118 110.25,-118 110.25,-190\"/>\n",
        "<text text-anchor=\"middle\" x=\"55\" y=\"-156.8\" font-family=\"Times,serif\" font-size=\"9.00\">FixedGainNode</text>\n",
        "<text text-anchor=\"middle\" x=\"55\" y=\"-146.8\" font-family=\"Times,serif\" font-size=\"9.00\">factor_multiplication_node</text>\n",
        "</g>\n",
        "<!-- 1017930944343696846 -->\n",
        "<g id=\"node3\" class=\"node\"><title>1017930944343696846</title>\n",
        "<polygon fill=\"lightgrey\" stroke=\"black\" points=\"82,-54 28,-54 28,-0 82,-0 82,-54\"/>\n",
        "<text text-anchor=\"middle\" x=\"55\" y=\"-24.8\" font-family=\"Times,serif\" font-size=\"9.00\">end_node</text>\n",
        "</g>\n",
        "<!-- 6177655113999397288&#45;&gt;1017930944343696846 -->\n",
        "<g id=\"edge2\" class=\"edge\"><title>6177655113999397288&#45;&gt;1017930944343696846</title>\n",
        "<path fill=\"none\" stroke=\"black\" d=\"M55,-117.848C55,-101.104 55,-81.0982 55,-64.2192\"/>\n",
        "<polygon fill=\"none\" stroke=\"black\" points=\"58.5001,-64.1708 55,-54.1708 51.5001,-64.1708 58.5001,-64.1708\"/>\n",
        "<text text-anchor=\"middle\" x=\"83.5\" y=\"-93.1\" font-family=\"Times,serif\" font-size=\"8.00\">FW: \u25cb</text>\n",
        "<text text-anchor=\"middle\" x=\"83.5\" y=\"-84.1\" font-family=\"Times,serif\" font-size=\"8.00\">BW: \u25cb</text>\n",
        "<text text-anchor=\"middle\" x=\"83.5\" y=\"-75.1\" font-family=\"Times,serif\" font-size=\"8.00\">Distribution: Any</text>\n",
        "<text text-anchor=\"middle\" x=\"47\" y=\"-56.7708\" font-family=\"Times,serif\" font-size=\"8.00\">1 out</text>\n",
        "<text text-anchor=\"middle\" x=\"47\" y=\"-111.448\" font-family=\"Times,serif\" font-size=\"8.00\">2 out</text>\n",
        "</g>\n",
        "<!-- 2101879386833130281 -->\n",
        "<g id=\"node2\" class=\"node\"><title>2101879386833130281</title>\n",
        "<polygon fill=\"lightgrey\" stroke=\"black\" points=\"83.25,-308 26.75,-308 26.75,-254 83.25,-254 83.25,-308\"/>\n",
        "<text text-anchor=\"middle\" x=\"55\" y=\"-278.8\" font-family=\"Times,serif\" font-size=\"9.00\">noise_node</text>\n",
        "</g>\n",
        "<!-- 2101879386833130281&#45;&gt;6177655113999397288 -->\n",
        "<g id=\"edge1\" class=\"edge\"><title>2101879386833130281&#45;&gt;6177655113999397288</title>\n",
        "<path fill=\"none\" stroke=\"black\" d=\"M55,-253.796C55,-238.284 55,-218.207 55,-200.207\"/>\n",
        "<polygon fill=\"none\" stroke=\"black\" points=\"58.5001,-200.182 55,-190.182 51.5001,-200.182 58.5001,-200.182\"/>\n",
        "<text text-anchor=\"middle\" x=\"83.5\" y=\"-229.1\" font-family=\"Times,serif\" font-size=\"8.00\">FW: \u25cb</text>\n",
        "<text text-anchor=\"middle\" x=\"83.5\" y=\"-220.1\" font-family=\"Times,serif\" font-size=\"8.00\">BW: \u25cb</text>\n",
        "<text text-anchor=\"middle\" x=\"83.5\" y=\"-211.1\" font-family=\"Times,serif\" font-size=\"8.00\">Distribution: Any</text>\n",
        "<text text-anchor=\"middle\" x=\"47\" y=\"-192.782\" font-family=\"Times,serif\" font-size=\"8.00\">1 in1</text>\n",
        "<text text-anchor=\"middle\" x=\"47\" y=\"-247.396\" font-family=\"Times,serif\" font-size=\"8.00\">1 out</text>\n",
        "</g>\n",
        "</g>\n",
        "</svg>\n"
       ]
      }
     ],
     "prompt_number": 7
    },
    {
     "cell_type": "markdown",
     "metadata": {},
     "source": [
      "Calculating and passing messages\n",
      "--------------------------------\n",
      "---\n",
      "As explained before, every node has its own `sumProduct!(...)` method that states how sumproduct messages should be passed for that node. However, this node specific method is not publicly accessible. In general, to be able to calculate an outbound message, all inbound messages to the factor node have to be calculated if they are not yet pending. In general, a message passing schedule is required to resolve the dependencies between messages. The details fo schedules are explained in the schedules demo.\n",
      "\n",
      "The framework provides the `calculateMessage!(...)` function, that takes an interface as argument and calculates the outbound message on that interface. In the background, `calculateMessage!(...)` will first automatically generate a complete message passing schedule and then execute this schedule. If the factor graph has no loops, the auto-scheduler will always find a correct schedule and you don't have to worry about what messages should be calculated in what order yourself. For convenience, there are also `calculateForwardMessage!(...)` and `calculateBackwardMessage!(...)` that both take an edge as argument."
     ]
    },
    {
     "cell_type": "markdown",
     "metadata": {},
     "source": [
      "Message calculation example\n",
      "---------------------------\n",
      "---\n",
      "Now suppose we want to calculate the outgoing message `out` in our previously defined graph. We can do this by simply calling `calculateMessage!(...)` with the `out` interface as input. The auto-scheduler invoked in `calculateMessage!(...)` and the node specific update functions will take care of the rest. "
     ]
    },
    {
     "cell_type": "code",
     "collapsed": false,
     "input": [
      "msg = calculateMessage!(node2.out)\n",
      "show(msg)"
     ],
     "language": "python",
     "metadata": {},
     "outputs": [
      {
       "output_type": "stream",
       "stream": "stdout",
       "text": [
        "Message{GaussianDistribution} with payload GaussianDistribution\n",
        "m  = [2.0]\n",
        "V  = [4.0]\n",
        "W  = nothing\n",
        "xi = nothing\n",
        "\n"
       ]
      }
     ],
     "prompt_number": 8
    },
    {
     "cell_type": "markdown",
     "metadata": {},
     "source": [
      "Calculating marginals\n",
      "---------------------\n",
      "---\n",
      "\n",
      "One might be interested in the marginal probability distribution of a variable represented as an edge in the factor graph. \n",
      "ForneyLab provides a function `calculateMarginal!(edge)` (with and without bang) to calculate this marginal. You can also pass payoads of forward/backward messages directly:"
     ]
    },
    {
     "cell_type": "code",
     "collapsed": false,
     "input": [
      "show(calculateMarginal(GaussianDistribution(m=0.0, V=1.0), GaussianDistribution(m=0.0, V=1.0)))"
     ],
     "language": "python",
     "metadata": {},
     "outputs": [
      {
       "output_type": "stream",
       "stream": "stdout",
       "text": [
        "GaussianDistribution\n",
        "m  = nothing\n",
        "V  = nothing\n",
        "W  = [2.0]\n",
        "xi = [0.0]\n"
       ]
      }
     ],
     "prompt_number": 9
    },
    {
     "cell_type": "markdown",
     "metadata": {},
     "source": [
      "As can be seen, the resulting marginal is a Gaussian in $(\\xi, W)$ parametrization.\n",
      "The demo `marginals` contains a more detailed example of calculating the marginal on an edge."
     ]
    },
    {
     "cell_type": "markdown",
     "metadata": {},
     "source": [
      "This concludes the basic tutorial on the ForneyLab.jl toolbox. You can take a look at the other demo's or inspect the source code and tests for the nitty-gritty. Happy message passing! "
     ]
    }
   ],
   "metadata": {}
  }
 ]
}