{
 "cells": [
  {
   "cell_type": "markdown",
   "metadata": {},
   "source": [
    "ForneyLab.jl basics tutorial\n",
    "============================\n",
    "This is the first tutorial in a series of practical demos that showcase ForneyLab in action. In this demo we show how to build a basic factor graph and how to calculate a sum-product message. For clarification on the basic types and functionality of the ForneyLab.jl toolbox please consult the [ForneyLab documentation](http://spsbrats.github.io/ForneyLab/documentation). We assume the reader has basic knowledge of message passing algorithms and factor graphs. \n",
    "\n",
    "If you are following this tutorial online you do not need to install Julia. However, for working with the ForneyLab.jl toolbox on your own machine and executing the demo code you need to install Julia (v.0.3). Installation instructions can be found on the Julia webpage and the `README.md` file."
   ]
  },
  {
   "cell_type": "markdown",
   "metadata": {},
   "source": [
    "Graph contruction example\n",
    "-------------------------\n",
    "---\n",
    "Before starting any project, we need to include the ForneyLab toolbox."
   ]
  },
  {
   "cell_type": "code",
   "execution_count": 1,
   "metadata": {
    "collapsed": false
   },
   "outputs": [],
   "source": [
    "using ForneyLab"
   ]
  },
  {
   "cell_type": "markdown",
   "metadata": {},
   "source": [
    "We want to create a simple factor graph where an incoming message is multiplied with a constant factor `A`.\n",
    "\n",
    "```\n",
    "node1  node2    node3\n",
    " [N]--->[A]----->[T]\n",
    "            out\n",
    "```\n",
    "\n",
    "First we initialize the Gaussian source node on the left by constructing a `PriorNode` and setting its value to a Gaussian probability distribution. We set the distribution mean and variance to 1. We also assign an (optional) name. After construction we inspect the node and its value. We see that the node's value is exactly what we set it to be."
   ]
  },
  {
   "cell_type": "code",
   "execution_count": 2,
   "metadata": {
    "collapsed": false
   },
   "outputs": [
    {
     "name": "stdout",
     "output_type": "stream",
     "text": [
      "TerminalNode with name prior_node\n",
      "N(m=[1.00], V=[[1.00]])\n"
     ]
    }
   ],
   "source": [
    "node1 = PriorNode(GaussianDistribution(m=1.0, V=1.0), name=\"prior_node\")\n",
    "show(node1)\n",
    "show(node1.value)"
   ]
  },
  {
   "cell_type": "markdown",
   "metadata": {},
   "source": [
    "Next, we initialize the multiplication by `A` by constructing a `FixedGain` node. Here, we set the multiplication factor to 2. We inspect the node and its multiplication factor and see everything is in order."
   ]
  },
  {
   "cell_type": "code",
   "execution_count": 3,
   "metadata": {
    "collapsed": false
   },
   "outputs": [
    {
     "name": "stdout",
     "output_type": "stream",
     "text": [
      "FixedGainNode with name factor_multiplication_node\n",
      "[2.0]"
     ]
    }
   ],
   "source": [
    "node2 = FixedGainNode(2.0, name=\"factor_multiplication_node\")\n",
    "show(node2)\n",
    "show(node2.A)"
   ]
  },
  {
   "cell_type": "markdown",
   "metadata": {},
   "source": [
    "Lastly, we create the `TerminalNode` that completes out model."
   ]
  },
  {
   "cell_type": "code",
   "execution_count": 4,
   "metadata": {
    "collapsed": false
   },
   "outputs": [
    {
     "data": {
      "text/plain": [
       "TerminalNode with name end_node\n"
      ]
     },
     "execution_count": 4,
     "metadata": {},
     "output_type": "execute_result"
    }
   ],
   "source": [
    "node3 = TerminalNode(name=\"end_node\")"
   ]
  },
  {
   "cell_type": "markdown",
   "metadata": {},
   "source": [
    "The next step is to connect the nodes with edges."
   ]
  },
  {
   "cell_type": "code",
   "execution_count": 5,
   "metadata": {
    "collapsed": false
   },
   "outputs": [],
   "source": [
    "Edge(node1, node2.i[:in])\n",
    "Edge(node2.i[:out], node3);"
   ]
  },
  {
   "cell_type": "markdown",
   "metadata": {},
   "source": [
    "That's it, the graph is ready. We can inspect our work by invoking `draw()`:"
   ]
  },
  {
   "cell_type": "code",
   "execution_count": 6,
   "metadata": {
    "collapsed": false
   },
   "outputs": [
    {
     "data": {
      "text/html": [
       "<img src=\"data:image/gif;base64,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\" />"
      ]
     },
     "metadata": {},
     "output_type": "display_data"
    }
   ],
   "source": [
    "draw() # Visualizes the current graph"
   ]
  },
  {
   "cell_type": "markdown",
   "metadata": {},
   "source": [
    "Message calculation example\n",
    "---------------------------\n",
    "---\n",
    "Now suppose we want to calculate the sum-product message from the multiplication node towards the terminal node. We can do this by  defining a sum-product algorithm that implements a message passing schedule towards the `out` interface of the multiplication node. "
   ]
  },
  {
   "cell_type": "code",
   "execution_count": 7,
   "metadata": {
    "collapsed": false
   },
   "outputs": [
    {
     "name": "stdout",
     "output_type": "stream",
     "text": [
      "Message passing schedule (entry: node [interface], rule)\n",
      "------------------------------------------------------\n",
      "1: TerminalNode prior_node [1:out], sumProduct! \n",
      "2: FixedGainNode factor_multiplication_node [2:out], sumProduct! \n"
     ]
    }
   ],
   "source": [
    "algo = SumProduct.Algorithm(node2.i[:out])\n",
    "show(algo.fields[:schedule])"
   ]
  },
  {
   "cell_type": "markdown",
   "metadata": {},
   "source": [
    "Now we can run the algorithm in order to calculate our message of interest."
   ]
  },
  {
   "cell_type": "code",
   "execution_count": 8,
   "metadata": {
    "collapsed": false
   },
   "outputs": [
    {
     "data": {
      "text/plain": [
       "Message{GaussianDistribution} with payload N(m=[2.00], V=[[4.00]])\n",
       "\n"
      ]
     },
     "execution_count": 8,
     "metadata": {},
     "output_type": "execute_result"
    }
   ],
   "source": [
    "run(algo)"
   ]
  }
 ],
 "metadata": {
  "kernelspec": {
   "display_name": "Julia 0.3.6",
   "language": "julia",
   "name": "julia 0.3"
  },
  "language_info": {
   "name": "julia",
   "version": "0.3.8"
  }
 },
 "nbformat": 4,
 "nbformat_minor": 0
}
