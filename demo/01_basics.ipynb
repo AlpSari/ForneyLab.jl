{
 "metadata": {
  "language": "Julia",
  "name": "",
  "signature": "sha256:07b6018b2d078c6b35dac34fef4ff6c4fb361bac0a63546645e8841df6a533d1"
 },
 "nbformat": 3,
 "nbformat_minor": 0,
 "worksheets": [
  {
   "cells": [
    {
     "cell_type": "markdown",
     "metadata": {},
     "source": [
      "ForneyLab.jl basics tutorial\n",
      "============================\n",
      "This is the first tutorial in a series of practical demos that showcase ForneyLab in action. In this demo we show how to build a basic factor graph and how to calculate a sum-product message. For clarification on the basic types and functionality of the ForneyLab.jl toolbox please consult the [ForneyLab documentation](http://spsbrats.github.io/ForneyLab/documentation). We assume the reader has basic knowledge of message passing algorithms and factor graphs. \n",
      "\n",
      "If you are following this tutorial online you do not need to install Julia. However, for working with the ForneyLab.jl toolbox on your own machine and executing the demo code you need to install Julia (v.0.3). Installation instructions can be found on the Julia webpage and the `README.md` file."
     ]
    },
    {
     "cell_type": "markdown",
     "metadata": {},
     "source": [
      "Graph contruction example\n",
      "-------------------------\n",
      "---\n",
      "Before starting any project, we need to include the ForneyLab toolbox."
     ]
    },
    {
     "cell_type": "code",
     "collapsed": false,
     "input": [
      "using ForneyLab"
     ],
     "language": "python",
     "metadata": {},
     "outputs": [],
     "prompt_number": 1
    },
    {
     "cell_type": "markdown",
     "metadata": {},
     "source": [
      "We want to create a simple factor graph where an incoming message is multiplied with a constant factor `A`.\n",
      "\n",
      "```\n",
      "node1  node2    node3\n",
      " [N]--->[A]----->[T]\n",
      "            out\n",
      "```\n",
      "\n",
      "First we initialize the Gaussian source node on the left by constructing a `PriorNode` and setting its value to a Gaussian probability distribution. We set the distribution mean and variance to 1. We also assign an (optional) name. After construction we inspect the node and its value. We see that the node's value is exactly what we set it to be."
     ]
    },
    {
     "cell_type": "code",
     "collapsed": false,
     "input": [
      "node1 = PriorNode(GaussianDistribution(m=1.0, V=1.0), name=\"prior_node\")\n",
      "show(node1)\n",
      "show(node1.value)"
     ],
     "language": "python",
     "metadata": {},
     "outputs": [
      {
       "output_type": "stream",
       "stream": "stdout",
       "text": [
        "TerminalNode with name prior_node\n"
       ]
      },
      {
       "output_type": "stream",
       "stream": "stdout",
       "text": [
        "N(m=[1.00], V=[[1.00]])\n"
       ]
      }
     ],
     "prompt_number": 2
    },
    {
     "cell_type": "markdown",
     "metadata": {},
     "source": [
      "Next, we initialize the multiplication by `A` by constructing a `FixedGain` node. Here, we set the multiplication factor to 2. We inspect the node and its multiplication factor and see everything is in order."
     ]
    },
    {
     "cell_type": "code",
     "collapsed": false,
     "input": [
      "node2 = FixedGainNode(2.0, name=\"factor_multiplication_node\")\n",
      "show(node2)\n",
      "show(node2.A)"
     ],
     "language": "python",
     "metadata": {},
     "outputs": [
      {
       "output_type": "stream",
       "stream": "stdout",
       "text": [
        "FixedGainNode with name factor_multiplication_node"
       ]
      },
      {
       "output_type": "stream",
       "stream": "stdout",
       "text": [
        "\n",
        "["
       ]
      },
      {
       "output_type": "stream",
       "stream": "stdout",
       "text": [
        "2.0]"
       ]
      }
     ],
     "prompt_number": 3
    },
    {
     "cell_type": "markdown",
     "metadata": {},
     "source": [
      "Lastly, we create the `TerminalNode` that completes out model."
     ]
    },
    {
     "cell_type": "code",
     "collapsed": false,
     "input": [
      "node3 = TerminalNode(name=\"end_node\")"
     ],
     "language": "python",
     "metadata": {},
     "outputs": [
      {
       "metadata": {},
       "output_type": "pyout",
       "prompt_number": 4,
       "text": [
        "TerminalNode with name end_node\n"
       ]
      }
     ],
     "prompt_number": 4
    },
    {
     "cell_type": "markdown",
     "metadata": {},
     "source": [
      "The next step is to connect the nodes with edges."
     ]
    },
    {
     "cell_type": "code",
     "collapsed": false,
     "input": [
      "Edge(node1.out, node2.in1)\n",
      "Edge(node2.out, node3.out);"
     ],
     "language": "python",
     "metadata": {},
     "outputs": [],
     "prompt_number": 5
    },
    {
     "cell_type": "markdown",
     "metadata": {},
     "source": [
      "That's it, the graph is ready. We can inspect our work by invoking `draw()`:"
     ]
    },
    {
     "cell_type": "code",
     "collapsed": false,
     "input": [
      "draw() # Visualizes the current graph"
     ],
     "language": "python",
     "metadata": {},
     "outputs": [
      {
       "metadata": {},
       "output_type": "display_data",
       "svg": [
        "<?xml version=\"1.0\" encoding=\"UTF-8\" standalone=\"no\"?>\n",
        "<!DOCTYPE svg PUBLIC \"-//W3C//DTD SVG 1.1//EN\"\n",
        " \"http://www.w3.org/Graphics/SVG/1.1/DTD/svg11.dtd\">\n",
        "<!-- Generated by graphviz version 2.36.0 (20140111.2315)\n",
        " -->\n",
        "<!-- Title: G Pages: 1 -->\n",
        "<svg width=\"120pt\" height=\"316pt\"\n",
        " viewBox=\"0.00 0.00 120.00 316.00\" xmlns=\"http://www.w3.org/2000/svg\" xmlns:xlink=\"http://www.w3.org/1999/xlink\">\n",
        "<g id=\"graph0\" class=\"graph\" transform=\"scale(1 1) rotate(0) translate(4 312)\">\n",
        "<title>G</title>\n",
        "<polygon fill=\"white\" stroke=\"none\" points=\"-4,4 -4,-312 116,-312 116,4 -4,4\"/>\n",
        "<!-- 10134191562260233539 -->\n",
        "<g id=\"node1\" class=\"node\"><title>10134191562260233539</title>\n",
        "<polygon fill=\"lightgrey\" stroke=\"black\" points=\"82.5,-308 27.5,-308 27.5,-254 82.5,-254 82.5,-308\"/>\n",
        "<text text-anchor=\"middle\" x=\"55\" y=\"-278.8\" font-family=\"Times,serif\" font-size=\"9.00\">prior_node</text>\n",
        "</g>\n",
        "<!-- 9398754630912177687 -->\n",
        "<g id=\"node2\" class=\"node\"><title>9398754630912177687</title>\n",
        "<polygon fill=\"none\" stroke=\"black\" points=\"110.25,-190 -0.25,-190 -0.25,-118 110.25,-118 110.25,-190\"/>\n",
        "<text text-anchor=\"middle\" x=\"55\" y=\"-156.8\" font-family=\"Times,serif\" font-size=\"9.00\">FixedGainNode</text>\n",
        "<text text-anchor=\"middle\" x=\"55\" y=\"-146.8\" font-family=\"Times,serif\" font-size=\"9.00\">factor_multiplication_node</text>\n",
        "</g>\n",
        "<!-- 10134191562260233539&#45;&gt;9398754630912177687 -->\n",
        "<g id=\"edge1\" class=\"edge\"><title>10134191562260233539&#45;&gt;9398754630912177687</title>\n",
        "<path fill=\"none\" stroke=\"black\" d=\"M55,-253.796C55,-238.284 55,-218.207 55,-200.207\"/>\n",
        "<polygon fill=\"none\" stroke=\"black\" points=\"58.5001,-200.182 55,-190.182 51.5001,-200.182 58.5001,-200.182\"/>\n",
        "<text text-anchor=\"middle\" x=\"83.5\" y=\"-229.1\" font-family=\"Times,serif\" font-size=\"8.00\">FW: \u25cb</text>\n",
        "<text text-anchor=\"middle\" x=\"83.5\" y=\"-220.1\" font-family=\"Times,serif\" font-size=\"8.00\">BW: \u25cb</text>\n",
        "<text text-anchor=\"middle\" x=\"83.5\" y=\"-211.1\" font-family=\"Times,serif\" font-size=\"8.00\">Distribution: Any</text>\n",
        "<text text-anchor=\"middle\" x=\"47\" y=\"-192.782\" font-family=\"Times,serif\" font-size=\"8.00\">1 in1</text>\n",
        "<text text-anchor=\"middle\" x=\"47\" y=\"-247.396\" font-family=\"Times,serif\" font-size=\"8.00\">1 out</text>\n",
        "</g>\n",
        "<!-- 2360940554842681010 -->\n",
        "<g id=\"node3\" class=\"node\"><title>2360940554842681010</title>\n",
        "<polygon fill=\"lightgrey\" stroke=\"black\" points=\"82,-54 28,-54 28,-0 82,-0 82,-54\"/>\n",
        "<text text-anchor=\"middle\" x=\"55\" y=\"-24.8\" font-family=\"Times,serif\" font-size=\"9.00\">end_node</text>\n",
        "</g>\n",
        "<!-- 9398754630912177687&#45;&gt;2360940554842681010 -->\n",
        "<g id=\"edge2\" class=\"edge\"><title>9398754630912177687&#45;&gt;2360940554842681010</title>\n",
        "<path fill=\"none\" stroke=\"black\" d=\"M55,-117.848C55,-101.104 55,-81.0982 55,-64.2192\"/>\n",
        "<polygon fill=\"none\" stroke=\"black\" points=\"58.5001,-64.1708 55,-54.1708 51.5001,-64.1708 58.5001,-64.1708\"/>\n",
        "<text text-anchor=\"middle\" x=\"83.5\" y=\"-93.1\" font-family=\"Times,serif\" font-size=\"8.00\">FW: \u25cb</text>\n",
        "<text text-anchor=\"middle\" x=\"83.5\" y=\"-84.1\" font-family=\"Times,serif\" font-size=\"8.00\">BW: \u25cb</text>\n",
        "<text text-anchor=\"middle\" x=\"83.5\" y=\"-75.1\" font-family=\"Times,serif\" font-size=\"8.00\">Distribution: Any</text>\n",
        "<text text-anchor=\"middle\" x=\"47\" y=\"-56.7708\" font-family=\"Times,serif\" font-size=\"8.00\">1 out</text>\n",
        "<text text-anchor=\"middle\" x=\"47\" y=\"-111.448\" font-family=\"Times,serif\" font-size=\"8.00\">2 out</text>\n",
        "</g>\n",
        "</g>\n",
        "</svg>\n"
       ]
      }
     ],
     "prompt_number": 6
    },
    {
     "cell_type": "markdown",
     "metadata": {},
     "source": [
      "Message calculation example\n",
      "---------------------------\n",
      "---\n",
      "Now suppose we want to calculate the sum-product message from the multiplication node towards the terminal node. We can do this by  defining a sum-product algorithm that implements a message passing schedule towards the `out` interface of the multiplication node. "
     ]
    },
    {
     "cell_type": "code",
     "collapsed": false,
     "input": [
      "algo = SumProduct.Algorithm(node2.out)\n",
      "show(algo.fields[:schedule])"
     ],
     "language": "python",
     "metadata": {},
     "outputs": [
      {
       "output_type": "stream",
       "stream": "stdout",
       "text": [
        "Message passing schedule\n"
       ]
      },
      {
       "output_type": "stream",
       "stream": "stdout",
       "text": [
        "#  | {msg calc. func}  | {post proc.}      | {node type} {node name}:{outbound iface index} ({outbound iface name})       |\n",
        "---|-------------------|-------------------|------------------------------------------------------------------------------|\n",
        "1  | sumProduct!       |                   | TerminalNode prior_node:1 (out)                                              |\n",
        "2  | sumProduct!       |                   | FixedGainNode factor_multiplication_node:2 (out)                             |\n"
       ]
      }
     ],
     "prompt_number": 7
    },
    {
     "cell_type": "markdown",
     "metadata": {},
     "source": [
      "Now we can run the algorithm in order to calculate our message of interest."
     ]
    },
    {
     "cell_type": "code",
     "collapsed": false,
     "input": [
      "run(algo)"
     ],
     "language": "python",
     "metadata": {},
     "outputs": [
      {
       "metadata": {},
       "output_type": "pyout",
       "prompt_number": 8,
       "text": [
        "Message{GaussianDistribution} with payload N(m=[2.00], V=[[4.00]])\n",
        "\n"
       ]
      }
     ],
     "prompt_number": 8
    }
   ],
   "metadata": {}
  }
 ]
}