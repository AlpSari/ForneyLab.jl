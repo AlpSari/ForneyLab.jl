{
 "metadata": {
  "language": "Julia",
  "name": "",
  "signature": "sha256:221cb49a2542976c3c26b64bb45720a09ca0af5b30c5c0d9fe0eed3e74e0cbbc"
 },
 "nbformat": 3,
 "nbformat_minor": 0,
 "worksheets": [
  {
   "cells": [
    {
     "cell_type": "markdown",
     "metadata": {},
     "source": [
      "ForneyLab.jl basics tutorial\n",
      "============================\n",
      "This tutorial will show the basic types and functionality of the ForneyLab.jl toolbox. ForneyLab.jl is a toolbox for message passing in Forney style factor graphs (FFG). The FFG representation is convenient when working with message passing algorithms, and can represent complex signal processing systems in an intuitive manner. We assume the reader has basic knowledge of message passing algorithms and factor graphs. \n",
      "\n",
      "The toolbox is written in Julia and designed to be fast, extendible and modular. For more information on Julia you can visit the [Julia website](http://julialang.org/). If you are following this tutorial online you do not need to install Julia. However, for working with the ForneyLab.jl toolbox on your own machine you will need to install Julia (v.0.3). Installation instructions can be found on the Julia webpage and the `README.md` file."
     ]
    },
    {
     "cell_type": "markdown",
     "metadata": {},
     "source": [
      "Basic type structure\n",
      "--------------------\n",
      "---\n",
      "\n",
      "### FactorGraph\n",
      "The highest level type in ForneyLab is `FactorGraph`, which holds (among other stuff) a list of edges and nodes. A `FactorGraph` is automatically created in the background when you construct edges. It's also possible to create a `FactorGraph` manually:\n",
      "\n",
      "```jl\n",
      "my_graph = FactorGraph()\n",
      "```\n",
      "\n",
      "There is always one 'current' graph. If you add edges or nodes, these are automatically added to the current graph. To get an explicit handle to the current graph (not necessary most of the time), use:\n",
      "\n",
      "```jl\n",
      "my_graph = getCurrentGraph()\n",
      "```\n",
      "\n",
      "To make another graph active, use:\n",
      "\n",
      "```jl\n",
      "setCurrentGraph(FactorGraph())\n",
      "```\n",
      "\n",
      "### Nodes\n",
      "Every node type inherits from an abstract `Node` type. Every specific node type has a number (>= 1) of interfaces, and can optionally be given a name. Interfaces can be used to connect the node to other nodes by edges. The following node types are built into the framework:\n",
      "\n",
      "* `AdditionNode`\n",
      "* `TerminalNode`\n",
      "* `EqualityNode`\n",
      "* `FixedGainNode`\n",
      "* `GaussianNode`\n",
      "\n",
      "Every node type is implemented in a separate file, which also contains detailed information about the node properties.\n",
      "For every node type, there is at least one `updateNodeMessage!(...)` method that accepts a node of that type as argument. This update function holds the node function, specifying how to calculate an outbound message (on a specified interface) from the inbound messages. \n",
      "\n",
      "### Composite nodes\n",
      "\n",
      "Composite nodes contain an internal graph themselves. Upon contruction, the option `use_composite_update_rules` decides whether this internal graph is created explicitly, or if a set of shortcut rules is used corresponding with the node function of the composite node as a whole (making the composite node behave as a standard node). At the moment the toolbox provides the following composite nodes:\n",
      "\n",
      "* `GainAdditionCompositeNode`\n",
      "* `GainEqualityCompositeNode`\n",
      "\n",
      "A composite node may itself contain composite nodes, making the toolbox highly modular and extendible.\n",
      "\n",
      "### Interfaces\n",
      "An `Interface` is a half-edge that belongs to a `Node`, and carries an outgoing message from that node. Every `Node` has at least one `Interface`. Two interfaces of different nodes can be connected to form an `Edge`. \n",
      "\n",
      "### Edges\n",
      "Two interfaces of different nodes can be partnered to form an `Edge`. The constructor of `Edge` takes two `Interface` instances as arguments and connects them. Optionally, it also takes the distribution type of the variable that the edge represents. This distribution type is used when calculating marginal distributions. The edge direction is defined to be from the first towards the second argument. If a node has just one interface or if all interfaces have the same role (i.e. in an equality node), one can pass the node instead of a specific interface to `Edge()`.\n",
      "\n",
      "### Messages\n",
      "A `Message` is sent over edges and contains a `ProbabilityDistribution` as payload. A `Message` is parametrized by its payload type. Some examples:\n",
      "\n",
      "* `Message{GaussianDistribution}`\n",
      "* `Message{GammaDistribution}`\n",
      "* `Message{InverseDistribution}`\n",
      "* `Message{DeltaDistribution{Float64}}`\n",
      "\n",
      "Probability distributions are allowed to have different parameterizations. A Gaussian distribution for example can be defined using it's mean and covariance $(m, V)$, mean and precision $(m, W)$ or weighted mean and precision $(\\xi, W)$."
     ]
    },
    {
     "cell_type": "markdown",
     "metadata": {},
     "source": [
      "Graph contruction example\n",
      "-------------------------\n",
      "---\n",
      "Before getting started we need to include the framework:"
     ]
    },
    {
     "cell_type": "code",
     "collapsed": false,
     "input": [
      "using ForneyLab"
     ],
     "language": "python",
     "metadata": {},
     "outputs": [],
     "prompt_number": 1
    },
    {
     "cell_type": "markdown",
     "metadata": {},
     "source": [
      "Suppose we want to create the following graph in which a Gaussian message is multiplied with a constant factor `A`:\n",
      "\n",
      "```\n",
      "node1  node2    node3\n",
      " [N]--->[A]----->[T]\n",
      "            out\n",
      "```\n",
      "\n",
      "First we initialize the Gaussian source node on the left by constructing a `TerminalNode` and setting its value to a Gaussian probability distribution. We set the distribution mean and variance to 1. After construction we inspect the node and its value. We see that the node's value is exactly what we set it to be."
     ]
    },
    {
     "cell_type": "code",
     "collapsed": false,
     "input": [
      "node1 = TerminalNode(GaussianDistribution(m=1.0, V=1.0), name=\"noise_node\")\n",
      "show(node1)\n",
      "show(node1.value)"
     ],
     "language": "python",
     "metadata": {},
     "outputs": [
      {
       "output_type": "stream",
       "stream": "stdout",
       "text": [
        "TerminalNode with name "
       ]
      },
      {
       "output_type": "stream",
       "stream": "stdout",
       "text": [
        "noise_node.\n",
        "GaussianDistribution\n",
        "m  = "
       ]
      },
      {
       "output_type": "stream",
       "stream": "stdout",
       "text": [
        "[1.0]\n",
        "V  = ["
       ]
      },
      {
       "output_type": "stream",
       "stream": "stdout",
       "text": [
        "1.0]\n",
        "W  = nothing\n",
        "xi = nothing\n"
       ]
      }
     ],
     "prompt_number": 2
    },
    {
     "cell_type": "markdown",
     "metadata": {},
     "source": [
      "Next, we initialize the multiplication by `A` by constructing a `FixedGain` node. Here, we set the multiplication factor to 2. We inspect the node and its multiplication factor and see everything is in order."
     ]
    },
    {
     "cell_type": "code",
     "collapsed": false,
     "input": [
      "node2 = FixedGainNode(2.0, name=\"factor_multiplication_node\")\n",
      "show(node2)\n",
      "show(node2.A)"
     ],
     "language": "python",
     "metadata": {},
     "outputs": [
      {
       "output_type": "stream",
       "stream": "stdout",
       "text": [
        "FixedGainNode with name "
       ]
      },
      {
       "output_type": "stream",
       "stream": "stdout",
       "text": [
        "factor_multiplication_node.\n",
        "[2.0]"
       ]
      }
     ],
     "prompt_number": 3
    },
    {
     "cell_type": "markdown",
     "metadata": {},
     "source": [
      "In ForneyLab, every `Edge` has to be terminated. We create `TerminalNode` `T` just as a terminator."
     ]
    },
    {
     "cell_type": "code",
     "collapsed": false,
     "input": [
      "node3 = TerminalNode(name=\"end_node\")"
     ],
     "language": "python",
     "metadata": {},
     "outputs": [
      {
       "metadata": {},
       "output_type": "pyout",
       "prompt_number": 4,
       "text": [
        "TerminalNode with name end_node.\n"
       ]
      }
     ],
     "prompt_number": 4
    },
    {
     "cell_type": "markdown",
     "metadata": {},
     "source": [
      "The next step is to connect the nodes with edges. The noise node's output will be connected to the multiplier's input."
     ]
    },
    {
     "cell_type": "code",
     "collapsed": false,
     "input": [
      "Edge(node1.out, node2.in1) # Edge(node1, node2.in1) will give the same result since node1 has just 1 interface"
     ],
     "language": "python",
     "metadata": {},
     "outputs": [
      {
       "metadata": {},
       "output_type": "pyout",
       "prompt_number": 5,
       "text": [
        "Edge from TerminalNode noise_node:1 to FixedGainNode factor_multiplication_node:1.\n",
        "Accepted forward message payload type: GaussianDistribution.\n",
        "Accepted backward message payload type: GaussianDistribution.\n"
       ]
      }
     ],
     "prompt_number": 5
    },
    {
     "cell_type": "code",
     "collapsed": false,
     "input": [
      "Edge(node2.out, node3) # Connect the multiplier's output to the terminator node."
     ],
     "language": "python",
     "metadata": {},
     "outputs": [
      {
       "metadata": {},
       "output_type": "pyout",
       "prompt_number": 6,
       "text": [
        "Edge from FixedGainNode factor_multiplication_node:2 to TerminalNode end_node:1.\n",
        "Accepted forward message payload type: GaussianDistribution.\n",
        "Accepted backward message payload type: GaussianDistribution.\n"
       ]
      }
     ],
     "prompt_number": 6
    },
    {
     "cell_type": "markdown",
     "metadata": {},
     "source": [
      "That's it, the graph is ready."
     ]
    },
    {
     "cell_type": "markdown",
     "metadata": {},
     "source": [
      "Calculating and passing messages\n",
      "--------------------------------\n",
      "---\n",
      "As explained before, every node has its own `updateNodeMessage!(...)` method that states how messages should be passed for that node. However, this node specific method is not publicly accessible. In general, to be able to calculate an outbound message, all inbound messages to the factor node have to be calculated if they are not yet present, which leads to a recursion. In general, a message passing schedule is required to resolve the dependencies between messages.\n",
      "\n",
      "The framework provides the `calculateMessage!(...)` function, that takes an interface as argument and calculates the outbound message on that interface. In the background, `calculateMessage!(...)` will first automatically generate a complete message passing schedule and then execute this schedule. In fact, all `calculateMessage!(...)` does is:\n",
      "\n",
      "```jl\n",
      "calculateMessage!(outbound_interface) = executeSchedule(generateSchedule(outbound_interface))\n",
      "```\n",
      "\n",
      "If the factor graph has no loops, the auto-scheduler will always find a correct schedule and you don't have to worry about what messages should be calculated in what order yourself. Of course, you can also use `generateSchedule()` and `executeSchedule()` directly. This is especially useful if you want to define a schedule yourself or if you want to prevent generating the same schedule over and over. For more info about message scheduling, have a look at the `schedules` demo.\n",
      "\n",
      "For convenience, there are also `calculateForwardMessage!(...)` and `calculateBackwardMessage!(...)` that both take an edge as argument."
     ]
    },
    {
     "cell_type": "markdown",
     "metadata": {},
     "source": [
      "Message calculation example\n",
      "---------------------------\n",
      "---\n",
      "Now suppose we want to calculate the outgoing message `out` in our previously defined graph. We can do this by simply calling `calculateMessage!(...)` with the `out` interface as input. The auto-scheduler invoked in `calculateMessage!(...)` and the node specific update functions will take care of the rest. "
     ]
    },
    {
     "cell_type": "code",
     "collapsed": false,
     "input": [
      "msg = calculateMessage!(node2.out)\n",
      "show(msg)"
     ],
     "language": "python",
     "metadata": {},
     "outputs": [
      {
       "output_type": "stream",
       "stream": "stdout",
       "text": [
        "Message{"
       ]
      },
      {
       "output_type": "stream",
       "stream": "stdout",
       "text": [
        "GaussianDistribution} with payload GaussianDistribution\n",
        "m  = [2.0]\n",
        "V  = [4.0]\n",
        "W  = nothing\n",
        "xi = nothing\n",
        ".\n"
       ]
      }
     ],
     "prompt_number": 8
    },
    {
     "cell_type": "markdown",
     "metadata": {},
     "source": [
      "Calculating marginals\n",
      "---------------------\n",
      "---\n",
      "\n",
      "One might be interested in the marginal probability distribution of a variable represented as an edge in the factor graph. \n",
      "ForneyLab provides a function `calculateMarginal!(edge)` (with and without bang) to calculate this marginal. The banged version will write the marginal back to the input edge. You can also pass payoads of forward/backward messages directly:"
     ]
    },
    {
     "cell_type": "code",
     "collapsed": false,
     "input": [
      "show(calculateMarginal(GaussianDistribution(m=0.0, V=1.0), GaussianDistribution(m=0.0, V=1.0)))"
     ],
     "language": "python",
     "metadata": {},
     "outputs": [
      {
       "output_type": "stream",
       "stream": "stdout",
       "text": [
        "GaussianDistribution\n"
       ]
      },
      {
       "output_type": "stream",
       "stream": "stdout",
       "text": [
        "m  = nothing\n",
        "V  = nothing\n",
        "W  = [2.0]\n",
        "xi = [0.0]\n"
       ]
      }
     ],
     "prompt_number": 9
    },
    {
     "cell_type": "markdown",
     "metadata": {},
     "source": [
      "As can be seen, the resulting marginal is a Gaussian in $(\\xi, W)$ parametrization.\n",
      "The demo `marginals` contains a more detailed example of calculating the marginal on an edge."
     ]
    },
    {
     "cell_type": "markdown",
     "metadata": {},
     "source": [
      "This concludes the basic tutorial on the ForneyLab.jl toolbox. You can take a look at the other demo's or inspect the source code and tests for the nitty-gritty. Happy message passing! "
     ]
    }
   ],
   "metadata": {}
  }
 ]
}