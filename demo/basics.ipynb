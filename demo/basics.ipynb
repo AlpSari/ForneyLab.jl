# Create a basic demo, explaining how to create nodes and edges, what are messages etc.
# To enable someone to start with the toolbox.
# The readme should refer to this document for more details. 