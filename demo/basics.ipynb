{
 "metadata": {
  "language": "Julia",
  "name": "",
  "signature": "sha256:3428e64d1d23853f6bc9b8e4a40b2dce66e82d4c4a21bd0f1e5215e84d5c6d6d"
 },
 "nbformat": 3,
 "nbformat_minor": 0,
 "worksheets": [
  {
   "cells": [
    {
     "cell_type": "markdown",
     "metadata": {},
     "source": [
      "ForneyLab.jl basics tutorial\n",
      "============================\n",
      "This tutorial will show the basic types and functionality of the ForneyLab.jl toolbox. ForneyLab.jl is a toolbox for message passing in Forney style factor graphs (FFG). The FFG representation is convenient when working with message passing algorithms, and can represent complex signal processing systems in an intuitive manner. We assume the reader has basic knowledge of message passing algorithms and factor graphs. \n",
      "\n",
      "The toolbox is written in Julia and designed to be fast, extendible and modular. For more information on Julia you can visit the [Julia website](http://julialang.org/). If you are following this tutorial online you do not need to install Julia. However, for working with the ForneyLab.jl toolbox on your own machine you will need to install Julia (v.0.2.1). Installation instructions can be found on the Julia webpage and the `README.md` file."
     ]
    },
    {
     "cell_type": "markdown",
     "metadata": {},
     "source": [
      "Basic type structure\n",
      "--------------------\n",
      "---\n",
      "### Interfaces\n",
      "We begin by introducing the `Interface` type. An interface is a half-edge that belongs to a node, and carries an outgoing message from that node. It can be seen as a connector that fits with another interface. The interface concept enables us to work very modular and allows us to replace one node with another (maybe even complexer) node without any further structural adaptations.\n",
      "\n",
      "The `message_payload_type` field on the interface defines the message distribution type that the interface is expected to carry. This fields defaults to a Gaussian message, but can be overwritten by constructing an `Edge`. \n",
      "\n",
      "### Edges\n",
      "An interface can have a partner from which a node receives an incoming message. An interface together with its partner form an `Edge`. The constructor of `Edge` takes two `Interface` instances as arguments and connects them. Optionally it also takes the expected message distribution type for the forward and backward message as argument. The edge direction is defined to be from the first towards the second argument. If a node has just one interface or if all interfaces have the same role (i.e. in an equality node), one can pass the node instead of a specific interface to `Edge()`.\n",
      "\n",
      "### Messages\n",
      "A message carries a number, array or probability distribution. Message is a container for this payload, which is stored in the `payload` field. The toolbox source code holds the probability distribution and message type definitions and detailed explanations.\n",
      "\n",
      "* `Message{Float64}`\n",
      "* `Message{Array{Float64, N}}`\n",
      "* `Message{GaussianDistribution}`\n",
      "* `Message{GammaDistribution}`\n",
      "* `Message{InverseDistribution}`\n",
      "\n",
      "Probability distributions are allowed to have different parameterizations. A Gaussian distribution for example can be defined using it's mean and covariance (m, V), mean and precision (m, W) or weighted mean and precision (xi, W).\n",
      "\n",
      "### Nodes\n",
      "Every specific node type in the toolbox inherits from an abstract `Node` type. Each specific node type has a specified number (>= 1) of interfaces, and can optionally be given a name. Below is a list with all available node types, each defined in a separate file. The files themselves contain detailed information about the node properties.\n",
      "\n",
      "* `AdditionNode`\n",
      "* `TerminalNode`\n",
      "* `EqualityNode`\n",
      "* `FixedGainNode`\n",
      "* `GaussianNode`\n",
      "\n",
      "Another requirement for nodes is that each node type has an `updateNodeMessage!(...)` function that accepts a node of that type as argument. This update function holds the node function, specifying how to calculate an outbound message (on a specified interface) from the inbound messages. \n",
      "\n",
      "### Composite nodes\n",
      "\n",
      "Composite nodes contain an internal graph themselves. Upon contruction, the option `use_composite_update_rules` decides whether this internal graph is created explicitly, or if a set of shortcut rules is used corresponding with the node function of the composite node as a whole (making the composite node behave as a standard node). At the moment the toolbox provides the following composite nodes:\n",
      "\n",
      "* `GainAdditionCompositeNode`\n",
      "* `GainEqualityCompositeNode`\n",
      "* `LinearCompositeNode`\n",
      "\n",
      "A composite node may itself contain composite nodes, making the toolbox highly modular and extendible."
     ]
    },
    {
     "cell_type": "markdown",
     "metadata": {},
     "source": [
      "Graph contruction example\n",
      "-------------------------\n",
      "---\n",
      "Before getting started we need to include the toolbox:"
     ]
    },
    {
     "cell_type": "code",
     "collapsed": false,
     "input": [
      "using ForneyLab"
     ],
     "language": "python",
     "metadata": {},
     "outputs": [],
     "prompt_number": 1
    },
    {
     "cell_type": "markdown",
     "metadata": {},
     "source": [
      "Suppose we want to create the following graph in which a Gaussian message is multiplied with a constant factor `A`:\n",
      "\n",
      "```\n",
      "node1  node2\n",
      " [N]--->[A]----->\n",
      "            out\n",
      "```\n",
      "\n",
      "First we initialize the Gaussian source node on the left by constructing a `TerminalNode` and initializing its value with a Gaussian distribution. We set the distribution mean and variance to 1. After construction we inspect the node and its value. We see that the node's value is exactly what we set it to be."
     ]
    },
    {
     "cell_type": "code",
     "collapsed": false,
     "input": [
      "node1 = TerminalNode(GaussianDistribution(m=1.0, V=1.0), name=\"noise_node\")\n",
      "show(node1)\n",
      "show(node1.value)"
     ],
     "language": "python",
     "metadata": {},
     "outputs": [
      {
       "output_type": "stream",
       "stream": "stdout",
       "text": [
        "TerminalNode with name "
       ]
      },
      {
       "output_type": "stream",
       "stream": "stdout",
       "text": [
        "noise_node.\n",
        "GaussianDistribution"
       ]
      },
      {
       "output_type": "stream",
       "stream": "stdout",
       "text": [
        "\n",
        "m  = [1.0]\n",
        "V  = 1x1 Array{Float64,2}:\n",
        " "
       ]
      },
      {
       "output_type": "stream",
       "stream": "stdout",
       "text": [
        "1.0\n",
        "W  = nothing\n",
        "xi = nothing\n"
       ]
      }
     ],
     "prompt_number": 2
    },
    {
     "cell_type": "markdown",
     "metadata": {},
     "source": [
      "Next, we initialize the multiplication by `A` by constructing a `FixedGain` node. Here, we set the multiplication factor to 2. We inspect the node and its multiplication factor and see everything is in order."
     ]
    },
    {
     "cell_type": "code",
     "collapsed": false,
     "input": [
      "node2 = FixedGainNode(2.0, name=\"factor_multiplication_node\")\n",
      "show(node2)\n",
      "show(node2.A)"
     ],
     "language": "python",
     "metadata": {},
     "outputs": [
      {
       "output_type": "stream",
       "stream": "stdout",
       "text": [
        "FixedGainNode"
       ]
      },
      {
       "output_type": "stream",
       "stream": "stdout",
       "text": [
        " with name factor_multiplication_node.\n",
        "1x1 Array{Float64,2}:\n",
        " 2.0"
       ]
      }
     ],
     "prompt_number": 3
    },
    {
     "cell_type": "markdown",
     "metadata": {},
     "source": [
      "The next step is to connect these nodes by an edge. We want to create a connection from the noise node's output to the multiplier's input. We expect a matrix as output."
     ]
    },
    {
     "cell_type": "code",
     "collapsed": false,
     "input": [
      "Edge(node1.out, node2.in1) # Edge(node1, node2.in1) will give the same result since node1 has just 1 interface"
     ],
     "language": "python",
     "metadata": {},
     "outputs": [
      {
       "metadata": {},
       "output_type": "pyout",
       "prompt_number": 4,
       "text": [
        "Edge from TerminalNode noise_node:1 to FixedGainNode factor_multiplication_node:1.\n",
        "Accepted forward message payload type: GaussianDistribution.\n",
        "Accepted backward message payload type: GaussianDistribution.\n"
       ]
      }
     ],
     "prompt_number": 4
    },
    {
     "cell_type": "markdown",
     "metadata": {},
     "source": [
      "That's it. We have defined our graph with just three simple commands."
     ]
    },
    {
     "cell_type": "markdown",
     "metadata": {},
     "source": [
      "Calculating and passing messages\n",
      "--------------------------------\n",
      "---\n",
      "As explained before, every node has its own `updateNodeMessage!(...)` function that states how messages should be passed for that node. However, this node specific function is not publicly accessible. In general, to be able to calculate an outbound message, all inbound messages to the factor node have to be calculated if they are not yet present, which leads to a recursion. In general, a message passing schedule is required to resolve the dependencies between messages.\n",
      "\n",
      "The toolbox provides the `calculateMessage!(...)` function, that takes an interface as argument and calculates the outbound message on that interface. In the background, `calculateMessage!(...)` will first automatically generate a complete message passing schedule and then execute this schedule. In fact, all `calculateMessage!(...)` does is:\n",
      "\n",
      "```jl\n",
      "calculateMessage!(outbound_interface) = executeSchedule(generateSchedule(outbound_interface))\n",
      "```\n",
      "\n",
      "If the factor graph has no loops, the auto-scheduler will always find a correct schedule and you don't have to worry about what messages should be calculated in what order yourself. Of course, you can also use `generateSchedule()` and `executeSchedule()` directly. This is especially useful if you want to define a schedule yourself or if you want to prevent generating the same schedule over and over. For more info about message scheduling, have a look at the `schedules` demo.\n",
      "\n",
      "For convenience, there are also `calculateForwardMessage!(...)` and `calculateBackwardMessage!(...)` that both take an edge as argument."
     ]
    },
    {
     "cell_type": "markdown",
     "metadata": {},
     "source": [
      "Message calculation example\n",
      "---------------------------\n",
      "---\n",
      "Now suppose we want to calculate the outgoing message `out` in our previously defined graph. We can do this by simply calling `calculateMessage!(...)` with the `out` interface as input. The auto-scheduler invoked in `calculateMessage!(...)` and the node specific update functions will take care of the rest. "
     ]
    },
    {
     "cell_type": "code",
     "collapsed": false,
     "input": [
      "msg = calculateMessage!(node2.out)\n",
      "println(\"The outgoing message on the final interface is a $(typeof(msg)), with mean $(mean(msg.payload)) and variance $(var(msg.payload))\")"
     ],
     "language": "python",
     "metadata": {},
     "outputs": [
      {
       "output_type": "stream",
       "stream": "stdout",
       "text": [
        "The outgoing message on the final interface is a Message{GaussianDistribution}, with mean 2\n",
        " and variance 4\n"
       ]
      },
      {
       "output_type": "stream",
       "stream": "stdout",
       "text": [
        "\n"
       ]
      }
     ],
     "prompt_number": 5
    },
    {
     "cell_type": "markdown",
     "metadata": {},
     "source": [
      "Calculating marginals\n",
      "---------------------\n",
      "---\n",
      "\n",
      "One might be interested in the marginal probability distribution of a variable represented as an edge in the factor graph. \n",
      "ForneyLab provides a function `calculateMarginal!(edge)` (with and without bang) to calculate this marginal. The banged version will write the marginal back to the input edge. You can also pass payoads of forward/backward messages directly:"
     ]
    },
    {
     "cell_type": "code",
     "collapsed": false,
     "input": [
      "show(calculateMarginal(GaussianDistribution(m=0.0, V=1.0), GaussianDistribution(m=0.0, V=1.0)))"
     ],
     "language": "python",
     "metadata": {},
     "outputs": [
      {
       "output_type": "stream",
       "stream": "stdout",
       "text": [
        "GaussianDistribution\n",
        "m  = nothing\n",
        "V  = nothing\n",
        "W  = 1x1 Array{Float64,2}:\n",
        " 2.0\n",
        "xi = [0.0]\n"
       ]
      }
     ],
     "prompt_number": 6
    },
    {
     "cell_type": "markdown",
     "metadata": {},
     "source": [
      "As can be seen, the resulting marginal is a Gaussian in $(\\xi, W)$ parametrization.\n",
      "The demo `marginals` contains a more detailed example of calculating the marginal on an edge."
     ]
    },
    {
     "cell_type": "markdown",
     "metadata": {},
     "source": [
      "This concludes the basic tutorial on the ForneyLab.jl toolbox. You can take a look at the other demo's or inspect the source code and tests for the nitty-gritty. Happy message passing! "
     ]
    }
   ],
   "metadata": {}
  }
 ]
}