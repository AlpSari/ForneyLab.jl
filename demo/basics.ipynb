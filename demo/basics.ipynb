{
 "metadata": {
  "language": "Julia",
  "name": "",
  "signature": "sha256:d09ee9e5b541321bfdc9ac2a7221938e25abf1d091ab2852f9f7a1975295a59f"
 },
 "nbformat": 3,
 "nbformat_minor": 0,
 "worksheets": [
  {
   "cells": [
    {
     "cell_type": "markdown",
     "metadata": {},
     "source": [
      "ForneyLab.jl basics tutorial\n",
      "============================\n",
      "This tutorial will show the basic types and functionality of the ForneyLab.jl toolbox. ForneyLab.jl is a toolbox for message passing in Forney style factor graphs (FFG). The FFG representation is convenient when working with message passing algorithms, and can represent complex signal processing systems in an intuitive manner. We assume the reader has basic knowledge of message passing algorithms and factor graphs. \n",
      "\n",
      "The toolbox is written in Julia and designed to be fast, extendible and modular. For more information on Julia you can visit the [Julia website](http://julialang.org/). If you are following this tutorial online you do not need to install Julia. However, for working with the ForneyLab.jl toolbox on your own machine you will need to install Julia (v.0.2.1). Installation instructions can be found on the Julia webpage and the `README.md` file."
     ]
    },
    {
     "cell_type": "markdown",
     "metadata": {},
     "source": [
      "Basic type structure\n",
      "--------------------\n",
      "---\n",
      "### Interfaces\n",
      "We begin by introducing the `Interface` type. An interface is a half-edge that belongs to a node, and carries an outgoing message from that node. It can be seen as a connector that fits with any other interface carrying the same message type. The interface concept enables us to work very modular. The interfaces allow us to replace one node with another (maybe even complexer) node without any structural adaptations.\n",
      "\n",
      "### Edges\n",
      "An interface can have a partner from which a node receives an incoming message. An interface together with its partner form an `Edge`. An `Edge` is a type that takes two `Interface` types as arguments and connects them. The edge direction is defined from the first to the second argument.\n",
      "\n",
      "### Messages\n",
      "Every specific message type inherits from the abstract `Message` type. Currently there are two specific message types. The file `messages.jl` in the toolbox source code holds the message type definitions and detailed explanations.\n",
      "\n",
      "* `GeneralMessage`\n",
      "* `GaussianMessage`\n",
      "\n",
      "Messages are allowed to have different parameterizations. A Gaussian message for example can be defined using it's mean and covariance (m, V), mean and precision (m, W) or weighted mean and precision (xi, W).\n",
      "\n",
      "### Nodes\n",
      "Every specific node type in the toolbox inherits from an abstract `Node` type. Each specific node type has a specified number (>= 1) of interfaces, and can optionally be given a name. Below is a list with all available node types, each defined in a separate file. The files themselves contain detailed information about the node properties.\n",
      "\n",
      "* `AdditionNode`\n",
      "* `ConstantNode`\n",
      "* `EqualityNode`\n",
      "* `FixedGainNode`\n",
      "\n",
      "Another requirement for nodes is that each node type has an `updateNodeMessage!(...)` function that accepts a node of that type as argument. This update function holds the node function, specifying how to calculate an outbound message (on a specified interface) from the inbound messages. \n",
      "\n",
      "### Composite nodes\n",
      "\n",
      "Composite nodes contain an internal graph themselves. Upon contruction, the option `use_composite_update_rules` decides whether this internal graph is created explicitly (rendering the composite node just a shell), or if a set of shortcut rules is used corresponding with the node function of the composite node as a whole (making the composite node behave as a standerd node). At the moment the toolbox provides the following composite nodes:\n",
      "\n",
      "* `GainEqualityCompositeNode`\n",
      "\n",
      "A composite node may itself contain composite nodes, making the toolbox highly modular and extendible.\n"
     ]
    },
    {
     "cell_type": "markdown",
     "metadata": {},
     "source": [
      "Graph contruction example\n",
      "-------------------------\n",
      "---\n",
      "Before getting started we need to include the toolbox:"
     ]
    },
    {
     "cell_type": "code",
     "collapsed": false,
     "input": [
      "using ForneyLab"
     ],
     "language": "python",
     "metadata": {},
     "outputs": [],
     "prompt_number": 1
    },
    {
     "cell_type": "markdown",
     "metadata": {},
     "source": [
      "Suppose we want to create the following graph in which a Gaussian message is multiplied with a constant factor `A`:\n",
      "\n",
      "```\n",
      "node1  node2\n",
      " [N]--->[A]----->\n",
      "            out\n",
      "```\n",
      "\n",
      "First we initialize the Gaussian source node on the left by constructing a `ConstantNode` and initializing its message with a Gaussian distribution. We set the distribution mean and variance to 1. After construction we inspect the node and its value. We see that the node's value is exactly what we set it to be."
     ]
    },
    {
     "cell_type": "code",
     "collapsed": false,
     "input": [
      "node1 = ConstantNode(GaussianMessage(m=[1.0], V=[1.0]), name=\"noise_node\")\n",
      "show(node1)\n",
      "show(node1.value)"
     ],
     "language": "python",
     "metadata": {},
     "outputs": [
      {
       "output_type": "stream",
       "stream": "stdout",
       "text": [
        "ConstantNode with name "
       ]
      },
      {
       "output_type": "stream",
       "stream": "stdout",
       "text": [
        "noise_node.\n",
        "GaussianMessage"
       ]
      },
      {
       "output_type": "stream",
       "stream": "stdout",
       "text": [
        "\n",
        "m  = [1.0]\n",
        "V  = 1x1 Array{Float64,2}:\n",
        " "
       ]
      },
      {
       "output_type": "stream",
       "stream": "stdout",
       "text": [
        "1.0\n",
        "W  = nothing\n",
        "xi = nothing\n"
       ]
      }
     ],
     "prompt_number": 2
    },
    {
     "cell_type": "markdown",
     "metadata": {},
     "source": [
      "Next, we initialize the multiplication by `A` by constructing a `FixedGain` node. Here we set multiplication factor to 2. We inspect the node and its value and see everything is in order."
     ]
    },
    {
     "cell_type": "code",
     "collapsed": false,
     "input": [
      "node2 = FixedGainNode([2.0], name=\"factor_multiplication_node\")\n",
      "show(node2)\n",
      "show(node2.A)"
     ],
     "language": "python",
     "metadata": {},
     "outputs": [
      {
       "output_type": "stream",
       "stream": "stdout",
       "text": [
        "FixedGainNode"
       ]
      },
      {
       "output_type": "stream",
       "stream": "stderr",
       "text": [
        "Warning: Possible conflict in library symbol dtrtri_\n",
        "Warning: Possible conflict in library symbol dgetri_\n",
        "Warning: Possible conflict in library symbol dgetrf_\n"
       ]
      },
      {
       "output_type": "stream",
       "stream": "stdout",
       "text": [
        " with name factor_multiplication_node.\n",
        "1x1 Array{Float64,2}:\n",
        " 2.0"
       ]
      }
     ],
     "prompt_number": 3
    },
    {
     "cell_type": "markdown",
     "metadata": {},
     "source": [
      "The next step is to connect these nodes by an edge. We want to create a connection from the noise node's output to the multiplier's input."
     ]
    },
    {
     "cell_type": "code",
     "collapsed": false,
     "input": [
      "Edge(node1.out, node2.in1)"
     ],
     "language": "python",
     "metadata": {},
     "outputs": [
      {
       "metadata": {},
       "output_type": "pyout",
       "prompt_number": 4,
       "text": [
        "Edge from ConstantNode with node name noise_node to FixedGainNode with node name factor_multiplication_node. Forward message type: Nothing. Backward message type: Nothing.\n"
       ]
      }
     ],
     "prompt_number": 4
    },
    {
     "cell_type": "markdown",
     "metadata": {},
     "source": [
      "That's it. We have defined our graph with just three simple commands."
     ]
    },
    {
     "cell_type": "markdown",
     "metadata": {},
     "source": [
      "Calculating and passing messages\n",
      "--------------------------------\n",
      "---\n",
      "As explained before, every node has its own `updateNodeMessage!(...)` function that states how messages should be passed for that node. However, this node specific function is not publically accessible. The toolbox provides the `calculateMessage!(...)` function instead, that takes an interface as argument and calculates the outbound message on that interface. The `calculateMessage!(...)` function makes a recursive call on the interfaces that do not yet carry an inbound message that is required for the calculation of the message on the outbound interface. When the required inbound messages are available, `calculateMessage!(...)` calls the node specific `updateNodeMessage!(...)` to calculate the outbound message.\n",
      "\n",
      "For convenience, there are also `calculateForwardMessage!(...)` and `calculateBackwardMessage!(...)` that both take an edge as argument."
     ]
    },
    {
     "cell_type": "markdown",
     "metadata": {},
     "source": [
      "Message calculation example\n",
      "---------------------------\n",
      "---\n",
      "Now suppose we want to calculate the outgoing message `out` in our previously defined graph. We can do this by simply calling `calculateMessage!(...)` with the `out` interface as input. The recursion in `calculateMessage!(...)` and the node specific update functions will take care of the rest. "
     ]
    },
    {
     "cell_type": "code",
     "collapsed": false,
     "input": [
      "msg = calculateMessage!(node2.out)\n",
      "println(\"The outgoing message on the final interface is a $(typeof(msg)), with mean $(msg.m) and variance $(msg.V)\")"
     ],
     "language": "python",
     "metadata": {},
     "outputs": [
      {
       "output_type": "stream",
       "stream": "stdout",
       "text": [
        "The outgoing message on the final interface is a GaussianMessage, with mean 2\n",
        " and variance 4\n"
       ]
      },
      {
       "output_type": "stream",
       "stream": "stdout",
       "text": [
        "\n"
       ]
      }
     ],
     "prompt_number": 5
    },
    {
     "cell_type": "markdown",
     "metadata": {},
     "source": [
      "This concludes the basic tutorial on the ForneyLab.jl toolbox. You can take a look at the other demo's or inspect the source code and tests for the nitty-gritty. Happy message passing! "
     ]
    },
    {
     "cell_type": "markdown",
     "metadata": {},
     "source": [
      "Calculating marginals\n",
      "---------------------\n",
      "---\n",
      "\n",
      "One might be interested in the marginal probability distribution of a variable represented as an edge in the factor graph. \n",
      "ForneyLab provides a function `calculateMarginal(edge)` to calculate this marginal, under the assumption that the forward and backward messages on the edge have been calculated at least once in the past. The marginal itself is encoded in a message of the same type as the forward/backward messages. You can also pass the forward/backward messages directly:"
     ]
    },
    {
     "cell_type": "code",
     "collapsed": false,
     "input": [
      "show(calculateMarginal(GaussianMessage(m=[0.0], V=[1.0]), GaussianMessage(m=[0.0], V=[1.0])))"
     ],
     "language": "python",
     "metadata": {},
     "outputs": [
      {
       "output_type": "stream",
       "stream": "stdout",
       "text": [
        "GaussianMessage"
       ]
      },
      {
       "output_type": "stream",
       "stream": "stdout",
       "text": [
        "\n",
        "m  = nothing\n",
        "V  = nothing\n",
        "W  = 1x1 Array{Float64,2}:\n",
        " 2.0\n",
        "xi = [0.0]\n"
       ]
      }
     ],
     "prompt_number": 6
    },
    {
     "cell_type": "markdown",
     "metadata": {},
     "source": [
      "As can be seen, the resulting marginal is a Gaussian with (xi, W) parametrization.\n",
      "The demo `marginals` contains a more detailed example of calculating the marginal on an edge."
     ]
    }
   ],
   "metadata": {}
  }
 ]
}