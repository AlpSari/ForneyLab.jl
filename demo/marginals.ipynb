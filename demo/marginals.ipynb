{
 "metadata": {
  "language": "Julia",
  "name": "",
  "signature": "sha256:350fb1baa1f784b765e0abc1ffd07538ff3ba2d471a3ba42028c454b7f2aa78e"
 },
 "nbformat": 3,
 "nbformat_minor": 0,
 "worksheets": [
  {
   "cells": [
    {
     "cell_type": "markdown",
     "metadata": {},
     "source": [
      "Marginals demo\n",
      "==============\n",
      "\n",
      "It is often useful to calculate the marginal probability distribution of a variable represented by an edge in a factor graph. \n",
      "ForneyLab provides `calculateMarginal(edge)` to calculate this marginal, under the assumption that the forward and backward messages on the edge have been calculated at least once in the past. The marginal will be encoded in a message of the same type as the forward/backward messages. It is also possible to pass the forward/backward messages directly, using `calculateMarginal(forward_msg, backward_msg)`. \n",
      "\n",
      "Example of `calculateMarginal(forward_msg, backward_msg)`\n",
      "---------------------------------------------------------"
     ]
    },
    {
     "cell_type": "code",
     "collapsed": false,
     "input": [
      "using ForneyLab\n",
      "fwd_msg = GaussianMessage(m=[0.0], V=[1.0])\n",
      "bwd_msg = GaussianMessage(m=[0.0], V=[1.0])\n",
      "marginal = calculateMarginal(fwd_msg, bwd_msg)\n",
      "show(marginal)"
     ],
     "language": "python",
     "metadata": {},
     "outputs": [
      {
       "output_type": "stream",
       "stream": "stdout",
       "text": [
        "GaussianMessage\n",
        " m  = nothing\n",
        " V  = nothing\n",
        " W  = 2\n",
        "\n",
        " xi = 0\n",
        "\n"
       ]
      }
     ],
     "prompt_number": 2
    },
    {
     "cell_type": "markdown",
     "metadata": {},
     "source": [
      "As can be seen, the marginal is parametrized by `(xi,W)`. We can calculate the `(m,V)` parametrization for easy interpretation:"
     ]
    },
    {
     "cell_type": "code",
     "collapsed": false,
     "input": [
      "show(ensureMVParametrization!(marginal))"
     ],
     "language": "python",
     "metadata": {},
     "outputs": [
      {
       "output_type": "stream",
       "stream": "stdout",
       "text": [
        "GaussianMessage\n",
        " m  = 0\n",
        "\n",
        " V  = .5\n",
        "\n",
        " W  = 2\n",
        "\n",
        " xi = 0\n",
        "\n"
       ]
      }
     ],
     "prompt_number": 3
    },
    {
     "cell_type": "markdown",
     "metadata": {},
     "source": [
      "For `GaussianMessage`, the following functions are available to convert parametrizations:\n",
      "* `ensureMVParametrization!(msg)` for `(m,V)` parametrization.\n",
      "* `ensureMWParametrization!(msg)` for `(m,W)` parametrization.\n",
      "* `ensureXiVParametrization!(msg)` for `(xi,V)` parametrization.\n",
      "* `ensureXiWParametrization!(msg)` for `(xi,W)` parametrization."
     ]
    },
    {
     "cell_type": "markdown",
     "metadata": {},
     "source": [
      "Example of `calculateMarginal(edge)`\n",
      "------------------------------------\n",
      "\n",
      "Suppose we have the following factor graph with observed variables `x` and `y` and latent variable `z`. Factors `n1` and `n1` represent independent Gaussian noise sources with known means and variances.\n",
      "```\n",
      "               (z)\n",
      "    (x) ---> + ---> + ---> (y)\n",
      "             |      |\n",
      "            (n1)   (n2)\n",
      "```\n",
      "We are now interested in calculating the marginal over the latent variable: `p(z)`.\n",
      "\n",
      "First, let's build the factor graph:"
     ]
    },
    {
     "cell_type": "code",
     "collapsed": false,
     "input": [
      "# Create nodes\n",
      "x = ConstantNode(GaussianMessage(m=[2.0], V=[0.0]); name=\"x\")\n",
      "y = ConstantNode(GaussianMessage(m=[3.0], V=[0.0]); name=\"y\")\n",
      "n1 = ConstantNode(GaussianMessage(m=[0.0], V=[1.0]); name=\"n1\")\n",
      "n2 = ConstantNode(GaussianMessage(m=[2.0], V=[1.0]); name=\"n2\")\n",
      "add_n1 = AdditionNode(name=\"add_n1\")\n",
      "add_n2 = AdditionNode(name=\"add_n2\")\n",
      "\n",
      "# Create the edges\n",
      "Edge(x.out, add_n1.in1)\n",
      "Edge(n1.out, add_n1.in2)\n",
      "edge_z = Edge(add_n1.out, add_n2.in1)\n",
      "Edge(n2.out, add_n2.in2)\n",
      "Edge(add_n2.out, y.out);"
     ],
     "language": "python",
     "metadata": {},
     "outputs": [],
     "prompt_number": 4
    },
    {
     "cell_type": "markdown",
     "metadata": {},
     "source": [
      "We assign a name to `edge_z` so we can use it in function calls.\n",
      "The next step is to calculate both the forward and backward messages on `edge_z`:"
     ]
    },
    {
     "cell_type": "code",
     "collapsed": false,
     "input": [
      "# Calculate forward and backward messages on edge_z\n",
      "calculateForwardMessage!(edge_z)\n",
      "calculateBackwardMessage!(edge_z);"
     ],
     "language": "python",
     "metadata": {},
     "outputs": [],
     "prompt_number": 4
    },
    {
     "cell_type": "markdown",
     "metadata": {},
     "source": [
      "Finally, we can calculate the marginal and convert it to `(m,V)` parametrization for easy interpretation:"
     ]
    },
    {
     "cell_type": "code",
     "collapsed": false,
     "input": [
      "# Calculate and show the marginal\n",
      "z_marginal = calculateMarginal(edge_z)\n",
      "ensureMVParametrization!(z_marginal)\n",
      "println(\"Marginal p(z):\")\n",
      "show(z_marginal)"
     ],
     "language": "python",
     "metadata": {},
     "outputs": [
      {
       "output_type": "stream",
       "stream": "stdout",
       "text": [
        "Marginal p(z):\n"
       ]
      },
      {
       "output_type": "stream",
       "stream": "stdout",
       "text": [
        "GaussianMessage\n",
        " m  = 1.5\n",
        "\n",
        " V  = .5\n",
        "\n",
        " W  = 2\n",
        "\n",
        " xi = 3\n",
        "\n"
       ]
      }
     ],
     "prompt_number": 5
    },
    {
     "cell_type": "markdown",
     "metadata": {},
     "source": [
      "If the forward or backward message is not defined, `calculateMarginal()` will throw an error. The user is responsible for making sure that both messages are present."
     ]
    }
   ],
   "metadata": {}
  }
 ]
}