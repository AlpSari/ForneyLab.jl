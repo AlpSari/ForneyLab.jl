{
 "metadata": {
  "language": "Julia",
  "name": "marginals",
  "signature": "sha256:fc4d7f1557a3911e52e33f1c314032ae104f053d8e7779f09e7cd853f45a86ad"
 },
 "nbformat": 3,
 "nbformat_minor": 0,
 "worksheets": [
  {
   "cells": [
    {
     "cell_type": "markdown",
     "metadata": {},
     "source": "Marginals demo\n==============\n\nIt is often useful to calculate the marginal probability distribution of a variable represented by an edge in a factor graph. \nForneyLab provides `calculateMarginal(edge)` to calculate this marginal. The banged version `calculateMarginal!(edge)` will save the result to the argument edge as well. `calculateMarginal(edge)`. The marginal distribution will be stored in the `edge.marginal` field. It is also possible to pass the forward/backward messages directly, using `calculateMarginal(forward_msg, backward_msg)`. This function does not write back to the edge. \n\nExample of `calculateMarginal(forward_msg, backward_msg)`\n---------------------------------------------------------"
    },
    {
     "cell_type": "code",
     "collapsed": false,
     "input": "using ForneyLab\nfwd_msg = GaussianDistribution(m=[0.0], V=[1.0])\nbwd_msg = GaussianDistribution(m=[0.0], V=[1.0])\nmarginal = calculateMarginal(fwd_msg, bwd_msg)\nshow(marginal)",
     "language": "python",
     "metadata": {},
     "outputs": [
      {
       "output_type": "stream",
       "stream": "stdout",
       "text": "GaussianDistribution\n"
      },
      {
       "output_type": "stream",
       "stream": "stdout",
       "text": "m  = nothing\nV  = nothing\nW  = 1x1 Array{Float64,2}:\n "
      },
      {
       "output_type": "stream",
       "stream": "stdout",
       "text": "2.0\nxi = [0.0]\n"
      }
     ],
     "prompt_number": 1
    },
    {
     "cell_type": "markdown",
     "metadata": {},
     "source": "As can be seen, the marginal is parametrized by `(xi,W)`. We can calculate the `(m,V)` parametrization for easy interpretation:"
    },
    {
     "cell_type": "code",
     "collapsed": false,
     "input": "show(ensureMVParametrization!(marginal))",
     "language": "python",
     "metadata": {},
     "outputs": [
      {
       "output_type": "stream",
       "stream": "stdout",
       "text": "GaussianDistribution\n"
      },
      {
       "output_type": "stream",
       "stream": "stdout",
       "text": "m  = [0.0]\nV  = 1x1 Array{Float64,2}:\n 0.5\nW  = 1x1 Array{Float64,2}:\n 2.0\nxi = [0.0]\n"
      }
     ],
     "prompt_number": 2
    },
    {
     "cell_type": "markdown",
     "metadata": {},
     "source": "For `GaussianDistribution`, the following functions are available to convert parametrizations:\n* `ensureMVParametrization!(dist)` for `(m,V)` parametrization.\n* `ensureMWParametrization!(dist)` for `(m,W)` parametrization.\n* `ensureXiVParametrization!(dist)` for `(xi,V)` parametrization.\n* `ensureXiWParametrization!(dist)` for `(xi,W)` parametrization."
    },
    {
     "cell_type": "markdown",
     "metadata": {},
     "source": "Example of `calculateMarginal!(edge)`\n------------------------------------\n\nSuppose we have the following factor graph with observed variables `x` and `y` and latent variable `z`. Factors `n1` and `n2` represent independent Gaussian noise sources with known means and variances.\n```\n               (z)\n    (x) ---> + ---> + ---> (y)\n             |      |\n            (n1)   (n2)\n```\nWe are now interested in calculating the marginal over the latent variable: `p(z)`.\n\nFirst, let's build the factor graph:"
    },
    {
     "cell_type": "code",
     "collapsed": false,
     "input": "# Create nodes\nx = ConstantNode(GaussianDistribution(m=[2.0], V=[0.0]), name=\"x\")\ny = ConstantNode(GaussianDistribution(m=[3.0], V=[0.0]), name=\"y\")\nn1 = ConstantNode(GaussianDistribution(m=[0.0], V=[1.0]), name=\"n1\")\nn2 = ConstantNode(GaussianDistribution(m=[2.0], V=[1.0]), name=\"n2\")\nadd_n1 = AdditionNode(name=\"add_n1\")\nadd_n2 = AdditionNode(name=\"add_n2\")\n\n# Create the edges\nEdge(x.out, add_n1.in1)\nEdge(n1.out, add_n1.in2)\nedge_z = Edge(add_n1.out, add_n2.in1)\nEdge(n2.out, add_n2.in2)\nEdge(add_n2.out, y.out);",
     "language": "python",
     "metadata": {},
     "outputs": [],
     "prompt_number": 3
    },
    {
     "cell_type": "markdown",
     "metadata": {},
     "source": "We assign a name to `edge_z` so we can use it in function calls.\nNow we can calculate the marginal on `edge_z` and convert it to `(m,V)` parametrization for easy interpretation. Note that `calculateMessage!()` will automatically be called in the background."
    },
    {
     "cell_type": "code",
     "collapsed": false,
     "input": "# Calculate and show the marginal\ncalculateMessage!(edge_z.head)\ncalculateMessage!(edge_z.tail)\nz_marginal = calculateMarginal!(edge_z)\nensureMVParametrization!(z_marginal)\nprintln(\"Marginal p(z):\")\nshow(z_marginal)",
     "language": "python",
     "metadata": {},
     "outputs": [
      {
       "output_type": "stream",
       "stream": "stdout",
       "text": "Marginal p(z):\n"
      },
      {
       "output_type": "stream",
       "stream": "stdout",
       "text": "GaussianDistribution\nm  = [1.5]\nV  = 1x1 Array{Float64,2}:\n 0.5\nW  = 1x1 Array{Float64,2}:\n 2.0\nxi = [3.0]\n"
      }
     ],
     "prompt_number": 4
    },
    {
     "cell_type": "markdown",
     "metadata": {},
     "source": "If the forward or backward message is not defined, `calculateMarginal!()` will throw an error. It is the resposibility of the user to pre-calculate the message on the interfaces, or perhaps set an uninformative message."
    }
   ],
   "metadata": {}
  }
 ]
}