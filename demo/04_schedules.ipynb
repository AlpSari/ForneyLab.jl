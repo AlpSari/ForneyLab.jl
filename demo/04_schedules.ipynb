{
 "metadata": {
  "language": "Julia",
  "name": "",
  "signature": "sha256:d819935443da4ceee3451562fd6c32e82005abfa75dee64d6de9c3ef40fc2661"
 },
 "nbformat": 3,
 "nbformat_minor": 0,
 "worksheets": [
  {
   "cells": [
    {
     "cell_type": "markdown",
     "metadata": {},
     "source": [
      "Message passing schedules\n",
      "=========================\n",
      "\n",
      "In the previous demos, we use `calculateMessage!()` to calculate the outbound messages. This function automatically detects what required messages have to be calculated to be able to calculate the outbound message on `outbound_interface`. \n",
      "\n",
      "In practice `calculateMessage!()` consists of two steps. Firtsly it invokes ForneyLab's auto-scheduler `generateSchedule()` to find a correct message passing schedule. The auto-scheduler can automatically generate such a schedule if the graph is a tree. The second step is to executes this schedule by calling `executeSchedule()`.\n",
      "\n",
      "Instead of just auto-generating a schedule every time `calculateMessage!()` is called, one can also manually create a message passing schedule and execute it (many times). Multiple executions of a schedule are required for graphs with loops. Loopy graphs will be discussed in a subsequent demo. In this demo, we'll look at `generateSchedule()` and `executeSchedule()` in detail."
     ]
    },
    {
     "cell_type": "markdown",
     "metadata": {},
     "source": [
      "Example\n",
      "---\n",
      "\n",
      "First, let's consider the graph below and let the auto-scheduler find a schedule:\n",
      "\n",
      "```\n",
      "                   (u)\n",
      "            (equ)   |\n",
      "    (xin) --> = --> + --> (xout)\n",
      "              |    (add_u_xin)\n",
      "       (n)--> +(add_n_y)\n",
      "              |\n",
      "             (y)\n",
      "\n",
      "```"
     ]
    },
    {
     "cell_type": "code",
     "collapsed": false,
     "input": [
      "using ForneyLab\n",
      "\n",
      "# Create nodes\n",
      "xin         = TerminalNode(GaussianDistribution(m=0.0, V=2.0), name=\"xin\")\n",
      "n           = TerminalNode(GaussianDistribution(m=0.0, V=10.0), name=\"n\")\n",
      "y           = TerminalNode(GaussianDistribution(m=1.0, V=0.1), name=\"y\")\n",
      "add_n_y     = AdditionNode(name=\"add_n_y\")\n",
      "equ         = EqualityNode(name=\"equ\")\n",
      "add_u_xin   = AdditionNode(name=\"add_u_xin\")\n",
      "u           = TerminalNode(GaussianDistribution(m=1.0, V=0.0), name=\"u\")\n",
      "xout        = TerminalNode(name=\"xout\");\n",
      "\n",
      "# Create edges\n",
      "Edge(xin.out, equ.interfaces[1])\n",
      "Edge(n.out, add_n_y.in1)\n",
      "Edge(y.out, add_n_y.in2)\n",
      "Edge(add_n_y.out, equ.interfaces[2])\n",
      "Edge(equ.interfaces[3], add_u_xin.in2)\n",
      "Edge(u.out, add_u_xin.in1)\n",
      "Edge(add_u_xin.out, xout.out);\n",
      "\n",
      "# Invoke the auto-scheduler to calculate the message towards xout\n",
      "schedule = generateSchedule(add_u_xin.out)\n",
      "show(schedule)"
     ],
     "language": "python",
     "metadata": {},
     "outputs": [
      {
       "output_type": "stream",
       "stream": "stdout",
       "text": [
        "Message passing schedule [{node type} {node name}:{outbound iface index} ({outbound iface name})]:\n"
       ]
      },
      {
       "output_type": "stream",
       "stream": "stdout",
       "text": [
        " sum_product update at TerminalNode u:1 (out)\n",
        " sum_product update at TerminalNode xin:1 (out)\n",
        " sum_product update at TerminalNode n:1 (out)\n",
        " sum_product update at TerminalNode y:1 (out)\n",
        " sum_product update at AdditionNode add_n_y:3 (out)\n",
        " sum_product update at EqualityNode equ:3 \n",
        " sum_product update at AdditionNode add_u_xin:3 (out)\n"
       ]
      }
     ],
     "prompt_number": 1
    },
    {
     "cell_type": "markdown",
     "metadata": {},
     "source": [
      "As is easily verified, this schedule solves all dependencies. However, it is not unique. We could also put the message from `u` towards `add_u_xin` in the end of the schedule. \n",
      "\n",
      "Sometimes a user might be interested in providing a **partial schedule**, and let the auto-scheduler derive a complete schedule that preserves the order of the messages in the partial schedule. This is possible by just passing the partial schedule to `generateSchedule()`. So, if we want to incorporate the message from `u` in the end, we can do:"
     ]
    },
    {
     "cell_type": "code",
     "collapsed": false,
     "input": [
      "schedule = generateSchedule([equ.interfaces[3], add_u_xin.out])\n",
      "show(schedule)"
     ],
     "language": "python",
     "metadata": {},
     "outputs": [
      {
       "output_type": "stream",
       "stream": "stdout",
       "text": [
        "Message passing schedule [{node type} {node name}:{outbound iface index} ({outbound iface name})]:\n"
       ]
      },
      {
       "output_type": "stream",
       "stream": "stdout",
       "text": [
        " sum_product update at TerminalNode xin:1 (out)\n",
        " sum_product update at TerminalNode n:1 (out)\n",
        " sum_product update at TerminalNode y:1 (out)\n",
        " sum_product update at AdditionNode add_n_y:3 (out)\n",
        " sum_product update at EqualityNode equ:3 \n",
        " sum_product update at TerminalNode u:1 (out)\n",
        " sum_product update at AdditionNode add_u_xin:3 (out)\n"
       ]
      }
     ],
     "prompt_number": 2
    },
    {
     "cell_type": "markdown",
     "metadata": {},
     "source": [
      "`executeSchedule(schedule)`\n",
      "===========================\n",
      "\n",
      "The function `executeSchedule()` takes the schedule as argument and calculates each message in order by simply executing a for-loop over the interfaces in schedule."
     ]
    },
    {
     "cell_type": "code",
     "collapsed": false,
     "input": [
      "msg_out = executeSchedule(schedule)\n",
      "show(msg_out)"
     ],
     "language": "python",
     "metadata": {},
     "outputs": [
      {
       "output_type": "stream",
       "stream": "stdout",
       "text": [
        "Message{GaussianDistribution} with payload GaussianDistribution\n",
        "m  = [1.165289256198347]\n",
        "V  = [1.6694214876033058]\n",
        "W  = nothing\n",
        "xi = nothing\n",
        "\n"
       ]
      }
     ],
     "prompt_number": 3
    },
    {
     "cell_type": "markdown",
     "metadata": {},
     "source": [
      "Summary propagation options\n",
      "===========================\n",
      "\n",
      "A schedule is a `ScheduleEntry` array with fields `interface::Interface` and `summary_operation::ASCIIString`. The default summary operation is standard sumproduct message passing, denoted by `sum_product`. It is also possible to perform alternative summary operations such as sampling, by altering the summary operation field to `sample`. An example is show below."
     ]
    },
    {
     "cell_type": "code",
     "collapsed": false,
     "input": [
      "schedule[end].summary_operation = \"sample\" # Alter the final summary operation to return a sample\n",
      "show(schedule)\n",
      "msg_out = executeSchedule(schedule)\n",
      "show(msg_out)"
     ],
     "language": "python",
     "metadata": {},
     "outputs": [
      {
       "ename": "LoadError",
       "evalue": "`setindex!` has no method matching setindex!(::(Interface,ASCIIString), ::ASCIIString, ::Int64)\nwhile loading In[7], in expression starting on line 1",
       "output_type": "pyerr",
       "traceback": [
        "`setindex!` has no method matching setindex!(::(Interface,ASCIIString), ::ASCIIString, ::Int64)\nwhile loading In[7], in expression starting on line 1",
        ""
       ]
      }
     ],
     "prompt_number": 7
    },
    {
     "cell_type": "code",
     "collapsed": false,
     "input": [],
     "language": "python",
     "metadata": {},
     "outputs": []
    }
   ],
   "metadata": {}
  }
 ]
}