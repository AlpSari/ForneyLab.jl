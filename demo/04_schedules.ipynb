{
 "metadata": {
  "language": "Julia",
  "name": "",
  "signature": "sha256:8e9a075a52538af2818c42502e8fcfd42ca3d37872bbda5fb7037190ae5231d8"
 },
 "nbformat": 3,
 "nbformat_minor": 0,
 "worksheets": [
  {
   "cells": [
    {
     "cell_type": "markdown",
     "metadata": {},
     "source": [
      "Message passing schedules\n",
      "=========================\n",
      "\n",
      "In the previous demos, we use `calculateMessage!()` to calculate the outbound messages. This function automatically detects what required messages have to be calculated to be able to calculate the outbound message on `outbound_interface`. \n",
      "\n",
      "In practice `calculateMessage!()` consists of two steps. Firtsly it invokes ForneyLab's auto-scheduler `generateSchedule()` to find a correct message passing schedule. The auto-scheduler can automatically generate such a schedule if the graph is a tree. The second step is to executes this schedule by calling `executeSchedule()`.\n",
      "\n",
      "Instead of just auto-generating a schedule every time `calculateMessage!()` is called, one can also manually create a message passing schedule and execute it (many times). Multiple executions of a schedule are required for graphs with loops. Loopy graphs will be discussed in a subsequent demo. In this demo, we'll look at `generateSchedule()` and `executeSchedule()` in detail."
     ]
    },
    {
     "cell_type": "markdown",
     "metadata": {},
     "source": [
      "Example\n",
      "---\n",
      "\n",
      "First, let's consider the graph below and let the auto-scheduler find a schedule:\n",
      "\n",
      "```\n",
      "                   (u)\n",
      "            (equ)   |\n",
      "    (xin) --> = --> + --> (xout)\n",
      "              |    (add_u_xin)\n",
      "       (n)--> +(add_n_y)\n",
      "              |\n",
      "             (y)\n",
      "\n",
      "```"
     ]
    },
    {
     "cell_type": "code",
     "collapsed": false,
     "input": [
      "using ForneyLab\n",
      "\n",
      "# Create nodes\n",
      "xin         = TerminalNode(GaussianDistribution(m=0.0, V=2.0), name=\"xin\")\n",
      "n           = TerminalNode(GaussianDistribution(m=0.0, V=10.0), name=\"n\")\n",
      "y           = TerminalNode(GaussianDistribution(m=1.0, V=0.1), name=\"y\")\n",
      "add_n_y     = AdditionNode(name=\"add_n_y\")\n",
      "equ         = EqualityNode(name=\"equ\")\n",
      "add_u_xin   = AdditionNode(name=\"add_u_xin\")\n",
      "u           = TerminalNode(GaussianDistribution(m=1.0, V=0.0), name=\"u\")\n",
      "xout        = TerminalNode(name=\"xout\");\n",
      "\n",
      "# Create edges\n",
      "Edge(xin.out, equ.interfaces[1])\n",
      "Edge(n.out, add_n_y.in1)\n",
      "Edge(y.out, add_n_y.in2)\n",
      "Edge(add_n_y.out, equ.interfaces[2])\n",
      "Edge(equ.interfaces[3], add_u_xin.in2)\n",
      "Edge(u.out, add_u_xin.in1)\n",
      "Edge(add_u_xin.out, xout.out);\n",
      "\n",
      "# Invoke the auto-scheduler to calculate the message towards xout\n",
      "schedule = generateSchedule(add_u_xin.out)\n",
      "show(schedule)"
     ],
     "language": "python",
     "metadata": {},
     "outputs": [
      {
       "output_type": "stream",
       "stream": "stdout",
       "text": [
        "Message passing schedule\n"
       ]
      },
      {
       "output_type": "stream",
       "stream": "stdout",
       "text": [
        " #  | {summary operation}      | {node type} {node name}:{outbound iface index} ({outbound iface name})\n",
        " ------------------------------------------------------------------------------------------------------\n",
        " 1  | sumproduct               | TerminalNode u:1 (out)\n",
        " 2  | sumproduct               | TerminalNode xin:1 (out)\n",
        " 3  | sumproduct               | TerminalNode n:1 (out)\n",
        " 4  | sumproduct               | TerminalNode y:1 (out)\n",
        " 5  | sumproduct               | AdditionNode add_n_y:3 (out)\n",
        " 6  | sumproduct               | EqualityNode equ:3 \n",
        " 7  | sumproduct               | AdditionNode add_u_xin:3 (out)\n"
       ]
      }
     ],
     "prompt_number": 1
    },
    {
     "cell_type": "markdown",
     "metadata": {},
     "source": [
      "As is easily verified, this schedule solves all dependencies. However, it is not unique. We could also put the message from `u` towards `add_u_xin` in the end of the schedule. \n",
      "\n",
      "Sometimes a user might be interested in providing a **partial schedule**, and let the auto-scheduler derive a complete schedule that preserves the order of the messages in the partial schedule. This is possible by just passing the partial schedule to `generateSchedule()`. So, if we want to incorporate the message from `u` in the end, we can do:"
     ]
    },
    {
     "cell_type": "code",
     "collapsed": false,
     "input": [
      "schedule = generateSchedule([equ.interfaces[3], add_u_xin.out])\n",
      "show(schedule)"
     ],
     "language": "python",
     "metadata": {},
     "outputs": [
      {
       "output_type": "stream",
       "stream": "stdout",
       "text": [
        "Message passing schedule"
       ]
      },
      {
       "output_type": "stream",
       "stream": "stdout",
       "text": [
        "\n",
        " #  | {summary operation}      | {node type} {node name}:{outbound iface index} ({outbound iface name})\n",
        " ------------------------------------------------------------------------------------------------------\n",
        " 1  | sumproduct               | TerminalNode xin:1 (out)\n",
        " 2  | sumproduct               | TerminalNode n:1 (out)\n",
        " 3  | sumproduct               | TerminalNode y:1 (out)\n",
        " 4  | sumproduct               | AdditionNode add_n_y:3 (out)\n",
        " 5  | sumproduct               | EqualityNode equ:3 \n",
        " 6  | sumproduct               | TerminalNode u:1 (out)\n",
        " 7  | sumproduct               | AdditionNode add_u_xin:3 (out)\n"
       ]
      }
     ],
     "prompt_number": 2
    },
    {
     "cell_type": "markdown",
     "metadata": {},
     "source": [
      "`executeSchedule(schedule)`\n",
      "===========================\n",
      "\n",
      "The function `executeSchedule()` takes the schedule as argument and calculates each message in order by simply executing a for-loop over the interfaces in schedule."
     ]
    },
    {
     "cell_type": "code",
     "collapsed": false,
     "input": [
      "msg_out = executeSchedule(schedule)\n",
      "show(msg_out)"
     ],
     "language": "python",
     "metadata": {},
     "outputs": [
      {
       "output_type": "stream",
       "stream": "stdout",
       "text": [
        "Message{GaussianDistribution} with payload GaussianDistribution\n",
        "m  = [1.165289256198347]\n",
        "V  = [1.6694214876033058]\n",
        "W  = nothing\n",
        "xi = nothing\n"
       ]
      },
      {
       "output_type": "stream",
       "stream": "stdout",
       "text": [
        "\n"
       ]
      }
     ],
     "prompt_number": 3
    },
    {
     "cell_type": "markdown",
     "metadata": {},
     "source": [
      "Summary propagation options\n",
      "===========================\n",
      "\n",
      "A schedule is a `ScheduleEntry` array with fields `interface::Interface` and `summary_operation::Symbol`. The default summary operation is standard sumproduct message passing, denoted by the summary operation `:sumproduct`. It is also possible to perform alternative summary operations such as sampling, by altering the summary operation field to `:sumproduct_sample`. An example is show below."
     ]
    },
    {
     "cell_type": "code",
     "collapsed": false,
     "input": [
      "schedule[end].summary_operation = :sumproduct_sample # Alter the final summary operation to return a sample\n",
      "show(schedule)"
     ],
     "language": "python",
     "metadata": {},
     "outputs": [
      {
       "output_type": "stream",
       "stream": "stdout",
       "text": [
        "Message passing schedule\n",
        " #  | {summary operation}      | {node type} {node name}:{outbound iface index} ({outbound iface name})\n",
        " ------------------------------------------------------------------------------------------------------\n",
        " 1  | sumproduct               | TerminalNode xin:1 (out)\n",
        " 2  | sumproduct               | TerminalNode n:1 (out)\n",
        " 3  | sumproduct               | TerminalNode y:1 (out)\n",
        " 4  | sumproduct               | AdditionNode add_n_y:3 (out)\n",
        " 5  | sumproduct               | EqualityNode equ:3 \n",
        " 6  | sumproduct               | TerminalNode u:1 (out)\n",
        " 7  | sumproduct_sample        | AdditionNode add_u_xin:3 (out)\n"
       ]
      }
     ],
     "prompt_number": 4
    },
    {
     "cell_type": "code",
     "collapsed": false,
     "input": [
      "msg_out = executeSchedule(schedule)\n",
      "show(msg_out)"
     ],
     "language": "python",
     "metadata": {},
     "outputs": [
      {
       "output_type": "stream",
       "stream": "stdout",
       "text": [
        "Message{DeltaDistribution{Array{Float64,1}}} with payload DeltaDistribution([1.7230992854157252])\n"
       ]
      },
      {
       "output_type": "stream",
       "stream": "stdout",
       "text": [
        "\n"
       ]
      }
     ],
     "prompt_number": 5
    }
   ],
   "metadata": {}
  }
 ]
}