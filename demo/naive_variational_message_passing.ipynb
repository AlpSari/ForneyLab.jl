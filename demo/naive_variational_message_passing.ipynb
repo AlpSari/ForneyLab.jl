{
 "metadata": {
  "language": "Julia",
  "name": "naive_variational_message_passing",
  "signature": "sha256:a4bbed390f8d73e5f8895f0377e078d22a7b8f80e57c16765a5c924804d73ead"
 },
 "nbformat": 3,
 "nbformat_minor": 0,
 "worksheets": [
  {
   "cells": [
    {
     "cell_type": "markdown",
     "metadata": {},
     "source": "Naive variational message passing demo\n===\n\nThe variational method is used to approximate an intractable posterior distribution when hidden variables are present. Variational approximation can be viewed as the minimization of a variational free energy function. This free energy measures the dissimilarity between the intractable true posterior and a more friendly approximate distribution. When the Kullback Leibler divergence is used as dissimilariy measure, the approximate distribution lives under the true posterior and attempts to fit the local properties of the posterior distribution.\n\nVariational methods often involve complicated and extensive derivations in order to execute the free energy minimizations. Variational message passing (VMP) eases our derivation troubles by expressing the variational algorithm in terms of local update rules, using the factorization of the posterior. In his 2007 article, Dauwels gives a generic introduction to VMP on a factor graph. We will implement this VMP approach for the case of a univariate Gaussian posterior. We wish to estimate the latent mean and variance of this Gaussian using VMP.\n\nThe corresponding factor graph is shown below, where $q(m)$, $q(s)$ and q(y) represent the approximated marginals for the mean, variance and sample respectively. Variational messages $v(.)$ are passed forward and backward, and the approximate marginals $q(.)$ are calculated as $q(.)=\\overrightarrow{v}(.) \\times \\overleftarrow{v}(.)$. We observe the samples `y` and wish to estimate the posterior distribution over the mean and variance given these samples.\n\n\n```\n [s_prior]---------->[=]---------->[=]--->    -->[C_s]\n                      |             |   etc...\n [m_prior]-->[=]---------->[=]--------->      -->[C_m]\n          q(m)|   q(s)|     |       |\n              -->[N]<--     -->[N]<--\n                  |             |\n                  v q(y)        v\n                [y_1]         [y_2]\n```\n\nWe start by building this graph."
    },
    {
     "cell_type": "code",
     "collapsed": false,
     "input": "using(ForneyLab)\n\n# Initial settings\nn_samples = 10 # Number of observed samples\nn_its = 50 # Number of vmp iterations\ntrue_mean = 5.0\ntrue_variance = 2.0\ny_observations = sqrt(true_variance)*randn(n_samples)+true_mean # y observation buffer\n\n# Pre-assign arrays for later reference\ng_nodes = Array(GaussianNode, n_samples)\nm_eq_nodes = Array(EqualityNode, n_samples)\ns_eq_nodes = Array(EqualityNode, n_samples)\ny_nodes = Array(TerminalNode, n_samples)\nq_s_edges = Array(Edge, n_samples)\nq_m_edges = Array(Edge, n_samples)\nq_y_edges = Array(Edge, n_samples)\n\n# Build graph\nfor section=1:n_samples\n    g_node = GaussianNode()\n    m_eq_node = EqualityNode() # Equality node chain for mean\n    s_eq_node = EqualityNode() # Equality node chain for variance\n    y_node = TerminalNode(y_observations[section]) # Observed y values are stored in terminal node values\n    g_nodes[section] = g_node\n    m_eq_nodes[section] = m_eq_node\n    s_eq_nodes[section] = s_eq_node\n    y_nodes[section] = y_node\n    q_y_edges[section] = Edge(g_node.out, y_node.out, GaussianDistribution, Float64)\n    q_m_edges[section] = Edge(m_eq_node.interfaces[3], g_node.mean)\n    q_s_edges[section] = Edge(s_eq_node.interfaces[3], g_node.variance, InverseGammaDistribution) # This edge accepts messages with an InverseGamma distribution\n    # Preset uninformative ('one') messages\n    setMarginal!(q_s_edges[section], uninformative(InverseGammaDistribution))\n    setMarginal!(q_m_edges[section], uninformative(GaussianDistribution))\n    setMarginal!(q_y_edges[section], uninformative(Float64))\n    if section > 1 # Connect sections\n        Edge(m_eq_nodes[section-1].interfaces[2], m_eq_nodes[section].interfaces[1])\n        Edge(s_eq_nodes[section-1].interfaces[2], s_eq_nodes[section].interfaces[1], InverseGammaDistribution)\n    end\nend\n# Attach beginning and end nodes\nm_prior = TerminalNode(GaussianDistribution(m=0.0, V=100.0)) # Prior\ns_prior = TerminalNode(InverseGammaDistribution(a=0.01, b=0.01)) # Prior\nc_m = TerminalNode(uninformative(GaussianDistribution)) # Neutral 'one' message\nc_s = TerminalNode(uninformative(InverseGammaDistribution)) # Neutral 'one' message\nEdge(m_prior.out, m_eq_nodes[1].interfaces[1])\nEdge(s_prior.out, s_eq_nodes[1].interfaces[1], InverseGammaDistribution)\nEdge(m_eq_nodes[end].interfaces[2], c_m.out)\nEdge(s_eq_nodes[end].interfaces[2], c_s.out, InverseGammaDistribution);",
     "language": "python",
     "metadata": {},
     "outputs": [],
     "prompt_number": 1
    },
    {
     "cell_type": "markdown",
     "metadata": {},
     "source": "Next we need to specify an update schedule. This requires some insight in what messages we require to accomplish our task. Before we can recalculate a marginal we need to update both the forward and backward message of an edge. We need schedules to update these forward and backward messages, and schedules to specify the order in which to update the marginals."
    },
    {
     "cell_type": "code",
     "collapsed": false,
     "input": "# Initialize schedules\n# Sumproduct and marginal schedule for q(y)\nsumproduct_y_schedule = Array(Interface, 0)\nfor section = 1:n_samples\n    push!(sumproduct_y_schedule, y_nodes[section].out) # Backward y message\n    push!(sumproduct_y_schedule, g_nodes[section].out) # Forward y message\nend\nmarginal_y_schedule = q_y_edges\n\n# Sumproduct and marginal schedule for q(m)\nsumproduct_m_schedule = Array(Interface, 0)\nfor section = 1:n_samples; push!(sumproduct_m_schedule, g_nodes[section].mean); end # Backward\npush!(sumproduct_m_schedule, m_eq_nodes[1].interfaces[1].partner) # Prior message        \nfor section = 1:n_samples; push!(sumproduct_m_schedule, m_eq_nodes[section].interfaces[2]); end # Forward run\npush!(sumproduct_m_schedule, m_eq_nodes[end].interfaces[2].partner) # Terminal message        \nfor section = n_samples:-1:1; push!(sumproduct_m_schedule, m_eq_nodes[section].interfaces[1]); end # Backward run\nfor section = 1:n_samples; push!(sumproduct_m_schedule, m_eq_nodes[section].interfaces[3]); end # Forward (downward run)\nmarginal_m_schedule = q_m_edges\n\n# Sumproduct and marginal schedule for q(s)\nsumproduct_s_schedule = Array(Interface, 0)\nfor section = 1:n_samples; push!(sumproduct_s_schedule, g_nodes[section].variance); end # Backward\npush!(sumproduct_s_schedule, s_eq_nodes[1].interfaces[1].partner) # Prior message        \nfor section = 1:n_samples; push!(sumproduct_s_schedule, s_eq_nodes[section].interfaces[2]); end # Forward run\npush!(sumproduct_s_schedule, s_eq_nodes[end].interfaces[2].partner) # Terminal message        \nfor section = n_samples:-1:1; push!(sumproduct_s_schedule, s_eq_nodes[section].interfaces[1]); end # Backward run\nfor section = 1:n_samples; push!(sumproduct_s_schedule, s_eq_nodes[section].interfaces[3]); end # Forward (downward run)\nmarginal_s_schedule = q_s_edges;",
     "language": "python",
     "metadata": {},
     "outputs": [],
     "prompt_number": 2
    },
    {
     "cell_type": "markdown",
     "metadata": {},
     "source": "Aside from the schedule, we also need to specify the factorization. The `factorizeMeanField()` function takes a `TerminalNode` as input and outputs a `Factorization` type that maps each edge to a subgraph id."
    },
    {
     "cell_type": "code",
     "collapsed": false,
     "input": "factorization = factorizeMeanField(y_nodes[1]);",
     "language": "python",
     "metadata": {},
     "outputs": [],
     "prompt_number": 3
    },
    {
     "cell_type": "markdown",
     "metadata": {},
     "source": "Now we can iteratively execute these schedules and inspect the results. "
    },
    {
     "cell_type": "code",
     "collapsed": false,
     "input": "# Perform vmp updates\nexecuteSchedule(sumproduct_y_schedule, factorization)\nexecuteSchedule(marginal_y_schedule)\nfor iter = 1:n_its\n    # q(m) update\n    executeSchedule(sumproduct_m_schedule, factorization)\n    executeSchedule(marginal_m_schedule)\n    # q(s) update\n    executeSchedule(sumproduct_s_schedule, factorization)\n    executeSchedule(marginal_s_schedule)\nend\n# One last time to ensure all calculations have propagated through the equality chains\nexecuteSchedule(sumproduct_m_schedule, factorization)\nexecuteSchedule(sumproduct_s_schedule, factorization)\n\n# Save outcome\nensureMVParametrization!(m_eq_nodes[end].interfaces[2].message.payload)\n\n# Inspect the results\nprintln(\"True mean: $(true_mean)\")\nprintln(\"True variance: $(true_variance)\")\nprintln(\"Number of samples: $(length(y_observations))\")\nprintln(\"Sample mean: $(mean(y_observations))\")\nprintln(\"Sample variance: $(var(y_observations))\")\nprintln(\"\\n----- Estimation after $(n_its) VMP updates -----\")\nprintln(\"Mean estimate: $(mean(m_eq_nodes[end].interfaces[2].message.payload)[1]), with variance $(var(m_eq_nodes[end].interfaces[2].message.payload)[1, 1])\")\nprintln(\"Variance estimate: $(mean(s_eq_nodes[end].interfaces[2].message.payload)), with variance $(var(s_eq_nodes[end].interfaces[2].message.payload))\")",
     "language": "python",
     "metadata": {},
     "outputs": [
      {
       "output_type": "stream",
       "stream": "stdout",
       "text": "True mean: 5.0\n"
      },
      {
       "output_type": "stream",
       "stream": "stdout",
       "text": "True variance: 2.0\nNumber of samples: 10\nSample mean: 5.315091252080204\nSample variance: 2.5109485779327265\n\n----- Estimation after 50 VMP updates -----\nMean estimate: 5.312331303552917, with variance 0.05192664427363887\nVariance estimate: 2.8850210525832725, with variance 2.7652313866606955\n"
      }
     ],
     "prompt_number": 4
    },
    {
     "cell_type": "code",
     "collapsed": false,
     "input": "",
     "language": "python",
     "metadata": {},
     "outputs": [],
     "prompt_number": 5
    }
   ],
   "metadata": {}
  }
 ]
}