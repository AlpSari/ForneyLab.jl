{
 "metadata": {
  "language": "Julia",
  "name": "",
  "signature": "sha256:e90fea79f9e056fea72da5d9c8a5e510aaeac95fee97c3468c2d1a82d2b34218"
 },
 "nbformat": 3,
 "nbformat_minor": 0,
 "worksheets": [
  {
   "cells": [
    {
     "cell_type": "markdown",
     "metadata": {},
     "source": [
      "Random walk demo\n",
      "==============\n",
      "This demo illustrates a factor graph implementation of a random walk with Gaussian noise.\n",
      "\n",
      "Let our estimation of the state `X(n)` be a univariate Gaussian distribution with mean `m` and variance `V` at time `n`. At each consecutive timestep we update `X(n)` by adding a constant Gaussian noise `N`, with mean `m_n` and variance `V_n`. We want to estimate the mean and variance for `X` at a final timestep `n=n_steps`. \n",
      "\n",
      "```\n",
      "           [N]\n",
      "            |   \n",
      "    X(n-1)  v  X(n)\n",
      "   ------->[+]----->\n",
      "```\n",
      "\n",
      "We start by including the ForneyLab.jl toolbox and initializing these basic settings.\n"
     ]
    },
    {
     "cell_type": "code",
     "collapsed": false,
     "input": [
      "# Load ForneyLab.jl\n",
      "using ForneyLab\n",
      "\n",
      "# Basic settings\n",
      "n_steps = 50     # Total number of timesteps.\n",
      "m_noise = [0.0]  # Mean of the noise, corresponds with a drift of X.\n",
      "V_noise = [1.0]  # Variance of the Gaussian noise.\n",
      "m_0 = [0.0]     # Initial setting for the state X at n=0."
     ],
     "language": "python",
     "metadata": {},
     "outputs": [
      {
       "metadata": {},
       "output_type": "pyout",
       "prompt_number": 1,
       "text": [
        "1-element Array{Float64,1}:\n",
        " 0.0"
       ]
      }
     ],
     "prompt_number": 1
    },
    {
     "cell_type": "markdown",
     "metadata": {},
     "source": [
      "The graph above shows one step in the random walk process. There are two ways to set up the nodes. Either initialize one timestep and feed the output back to the input, or build a chain by initializing all timesteps and connecting them to form the complete graph. For illustration purposes we choose to create the full graph in this demo. The Kalman filter demo implements the first option.\n",
      "\n",
      "A `ConstantNode` sends out a constant message. This message can be of all types. In our case it is a `GaussianMessage` to represent the Gaussian noise. An `AdditionNode` adds two incoming messages. We connect the nodes by creating an `Edge` from the constant output to the addition input. An `Edge` carries a direction from the first to the second argument. Next, we connect the nodes in between timesteps by creating an `Edge` between the remaining addition input and the previous output.  "
     ]
    },
    {
     "cell_type": "code",
     "collapsed": false,
     "input": [
      "# Initialize and connect nodes\n",
      "noise_nodes    = ConstantNode[] # Initialize an empty set of noise nodes [N]\n",
      "addition_nodes = AdditionNode[] # Initialize an empty set of addition nodes [+]\n",
      "for step = 1:n_steps\n",
      "    # Initialize nodes\n",
      "    push!(noise_nodes, ConstantNode(GaussianMessage(m=m_noise, V=V_noise), name=\"noise_node_$(step)\")) # Create a Gaussian noise node and add it to the array\n",
      "    push!(addition_nodes, AdditionNode(name=\"addition_node_$(step)\")) # Create an addition node and add it to the array\n",
      "\n",
      "    # Connect edges\n",
      "    Edge(noise_nodes[step].out, addition_nodes[step].in2) # Connect the noise output to the addition input\n",
      "    if step > 1\n",
      "        Edge(addition_nodes[step-1].out, addition_nodes[step].in1) # Connect the previous addition node to the current\n",
      "    end\n",
      "end\n"
     ],
     "language": "python",
     "metadata": {},
     "outputs": [],
     "prompt_number": 2
    },
    {
     "cell_type": "markdown",
     "metadata": {},
     "source": [
      "At this point we can not run the demo just yet, because we are missing the initial message."
     ]
    },
    {
     "cell_type": "code",
     "collapsed": false,
     "input": [
      "# Create and connect the initial message\n",
      "initial_node = ConstantNode(GaussianMessage(m=m_0, V=[0.0])) # The initial message is observed, so the variance is zero\n",
      "Edge(initial_node.out, addition_nodes[1].in1) # Connect the initial node to the beginning of the series"
     ],
     "language": "python",
     "metadata": {},
     "outputs": [
      {
       "metadata": {},
       "output_type": "pyout",
       "prompt_number": 3,
       "text": [
        "Edge from ConstantNode with node name #undef to AdditionNode with node name addition_node_1. Forward message type: Nothing. Backward message type: Nothing.\n"
       ]
      }
     ],
     "prompt_number": 3
    },
    {
     "cell_type": "markdown",
     "metadata": {},
     "source": [
      "We have created the complete graph with all nodes and edges accounted for. Now we can simply calculate the message on the final edge. The message passing algorithm will recursively request the messages from the previous edges, until it reaches the initial edge. "
     ]
    },
    {
     "cell_type": "code",
     "collapsed": false,
     "input": [
      "# Calculate and print the final message\n",
      "out = calculateMessage!(addition_nodes[n_steps].out) # Calculate the message on the final edge\n",
      "println(\"The outgoing message on the final edge is a $(typeof(out)), with mean $(out.m) and variance $(out.V)\")"
     ],
     "language": "python",
     "metadata": {},
     "outputs": [
      {
       "output_type": "stream",
       "stream": "stdout",
       "text": [
        "The outgoing message on the final edge is a GaussianMessage, with mean 0\n",
        " and variance 50\n",
        "\n"
       ]
      }
     ],
     "prompt_number": 4
    }
   ],
   "metadata": {}
  }
 ]
}