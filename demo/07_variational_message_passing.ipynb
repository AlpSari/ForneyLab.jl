{
 "cells": [
  {
   "cell_type": "markdown",
   "metadata": {},
   "source": [
    "Variational message passing demo\n",
    "===\n",
    "\n",
    "ForneyLab comes with support for variational message passing (VMP) (Dauwels, 2007). In this demo we illustrate VMP by estimating the mean and precision (inverse variance) of i.i.d. samples drawn from a Gaussian distribution. The model is easily defined as \n",
    "\\begin{align*}\n",
    "    y_i \\sim \\mathcal{N}(m, w^{-1})\n",
    "\\end{align*}\n",
    "The factor graph below shows our generative model.\n",
    "\n",
    "```\n",
    "-------------> = ---> (w)\n",
    "               | \n",
    "---> = --------|----> (m)\n",
    "     |         |\n",
    "     ---> N <---\n",
    "          | \n",
    "        (y_i)\n",
    "```\n",
    "\n",
    "Variational inference approximates the posterior over $m$ and $w$ by a recognition distribution\n",
    "\\begin{align*}\n",
    "    p(m, w | y_{1:n}) \\approx q(m)\\times q(w)\n",
    "\\end{align*}\n",
    "We minimize the KL divergence between the exact posterior and the recognition distribution by variational message passing. "
   ]
  },
  {
   "cell_type": "code",
   "execution_count": 1,
   "metadata": {},
   "outputs": [
    {
     "data": {
      "text/plain": [
       ":w"
      ]
     },
     "execution_count": 1,
     "metadata": {},
     "output_type": "execute_result"
    }
   ],
   "source": [
    "using(ForneyLab)\n",
    "\n",
    "n = 10\n",
    "\n",
    "g = FactorGraph()\n",
    "\n",
    "# Priors\n",
    "m ~ GaussianMeanVariance(constant(0.0), constant(100.0))\n",
    "w ~ Gamma(constant(0.01), constant(0.01))\n",
    "\n",
    "# Observarion model\n",
    "for i = 1:n\n",
    "    y_i ~ GaussianMeanPrecision(m, w)\n",
    "    placeholder(y_i, :y, index=i)\n",
    "end\n",
    "\n",
    "# Assign id for ease of lookup\n",
    "m.id = :m\n",
    "w.id = :w\n",
    ";"
   ]
  },
  {
   "cell_type": "markdown",
   "metadata": {},
   "source": [
    "With the model defined, we can now specify the recognition factorization, generate a schedule for each recognition factor and compile these schedules to Julia code."
   ]
  },
  {
   "cell_type": "code",
   "execution_count": 2,
   "metadata": {},
   "outputs": [
    {
     "name": "stdout",
     "output_type": "stream",
     "text": [
      "function stepM!(marginals::Dict, data::Dict)\n",
      "\n",
      "messages = Array{Message}(20)\n",
      "\n",
      "messages[1] = ruleVBGaussianMeanVariance3(ProbabilityDistribution(PointMass, m=0.0), ProbabilityDistribution(PointMass, m=100.0), nothing)\n",
      "messages[2] = ruleVBGaussianMeanPrecision1(nothing, marginals[:w], ProbabilityDistribution(PointMass, m=data[:y][1]))\n",
      "messages[3] = ruleVBGaussianMeanPrecision1(nothing, marginals[:w], ProbabilityDistribution(PointMass, m=data[:y][3]))\n",
      "messages[4] = ruleVBGaussianMeanPrecision1(nothing, marginals[:w], ProbabilityDistribution(PointMass, m=data[:y][4]))\n",
      "messages[5] = ruleVBGaussianMeanPrecision1(nothing, marginals[:w], ProbabilityDistribution(PointMass, m=data[:y][6]))\n",
      "messages[6] = ruleVBGaussianMeanPrecision1(nothing, marginals[:w], ProbabilityDistribution(PointMass, m=data[:y][8]))\n",
      "messages[7] = ruleVBGaussianMeanPrecision1(nothing, marginals[:w], ProbabilityDistribution(PointMass, m=data[:y][10]))\n",
      "messages[8] = ruleVBGaussianMeanPrecision1(nothing, marginals[:w], ProbabilityDistribution(PointMass, m=data[:y][9]))\n",
      "messages[9] = ruleSPEqualityGaussian(messages[8], nothing, messages[7])\n",
      "messages[10] = ruleSPEqualityGaussian(messages[6], nothing, messages[9])\n",
      "messages[11] = ruleVBGaussianMeanPrecision1(nothing, marginals[:w], ProbabilityDistribution(PointMass, m=data[:y][7]))\n",
      "messages[12] = ruleSPEqualityGaussian(messages[11], nothing, messages[10])\n",
      "messages[13] = ruleSPEqualityGaussian(messages[5], nothing, messages[12])\n",
      "messages[14] = ruleVBGaussianMeanPrecision1(nothing, marginals[:w], ProbabilityDistribution(PointMass, m=data[:y][5]))\n",
      "messages[15] = ruleSPEqualityGaussian(messages[14], nothing, messages[13])\n",
      "messages[16] = ruleSPEqualityGaussian(messages[4], nothing, messages[15])\n",
      "messages[17] = ruleSPEqualityGaussian(messages[3], nothing, messages[16])\n",
      "messages[18] = ruleVBGaussianMeanPrecision1(nothing, marginals[:w], ProbabilityDistribution(PointMass, m=data[:y][2]))\n",
      "messages[19] = ruleSPEqualityGaussian(messages[18], nothing, messages[17])\n",
      "messages[20] = ruleSPEqualityGaussian(nothing, messages[2], messages[19])\n",
      "\n",
      "marginals[:m] = messages[1].dist * messages[20].dist\n",
      "\n",
      "end\n",
      "\n",
      "\n",
      "function stepW!(marginals::Dict, data::Dict)\n",
      "\n",
      "messages = Array{Message}(20)\n",
      "\n",
      "messages[1] = ruleVBGamma3(ProbabilityDistribution(PointMass, m=0.01), ProbabilityDistribution(PointMass, m=0.01), nothing)\n",
      "messages[2] = ruleVBGaussianMeanPrecision2(marginals[:m], nothing, ProbabilityDistribution(PointMass, m=data[:y][1]))\n",
      "messages[3] = ruleVBGaussianMeanPrecision2(marginals[:m], nothing, ProbabilityDistribution(PointMass, m=data[:y][2]))\n",
      "messages[4] = ruleVBGaussianMeanPrecision2(marginals[:m], nothing, ProbabilityDistribution(PointMass, m=data[:y][6]))\n",
      "messages[5] = ruleVBGaussianMeanPrecision2(marginals[:m], nothing, ProbabilityDistribution(PointMass, m=data[:y][7]))\n",
      "messages[6] = ruleVBGaussianMeanPrecision2(marginals[:m], nothing, ProbabilityDistribution(PointMass, m=data[:y][8]))\n",
      "messages[7] = ruleVBGaussianMeanPrecision2(marginals[:m], nothing, ProbabilityDistribution(PointMass, m=data[:y][9]))\n",
      "messages[8] = ruleVBGaussianMeanPrecision2(marginals[:m], nothing, ProbabilityDistribution(PointMass, m=data[:y][10]))\n",
      "messages[9] = ruleSPEqualityGamma(messages[7], nothing, messages[8])\n",
      "messages[10] = ruleSPEqualityGamma(messages[6], nothing, messages[9])\n",
      "messages[11] = ruleSPEqualityGamma(messages[5], nothing, messages[10])\n",
      "messages[12] = ruleSPEqualityGamma(messages[4], nothing, messages[11])\n",
      "messages[13] = ruleVBGaussianMeanPrecision2(marginals[:m], nothing, ProbabilityDistribution(PointMass, m=data[:y][5]))\n",
      "messages[14] = ruleSPEqualityGamma(messages[13], nothing, messages[12])\n",
      "messages[15] = ruleVBGaussianMeanPrecision2(marginals[:m], nothing, ProbabilityDistribution(PointMass, m=data[:y][4]))\n",
      "messages[16] = ruleSPEqualityGamma(messages[15], nothing, messages[14])\n",
      "messages[17] = ruleVBGaussianMeanPrecision2(marginals[:m], nothing, ProbabilityDistribution(PointMass, m=data[:y][3]))\n",
      "messages[18] = ruleSPEqualityGamma(messages[17], nothing, messages[16])\n",
      "messages[19] = ruleSPEqualityGamma(messages[3], nothing, messages[18])\n",
      "messages[20] = ruleSPEqualityGamma(nothing, messages[2], messages[19])\n",
      "\n",
      "marginals[:w] = messages[1].dist * messages[20].dist\n",
      "\n",
      "end\n"
     ]
    }
   ],
   "source": [
    "# Specify recognition factorization\n",
    "q_m = RecognitionFactor(m)\n",
    "q_w = RecognitionFactor(w)\n",
    "\n",
    "# Generate schedules\n",
    "schedule_q_m = variationalSchedule(q_m)\n",
    "schedule_q_w = variationalSchedule(q_w)\n",
    "\n",
    "# Convert schedules to Julia executable code\n",
    "algo_q_m = messagePassingAlgorithm(schedule_q_m, m)\n",
    "algo_q_m = replace(algo_q_m, \"step!\", \"stepM!\")\n",
    "algo_q_w = messagePassingAlgorithm(schedule_q_w, w)\n",
    "algo_q_w = replace(algo_q_w, \"step!\", \"stepW!\");\n",
    "\n",
    "# Inspect the algorithm code\n",
    "println(algo_q_m)\n",
    "println(\"\\n\")\n",
    "println(algo_q_w)"
   ]
  },
  {
   "cell_type": "markdown",
   "metadata": {},
   "source": [
    "We can now iteratively execute the updates for each factor, and inspect the results."
   ]
  },
  {
   "cell_type": "code",
   "execution_count": 3,
   "metadata": {},
   "outputs": [],
   "source": [
    "eval(parse(algo_q_m))\n",
    "eval(parse(algo_q_w))\n",
    "\n",
    "# Toy dataset\n",
    "m_true = 3.0\n",
    "w_true = 4.0\n",
    "y = sqrt(1/w_true)*randn(n) + m_true\n",
    "data = Dict(:y => y)\n",
    "\n",
    "# Initial recognition distributions\n",
    "marginals = Dict(:m => ProbabilityDistribution(Gaussian, m=0.0, v=100.0),\n",
    "                 :w => ProbabilityDistribution(Gamma, a=0.01, b=0.01))\n",
    "\n",
    "n_its = 50\n",
    "for i = 1:n_its\n",
    "   stepM!(marginals, data)\n",
    "   stepW!(marginals, data)    \n",
    "end\n",
    ";"
   ]
  },
  {
   "cell_type": "code",
   "execution_count": 4,
   "metadata": {},
   "outputs": [
    {
     "name": "stdout",
     "output_type": "stream",
     "text": [
      "True mean: 3.0\n",
      "True precision: 4.0\n",
      "Number of samples: 10\n",
      "Sample mean: 2.85\n",
      "Sample precision: 2.5\n",
      "\n",
      "----- Estimation after 50 VMP updates -----\n",
      "Mean estimate: 2.85, with variance 0.04\n",
      "Precision estimate: 2.49, with variance 1.24\n"
     ]
    }
   ],
   "source": [
    "# Inspect the results\n",
    "println(\"True mean: $(m_true)\")\n",
    "println(\"True precision: $(w_true)\")\n",
    "println(\"Number of samples: $(n)\")\n",
    "println(\"Sample mean: $(round(mean(y),2))\")\n",
    "println(\"Sample precision: $(round(1/var(y),2))\")\n",
    "println(\"\\n----- Estimation after $(n_its) VMP updates -----\")\n",
    "println(\"Mean estimate: $(round(mean(marginals[:m]),2)), with variance $(round(var(marginals[:m]),2))\")\n",
    "println(\"Precision estimate: $(round(mean(marginals[:w]),2)), with variance $(round(var(marginals[:w]),2))\")"
   ]
  },
  {
   "cell_type": "code",
   "execution_count": null,
   "metadata": {
    "collapsed": true
   },
   "outputs": [],
   "source": []
  }
 ],
 "metadata": {
  "kernelspec": {
   "display_name": "Julia 0.5.0",
   "language": "julia",
   "name": "julia-0.5"
  },
  "language_info": {
   "file_extension": ".jl",
   "mimetype": "application/julia",
   "name": "julia",
   "version": "0.5.0"
  }
 },
 "nbformat": 4,
 "nbformat_minor": 1
}
