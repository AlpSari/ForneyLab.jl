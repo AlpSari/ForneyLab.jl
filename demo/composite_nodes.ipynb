{
 "metadata": {
  "language": "Julia",
  "name": "composite_nodes",
  "signature": "sha256:67ee532e1265f23bec09fd934bfe698b0dd3ba1437aff334d6d5877b1c9dc5f9"
 },
 "nbformat": 3,
 "nbformat_minor": 0,
 "worksheets": [
  {
   "cells": [
    {
     "cell_type": "markdown",
     "metadata": {},
     "source": "Composite Nodes\n===\n\nIn this demo we will explain the basics about composite nodes. For a practical use case of composite nodes we refer to the kalman composite demo.\n\nA composite node is a node that can be represented by an internal graph itself. The ForneyLab framework has several composite nodes already built in, and these can be found in their own `src/nodes/composite` directory. All composite node types inherit from an abstract `CompositeNode` type, that itself inherits from abstract `Node`. An example of a composite node is the `GainEqualityCompositeNode` depicted below.\n\n```\n        _________\n    in1 |       | in2\n   -----|->[=]<-|-----\n        |   |   |\n        |   v   |\n        |  [A]  |\n        |___|___|\n            | out\n            v\n```\n\nThe outer box represents the exterior of the composite node. In this case there are three interfaces, `in1`, `in2` and `out` that can connect to other external nodes. The composite node allows us to model the behaviour of multiple internal nodes as one. Through this aggregation we can write shortcut update rules that are mathematically or computationally more efficient than would be the case if we viewed the internal nodes separately. The composite node also allows us to work very modular. We can simply switch a composite node with another node without altering the further structure of the graph.\n\n"
    },
    {
     "cell_type": "markdown",
     "metadata": {},
     "source": "Composite node requirements\n---\n\nEvery composite node has the following:\n\n* The `use_composite_update_rules::Bool` field indicates whether the composite node should use shortcut update rules of pass the messages through the internal graph explicitly;\n* The `name::ASCIIString` field holds the name for the composite node. Each internal node should prepend this name to its own name;\n* As with all nodes `interfaces::Array{Interface,1}` holds the interfaces that connect the node to the outside world;\n* In case of shortcut rules, an `updateNodeMessage!()` function that takes care of outgoing message calculations."
    },
    {
     "cell_type": "markdown",
     "metadata": {},
     "source": "Composite nodes and message passing\n---\n\nThere is an important convention that need to be remembered when working with composite nodes, and that is that the external interfaces actually consist of two interfaces. A more accurate depiction of the `GainEqualityCompositeNode` composite node would be as follows\n\n```\n           ____________\n       in1 |           | in2\n... --| |--| |--[=]--| |--| |-- ...\n           |in1' | in2'|\n           |     |eq_out\n           |     v     |\n           |    [A]    |\n           |     |out' |\n           |    ---    |\n           |___________|\n                 | out\n                ---\n```\nwhere the accented interfaces are the children of the external interfaces, stored in the interface's `child` field. This is best explained by an example. Let's assume we want to calculate a message on the `out` interface by using explicit internal message passing. When we call `updateNodeMessage!(out)`, ForneyLab recognizes the `out` interface as belonging to a composite node. First it requires that the user specified schedule (or the schedule created by `generateSchedule()`) prepared the messages on `in1` and `in2`. `updateNodeMessage!(out)` calls an internal message passing scheme that is defined by `out.internal_schedule`. First this predefined schedule calls `updateNodeMessage(eq_out)`. This collects the messages from `in1` and `in2`, and calculates the message at `eq_out`. Then `updateNodeMessage!(out')` calculates the message at `out'`. Lastly a pointer to this message at `out'` is stored at the `out` interface."
    },
    {
     "cell_type": "markdown",
     "metadata": {},
     "source": "A basic recipy for creating your own composite node\n---\n\nBelow you find a standard backbone for creating your own composite nodes."
    },
    {
     "cell_type": "code",
     "collapsed": false,
     "input": "type MyCompositeNode <: CompositeNode\n    # Basic node fields\n    use_composite_update_rules::Bool # Always false in the current implementation\n    name::ASCIIString\n    interfaces::Array{Interface,1}\n    \n    # Internal nodes\n    node_internal::AdditionNode\n    # ...\n    \n    # Named interfaces\n    in1::Interface\n    # ...\n    \n    # Node constructor\n    function KalmanCompositeNode(my_parameter::Matrix; use_composite_update_rules=false, name=\"unnamed\", args...) # Define the parameters and standard settings you need\n        self = new(use_composite_update_rules, name, Array(Interface, 4))\n\n        # Setup internal nodes\n        self.node_internal = AdditionNode(a, name=\"$(name)_internal_add\")\n        # ...\n\n        # Setup internal structure\n        Edge(self.node_internal.out, ... )\n        # ...\n\n        # Setup the interfaces of the composite node\n        self.in1 = self.interfaces[1] = Interface(self)\n        # ...\n\n        # Link composite node interfaces to internal graph\n        self.in1.child  = self.node_internal.in1\n        # ...\n\n        # Define internal message passing schedules\n        self.in1.internal_schedule = [ ... ]\n        # ...\n\n        return self\n    end\nend",
     "language": "python",
     "metadata": {},
     "outputs": []
    }
   ],
   "metadata": {}
  }
 ]
}