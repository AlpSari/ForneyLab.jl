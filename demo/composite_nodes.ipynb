{
 "metadata": {
  "language": "Julia",
  "name": "",
  "signature": "sha256:2d21c00dc23dd8529c5c7ed77ae69305bc714314db403a241fac718b61961ec3"
 },
 "nbformat": 3,
 "nbformat_minor": 0,
 "worksheets": [
  {
   "cells": [
    {
     "cell_type": "markdown",
     "metadata": {},
     "source": [
      "Composite Nodes\n",
      "===\n",
      "\n",
      "In this demo we will explain the basics of composite nodes. For a practical use case of composite nodes we refer to the Kalman composite demo.\n",
      "\n",
      "A composite node is a node that can be represented by an internal graph itself. The ForneyLab framework has several composite nodes already built in, these can be found in the `src/nodes/composite` directory. All composite node types inherit from an abstract `CompositeNode` type, that itself inherits from abstract `Node`. An example of a composite node is the `GainEqualityCompositeNode` depicted below.\n",
      "\n",
      "```\n",
      "        _________\n",
      "    in1 |       | in2\n",
      "   -----|->[=]<-|-----\n",
      "        |   |   |\n",
      "        |   v   |\n",
      "        |  [A]  |\n",
      "        |___|___|\n",
      "            | out\n",
      "            v\n",
      "```\n",
      "\n",
      "The outer box represents the exterior of the composite node. In this case there are three interfaces, `in1`, `in2` and `out` that can connect to other external nodes. The composite node allows us to model the behaviour of multiple internal nodes as one. Through this aggregation we can write shortcut update rules that are mathematically or computationally more efficient than would be the case if we viewed the internal nodes separately. The composite node also allows us to work in a modular fashion. It allows us to simply replace a composite node with another node without altering the rest of the graph. The fact that composite nodes can be nested means that it becomes easy to build complex graphs."
     ]
    },
    {
     "cell_type": "markdown",
     "metadata": {},
     "source": [
      "Composite node requirements\n",
      "---\n",
      "\n",
      "Every composite node has the following:\n",
      "\n",
      "* The `use_composite_update_rules::Bool` field indicates whether the composite node should use shortcut update rules or pass the messages through the internal graph explicitly;\n",
      "* As with all nodes, the `name::ASCIIString` field holds the name of the composite node. Every internal node should have this name prepended to its own name;\n",
      "* As with all nodes, `interfaces::Array{Interface,1}` holds the interfaces that connect the node to the outside world;\n",
      "* In case of shortcut rules, an `updateNodeMessage!()` method that takes care of outgoing message calculations."
     ]
    },
    {
     "cell_type": "markdown",
     "metadata": {},
     "source": [
      "Composite nodes and message passing\n",
      "---\n",
      "\n",
      "There's an important convention that has to be remembered when working with composite nodes, namely that the external interfaces actually consist :of two interfaces. A more accurate depiction of the `GainEqualityCompositeNode` composite node would be as follows\n",
      "\n",
      "```\n",
      "           ____________\n",
      "       in1 |           | in2\n",
      "... --| |--| |--[=]--| |--| |-- ...\n",
      "           |in1' | in2'|\n",
      "           |     |eq_out\n",
      "           |     v     |\n",
      "           |    [A]    |\n",
      "           |     |out' |\n",
      "           |    ---    |\n",
      "           |___________|\n",
      "                 | out\n",
      "                ---\n",
      "```\n",
      "where the accented interfaces are the children of the external interfaces, stored in the interface's `child` field. This is best explained by an example. \n",
      "\n",
      "Let's assume we want to calculate a message on the `out` interface by using explicit internal message passing. When we call `updateNodeMessage!(out)`, ForneyLab recognizes the `out` interface as belonging to a composite node. First, it requires that the user specified schedule (or the schedule created by `generateSchedule()`) already calculated the incoming messages on `in1` and `in2`. Next, `updateNodeMessage!(out)` calls an internal message passing scheme that is defined in `out.internal_schedule`. This internal schedule will call `updateNodeMessage(eq_out)`. This collects the incoming messages on `in1` and `in2`, and calculates the outgoing message on the `eq_out` interface. Next, the internal schedule will call `updateNodeMessage!(out')` to calculate the outbound message on `out'`. Finally, a pointer to this outbound message on `out'` is stored on the `out` interface."
     ]
    },
    {
     "cell_type": "markdown",
     "metadata": {},
     "source": [
      "A basic recipe for creating your own composite node\n",
      "---\n",
      "\n",
      "Below you find a standard template for creating your own composite nodes."
     ]
    },
    {
     "cell_type": "code",
     "collapsed": false,
     "input": [
      "type MyCompositeNode <: CompositeNode\n",
      "    # Basic node fields\n",
      "    use_composite_update_rules::Bool\n",
      "    name::ASCIIString\n",
      "    interfaces::Array{Interface,1}\n",
      "    \n",
      "    # Internal nodes\n",
      "    node_internal::AdditionNode\n",
      "    # ...\n",
      "    \n",
      "    # Named interfaces\n",
      "    in1::Interface\n",
      "    # ...\n",
      "    \n",
      "    # Node constructor\n",
      "    function KalmanCompositeNode(my_parameter::Matrix; use_composite_update_rules=false, name=\"unnamed\", args...) # Define the parameters and standard settings you need\n",
      "        self = new(use_composite_update_rules, name, Array(Interface, 4))\n",
      "\n",
      "        # Setup internal nodes\n",
      "        self.node_internal = AdditionNode(a, name=\"$(name)_internal_add\")\n",
      "        # ...\n",
      "\n",
      "        # Setup internal structure\n",
      "        Edge(self.node_internal.out, ... )\n",
      "        # ...\n",
      "\n",
      "        # Setup the interfaces of the composite node\n",
      "        self.in1 = self.interfaces[1] = Interface(self)\n",
      "        # ...\n",
      "\n",
      "        # Link composite node interfaces to internal graph\n",
      "        self.in1.child  = self.node_internal.in1\n",
      "        # ...\n",
      "\n",
      "        # Define internal message passing schedules\n",
      "        self.in1.internal_schedule = [ ... ]\n",
      "        # ...\n",
      "\n",
      "        return self\n",
      "    end\n",
      "end"
     ],
     "language": "python",
     "metadata": {},
     "outputs": []
    }
   ],
   "metadata": {}
  }
 ]
}