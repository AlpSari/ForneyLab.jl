{
 "metadata": {
  "language": "Julia",
  "name": "",
  "signature": "sha256:67ee532e1265f23bec09fd934bfe698b0dd3ba1437aff334d6d5877b1c9dc5f9"
 },
 "nbformat": 3,
 "nbformat_minor": 0,
 "worksheets": [
  {
   "cells": [
    {
     "cell_type": "markdown",
     "metadata": {},
     "source": [
      "TODO: Write a new demo for composite nodes here..."
     ]
    }
   ],
   "metadata": {}
  }
 ]
}