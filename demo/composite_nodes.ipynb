{
 "metadata": {
  "language": "Julia",
  "name": "",
  "signature": "sha256:5050094df283a9f8c0156722953513c1d472b7d3b08944e9309517215b6d3e67"
 },
 "nbformat": 3,
 "nbformat_minor": 0,
 "worksheets": [
  {
   "cells": [
    {
     "cell_type": "markdown",
     "metadata": {},
     "source": "Composite Nodes\n===\n\nIn this demo we will explain the basics of composite nodes. For a practical use case of composite nodes we refer to the Kalman composite demo.\n\nA composite node is a node that can be represented by an internal graph itself. The ForneyLab framework has several composite nodes already built in, these can be found in the `src/nodes/composite` directory. All composite node types inherit from an abstract `CompositeNode` type, that itself inherits from abstract `Node`. An example of a composite node is the `GainEqualityCompositeNode` depicted below.\n\n```\n        _________\n    in1 |       | in2\n   -----|->[=]<-|-----\n        |   |   |\n        |   v   |\n        |  [A]  |\n        |___|___|\n            | out\n            v\n```\n\nThe outer box represents the exterior of the composite node. In this case there are three interfaces, `in1`, `in2` and `out` that can connect to other external nodes. The composite node allows us to model the behaviour of multiple internal nodes as one. Through this aggregation we can write shortcut update rules that are mathematically or computationally more efficient than would be the case if we viewed the internal nodes separately. The composite node also allows us to work in a modular fashion. It allows us to simply replace a composite node with another node without altering the rest of the graph. The fact that composite nodes can be nested means that it becomes easy to build complex graphs."
    },
    {
     "cell_type": "markdown",
     "metadata": {},
     "source": "Composite node requirements\n---\n\nEvery composite node has the following:\n\n* The `use_composite_update_rules::Bool` field indicates whether the composite node should use shortcut update rules or pass the messages through the internal graph explicitly;\n* As with all nodes, the `name::ASCIIString` field holds the name of the composite node. Every internal node should have this name prepended to its own name;\n* As with all nodes, `interfaces::Array{Interface,1}` holds the interfaces that connect the node to the outside world;\n* In case of shortcut rules, an `updateNodeMessage!()` method that takes care of outgoing message calculations."
    },
    {
     "cell_type": "markdown",
     "metadata": {},
     "source": [
      "Composite node anatomy\n",
      "---\n",
      "\n",
      "There's an important convention that has to be remembered when working with composite nodes, namely that the external interfaces actually consist of two interfaces. A more accurate depiction of the `GainEqualityCompositeNode` composite node would be as follows:\n",
      "\n",
      "```\n",
      "           ____________\n",
      "       in1 |           | in2\n",
      "... --| |--| |--[=]--| |--| |-- ...\n",
      "           |in1' | in2'|\n",
      "           |     |eq_out\n",
      "           |     v     |\n",
      "           |    [A]    |\n",
      "           |     |out' |\n",
      "           |    ---    |\n",
      "           |___________|\n",
      "                 | out\n",
      "                ---\n",
      "```\n",
      "where the accented interfaces are the children of the corresponding external interfaces. Pointers to the child interfaces are stored in the parent's `child` field. The partner field of a child will point to the partner interface of its parent. Hava a look at the basic recipe below to see how child interfaces are set up.\n",
      "\n",
      "Message passing in composite nodes\n",
      "---\n",
      "\n",
      "A composite node may or may not contain an explicit internal factor graph. The `use_composite_update_rules` field indicates whether ForneyLab should perform internal message passing or if the composite node's `updateNodeMessage!()` method should be called. If internal message passing is to be performed, the composite node should contain an **internal message passing schedule** for calculating the outbound message on each of its external interfaces. The internal message passing is stored in the `internal_schedule` field of the corresponding external interface. The internal schedules will usually be defined in the constructor of the composite node. The last action in the internal schedule should be the calculation of the outbound message on the child interface of the external interface. ForneyLab will move the message on the child interface to the parent interface.\n",
      "\n",
      "Example\n",
      "---\n",
      "\n",
      "Let's assume we want to calculate a message on the `out` interface of the example composite node by using explicit internal message passing. When we call `updateNodeMessage!(node.out)`, ForneyLab recognizes the `out` interface as belonging to a composite node. First, it requires that the user specified schedule (or the schedule created by `generateSchedule()`) already calculated the incoming messages on `in1` and `in2`. Next, `updateNodeMessage!(out)` executes the internal message passing scheme that is defined in `node.out.internal_schedule`. This internal schedule will call `updateNodeMessage(eq_out)`. This collects the incoming messages on `in1` and `in2`, and calculates the outgoing message on the `eq_out` interface. Next, the internal schedule will call `updateNodeMessage!(out')` to calculate the outbound message on `out'`. Finally, a pointer to this outbound message on `out'` is stored on the `out` interface."
     ]
    },
    {
     "cell_type": "markdown",
     "metadata": {},
     "source": "A basic recipe for creating your own composite node\n---\n\nBelow you find a standard template for creating your own composite nodes."
    },
    {
     "cell_type": "code",
     "collapsed": false,
     "input": "type MyCompositeNode <: CompositeNode\n    # Basic node fields\n    use_composite_update_rules::Bool\n    name::ASCIIString\n    interfaces::Array{Interface,1}\n    \n    # Internal nodes\n    node_internal::AdditionNode\n    # ...\n    \n    # Named interfaces\n    in1::Interface\n    # ...\n    \n    # Node constructor\n    function MyCompositeNode(my_parameter::Matrix; use_composite_update_rules=false, name=\"unnamed\", args...) # Define the parameters and standard settings you need\n        self = new(use_composite_update_rules, name, Array(Interface, 4))\n\n        # Setup internal nodes\n        self.node_internal = AdditionNode(a, name=\"$(name)_internal_add\")\n        # ...\n\n        # Setup internal structure\n        Edge(self.node_internal.out, ... )\n        # ...\n\n        # Setup the interfaces of the composite node\n        self.in1 = self.interfaces[1] = Interface(self)\n        # ...\n\n        # Link composite node interfaces to internal graph\n        self.in1.child  = self.node_internal.in1\n        # ...\n\n        # Define internal message passing schedules\n        self.in1.internal_schedule = [ ... ]\n        # ...\n\n        return self\n    end\nend",
     "language": "python",
     "metadata": {},
     "outputs": []
    },
    {
     "cell_type": "markdown",
     "metadata": {},
     "source": [
      "Non-standard interface dependencies\n",
      "---\n",
      "\n",
      "In the standard case, calculation of the outbound message on some interface of a node requires **all** inbound messages on **all other interfaces** of that node. This is for example always the case in the summary propagation algorithm. However, for some nodes and message passing algorithms this assumption is not correct. Sometimes, the outbound message on an interface might depend on the inbound message on that very interface. Similarly, the outbound message on an interface might only depend on a subset of the incoming messages on the other interfaces.\n",
      "\n",
      "To handle such non-standard message dependencies, an `Interface` contains the field `dependencies::Array{Interface,1}`. If this array is empty, ForneyLab assumes that the outbound message on the interface depends on the incoming messages on **all other interfaces** of the same node. If the dependencies are non-standard, `dependencies` should contain all interfaces on which the outbound message depends. ForneyLab uses this information to collect only the required inbound messages and create correct message passing schedules with `generateSchedule()`."
     ]
    }
   ],
   "metadata": {}
  }
 ]
}