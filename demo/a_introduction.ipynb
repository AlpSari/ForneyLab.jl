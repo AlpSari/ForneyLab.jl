{
 "cells": [
  {
   "cell_type": "markdown",
   "metadata": {
    "slideshow": {
     "slide_type": "-"
    }
   },
   "source": [
    "# Introduction to ForneyLab\n",
    "\n",
    "### Why ForneyLab?\n",
    "- We required a flexible toolbox for performing message passing on Forney-style factor graphs\n",
    "- At the time no principled toolbox for message passing on FFGs was available\n",
    "- If you want to really understand how something works, then build it yourself\n",
    "\n",
    "### ForneyLab is:\n",
    "- A toolbox for deriving message passing solutions to inference problems\n",
    "- Practical, while retaining maximal flexibility\n",
    "- Extensible at all levels (nodes, update rules, algorithms, inference engines)\n",
    "- A program that builds custom inference programs\n",
    "\n",
    "### ForneyLab is not:\n",
    "- A high-performance inference framework\n",
    "\n",
    "### The ForneyLab approach to solving inference problems:\n",
    "1. Build (the generative model)\n",
    "2. Schedule (the message passing algorithm)\n",
    "3. Infer (the marginal distributions)"
   ]
  }
 ],
 "metadata": {
  "kernelspec": {
   "display_name": "Julia 0.5.0",
   "language": "julia",
   "name": "julia-0.5"
  },
  "language_info": {
   "file_extension": ".jl",
   "mimetype": "application/julia",
   "name": "julia",
   "version": "0.5.0"
  }
 },
 "nbformat": 4,
 "nbformat_minor": 2
}
