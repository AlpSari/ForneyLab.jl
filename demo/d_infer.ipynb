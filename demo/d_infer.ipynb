{
 "cells": [
  {
   "cell_type": "markdown",
   "metadata": {},
   "source": [
    "# Infer (the Marginal Distributions)"
   ]
  },
  {
   "cell_type": "code",
   "execution_count": 3,
   "metadata": {},
   "outputs": [
    {
     "ename": "LoadError",
     "evalue": "UndefVarError: algo not defined",
     "output_type": "error",
     "traceback": [
      "UndefVarError: algo not defined",
      ""
     ]
    }
   ],
   "source": [
    "using ForneyLab\n",
    "\n",
    "# Load algorithm in scope\n",
    "eval(parse(algo))\n",
    "\n",
    "# No data are available in this example\n",
    "data = Dict()\n",
    "\n",
    "# Run algorithm\n",
    "marginals = step!(data)\n",
    "\n",
    "# Inspect marginals over x\n",
    "marginals[:x]"
   ]
  },
  {
   "cell_type": "markdown",
   "metadata": {},
   "source": [
    "## Examples of Distributions and Messages\n",
    "\n",
    "Note that the generative model that we built actually encodes a Gaussian probability distribution\n",
    "\n",
    "\\begin{align*}\n",
    "    f(x, m=0, v=1) = \\mathcal{N}(x ; m=0, v=1)\n",
    "\\end{align*}\n",
    "\n",
    "In ForneyLab, a distribution is represented by a node (conditional distribution) with fixed parameters"
   ]
  },
  {
   "cell_type": "code",
   "execution_count": 4,
   "metadata": {},
   "outputs": [
    {
     "data": {
      "text/plain": [
       "𝒩(m=0.00, v=1.00)\n"
      ]
     },
     "execution_count": 4,
     "metadata": {},
     "output_type": "execute_result"
    }
   ],
   "source": [
    "ProbabilityDistribution(Univariate, GaussianMeanVariance, m=0.0, v=1.0)"
   ]
  },
  {
   "cell_type": "code",
   "execution_count": 5,
   "metadata": {},
   "outputs": [
    {
     "data": {
      "text/plain": [
       "𝒩(m=0.00, v=1.00)\n"
      ]
     },
     "execution_count": 5,
     "metadata": {},
     "output_type": "execute_result"
    }
   ],
   "source": [
    "# Shorthand notation\n",
    "ProbabilityDistribution(Gaussian, m=0.0, v=1.0)"
   ]
  },
  {
   "cell_type": "code",
   "execution_count": 6,
   "metadata": {},
   "outputs": [
    {
     "data": {
      "text/plain": [
       "𝒩(m=0.00, v=1.00e+12)\n"
      ]
     },
     "execution_count": 6,
     "metadata": {},
     "output_type": "execute_result"
    }
   ],
   "source": [
    "# Shorthand for vague distribution\n",
    "vague(Gaussian)"
   ]
  },
  {
   "cell_type": "code",
   "execution_count": 7,
   "metadata": {},
   "outputs": [
    {
     "data": {
      "text/plain": [
       "𝒩(m=[0.00, 0.00], v=[[1.00, 0.00][0.00, 1.00]])\n"
      ]
     },
     "execution_count": 7,
     "metadata": {},
     "output_type": "execute_result"
    }
   ],
   "source": [
    "# Multivariate\n",
    "ProbabilityDistribution(Multivariate, Gaussian, m=zeros(2), v=eye(2))"
   ]
  },
  {
   "cell_type": "code",
   "execution_count": 8,
   "metadata": {},
   "outputs": [
    {
     "data": {
      "text/plain": [
       "𝒩(m=0.00, v=0.50)\n"
      ]
     },
     "execution_count": 8,
     "metadata": {},
     "output_type": "execute_result"
    }
   ],
   "source": [
    "# Alternative parameterizations\n",
    "ProbabilityDistribution(Gaussian, m=0.0, w=2.0)"
   ]
  },
  {
   "cell_type": "code",
   "execution_count": 9,
   "metadata": {},
   "outputs": [
    {
     "data": {
      "text/plain": [
       "Message: 𝒩(m=0.00, v=1.00)\n"
      ]
     },
     "execution_count": 9,
     "metadata": {},
     "output_type": "execute_result"
    }
   ],
   "source": [
    "# A message carries a probability distribution\n",
    "Message(Gaussian, m=0.0, v=1.0)"
   ]
  },
  {
   "cell_type": "code",
   "execution_count": null,
   "metadata": {
    "collapsed": true
   },
   "outputs": [],
   "source": []
  }
 ],
 "metadata": {
  "kernelspec": {
   "display_name": "Julia 0.5.0",
   "language": "julia",
   "name": "julia-0.5"
  },
  "language_info": {
   "file_extension": ".jl",
   "mimetype": "application/julia",
   "name": "julia",
   "version": "0.5.0"
  }
 },
 "nbformat": 4,
 "nbformat_minor": 2
}
