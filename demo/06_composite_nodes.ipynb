{
 "cells": [
  {
   "cell_type": "markdown",
   "metadata": {},
   "source": [
    "Composite nodes\n",
    "=====================\n",
    "\n",
    "From the outside, a `CompositeNode` behaves like any other `Node`, and it can be viewed as the implementation of a black box.\n",
    "\n",
    "Forney lab 0.4 does not implement composite node functionality. It will be re-introduced in version 0.5."
   ]
  }
 ],
 "metadata": {
  "kernelspec": {
   "display_name": "Julia 0.4.0",
   "language": "julia",
   "name": "julia-0.4"
  },
  "language_info": {
   "file_extension": ".jl",
   "mimetype": "application/julia",
   "name": "julia",
   "version": "0.4.0"
  }
 },
 "nbformat": 4,
 "nbformat_minor": 0
}
