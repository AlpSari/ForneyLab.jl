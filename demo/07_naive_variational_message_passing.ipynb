{
 "cells": [
  {
   "cell_type": "markdown",
   "metadata": {},
   "source": [
    "Naive variational message passing demo\n",
    "===\n",
    "\n",
    "ForneyLab comes with support for variational message passing (VMP). Variational methods often involve complicated and extensive derivations. VMP on a factor graph eases our derivation troubles by expressing the variational algorithm in terms of local update rules. In his 2007 article, Dauwels gives a generic introduction to VMP on a factor graph. ForneyLab implements this VMP approach.\n",
    "\n",
    "In this demo we illustrate VMP by estimating the mean and variance of samples drawn from a Gaussian distribution. The factor graph below shows our generative model. We observe the samples $y = \\{y_1, ..., y_k, ..., y_n\\}$ and wish to estimate the posterior distribution over the mean and variance given these samples. We use the factor graph notation of (Reller, 2012; State-space methods in statistical signal processing) where filled black nodes represent observed variables and dotted arcs denote the repetition of a section.\n",
    "\n",
    "<img src=\"images/gauss_est.png\">\n",
    "\n",
    "For estimation we use a variational message passing algorithm with a mean field factorized distribution over our variables $q(m,s,y) = q(m)\\,q(s)\\,q(y)$.\n",
    "\n",
    "We start by building the graph."
   ]
  },
  {
   "cell_type": "code",
   "execution_count": 1,
   "metadata": {
    "collapsed": false
   },
   "outputs": [],
   "source": [
    "using(ForneyLab)\n",
    "\n",
    "# Initial settings\n",
    "n_samples      = 20 # Number of observed samples\n",
    "n_its          = 50 # Number of vmp iterations\n",
    "true_mean      = 5.0\n",
    "true_variance  = 2.0\n",
    "y_observations = sqrt(true_variance)*randn(n_samples) + true_mean # y observation buffer\n",
    "\n",
    "# Build graph\n",
    "for sec=1:n_samples\n",
    "    GaussianNode(id=:g*sec) # s() for symbol concatenation\n",
    "    EqualityNode(id=:m_eq*sec) # Equality node chain for mean\n",
    "    EqualityNode(id=:s_eq*sec) # Equality node chain for variance\n",
    "    TerminalNode(DeltaDistribution(y_observations[sec]), id=:y*sec) # Observed y values are stored in terminal node values\n",
    "    Edge(n(:g*sec).i[:out], n(:y*sec), GaussianDistribution)\n",
    "    Edge(n(:m_eq*sec).i[3], n(:g*sec).i[:mean], GaussianDistribution)\n",
    "    Edge(n(:s_eq*sec).i[3], n(:g*sec).i[:variance], InverseGammaDistribution)\n",
    "    if sec > 1 # Connect sections\n",
    "        Edge(n(:m_eq*(sec-1)).i[2], n(:m_eq*sec).i[1], GaussianDistribution)\n",
    "        Edge(n(:s_eq*(sec-1)).i[2], n(:s_eq*sec).i[1], InverseGammaDistribution)\n",
    "    end\n",
    "end\n",
    "# Attach beginning and end nodes\n",
    "PriorNode(GaussianDistribution(m=0.0, V=100.0), id=:m0) # Prior\n",
    "PriorNode(InverseGammaDistribution(a=0.01, b=0.01), id=:s0) # Prior\n",
    "TerminalNode(vague(GaussianDistribution), id=:mN) # Uninformative distribution\n",
    "TerminalNode(vague(InverseGammaDistribution), id=:sN) # Uninformative distribution\n",
    "Edge(n(:m0), n(:m_eq1).i[1], GaussianDistribution)\n",
    "Edge(n(:s0), n(:s_eq1).i[1], InverseGammaDistribution)\n",
    "Edge(n(:m_eq*n_samples).i[2], n(:mN), GaussianDistribution)\n",
    "Edge(n(:s_eq*n_samples).i[2], n(:sN), InverseGammaDistribution);"
   ]
  },
  {
   "cell_type": "markdown",
   "metadata": {},
   "source": [
    "Next we need to specify the variational inference procedure. This sounds like a lot of work, but it can be accomlished automatically."
   ]
  },
  {
   "cell_type": "code",
   "execution_count": 2,
   "metadata": {
    "collapsed": false
   },
   "outputs": [
    {
     "data": {
      "text/plain": [
       "Algorithm with fields:\n",
       " q_distributions::Dict{(Node,Subgraph),QDistribution}\n",
       " factorization::QFactorization\n",
       " n_iterations::Int64\n",
       "\n",
       "Use algorithm.fields[:field] to inspect field values.\n"
      ]
     },
     "execution_count": 2,
     "metadata": {},
     "output_type": "execute_result"
    }
   ],
   "source": [
    "# Specify some write buffers\n",
    "m_out = attachWriteBuffer(n(:mN).i[:out].partner)\n",
    "s_out = attachWriteBuffer(n(:sN).i[:out].partner)\n",
    "\n",
    "# Specify the variational algorithm for n_its vmp iterations\n",
    "algo = VMP.Algorithm(n_iterations=n_its)"
   ]
  },
  {
   "cell_type": "markdown",
   "metadata": {},
   "source": [
    "Under the hood, the `VMP.Algorithm()` constructor performs a mean field factorization, generates a schedule towards wraps and write buffers, and initializes vague q-distributions.\n",
    "\n",
    "We can visualize a subgraph of one factor with the `draw(::Subgraph)` function. The external edges of the subgraph are then denoted by red dashed arrows. "
   ]
  },
  {
   "cell_type": "code",
   "execution_count": 3,
   "metadata": {
    "collapsed": false
   },
   "outputs": [
    {
     "data": {
      "text/html": [
       "<?xml version=\"1.0\" encoding=\"UTF-8\" standalone=\"no\"?>\r\n",
       "<!DOCTYPE svg PUBLIC \"-//W3C//DTD SVG 1.1//EN\"\r\n",
       " \"http://www.w3.org/Graphics/SVG/1.1/DTD/svg11.dtd\">\r\n",
       "<!-- Generated by graphviz version 2.38.0 (20140413.2041)\r\n",
       " -->\r\n",
       "<!-- Title: G Pages: 1 -->\r\n",
       "<svg width=\"196pt\" height=\"245pt\"\r\n",
       " viewBox=\"0.00 0.00 196.25 245.00\" xmlns=\"http://www.w3.org/2000/svg\" xmlns:xlink=\"http://www.w3.org/1999/xlink\">\r\n",
       "<g id=\"graph0\" class=\"graph\" transform=\"scale(1 1) rotate(0) translate(4 241)\">\r\n",
       "<title>G</title>\r\n",
       "<polygon fill=\"white\" stroke=\"none\" points=\"-4,4 -4,-241 192.248,-241 192.248,4 -4,4\"/>\r\n",
       "<!-- 9446691025761192863 -->\r\n",
       "<g id=\"node1\" class=\"node\"><title>9446691025761192863</title>\r\n",
       "<polygon fill=\"none\" stroke=\"black\" points=\"107.248,-189 35.2477,-189 35.2477,-117 107.248,-117 107.248,-189\"/>\r\n",
       "<text text-anchor=\"middle\" x=\"71.2477\" y=\"-155.8\" font-family=\"Times New Roman,serif\" font-size=\"9.00\">GaussianNode</text>\r\n",
       "<text text-anchor=\"middle\" x=\"71.2477\" y=\"-145.8\" font-family=\"Times New Roman,serif\" font-size=\"9.00\">g9</text>\r\n",
       "</g>\r\n",
       "<!-- 529684351966900470 -->\r\n",
       "<g id=\"node2\" class=\"node\"><title>529684351966900470</title>\r\n",
       "<polygon fill=\"lightgrey\" stroke=\"black\" points=\"98.2477,-54 44.2477,-54 44.2477,-0 98.2477,-0 98.2477,-54\"/>\r\n",
       "<text text-anchor=\"middle\" x=\"71.2477\" y=\"-24.8\" font-family=\"Times New Roman,serif\" font-size=\"9.00\">y9</text>\r\n",
       "</g>\r\n",
       "<!-- 9446691025761192863&#45;&gt;529684351966900470 -->\r\n",
       "<g id=\"edge1\" class=\"edge\"><title>9446691025761192863&#45;&gt;529684351966900470</title>\r\n",
       "<path fill=\"none\" stroke=\"black\" d=\"M71.2477,-116.798C71.2477,-100.47 71.2477,-81.0707 71.2477,-64.5755\"/>\r\n",
       "<polygon fill=\"none\" stroke=\"black\" points=\"74.7478,-64.2166 71.2477,-54.2167 67.7478,-64.2167 74.7478,-64.2166\"/>\r\n",
       "<text text-anchor=\"middle\" x=\"129.748\" y=\"-92.6\" font-family=\"Times New Roman,serif\" font-size=\"8.00\">FW: ○</text>\r\n",
       "<text text-anchor=\"middle\" x=\"129.748\" y=\"-83.6\" font-family=\"Times New Roman,serif\" font-size=\"8.00\">BW: ○</text>\r\n",
       "<text text-anchor=\"middle\" x=\"129.748\" y=\"-74.6\" font-family=\"Times New Roman,serif\" font-size=\"8.00\">Distribution: GaussianDistribution</text>\r\n",
       "<text text-anchor=\"middle\" x=\"61.7477\" y=\"-56.8167\" font-family=\"Times New Roman,serif\" font-size=\"8.00\">1 out</text>\r\n",
       "<text text-anchor=\"middle\" x=\"61.7477\" y=\"-110.398\" font-family=\"Times New Roman,serif\" font-size=\"8.00\">3 out</text>\r\n",
       "</g>\r\n",
       "<!-- 7410779252268390178 -->\r\n",
       "<g id=\"node3\" class=\"node\"><title>7410779252268390178</title>\r\n",
       "</g>\r\n",
       "<!-- 7410779252268390178&#45;&gt;9446691025761192863 -->\r\n",
       "<g id=\"edge2\" class=\"edge\"><title>7410779252268390178&#45;&gt;9446691025761192863</title>\r\n",
       "<path fill=\"none\" stroke=\"red\" stroke-dasharray=\"5,2\" d=\"M12,-225.944C16.9544,-219.928 26.1952,-208.707 35.9297,-196.886\"/>\r\n",
       "<polygon fill=\"none\" stroke=\"red\" points=\"38.7025,-199.025 42.3579,-189.081 33.299,-194.575 38.7025,-199.025\"/>\r\n",
       "<text text-anchor=\"middle\" x=\"23.8579\" y=\"-191.681\" font-family=\"Times New Roman,serif\" font-size=\"8.00\">2 variance</text>\r\n",
       "<text text-anchor=\"middle\" x=\"6\" y=\"-219.544\" font-family=\"Times New Roman,serif\" font-size=\"8.00\">3 3</text>\r\n",
       "</g>\r\n",
       "<!-- 92496366247038830 -->\r\n",
       "<g id=\"node4\" class=\"node\"><title>92496366247038830</title>\r\n",
       "</g>\r\n",
       "<!-- 92496366247038830&#45;&gt;9446691025761192863 -->\r\n",
       "<g id=\"edge3\" class=\"edge\"><title>92496366247038830&#45;&gt;9446691025761192863</title>\r\n",
       "<path fill=\"none\" stroke=\"red\" stroke-dasharray=\"5,2\" d=\"M130.495,-225.944C125.541,-219.928 116.3,-208.707 106.566,-196.886\"/>\r\n",
       "<polygon fill=\"none\" stroke=\"red\" points=\"109.196,-194.575 100.138,-189.081 103.793,-199.025 109.196,-194.575\"/>\r\n",
       "<text text-anchor=\"middle\" x=\"87.1376\" y=\"-191.681\" font-family=\"Times New Roman,serif\" font-size=\"8.00\">1 mean</text>\r\n",
       "<text text-anchor=\"middle\" x=\"124.495\" y=\"-219.544\" font-family=\"Times New Roman,serif\" font-size=\"8.00\">3 3</text>\r\n",
       "</g>\r\n",
       "</g>\r\n",
       "</svg>\r\n"
      ]
     },
     "metadata": {},
     "output_type": "display_data"
    }
   ],
   "source": [
    "draw(algo.fields[:factorization].factors[3])"
   ]
  },
  {
   "cell_type": "markdown",
   "metadata": {},
   "source": [
    "Now we can iteratively execute these schedules and inspect the results. "
   ]
  },
  {
   "cell_type": "code",
   "execution_count": 4,
   "metadata": {
    "collapsed": false
   },
   "outputs": [
    {
     "name": "stdout",
     "output_type": "stream",
     "text": [
      "True mean: 5.0\n",
      "True variance: 2.0\n",
      "Number of samples: 20\n",
      "Sample mean: 4.4\n",
      "Sample variance: 3.2\n",
      "\n",
      "----- Estimation after 50 VMP updates -----\n",
      "Mean estimate: 4.4, with variance 0.02\n",
      "Variance estimate: 3.4, with variance 1.44\n"
     ]
    }
   ],
   "source": [
    "step(algo)\n",
    "\n",
    "# Inspect the results\n",
    "println(\"True mean: $(true_mean)\")\n",
    "println(\"True variance: $(true_variance)\")\n",
    "println(\"Number of samples: $(length(y_observations))\")\n",
    "println(\"Sample mean: $(round(mean(y_observations),2))\")\n",
    "println(\"Sample variance: $(round(var(y_observations),2))\")\n",
    "println(\"\\n----- Estimation after $(n_its) VMP updates -----\")\n",
    "println(\"Mean estimate: $(round(mean(m_out[end])[1],2)), with variance $(round(var(m_out[end])[1, 1],2))\")\n",
    "println(\"Variance estimate: $(round(mean(s_out[end]),2)), with variance $(round(var(s_out[end]),2))\")"
   ]
  }
 ],
 "metadata": {
  "kernelspec": {
   "display_name": "Julia 0.3.11",
   "language": "julia",
   "name": "julia-0.3"
  },
  "language_info": {
   "name": "julia",
   "version": "0.3.11"
  }
 },
 "nbformat": 4,
 "nbformat_minor": 0
}
