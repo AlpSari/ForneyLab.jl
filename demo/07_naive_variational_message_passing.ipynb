{
 "cells": [
  {
   "cell_type": "markdown",
   "metadata": {},
   "source": [
    "Naive variational message passing demo\n",
    "===\n",
    "\n",
    "ForneyLab comes with support for variational message passing (VMP). Variational methods often involve complicated and extensive derivations. VMP on a factor graph eases our derivation troubles by expressing the variational algorithm in terms of local update rules. In his 2007 article, Dauwels gives a generic introduction to VMP on a factor graph. ForneyLab implements this VMP approach.\n",
    "\n",
    "In this demo we illustrate VMP by estimating the mean and variance of samples drawn from a Gaussian distribution. The factor graph below shows our generative model. We observe the samples $y = \\{y_1, ..., y_k, ..., y_n\\}$ and wish to estimate the posterior distribution over the mean and variance given these samples. We use the factor graph notation of (Reller, 2012; State-space methods in statistical signal processing) where filled black nodes represent observed variables and dotted arcs denote the repetition of a section.\n",
    "\n",
    "<img src=\"images/gauss_est.png\">\n",
    "\n",
    "For estimation we use a variational message passing algorithm with a mean field factorized distribution over our variables $q(m,s,y) = q(m)\\,q(s)\\,q(y)$.\n",
    "\n",
    "We start by building the graph."
   ]
  },
  {
   "cell_type": "code",
   "execution_count": 1,
   "metadata": {
    "collapsed": false
   },
   "outputs": [],
   "source": [
    "using(ForneyLab)\n",
    "\n",
    "# Initial settings\n",
    "n_samples      = 20 # Number of observed samples\n",
    "n_its          = 50 # Number of vmp iterations\n",
    "true_mean      = 5.0\n",
    "true_variance  = 2.0\n",
    "y_observations = sqrt(true_variance)*randn(n_samples) + true_mean # y observation buffer\n",
    "\n",
    "# Pre-assign arrays for later reference\n",
    "g_nodes    = Array(GaussianNode, n_samples)\n",
    "m_eq_nodes = Array(EqualityNode, n_samples)\n",
    "s_eq_nodes = Array(EqualityNode, n_samples)\n",
    "y_nodes    = Array(TerminalNode, n_samples)\n",
    "\n",
    "# Build graph\n",
    "for section=1:n_samples\n",
    "    g_nodes[section] = GaussianNode(id=\"g$(section)\")\n",
    "    m_eq_nodes[section] = EqualityNode() # Equality node chain for mean\n",
    "    s_eq_nodes[section] = EqualityNode() # Equality node chain for variance\n",
    "    y_nodes[section] = TerminalNode(DeltaDistribution(y_observations[section]), id=\"y$(section)\") # Observed y values are stored in terminal node values\n",
    "    Edge(g_nodes[section].i[:out], y_nodes[section], GaussianDistribution)\n",
    "    Edge(m_eq_nodes[section].i[3], g_nodes[section].i[:mean], GaussianDistribution)\n",
    "    Edge(s_eq_nodes[section].i[3], g_nodes[section].i[:variance], InverseGammaDistribution)\n",
    "    if section > 1 # Connect sections\n",
    "        Edge(m_eq_nodes[section-1].i[2], m_eq_nodes[section].i[1], GaussianDistribution)\n",
    "        Edge(s_eq_nodes[section-1].i[2], s_eq_nodes[section].i[1], InverseGammaDistribution)\n",
    "    end\n",
    "end\n",
    "# Attach beginning and end nodes\n",
    "m_0 = PriorNode(GaussianDistribution(m=0.0, V=100.0)) # Prior\n",
    "s_0 = PriorNode(InverseGammaDistribution(a=0.01, b=0.01)) # Prior\n",
    "m_N = TerminalNode(vague(GaussianDistribution)) # Uninformative distribution\n",
    "s_N = TerminalNode(vague(InverseGammaDistribution)) # Uninformative distribution\n",
    "Edge(m_0, m_eq_nodes[1].i[1], GaussianDistribution)\n",
    "Edge(s_0, s_eq_nodes[1].i[1], InverseGammaDistribution)\n",
    "Edge(m_eq_nodes[end].i[2], m_N, GaussianDistribution)\n",
    "Edge(s_eq_nodes[end].i[2], s_N, InverseGammaDistribution);"
   ]
  },
  {
   "cell_type": "markdown",
   "metadata": {},
   "source": [
    "Next we need to specify the variational inference procedure. This sounds like a lot of work, but it can be accomlished automatically."
   ]
  },
  {
   "cell_type": "code",
   "execution_count": 2,
   "metadata": {
    "collapsed": false
   },
   "outputs": [
    {
     "data": {
      "text/plain": [
       "Algorithm with fields:\n",
       " q_distributions::Dict{(Node,Subgraph),QDistribution}\n",
       " factorization::QFactorization\n",
       " n_iterations::Int64\n",
       "\n",
       "Use algorithm.fields[:field] to inspect field values.\n"
      ]
     },
     "execution_count": 2,
     "metadata": {},
     "output_type": "execute_result"
    }
   ],
   "source": [
    "# Specify some write buffers\n",
    "m_out = setWriteBuffer(m_N.i[:out].partner)\n",
    "s_out = setWriteBuffer(s_N.i[:out].partner)\n",
    "\n",
    "# Specify the variational algorithm for n_its vmp iterations\n",
    "algo = VMP.Algorithm(n_iterations=n_its)"
   ]
  },
  {
   "cell_type": "markdown",
   "metadata": {},
   "source": [
    "Under the hood, the `VMP.Algorithm()` constructor performs a mean field factorization, generates a schedule towards wraps and write buffers, and initializes vague q-distributions.\n",
    "\n",
    "We can visualize a subgraph of one factor with the `draw(::Subgraph)` function. The external edges of the subgraph are then denoted by red dashed arrows. "
   ]
  },
  {
   "cell_type": "code",
   "execution_count": 3,
   "metadata": {
    "collapsed": false
   },
   "outputs": [
    {
     "data": {
      "text/html": [
       "<img src=\"data:image/gif;base64,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\" />"
      ]
     },
     "metadata": {},
     "output_type": "display_data"
    }
   ],
   "source": [
    "draw(algo.fields[:factorization].factors[3])"
   ]
  },
  {
   "cell_type": "markdown",
   "metadata": {},
   "source": [
    "Now we can iteratively execute these schedules and inspect the results. "
   ]
  },
  {
   "cell_type": "code",
   "execution_count": 4,
   "metadata": {
    "collapsed": false
   },
   "outputs": [
    {
     "name": "stdout",
     "output_type": "stream",
     "text": [
      "True mean: 5.0\n",
      "True variance: 2.0\n",
      "Number of samples: 20\n",
      "Sample mean: 5.0\n",
      "Sample variance: 3.26\n",
      "\n",
      "----- Estimation after 50 VMP updates -----\n",
      "Mean estimate: 5.0, with variance 0.02\n",
      "Variance estimate: 3.46, with variance 1.5\n"
     ]
    }
   ],
   "source": [
    "step(algo)\n",
    "\n",
    "# Inspect the results\n",
    "println(\"True mean: $(true_mean)\")\n",
    "println(\"True variance: $(true_variance)\")\n",
    "println(\"Number of samples: $(length(y_observations))\")\n",
    "println(\"Sample mean: $(round(mean(y_observations),2))\")\n",
    "println(\"Sample variance: $(round(var(y_observations),2))\")\n",
    "println(\"\\n----- Estimation after $(n_its) VMP updates -----\")\n",
    "println(\"Mean estimate: $(round(mean(m_out[end])[1],2)), with variance $(round(var(m_out[end])[1, 1],2))\")\n",
    "println(\"Variance estimate: $(round(mean(s_out[end]),2)), with variance $(round(var(s_out[end]),2))\")"
   ]
  },
  {
   "cell_type": "code",
   "execution_count": null,
   "metadata": {
    "collapsed": true
   },
   "outputs": [],
   "source": []
  }
 ],
 "metadata": {
  "kernelspec": {
   "display_name": "Julia 0.3.6",
   "language": "julia",
   "name": "julia 0.3"
  },
  "language_info": {
   "name": "julia",
   "version": "0.3.8"
  }
 },
 "nbformat": 4,
 "nbformat_minor": 0
}
