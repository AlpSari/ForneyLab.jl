{
 "cells": [
  {
   "cell_type": "markdown",
   "metadata": {},
   "source": [
    "Naive variational message passing demo\n",
    "===\n",
    "\n",
    "ForneyLab comes with support for variational message passing (VMP). Variational methods often involve complicated and extensive derivations. VMP on a factor graph eases our derivation troubles by expressing the variational algorithm in terms of local update rules. In his 2007 article, Dauwels gives a generic introduction to VMP on a factor graph. ForneyLab implements this VMP approach.\n",
    "\n",
    "In this demo we illustrate VMP by estimating the mean and variance of samples drawn from a Gaussian distribution. The factor graph below shows our generative model. We observe the samples $y = \\{y_1, ..., y_k, ..., y_n\\}$ and wish to estimate the posterior distribution over the mean and variance given these samples. We use the factor graph notation of (Reller, 2012; State-space methods in statistical signal processing) where filled black nodes represent observed variables and dotted arcs denote the repetition of a section.\n",
    "\n",
    "<img src=\"images/gauss_est.png\">\n",
    "\n",
    "For estimation we use a variational message passing algorithm with a mean field factorized distribution over our variables $q(m,s,y) = q(m)\\,q(s)\\,q(y)$.\n",
    "\n",
    "We start by building the graph."
   ]
  },
  {
   "cell_type": "code",
   "execution_count": 1,
   "metadata": {
    "collapsed": false
   },
   "outputs": [],
   "source": [
    "using(ForneyLab)\n",
    "\n",
    "# Initial settings\n",
    "n_samples      = 20 # Number of observed samples\n",
    "n_its          = 50 # Number of vmp iterations\n",
    "true_mean      = 5.0\n",
    "true_variance  = 2.0\n",
    "y_observations = sqrt(true_variance)*randn(n_samples) + true_mean # y observation buffer\n",
    "\n",
    "# Build graph\n",
    "for sec=1:n_samples\n",
    "    GaussianNode(id=s(:g,sec)) # s() for symbol concatenation\n",
    "    EqualityNode(id=s(:m_eq,sec)) # Equality node chain for mean\n",
    "    EqualityNode(id=s(:s_eq,sec)) # Equality node chain for variance\n",
    "    TerminalNode(DeltaDistribution(y_observations[sec]), id=s(:y,sec)) # Observed y values are stored in terminal node values\n",
    "    Edge(n(:g,sec).i[:out], n(:y,sec), GaussianDistribution)\n",
    "    Edge(n(:m_eq,sec).i[3], n(:g,sec).i[:mean], GaussianDistribution)\n",
    "    Edge(n(:s_eq,sec).i[3], n(:g,sec).i[:variance], InverseGammaDistribution)\n",
    "    if sec > 1 # Connect sections\n",
    "        Edge(n(:m_eq,sec-1).i[2], n(:m_eq,sec).i[1], GaussianDistribution)\n",
    "        Edge(n(:s_eq,sec-1).i[2], n(:s_eq,sec).i[1], InverseGammaDistribution)\n",
    "    end\n",
    "end\n",
    "# Attach beginning and end nodes\n",
    "PriorNode(GaussianDistribution(m=0.0, V=100.0), id=:m0) # Prior\n",
    "PriorNode(InverseGammaDistribution(a=0.01, b=0.01), id=:s0) # Prior\n",
    "TerminalNode(vague(GaussianDistribution), id=:mN) # Uninformative distribution\n",
    "TerminalNode(vague(InverseGammaDistribution), id=:sN) # Uninformative distribution\n",
    "Edge(n(:m0), n(:m_eq1).i[1], GaussianDistribution)\n",
    "Edge(n(:s0), n(:s_eq1).i[1], InverseGammaDistribution)\n",
    "Edge(n(:m_eq,n_samples).i[2], n(:mN), GaussianDistribution)\n",
    "Edge(n(:s_eq,n_samples).i[2], n(:sN), InverseGammaDistribution);"
   ]
  },
  {
   "cell_type": "markdown",
   "metadata": {},
   "source": [
    "Next we need to specify the variational inference procedure. This sounds like a lot of work, but it can be accomlished automatically."
   ]
  },
  {
   "cell_type": "code",
   "execution_count": 2,
   "metadata": {
    "collapsed": false
   },
   "outputs": [
    {
     "data": {
      "text/plain": [
       "Algorithm with fields:\n",
       " q_distributions::Dict{(Node,Subgraph),QDistribution}\n",
       " factorization::QFactorization\n",
       " n_iterations::Int64\n",
       "\n",
       "Use algorithm.fields[:field] to inspect field values.\n"
      ]
     },
     "execution_count": 2,
     "metadata": {},
     "output_type": "execute_result"
    }
   ],
   "source": [
    "# Specify some write buffers\n",
    "m_out = setWriteBuffer(n(:mN).i[:out].partner)\n",
    "s_out = setWriteBuffer(n(:sN).i[:out].partner)\n",
    "\n",
    "# Specify the variational algorithm for n_its vmp iterations\n",
    "algo = VMP.Algorithm(n_iterations=n_its)"
   ]
  },
  {
   "cell_type": "markdown",
   "metadata": {},
   "source": [
    "Under the hood, the `VMP.Algorithm()` constructor performs a mean field factorization, generates a schedule towards wraps and write buffers, and initializes vague q-distributions.\n",
    "\n",
    "We can visualize a subgraph of one factor with the `draw(::Subgraph)` function. The external edges of the subgraph are then denoted by red dashed arrows. "
   ]
  },
  {
   "cell_type": "code",
   "execution_count": 3,
   "metadata": {
    "collapsed": false
   },
   "outputs": [
    {
     "data": {
      "text/html": [
       "<img src=\"data:image/gif;base64,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\" />"
      ]
     },
     "metadata": {},
     "output_type": "display_data"
    }
   ],
   "source": [
    "draw(algo.fields[:factorization].factors[3])"
   ]
  },
  {
   "cell_type": "markdown",
   "metadata": {},
   "source": [
    "Now we can iteratively execute these schedules and inspect the results. "
   ]
  },
  {
   "cell_type": "code",
   "execution_count": 4,
   "metadata": {
    "collapsed": false
   },
   "outputs": [
    {
     "name": "stdout",
     "output_type": "stream",
     "text": [
      "True mean: 5.0\n",
      "True variance: 2.0\n",
      "Number of samples: 20\n",
      "Sample mean: 5.32\n",
      "Sample variance: 1.67\n",
      "\n",
      "----- Estimation after 50 VMP updates -----\n",
      "Mean estimate: 5.32, with variance 0.03\n",
      "Variance estimate: 1.8, with variance 0.4\n"
     ]
    }
   ],
   "source": [
    "step(algo)\n",
    "\n",
    "# Inspect the results\n",
    "println(\"True mean: $(true_mean)\")\n",
    "println(\"True variance: $(true_variance)\")\n",
    "println(\"Number of samples: $(length(y_observations))\")\n",
    "println(\"Sample mean: $(round(mean(y_observations),2))\")\n",
    "println(\"Sample variance: $(round(var(y_observations),2))\")\n",
    "println(\"\\n----- Estimation after $(n_its) VMP updates -----\")\n",
    "println(\"Mean estimate: $(round(mean(m_out[end])[1],2)), with variance $(round(var(m_out[end])[1, 1],2))\")\n",
    "println(\"Variance estimate: $(round(mean(s_out[end]),2)), with variance $(round(var(s_out[end]),2))\")"
   ]
  },
  {
   "cell_type": "code",
   "execution_count": null,
   "metadata": {
    "collapsed": true
   },
   "outputs": [],
   "source": []
  }
 ],
 "metadata": {
  "kernelspec": {
   "display_name": "Julia 0.3.7",
   "language": "julia",
   "name": "julia 0.3"
  },
  "language_info": {
   "name": "julia",
   "version": "0.3.7"
  }
 },
 "nbformat": 4,
 "nbformat_minor": 0
}
