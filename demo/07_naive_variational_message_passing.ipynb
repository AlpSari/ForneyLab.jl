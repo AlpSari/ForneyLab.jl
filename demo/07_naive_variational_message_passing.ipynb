{
 "cells": [
  {
   "cell_type": "markdown",
   "metadata": {},
   "source": [
    "Naive variational message passing demo\n",
    "===\n",
    "\n",
    "ForneyLab comes with support for variational message passing (VMP). Variational methods often involve complicated and extensive derivations. VMP on a factor graph eases our derivation troubles by expressing the variational algorithm in terms of local update rules. In his 2007 article, Dauwels gives a generic introduction to VMP on a factor graph. ForneyLab implements this VMP approach.\n",
    "\n",
    "In this demo we illustrate VMP by estimating the mean and variance of samples drawn from a Gaussian distribution. The factor graph below shows our generative model. We observe the samples $y = \\{y_1, ..., y_k, ..., y_n\\}$ and wish to estimate the posterior distribution over the mean and variance given these samples. We use the factor graph notation of (Reller, 2012; State-space methods in statistical signal processing) where filled black nodes represent observed variables and dotted arcs denote the repetition of a section.\n",
    "\n",
    "<img src=\"images/gauss_est.png\">\n",
    "\n",
    "For estimation we use a variational message passing algorithm with a mean field factorized distribution over our variables $q(m,s,y) = q(m)\\,q(s)\\,q(y)$.\n",
    "\n",
    "We start by building the graph."
   ]
  },
  {
   "cell_type": "code",
   "execution_count": 1,
   "metadata": {
    "collapsed": false
   },
   "outputs": [],
   "source": [
    "using(ForneyLab)\n",
    "\n",
    "# Initial settings\n",
    "n_samples      = 20 # Number of observed samples\n",
    "n_its          = 50 # Number of vmp iterations\n",
    "true_mean      = 5.0\n",
    "true_variance  = 2.0\n",
    "y_observations = sqrt(true_variance)*randn(n_samples) + true_mean # y observation buffer\n",
    "\n",
    "# Build graph\n",
    "for sec=1:n_samples\n",
    "    GaussianNode(id=:g*sec) # s() for symbol concatenation\n",
    "    EqualityNode(id=:m_eq*sec) # Equality node chain for mean\n",
    "    EqualityNode(id=:s_eq*sec) # Equality node chain for variance\n",
    "    TerminalNode(DeltaDistribution(y_observations[sec]), id=:y*sec) # Observed y values are stored in terminal node values\n",
    "    Edge(n(:g*sec).i[:out], n(:y*sec), GaussianDistribution)\n",
    "    Edge(n(:m_eq*sec).i[3], n(:g*sec).i[:mean], GaussianDistribution)\n",
    "    Edge(n(:s_eq*sec).i[3], n(:g*sec).i[:variance], InverseGammaDistribution)\n",
    "    if sec > 1 # Connect sections\n",
    "        Edge(n(:m_eq*(sec-1)).i[2], n(:m_eq*sec).i[1], GaussianDistribution)\n",
    "        Edge(n(:s_eq*(sec-1)).i[2], n(:s_eq*sec).i[1], InverseGammaDistribution)\n",
    "    end\n",
    "end\n",
    "# Attach beginning and end nodes\n",
    "PriorNode(GaussianDistribution(m=0.0, V=100.0), id=:m0) # Prior\n",
    "PriorNode(InverseGammaDistribution(a=0.01, b=0.01), id=:s0) # Prior\n",
    "TerminalNode(vague(GaussianDistribution), id=:mN) # Uninformative distribution\n",
    "TerminalNode(vague(InverseGammaDistribution), id=:sN) # Uninformative distribution\n",
    "Edge(n(:m0), n(:m_eq1).i[1], GaussianDistribution)\n",
    "Edge(n(:s0), n(:s_eq1).i[1], InverseGammaDistribution)\n",
    "Edge(n(:m_eq*n_samples).i[2], n(:mN), GaussianDistribution)\n",
    "Edge(n(:s_eq*n_samples).i[2], n(:sN), InverseGammaDistribution);"
   ]
  },
  {
   "cell_type": "markdown",
   "metadata": {},
   "source": [
    "Next we need to specify the variational inference procedure. This sounds like a lot of work, but it can be accomlished automatically."
   ]
  },
  {
   "cell_type": "code",
   "execution_count": 2,
   "metadata": {
    "collapsed": false
   },
   "outputs": [
    {
     "data": {
      "text/plain": [
       "Algorithm with fields:\n",
       " factorization::ForneyLab.VMP.QFactorization\n",
       " q_distributions::Dict{Tuple{ForneyLab.Node,ForneyLab.VMP.Subgraph},ForneyLab.VMP.QDistribution}\n",
       " n_iterations::Int64\n",
       "\n",
       "Use algorithm.fields[:field] to inspect field values.\n"
      ]
     },
     "execution_count": 2,
     "metadata": {},
     "output_type": "execute_result"
    }
   ],
   "source": [
    "# Specify some write buffers\n",
    "m_out = attachWriteBuffer(n(:mN).i[:out].partner)\n",
    "s_out = attachWriteBuffer(n(:sN).i[:out].partner)\n",
    "\n",
    "# Specify the variational algorithm for n_its vmp iterations\n",
    "algo = VMP.Algorithm(n_iterations=n_its)"
   ]
  },
  {
   "cell_type": "markdown",
   "metadata": {},
   "source": [
    "Under the hood, the `VMP.Algorithm()` constructor performs a mean field factorization, generates a schedule towards wraps and write buffers, and initializes vague q-distributions.\n",
    "\n",
    "We can visualize a subgraph of one factor with the `draw(::Subgraph)` function. The external edges of the subgraph are then denoted by red dashed arrows. "
   ]
  },
  {
   "cell_type": "code",
   "execution_count": 3,
   "metadata": {
    "collapsed": false
   },
   "outputs": [
    {
     "data": {
      "text/html": [
       "<?xml version=\"1.0\" encoding=\"UTF-8\" standalone=\"no\"?>\n",
       "<!DOCTYPE svg PUBLIC \"-//W3C//DTD SVG 1.1//EN\"\n",
       " \"http://www.w3.org/Graphics/SVG/1.1/DTD/svg11.dtd\">\n",
       "<!-- Generated by graphviz version 2.38.0 (20140413.2041)\n",
       " -->\n",
       "<!-- Title: G Pages: 1 -->\n",
       "<svg width=\"225pt\" height=\"245pt\"\n",
       " viewBox=\"0.00 0.00 225.24 245.47\" xmlns=\"http://www.w3.org/2000/svg\" xmlns:xlink=\"http://www.w3.org/1999/xlink\">\n",
       "<g id=\"graph0\" class=\"graph\" transform=\"scale(1 1) rotate(0) translate(4 241.469)\">\n",
       "<title>G</title>\n",
       "<polygon fill=\"white\" stroke=\"none\" points=\"-4,4 -4,-241.469 221.236,-241.469 221.236,4 -4,4\"/>\n",
       "<!-- 2463631106284811627 -->\n",
       "<g id=\"node1\" class=\"node\"><title>2463631106284811627</title>\n",
       "<polygon fill=\"lightgrey\" stroke=\"black\" points=\"96.2477,-54 42.2477,-54 42.2477,-0 96.2477,-0 96.2477,-54\"/>\n",
       "<text text-anchor=\"middle\" x=\"69.2477\" y=\"-24.3\" font-family=\"Times,serif\" font-size=\"9.00\">y9</text>\n",
       "</g>\n",
       "<!-- 16099663542368559054 -->\n",
       "<g id=\"node2\" class=\"node\"><title>16099663542368559054</title>\n",
       "<polygon fill=\"none\" stroke=\"black\" points=\"124.476,-189.469 14.02,-189.469 14.02,-117.469 124.476,-117.469 124.476,-189.469\"/>\n",
       "<text text-anchor=\"middle\" x=\"69.2477\" y=\"-155.269\" font-family=\"Times,serif\" font-size=\"9.00\">ForneyLab.GaussianNode</text>\n",
       "<text text-anchor=\"middle\" x=\"69.2477\" y=\"-146.269\" font-family=\"Times,serif\" font-size=\"9.00\">g9</text>\n",
       "</g>\n",
       "<!-- 16099663542368559054&#45;&gt;2463631106284811627 -->\n",
       "<g id=\"edge1\" class=\"edge\"><title>16099663542368559054&#45;&gt;2463631106284811627</title>\n",
       "<path fill=\"none\" stroke=\"black\" d=\"M69.2477,-117.466C69.2477,-100.793 69.2477,-80.8725 69.2477,-64.0653\"/>\n",
       "<polygon fill=\"none\" stroke=\"black\" points=\"72.7478,-64.0595 69.2477,-54.0596 65.7478,-64.0596 72.7478,-64.0595\"/>\n",
       "<text text-anchor=\"middle\" x=\"143.242\" y=\"-93.0687\" font-family=\"Times,serif\" font-size=\"8.00\">FW: ○</text>\n",
       "<text text-anchor=\"middle\" x=\"143.242\" y=\"-83.3344\" font-family=\"Times,serif\" font-size=\"8.00\">BW: ○</text>\n",
       "<text text-anchor=\"middle\" x=\"143.242\" y=\"-73.6\" font-family=\"Times,serif\" font-size=\"8.00\">Distribution: ForneyLab.GaussianDistribution</text>\n",
       "<text text-anchor=\"middle\" x=\"61.1364\" y=\"-55.6596\" font-family=\"Times,serif\" font-size=\"8.00\">1 out</text>\n",
       "<text text-anchor=\"middle\" x=\"61.1364\" y=\"-111.066\" font-family=\"Times,serif\" font-size=\"8.00\">3 out</text>\n",
       "</g>\n",
       "<!-- 8646563692243361409 -->\n",
       "<g id=\"node3\" class=\"node\"><title>8646563692243361409</title>\n",
       "</g>\n",
       "<!-- 8646563692243361409&#45;&gt;16099663542368559054 -->\n",
       "<g id=\"edge2\" class=\"edge\"><title>8646563692243361409&#45;&gt;16099663542368559054</title>\n",
       "<path fill=\"none\" stroke=\"red\" stroke-dasharray=\"5,2\" d=\"M10,-226.412C14.9544,-220.396 24.1952,-209.175 33.9297,-197.355\"/>\n",
       "<polygon fill=\"none\" stroke=\"red\" points=\"36.7025,-199.494 40.3579,-189.549 31.299,-195.044 36.7025,-199.494\"/>\n",
       "<text text-anchor=\"middle\" x=\"28.6958\" y=\"-191.149\" font-family=\"Times,serif\" font-size=\"8.00\">1 mean</text>\n",
       "<text text-anchor=\"middle\" x=\"5\" y=\"-220.012\" font-family=\"Times,serif\" font-size=\"8.00\">3 3</text>\n",
       "</g>\n",
       "<!-- 9000701748318890452 -->\n",
       "<g id=\"node4\" class=\"node\"><title>9000701748318890452</title>\n",
       "</g>\n",
       "<!-- 9000701748318890452&#45;&gt;16099663542368559054 -->\n",
       "<g id=\"edge3\" class=\"edge\"><title>9000701748318890452&#45;&gt;16099663542368559054</title>\n",
       "<path fill=\"none\" stroke=\"red\" stroke-dasharray=\"5,2\" d=\"M128.495,-226.412C123.541,-220.396 114.3,-209.175 104.566,-197.355\"/>\n",
       "<polygon fill=\"none\" stroke=\"red\" points=\"107.196,-195.044 98.1376,-189.549 101.793,-199.494 107.196,-195.044\"/>\n",
       "<text text-anchor=\"middle\" x=\"81.5926\" y=\"-191.149\" font-family=\"Times,serif\" font-size=\"8.00\">2 variance</text>\n",
       "<text text-anchor=\"middle\" x=\"123.495\" y=\"-220.012\" font-family=\"Times,serif\" font-size=\"8.00\">3 3</text>\n",
       "</g>\n",
       "</g>\n",
       "</svg>\n"
      ]
     },
     "metadata": {},
     "output_type": "display_data"
    }
   ],
   "source": [
    "draw(algo.fields[:factorization].factors[3])"
   ]
  },
  {
   "cell_type": "markdown",
   "metadata": {},
   "source": [
    "Now we can iteratively execute these schedules and inspect the results. "
   ]
  },
  {
   "cell_type": "code",
   "execution_count": 4,
   "metadata": {
    "collapsed": false
   },
   "outputs": [
    {
     "name": "stdout",
     "output_type": "stream",
     "text": [
      "True mean: 5.0\n",
      "True variance: 2.0\n",
      "Number of samples: 20\n",
      "Sample mean: 4.66\n",
      "Sample variance: 2.16\n",
      "\n",
      "----- Estimation after 50 VMP updates -----\n",
      "Mean estimate: 4.66, with variance 0.03\n",
      "Variance estimate: 2.31, with variance 0.66\n"
     ]
    }
   ],
   "source": [
    "step(algo)\n",
    "\n",
    "# Inspect the results\n",
    "println(\"True mean: $(true_mean)\")\n",
    "println(\"True variance: $(true_variance)\")\n",
    "println(\"Number of samples: $(length(y_observations))\")\n",
    "println(\"Sample mean: $(round(mean(y_observations),2))\")\n",
    "println(\"Sample variance: $(round(var(y_observations),2))\")\n",
    "println(\"\\n----- Estimation after $(n_its) VMP updates -----\")\n",
    "println(\"Mean estimate: $(round(mean(m_out[end])[1],2)), with variance $(round(var(m_out[end])[1, 1],2))\")\n",
    "println(\"Variance estimate: $(round(mean(s_out[end]),2)), with variance $(round(var(s_out[end]),2))\")"
   ]
  }
 ],
 "metadata": {
  "kernelspec": {
   "display_name": "Julia 0.4.0",
   "language": "julia",
   "name": "julia-0.4"
  },
  "language_info": {
   "file_extension": ".jl",
   "mimetype": "application/julia",
   "name": "julia",
   "version": "0.4.0"
  }
 },
 "nbformat": 4,
 "nbformat_minor": 0
}
