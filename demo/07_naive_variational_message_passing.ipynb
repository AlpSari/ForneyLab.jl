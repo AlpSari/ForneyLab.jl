{
 "cells": [
  {
   "cell_type": "markdown",
   "metadata": {},
   "source": [
    "Naive variational message passing demo\n",
    "===\n",
    "\n",
    "ForneyLab comes with support for variational message passing (VMP). Variational methods often involve complicated and extensive derivations. VMP on a factor graph eases our derivation troubles by expressing the variational algorithm in terms of local update rules. In his 2007 article, Dauwels gives a generic introduction to VMP on a factor graph. ForneyLab implements this VMP approach.\n",
    "\n",
    "In this demo we illustrate VMP by estimating the mean and variance of samples drawn from a Gaussian distribution. The factor graph below shows our generative model. We observe the samples $y = \\{y_1, ..., y_k, ..., y_n\\}$ and wish to estimate the posterior distribution over the mean $m$ and variance $s$ of these samples. We use the factor graph notation of (Reller, 2012; State-space methods in statistical signal processing) where filled black nodes represent observed variables and dotted arcs denote the repetition of a section.\n",
    "\n",
    "<img src=\"images/gauss_est.png\">\n",
    "\n",
    "For estimation we use a variational message passing algorithm with a mean field factorized distribution over our variables $q(m,s,y) = q(m)\\,q(s)\\,q(y)$.\n",
    "\n",
    "We start by building the graph."
   ]
  },
  {
   "cell_type": "code",
   "execution_count": 1,
   "metadata": {
    "collapsed": false
   },
   "outputs": [],
   "source": [
    "using(ForneyLab)\n",
    "\n",
    "# Initial settings\n",
    "N              = 20 # Number of observed samples\n",
    "n_its          = 50 # Number of vmp iterations\n",
    "true_mean      = 5.0\n",
    "true_variance  = 2.0\n",
    "y_observations = sqrt(true_variance)*randn(N) + true_mean # y observation buffer\n",
    "\n",
    "# Build graph\n",
    "for k=1:N\n",
    "    GaussianNode(id=:g*k) # s() for symbol concatenation\n",
    "    EqualityNode(id=:m_eq*k) # Equality node chain for mean\n",
    "    EqualityNode(id=:s_eq*k) # Equality node chain for variance\n",
    "    TerminalNode(y_observations[k], id=:y*k) # Observed y values are stored in terminal node values\n",
    "\n",
    "    Edge(n(:g*k).i[:out], n(:y*k), id=:y*k)\n",
    "    Edge(n(:m_eq*k).i[3], n(:g*k).i[:mean], id=:m*k)\n",
    "    Edge(n(:s_eq*k).i[3], n(:g*k).i[:variance], id=:s*k)\n",
    "    if k > 1 # Connect sections\n",
    "        Edge(n(:m_eq*(k-1)).i[2], n(:m_eq*k).i[1])\n",
    "        Edge(n(:s_eq*(k-1)).i[2], n(:s_eq*k).i[1])\n",
    "    end\n",
    "end\n",
    "\n",
    "# Attach beginning and end nodes\n",
    "PriorNode(Gaussian(m=0.0, V=100.0), id=:m0) # Prior\n",
    "PriorNode(InverseGamma(a=0.01, b=0.01), id=:s0) # Prior\n",
    "TerminalNode(vague(Gaussian), id=:mN) # Vague distribution\n",
    "TerminalNode(vague(InverseGamma), id=:sN) # Vague distribution\n",
    "\n",
    "Edge(n(:m0), n(:m_eq1).i[1])\n",
    "Edge(n(:s0), n(:s_eq1).i[1])\n",
    "Edge(n(:m_eq*N).i[2], n(:mN))\n",
    "Edge(n(:s_eq*N).i[2], n(:sN))\n",
    "\n",
    "# Specify some write buffers\n",
    "m_out = attachWriteBuffer(n(:mN).i[:out].partner)\n",
    "s_out = attachWriteBuffer(n(:sN).i[:out].partner);"
   ]
  },
  {
   "cell_type": "markdown",
   "metadata": {},
   "source": [
    "After specifying the graph, we need to define the recognition factorization and distributions. We choose a naive (mean field) factorization and specify the initial distributions."
   ]
  },
  {
   "cell_type": "code",
   "execution_count": 3,
   "metadata": {
    "collapsed": false
   },
   "outputs": [],
   "source": [
    "factorizeMeanField()\n",
    "for sec = 1:N\n",
    "    initialize(eg(:m*sec), vague(Gaussian))\n",
    "    initialize(eg(:s*sec), vague(InverseGamma))\n",
    "    initialize(eg(:y*sec), vague(Gaussian))\n",
    "end "
   ]
  },
  {
   "cell_type": "markdown",
   "metadata": {},
   "source": [
    "Now we specify the variational Bayes algorithm."
   ]
  },
  {
   "cell_type": "code",
   "execution_count": 4,
   "metadata": {
    "collapsed": false
   },
   "outputs": [
    {
     "data": {
      "text/plain": []
     },
     "execution_count": 4,
     "metadata": {},
     "output_type": "execute_result"
    },
    {
     "name": "stdout",
     "output_type": "stream",
     "text": [
      "VariationalBayes inference algorithm\n",
      "    number of subgraphs: 22\n",
      "    number of iterations: 50\n"
     ]
    }
   ],
   "source": [
    "algo = VariationalBayes(n_iterations=n_its)"
   ]
  },
  {
   "cell_type": "markdown",
   "metadata": {},
   "source": [
    "Now we can iteratively execute these schedules and inspect the results. "
   ]
  },
  {
   "cell_type": "code",
   "execution_count": 5,
   "metadata": {
    "collapsed": false
   },
   "outputs": [
    {
     "name": "stdout",
     "output_type": "stream",
     "text": [
      "True mean: 5.0\n",
      "True variance: 2.0\n",
      "Number of samples: 20\n",
      "Sample mean: 4.95\n",
      "Sample variance: 2.66\n",
      "\n",
      "----- Estimation after 50 VMP updates -----\n",
      "Mean estimate: 4.95, with variance 0.02\n",
      "Variance estimate: 2.83, with variance 1.0\n"
     ]
    }
   ],
   "source": [
    "run(algo)\n",
    "\n",
    "# Inspect the results\n",
    "println(\"True mean: $(true_mean)\")\n",
    "println(\"True variance: $(true_variance)\")\n",
    "println(\"Number of samples: $(length(y_observations))\")\n",
    "println(\"Sample mean: $(round(mean(y_observations),2))\")\n",
    "println(\"Sample variance: $(round(var(y_observations),2))\")\n",
    "println(\"\\n----- Estimation after $(n_its) VMP updates -----\")\n",
    "println(\"Mean estimate: $(round(mean(m_out[end])[1],2)), with variance $(round(var(m_out[end])[1, 1],2))\")\n",
    "println(\"Variance estimate: $(round(mean(s_out[end]),2)), with variance $(round(var(s_out[end]),2))\")"
   ]
  },
  {
   "cell_type": "code",
   "execution_count": null,
   "metadata": {
    "collapsed": true
   },
   "outputs": [],
   "source": []
  }
 ],
 "metadata": {
  "kernelspec": {
   "display_name": "Julia 0.4.0",
   "language": "julia",
   "name": "julia-0.4"
  },
  "language_info": {
   "file_extension": ".jl",
   "mimetype": "application/julia",
   "name": "julia",
   "version": "0.4.0"
  }
 },
 "nbformat": 4,
 "nbformat_minor": 0
}
