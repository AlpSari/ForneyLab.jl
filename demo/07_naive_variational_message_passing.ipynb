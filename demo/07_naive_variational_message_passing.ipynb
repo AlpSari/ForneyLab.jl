{
 "metadata": {
  "language": "Julia",
  "name": "",
  "signature": "sha256:ee64c6aa5163e3dfc3f7db34095a72cdf9bbde1005dcf91b789b38e12b765192"
 },
 "nbformat": 3,
 "nbformat_minor": 0,
 "worksheets": [
  {
   "cells": [
    {
     "cell_type": "markdown",
     "metadata": {},
     "source": [
      "Naive variational message passing demo\n",
      "===\n",
      "\n",
      "ForneyLab comes with support for variational message passing (VMP). Variational methods often involve complicated and extensive derivations. VMP on a factor graph eases our derivation troubles by expressing the variational algorithm in terms of local update rules. In his 2007 article, Dauwels gives a generic introduction to VMP on a factor graph. ForneyLab implements this VMP approach.\n",
      "\n",
      "In this demo we illustrate VMP by estimating the mean and variance of samples drawn from a Gaussian distribution. The corresponding factor graph is shown below, where $q(m)$, $q(s)$ and $q(y)$ represent the approximated marginals for the mean, variance and sample respectively. Variational messages $v(.)$ are passed forward and backward, and the approximate marginals $q(.)$ are calculated as $q(.)=\\overrightarrow{v}(.) \\times \\overleftarrow{v}(.)$. We observe the samples `y` and wish to estimate the posterior distribution over the mean and variance given these samples.\n",
      "\n",
      "\n",
      "```\n",
      "     [s_0]---------->[=]---------->[=]--->    -->[s_N]\n",
      "                      |             |   etc...\n",
      "     [m_0]-->[=]---------->[=]--------->      -->[m_N]\n",
      "          q(m)|   q(s)|     |       |\n",
      "              -->[N]<--     -->[N]<--\n",
      "                  |             |\n",
      "                  v q(y)        v\n",
      "                [y_1]         [y_2]\n",
      "```\n",
      "\n",
      "We start by building this graph."
     ]
    },
    {
     "cell_type": "code",
     "collapsed": false,
     "input": [
      "using(ForneyLab)\n",
      "\n",
      "# Initial settings\n",
      "n_samples = 20 # Number of observed samples\n",
      "n_its = 50 # Number of vmp iterations\n",
      "true_mean = 5.0\n",
      "true_variance = 2.0\n",
      "y_observations = sqrt(true_variance)*randn(n_samples)+true_mean # y observation buffer\n",
      "\n",
      "# Pre-assign arrays for later reference\n",
      "g_nodes = Array(GaussianNode, n_samples)\n",
      "m_eq_nodes = Array(EqualityNode, n_samples)\n",
      "s_eq_nodes = Array(EqualityNode, n_samples)\n",
      "y_nodes = Array(TerminalNode, n_samples)\n",
      "\n",
      "# Build graph\n",
      "for section=1:n_samples\n",
      "    g_nodes[section] = GaussianNode()\n",
      "    m_eq_nodes[section] = EqualityNode() # Equality node chain for mean\n",
      "    s_eq_nodes[section] = EqualityNode() # Equality node chain for variance\n",
      "    y_nodes[section] = TerminalNode(DeltaDistribution(y_observations[section])) # Observed y values are stored in terminal node values\n",
      "    Edge(g_nodes[section].out, y_nodes[section].out, GaussianDistribution)\n",
      "    Edge(m_eq_nodes[section].interfaces[3], g_nodes[section].mean, GaussianDistribution)\n",
      "    Edge(s_eq_nodes[section].interfaces[3], g_nodes[section].variance, InverseGammaDistribution)\n",
      "    if section > 1 # Connect sections\n",
      "        Edge(m_eq_nodes[section-1].interfaces[2], m_eq_nodes[section].interfaces[1], GaussianDistribution)\n",
      "        Edge(s_eq_nodes[section-1].interfaces[2], s_eq_nodes[section].interfaces[1], InverseGammaDistribution)\n",
      "    end\n",
      "end\n",
      "# Attach beginning and end nodes\n",
      "m_0 = PriorNode(GaussianDistribution(m=0.0, V=100.0)) # Prior\n",
      "s_0 = PriorNode(InverseGammaDistribution(a=0.01, b=0.01)) # Prior\n",
      "m_N = TerminalNode(vague(GaussianDistribution)) # Uninformative distribution\n",
      "s_N = TerminalNode(vague(InverseGammaDistribution)) # Uninformative distribution\n",
      "Edge(m_0.out, m_eq_nodes[1].interfaces[1], GaussianDistribution)\n",
      "Edge(s_0.out, s_eq_nodes[1].interfaces[1], InverseGammaDistribution)\n",
      "Edge(m_eq_nodes[end].interfaces[2], m_N.out, GaussianDistribution)\n",
      "Edge(s_eq_nodes[end].interfaces[2], s_N.out, InverseGammaDistribution);"
     ],
     "language": "python",
     "metadata": {},
     "outputs": [],
     "prompt_number": 1
    },
    {
     "cell_type": "markdown",
     "metadata": {},
     "source": [
      "Next we need to specify the variational inference procedure. This sounds like a lot of work, but it can be accomlished automatically."
     ]
    },
    {
     "cell_type": "code",
     "collapsed": false,
     "input": [
      "# Specify some write buffers\n",
      "m_out = setWriteBuffer(m_N.out.partner)\n",
      "s_out = setWriteBuffer(s_N.out.partner)\n",
      "\n",
      "# Specify the variational algorithm for n_its vmp iterations\n",
      "algo = VMP.Algorithm(n_iterations=n_its)"
     ],
     "language": "python",
     "metadata": {},
     "outputs": [
      {
       "metadata": {},
       "output_type": "pyout",
       "prompt_number": 2,
       "text": [
        "Algorithm with fields:\n",
        " q_distributions::Dict{(Node,Subgraph),QDistribution}\n",
        " factorization::QFactorization\n",
        " n_iterations::Int64\n",
        "\n",
        "Use algorithm.fields[:field] to inspect field values.\n"
       ]
      }
     ],
     "prompt_number": 2
    },
    {
     "cell_type": "markdown",
     "metadata": {},
     "source": [
      "Under the hood, the `VMP.Algorithm()` constructor performs a mean field factorization, generates a schedule towards wraps and write buffers, and initializes vague q-distributions.\n",
      "\n",
      "We can visualize a subgraph of one factor with the `draw(::Subgraph)` function. The external edges of the subgraph are then denoted by red dashed arrows. "
     ]
    },
    {
     "cell_type": "code",
     "collapsed": false,
     "input": [
      "draw(algo.fields[:factorization].factors[1])"
     ],
     "language": "python",
     "metadata": {},
     "outputs": [
      {
       "metadata": {},
       "output_type": "display_data",
       "svg": [
        "<?xml version=\"1.0\" encoding=\"UTF-8\" standalone=\"no\"?>\n",
        "<!DOCTYPE svg PUBLIC \"-//W3C//DTD SVG 1.1//EN\"\n",
        " \"http://www.w3.org/Graphics/SVG/1.1/DTD/svg11.dtd\">\n",
        "<!-- Generated by graphviz version 2.36.0 (20140111.2315)\n",
        " -->\n",
        "<!-- Title: G Pages: 1 -->\n",
        "<svg width=\"187pt\" height=\"248pt\"\n",
        " viewBox=\"0.00 0.00 187.00 248.00\" xmlns=\"http://www.w3.org/2000/svg\" xmlns:xlink=\"http://www.w3.org/1999/xlink\">\n",
        "<g id=\"graph0\" class=\"graph\" transform=\"scale(1 1) rotate(0) translate(4 244)\">\n",
        "<title>G</title>\n",
        "<polygon fill=\"white\" stroke=\"none\" points=\"-4,4 -4,-244 183,-244 183,4 -4,4\"/>\n",
        "<!-- 16238009394286179955 -->\n",
        "<g id=\"node1\" class=\"node\"><title>16238009394286179955</title>\n",
        "<polygon fill=\"lightgrey\" stroke=\"black\" points=\"96.5,-54 39.5,-54 39.5,-0 96.5,-0 96.5,-54\"/>\n",
        "<text text-anchor=\"middle\" x=\"68\" y=\"-24.8\" font-family=\"Times,serif\" font-size=\"9.00\">unnamed12</text>\n",
        "</g>\n",
        "<!-- 11726596487107013722 -->\n",
        "<g id=\"node2\" class=\"node\"><title>11726596487107013722</title>\n",
        "<polygon fill=\"none\" stroke=\"black\" points=\"104,-190 32,-190 32,-118 104,-118 104,-190\"/>\n",
        "<text text-anchor=\"middle\" x=\"68\" y=\"-156.8\" font-family=\"Times,serif\" font-size=\"9.00\">GaussianNode</text>\n",
        "<text text-anchor=\"middle\" x=\"68\" y=\"-146.8\" font-family=\"Times,serif\" font-size=\"9.00\">unnamed9</text>\n",
        "</g>\n",
        "<!-- 11726596487107013722&#45;&gt;16238009394286179955 -->\n",
        "<g id=\"edge1\" class=\"edge\"><title>11726596487107013722&#45;&gt;16238009394286179955</title>\n",
        "<path fill=\"none\" stroke=\"black\" d=\"M68,-117.848C68,-101.104 68,-81.0982 68,-64.2192\"/>\n",
        "<polygon fill=\"none\" stroke=\"black\" points=\"71.5001,-64.1708 68,-54.1708 64.5001,-64.1708 71.5001,-64.1708\"/>\n",
        "<text text-anchor=\"middle\" x=\"123.5\" y=\"-93.1\" font-family=\"Times,serif\" font-size=\"8.00\">FW: \u25cb</text>\n",
        "<text text-anchor=\"middle\" x=\"123.5\" y=\"-84.1\" font-family=\"Times,serif\" font-size=\"8.00\">BW: \u25cb</text>\n",
        "<text text-anchor=\"middle\" x=\"123.5\" y=\"-75.1\" font-family=\"Times,serif\" font-size=\"8.00\">Distribution: GaussianDistribution</text>\n",
        "<text text-anchor=\"middle\" x=\"60\" y=\"-56.7708\" font-family=\"Times,serif\" font-size=\"8.00\">1 out</text>\n",
        "<text text-anchor=\"middle\" x=\"60\" y=\"-111.448\" font-family=\"Times,serif\" font-size=\"8.00\">3 out</text>\n",
        "</g>\n",
        "<!-- 10008095164550049604 -->\n",
        "<g id=\"node3\" class=\"node\"><title>10008095164550049604</title>\n",
        "</g>\n",
        "<!-- 10008095164550049604&#45;&gt;11726596487107013722 -->\n",
        "<g id=\"edge2\" class=\"edge\"><title>10008095164550049604&#45;&gt;11726596487107013722</title>\n",
        "<path fill=\"none\" stroke=\"red\" stroke-dasharray=\"5,2\" d=\"M8.75227,-228.354C13.7501,-222.167 23.1099,-210.578 32.9383,-198.41\"/>\n",
        "<polygon fill=\"none\" stroke=\"red\" points=\"35.8628,-200.359 39.4234,-190.381 30.4172,-195.961 35.8628,-200.359\"/>\n",
        "<text text-anchor=\"middle\" x=\"22.4234\" y=\"-192.981\" font-family=\"Times,serif\" font-size=\"8.00\">2 variance</text>\n",
        "<text text-anchor=\"middle\" x=\"5.25227\" y=\"-221.954\" font-family=\"Times,serif\" font-size=\"8.00\">3 </text>\n",
        "</g>\n",
        "<!-- 11304750720291223643 -->\n",
        "<g id=\"node4\" class=\"node\"><title>11304750720291223643</title>\n",
        "</g>\n",
        "<!-- 11304750720291223643&#45;&gt;11726596487107013722 -->\n",
        "<g id=\"edge3\" class=\"edge\"><title>11304750720291223643&#45;&gt;11726596487107013722</title>\n",
        "<path fill=\"none\" stroke=\"red\" stroke-dasharray=\"5,2\" d=\"M127.248,-228.354C122.25,-222.167 112.89,-210.578 103.062,-198.41\"/>\n",
        "<polygon fill=\"none\" stroke=\"red\" points=\"105.583,-195.961 96.5766,-190.381 100.137,-200.359 105.583,-195.961\"/>\n",
        "<text text-anchor=\"middle\" x=\"84.5766\" y=\"-192.981\" font-family=\"Times,serif\" font-size=\"8.00\">1 mean</text>\n",
        "<text text-anchor=\"middle\" x=\"123.748\" y=\"-221.954\" font-family=\"Times,serif\" font-size=\"8.00\">3 </text>\n",
        "</g>\n",
        "</g>\n",
        "</svg>\n"
       ]
      }
     ],
     "prompt_number": 3
    },
    {
     "cell_type": "markdown",
     "metadata": {},
     "source": [
      "Now we can iteratively execute these schedules and inspect the results. "
     ]
    },
    {
     "cell_type": "code",
     "collapsed": false,
     "input": [
      "step(algo)\n",
      "\n",
      "# Inspect the results\n",
      "println(\"True mean: $(true_mean)\")\n",
      "println(\"True variance: $(true_variance)\")\n",
      "println(\"Number of samples: $(length(y_observations))\")\n",
      "println(\"Sample mean: $(mean(y_observations))\")\n",
      "println(\"Sample variance: $(var(y_observations))\")\n",
      "println(\"\\n----- Estimation after $(n_its) VMP updates -----\")\n",
      "println(\"Mean estimate: $(mean(m_out[end])[1]), with variance $(var(m_out[end])[1, 1])\")\n",
      "println(\"Variance estimate: $(mean(s_out[end])), with variance $(var(s_out[end]))\")"
     ],
     "language": "python",
     "metadata": {},
     "outputs": [
      {
       "output_type": "stream",
       "stream": "stdout",
       "text": [
        "True mean: 5.0\n"
       ]
      },
      {
       "output_type": "stream",
       "stream": "stdout",
       "text": [
        "True variance: 2.0\n",
        "Number of samples: 20\n",
        "Sample mean: 4.661454909457643\n",
        "Sample variance: 1.382369484516332\n",
        "\n",
        "----- Estimation after 50 VMP updates -----\n",
        "Mean estimate: 4.659561672473159, with variance 0.040614722683339814\n",
        "Variance estimate: 1.5037395308780617, with variance 0.2823011955961764\n"
       ]
      }
     ],
     "prompt_number": 4
    }
   ],
   "metadata": {}
  }
 ]
}