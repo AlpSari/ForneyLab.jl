{
 "cells": [
  {
   "cell_type": "markdown",
   "metadata": {},
   "source": [
    "Naive variational message passing demo\n",
    "===\n",
    "\n",
    "ForneyLab comes with support for variational message passing (VMP). Variational methods often involve complicated and extensive derivations. VMP on a factor graph eases our derivation troubles by expressing the variational algorithm in terms of local update rules. In his 2007 article, Dauwels gives a generic introduction to VMP on a factor graph. ForneyLab implements this VMP approach.\n",
    "\n",
    "In this demo we illustrate VMP by estimating the mean and variance of samples drawn from a Gaussian distribution. The factor graph below shows our generative model. We observe the samples $y = \\{y_1, ..., y_k, ..., y_n\\}$ and wish to estimate the posterior distribution over the mean $m$ and variance $s$ of these samples. We use the factor graph notation of (Reller, 2012; State-space methods in statistical signal processing) where filled black nodes represent observed variables and dotted arcs denote the repetition of a section.\n",
    "\n",
    "<img src=\"images/gauss_est.png\">\n",
    "\n",
    "For estimation we use a variational message passing algorithm with a mean field factorized distribution over our variables $q(m,s,y) = q(m)\\,q(s)\\,q(y)$.\n",
    "\n",
    "We start by building the graph."
   ]
  },
  {
   "cell_type": "code",
   "execution_count": 1,
   "metadata": {
    "collapsed": false
   },
   "outputs": [],
   "source": [
    "using(ForneyLab)\n",
    "\n",
    "# Initial settings\n",
    "N              = 20 # Number of observed samples\n",
    "n_its          = 50 # Number of vmp iterations\n",
    "true_mean      = 5.0\n",
    "true_variance  = 2.0\n",
    "y_observations = sqrt(true_variance)*randn(N) + true_mean # y observation buffer\n",
    "\n",
    "# Build graph\n",
    "for k=1:N\n",
    "    GaussianNode(id=:g*k) # s() for symbol concatenation\n",
    "    EqualityNode(id=:m_eq*k) # Equality node chain for mean\n",
    "    EqualityNode(id=:s_eq*k) # Equality node chain for variance\n",
    "    TerminalNode(y_observations[k], id=:y*k) # Observed y values are stored in terminal node values\n",
    "\n",
    "    Edge(n(:g*k).i[:out], n(:y*k), id=:y*k)\n",
    "    Edge(n(:m_eq*k).i[3], n(:g*k).i[:mean], id=:m*k)\n",
    "    Edge(n(:s_eq*k).i[3], n(:g*k).i[:variance], id=:s*k)\n",
    "    if k > 1 # Connect sections\n",
    "        Edge(n(:m_eq*(k-1)).i[2], n(:m_eq*k).i[1])\n",
    "        Edge(n(:s_eq*(k-1)).i[2], n(:s_eq*k).i[1])\n",
    "    end\n",
    "end\n",
    "\n",
    "# Attach beginning and end nodes\n",
    "PriorNode(GaussianDistribution(m=0.0, V=100.0), id=:m0) # Prior\n",
    "PriorNode(InverseGammaDistribution(a=0.01, b=0.01), id=:s0) # Prior\n",
    "TerminalNode(vague(GaussianDistribution), id=:mN) # Vague distribution\n",
    "TerminalNode(vague(InverseGammaDistribution), id=:sN) # Vague distribution\n",
    "\n",
    "Edge(n(:m0), n(:m_eq1).i[1])\n",
    "Edge(n(:s0), n(:s_eq1).i[1])\n",
    "Edge(n(:m_eq*N).i[2], n(:mN))\n",
    "Edge(n(:s_eq*N).i[2], n(:sN));"
   ]
  },
  {
   "cell_type": "markdown",
   "metadata": {},
   "source": [
    "The estimation results are vailable after the last section. We set write buffers to collect these results."
   ]
  },
  {
   "cell_type": "code",
   "execution_count": 2,
   "metadata": {
    "collapsed": false
   },
   "outputs": [],
   "source": [
    "# Specify some write buffers\n",
    "m_out = attachWriteBuffer(n(:mN).i[:out].partner)\n",
    "s_out = attachWriteBuffer(n(:sN).i[:out].partner);"
   ]
  },
  {
   "cell_type": "markdown",
   "metadata": {},
   "source": [
    "We specify a variational Bayes algorithm with a naive (mean field) factorization. The factorization is passed as a dictionary of edges. Separate dictionary entries assign separate distribution types. The distribution type is assigned to each entry in the edge vector."
   ]
  },
  {
   "cell_type": "code",
   "execution_count": 3,
   "metadata": {
    "collapsed": false
   },
   "outputs": [
    {
     "name": "stdout",
     "output_type": "stream",
     "text": [
      "VariationalBayes inference algorithm\n",
      "    number of factors: 22\n",
      "    number of iterations: 50\n"
     ]
    }
   ],
   "source": [
    "# Specify the variational algorithm for n_its vmp iterations\n",
    "algo = VariationalBayes(Dict(   eg(:m*(1:N)) => GaussianDistribution,\n",
    "                                eg(:s*(1:N)) => InverseGammaDistribution,\n",
    "                                eg(:y*(1:N)) => GaussianDistribution),\n",
    "                        n_iterations=n_its)\n",
    "\n",
    "show(algo)"
   ]
  },
  {
   "cell_type": "code",
   "execution_count": 4,
   "metadata": {
    "collapsed": false
   },
   "outputs": [
    {
     "data": {
      "text/html": [
       "<?xml version=\"1.0\" encoding=\"UTF-8\" standalone=\"no\"?>\n",
       "<!DOCTYPE svg PUBLIC \"-//W3C//DTD SVG 1.1//EN\"\n",
       " \"http://www.w3.org/Graphics/SVG/1.1/DTD/svg11.dtd\">\n",
       "<!-- Generated by graphviz version 2.36.0 (20140111.2315)\n",
       " -->\n",
       "<!-- Title: G Pages: 1 -->\n",
       "<svg width=\"145pt\" height=\"218pt\"\n",
       " viewBox=\"0.00 0.00 145.25 218.00\" xmlns=\"http://www.w3.org/2000/svg\" xmlns:xlink=\"http://www.w3.org/1999/xlink\">\n",
       "<g id=\"graph0\" class=\"graph\" transform=\"scale(1 1) rotate(0) translate(4 214)\">\n",
       "<title>G</title>\n",
       "<polygon fill=\"white\" stroke=\"none\" points=\"-4,4 -4,-214 141.248,-214 141.248,4 -4,4\"/>\n",
       "<!-- 15111035671531561549 -->\n",
       "<g id=\"node1\" class=\"node\"><title>15111035671531561549</title>\n",
       "<polygon fill=\"none\" stroke=\"black\" points=\"105.248,-162 33.2477,-162 33.2477,-90 105.248,-90 105.248,-162\"/>\n",
       "<text text-anchor=\"middle\" x=\"69.2477\" y=\"-128.8\" font-family=\"Times,serif\" font-size=\"9.00\">N{:moment}</text>\n",
       "<text text-anchor=\"middle\" x=\"69.2477\" y=\"-118.8\" font-family=\"Times,serif\" font-size=\"9.00\">g1</text>\n",
       "</g>\n",
       "<!-- 14649978957315707822 -->\n",
       "<g id=\"node2\" class=\"node\"><title>14649978957315707822</title>\n",
       "<polygon fill=\"lightgrey\" stroke=\"black\" points=\"96.2477,-54 42.2477,-54 42.2477,-0 96.2477,-0 96.2477,-54\"/>\n",
       "<text text-anchor=\"middle\" x=\"69.2477\" y=\"-24.8\" font-family=\"Times,serif\" font-size=\"9.00\">y1</text>\n",
       "</g>\n",
       "<!-- 15111035671531561549&#45;&gt;14649978957315707822 -->\n",
       "<g id=\"edge1\" class=\"edge\"><title>15111035671531561549&#45;&gt;14649978957315707822</title>\n",
       "<path fill=\"none\" stroke=\"black\" d=\"M69.2477,-89.9808C69.2477,-81.6627 69.2477,-72.77 69.2477,-64.3922\"/>\n",
       "<polygon fill=\"none\" stroke=\"black\" points=\"72.7478,-64.1377 69.2477,-54.1378 65.7478,-64.1378 72.7478,-64.1377\"/>\n",
       "<text text-anchor=\"middle\" x=\"61.2477\" y=\"-56.7378\" font-family=\"Times,serif\" font-size=\"8.00\">1 out</text>\n",
       "<text text-anchor=\"middle\" x=\"61.2477\" y=\"-83.5808\" font-family=\"Times,serif\" font-size=\"8.00\">3 out</text>\n",
       "</g>\n",
       "<!-- 14334599484830954835 -->\n",
       "<g id=\"node3\" class=\"node\"><title>14334599484830954835</title>\n",
       "</g>\n",
       "<!-- 14334599484830954835&#45;&gt;15111035671531561549 -->\n",
       "<g id=\"edge3\" class=\"edge\"><title>14334599484830954835&#45;&gt;15111035671531561549</title>\n",
       "<path fill=\"none\" stroke=\"red\" stroke-dasharray=\"5,2\" d=\"M10,-198.473C14.8642,-192.606 23.8601,-181.753 33.3984,-170.247\"/>\n",
       "<polygon fill=\"none\" stroke=\"red\" points=\"36.3571,-172.162 40.0444,-162.229 30.9679,-167.695 36.3571,-172.162\"/>\n",
       "<text text-anchor=\"middle\" x=\"23.0444\" y=\"-164.829\" font-family=\"Times,serif\" font-size=\"8.00\">2 variance</text>\n",
       "<text text-anchor=\"middle\" x=\"5\" y=\"-192.073\" font-family=\"Times,serif\" font-size=\"8.00\">3 3</text>\n",
       "</g>\n",
       "<!-- 3288622690981807556 -->\n",
       "<g id=\"node4\" class=\"node\"><title>3288622690981807556</title>\n",
       "</g>\n",
       "<!-- 3288622690981807556&#45;&gt;15111035671531561549 -->\n",
       "<g id=\"edge2\" class=\"edge\"><title>3288622690981807556&#45;&gt;15111035671531561549</title>\n",
       "<path fill=\"none\" stroke=\"red\" stroke-dasharray=\"5,2\" d=\"M128.495,-198.473C123.631,-192.606 114.635,-181.753 105.097,-170.247\"/>\n",
       "<polygon fill=\"none\" stroke=\"red\" points=\"107.528,-167.695 98.4511,-162.229 102.138,-172.162 107.528,-167.695\"/>\n",
       "<text text-anchor=\"middle\" x=\"86.4511\" y=\"-164.829\" font-family=\"Times,serif\" font-size=\"8.00\">1 mean</text>\n",
       "<text text-anchor=\"middle\" x=\"123.495\" y=\"-192.073\" font-family=\"Times,serif\" font-size=\"8.00\">3 3</text>\n",
       "</g>\n",
       "</g>\n",
       "</svg>\n"
      ]
     },
     "metadata": {},
     "output_type": "display_data"
    }
   ],
   "source": [
    "draw(algo.factorization.factors[3])"
   ]
  },
  {
   "cell_type": "markdown",
   "metadata": {},
   "source": [
    "Now we can iteratively execute these schedules and inspect the results. "
   ]
  },
  {
   "cell_type": "code",
   "execution_count": 5,
   "metadata": {
    "collapsed": false
   },
   "outputs": [
    {
     "name": "stdout",
     "output_type": "stream",
     "text": [
      "True mean: 5.0\n",
      "True variance: 2.0\n",
      "Number of samples: 20\n",
      "Sample mean: 4.86\n",
      "Sample variance: 2.46\n",
      "\n",
      "----- Estimation after 50 VMP updates -----\n",
      "Mean estimate: 4.86, with variance 0.03\n",
      "Variance estimate: 2.62, with variance 0.86\n"
     ]
    }
   ],
   "source": [
    "run(algo)\n",
    "\n",
    "# Inspect the results\n",
    "println(\"True mean: $(true_mean)\")\n",
    "println(\"True variance: $(true_variance)\")\n",
    "println(\"Number of samples: $(length(y_observations))\")\n",
    "println(\"Sample mean: $(round(mean(y_observations),2))\")\n",
    "println(\"Sample variance: $(round(var(y_observations),2))\")\n",
    "println(\"\\n----- Estimation after $(n_its) VMP updates -----\")\n",
    "println(\"Mean estimate: $(round(mean(m_out[end])[1],2)), with variance $(round(var(m_out[end])[1, 1],2))\")\n",
    "println(\"Variance estimate: $(round(mean(s_out[end]),2)), with variance $(round(var(s_out[end]),2))\")"
   ]
  },
  {
   "cell_type": "code",
   "execution_count": null,
   "metadata": {
    "collapsed": true
   },
   "outputs": [],
   "source": []
  }
 ],
 "metadata": {
  "kernelspec": {
   "display_name": "Julia 0.4.0",
   "language": "julia",
   "name": "julia-0.4"
  },
  "language_info": {
   "file_extension": ".jl",
   "mimetype": "application/julia",
   "name": "julia",
   "version": "0.4.0"
  }
 },
 "nbformat": 4,
 "nbformat_minor": 0
}
