{
 "cells": [
  {
   "cell_type": "markdown",
   "metadata": {},
   "source": [
    "Naive variational message passing demo\n",
    "===\n",
    "\n",
    "ForneyLab comes with support for variational message passing (VMP). Variational methods often involve complicated and extensive derivations. VMP on a factor graph eases our derivation troubles by expressing the variational algorithm in terms of local update rules. In his 2007 article, Dauwels gives a generic introduction to VMP on a factor graph. ForneyLab implements this VMP approach.\n",
    "\n",
    "In this demo we illustrate VMP by estimating the mean and variance of samples drawn from a Gaussian distribution. The factor graph below shows our generative model. We observe the samples $y = \\{y_1, ..., y_k, ..., y_n\\}$ and wish to estimate the posterior distribution over the mean and variance given these samples. We use the factor graph notation of (Reller, 2012; State-space methods in statistical signal processing) where filled black nodes represent observed variables and dotted arcs denote the repetition of a section.\n",
    "\n",
    "<img src=\"images/gauss_est.png\">\n",
    "\n",
    "For estimation we use a variational message passing algorithm with a mean field factorized distribution over our variables $q(m,s,y) = q(m)\\,q(s)\\,q(y)$.\n",
    "\n",
    "We start by building the graph."
   ]
  },
  {
   "cell_type": "code",
   "execution_count": 1,
   "metadata": {
    "collapsed": false
   },
   "outputs": [
    {
     "ename": "LoadError",
     "evalue": "`node` has no method matching node(::Symbol, ::Int64)\nwhile loading In[1], in expression starting on line 11",
     "output_type": "error",
     "traceback": [
      "`node` has no method matching node(::Symbol, ::Int64)\nwhile loading In[1], in expression starting on line 11",
      "",
      " in anonymous at no file:16"
     ]
    }
   ],
   "source": [
    "using(ForneyLab)\n",
    "\n",
    "# Initial settings\n",
    "n_samples      = 20 # Number of observed samples\n",
    "n_its          = 50 # Number of vmp iterations\n",
    "true_mean      = 5.0\n",
    "true_variance  = 2.0\n",
    "y_observations = sqrt(true_variance)*randn(n_samples) + true_mean # y observation buffer\n",
    "\n",
    "# Build graph\n",
    "for sec=1:n_samples\n",
    "    GaussianNode(id=:g*sec) # s() for symbol concatenation\n",
    "    EqualityNode(id=:m_eq*sec) # Equality node chain for mean\n",
    "    EqualityNode(id=:s_eq*sec) # Equality node chain for variance\n",
    "    TerminalNode(DeltaDistribution(y_observations[sec]), id=:y*sec) # Observed y values are stored in terminal node values\n",
    "    Edge(n(:g,sec).i[:out], n(:y,sec), GaussianDistribution)\n",
    "    Edge(n(:m_eq,sec).i[3], n(:g,sec).i[:mean], GaussianDistribution)\n",
    "    Edge(n(:s_eq,sec).i[3], n(:g,sec).i[:variance], InverseGammaDistribution)\n",
    "    if sec > 1 # Connect sections\n",
    "        Edge(n(:m_eq,sec-1).i[2], n(:m_eq,sec).i[1], GaussianDistribution)\n",
    "        Edge(n(:s_eq,sec-1).i[2], n(:s_eq,sec).i[1], InverseGammaDistribution)\n",
    "    end\n",
    "end\n",
    "# Attach beginning and end nodes\n",
    "PriorNode(GaussianDistribution(m=0.0, V=100.0), id=:m0) # Prior\n",
    "PriorNode(InverseGammaDistribution(a=0.01, b=0.01), id=:s0) # Prior\n",
    "TerminalNode(vague(GaussianDistribution), id=:mN) # Uninformative distribution\n",
    "TerminalNode(vague(InverseGammaDistribution), id=:sN) # Uninformative distribution\n",
    "Edge(n(:m0), n(:m_eq1).i[1], GaussianDistribution)\n",
    "Edge(n(:s0), n(:s_eq1).i[1], InverseGammaDistribution)\n",
    "Edge(n(:m_eq,n_samples).i[2], n(:mN), GaussianDistribution)\n",
    "Edge(n(:s_eq,n_samples).i[2], n(:sN), InverseGammaDistribution);"
   ]
  },
  {
   "cell_type": "markdown",
   "metadata": {},
   "source": [
    "Next we need to specify the variational inference procedure. This sounds like a lot of work, but it can be accomlished automatically."
   ]
  },
  {
   "cell_type": "code",
   "execution_count": 2,
   "metadata": {
    "collapsed": false
   },
   "outputs": [
    {
     "ename": "LoadError",
     "evalue": "key not found: :mN\nwhile loading In[2], in expression starting on line 2",
     "output_type": "error",
     "traceback": [
      "key not found: :mN\nwhile loading In[2], in expression starting on line 2",
      "",
      " in node at /home/marco/.julia/v0.3/ForneyLab/src/factor_graph.jl:78 (repeats 2 times)"
     ]
    }
   ],
   "source": [
    "# Specify some write buffers\n",
    "m_out = attachWriteBuffer(n(:mN).i[:out].partner)\n",
    "s_out = attachWriteBuffer(n(:sN).i[:out].partner)\n",
    "\n",
    "# Specify the variational algorithm for n_its vmp iterations\n",
    "algo = VMP.Algorithm(n_iterations=n_its)"
   ]
  },
  {
   "cell_type": "markdown",
   "metadata": {},
   "source": [
    "Under the hood, the `VMP.Algorithm()` constructor performs a mean field factorization, generates a schedule towards wraps and write buffers, and initializes vague q-distributions.\n",
    "\n",
    "We can visualize a subgraph of one factor with the `draw(::Subgraph)` function. The external edges of the subgraph are then denoted by red dashed arrows. "
   ]
  },
  {
   "cell_type": "code",
   "execution_count": 3,
   "metadata": {
    "collapsed": false
   },
   "outputs": [
    {
     "ename": "LoadError",
     "evalue": "algo not defined\nwhile loading In[3], in expression starting on line 1",
     "output_type": "error",
     "traceback": [
      "algo not defined\nwhile loading In[3], in expression starting on line 1",
      ""
     ]
    }
   ],
   "source": [
    "draw(algo.fields[:factorization].factors[3])"
   ]
  },
  {
   "cell_type": "markdown",
   "metadata": {},
   "source": [
    "Now we can iteratively execute these schedules and inspect the results. "
   ]
  },
  {
   "cell_type": "code",
   "execution_count": 4,
   "metadata": {
    "collapsed": false
   },
   "outputs": [
    {
     "ename": "LoadError",
     "evalue": "algo not defined\nwhile loading In[4], in expression starting on line 1",
     "output_type": "error",
     "traceback": [
      "algo not defined\nwhile loading In[4], in expression starting on line 1",
      ""
     ]
    }
   ],
   "source": [
    "step(algo)\n",
    "\n",
    "# Inspect the results\n",
    "println(\"True mean: $(true_mean)\")\n",
    "println(\"True variance: $(true_variance)\")\n",
    "println(\"Number of samples: $(length(y_observations))\")\n",
    "println(\"Sample mean: $(round(mean(y_observations),2))\")\n",
    "println(\"Sample variance: $(round(var(y_observations),2))\")\n",
    "println(\"\\n----- Estimation after $(n_its) VMP updates -----\")\n",
    "println(\"Mean estimate: $(round(mean(m_out[end])[1],2)), with variance $(round(var(m_out[end])[1, 1],2))\")\n",
    "println(\"Variance estimate: $(round(mean(s_out[end]),2)), with variance $(round(var(s_out[end]),2))\")"
   ]
  },
  {
   "cell_type": "code",
   "execution_count": 5,
   "metadata": {
    "collapsed": true
   },
   "outputs": [],
   "source": []
  }
 ],
 "metadata": {
  "kernelspec": {
   "display_name": "Julia 0.3.7",
   "language": "julia",
   "name": "julia 0.3"
  },
  "language_info": {
   "name": "julia",
   "version": "0.3.7"
  }
 },
 "nbformat": 4,
 "nbformat_minor": 0
}