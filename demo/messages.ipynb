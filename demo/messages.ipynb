{
 "metadata": {
  "language": "Julia",
  "name": "",
  "signature": "sha256:222315d1c49f9ae953cbf4abba5f05ab93926f8981c084cd68f2383edc0c479c"
 },
 "nbformat": 3,
 "nbformat_minor": 0,
 "worksheets": [
  {
   "cells": [
    {
     "cell_type": "markdown",
     "metadata": {},
     "source": [
      "Message types documentation\n",
      "===========================\n",
      "\n",
      "This notebook lists and describes all built-in message types in ForneyLab.jl. Message-specific functions are also covered.\n",
      "\n",
      "Currently, ForneyLab.jl comes with the following built-in message types (sorted alphabetically):\n",
      "- **[GaussianMessage](#gaussianmessage)**: encodes an univariate or multivariate Gaussian PDF\n",
      "- **[GeneralMessage](#generalmessage)**: carries an arbitrary object (i.e. scalar or matrix) as payload"
     ]
    },
    {
     "cell_type": "markdown",
     "metadata": {},
     "source": [
      "<a name=\"gaussianmessage\"></a>`GaussianMessage`\n",
      "---------------\n",
      "---\n",
      "Implemented in file: `/src/messages.jl`.\n",
      "\n",
      "A `GaussianMessage` encodes a univariate or multivariate Gaussian probability density function. A Gaussian PDF can be parametrized in various ways. `GaussianMessage` allows 4 different parametrizations:\n",
      "- $(\\mathbf{m},\\mathbf{V})$ parametrization. $\\mathbf{m}$ is the mean vector and $\\mathbf{V}$ is the covariance matrix. In case of a univariate distribution, $\\mathbf{m}$ has length 1 and $\\mathbf{V}$ is a $1 \\times 1$ matrix.\n",
      "- $(\\mathbf{m},\\mathbf{W})$ parametrization. $\\mathbf{m}$ is the mean vector and $\\mathbf{W}$ is the weight matrix. If $\\mathbf{W}^{-1}$ exists, then it holds that $\\mathbf{V}=\\mathbf{W}^{-1}$.\n",
      "- $(\\mathbf{\\xi},\\mathbf{V})$ parametrization. $\\mathbf{\\xi}$ is the weighted mean vector: $\\mathbf{\\xi} = \\mathbf{W}\\mathbf{m}$. Also, $\\mathbf{m} = \\mathbf{V}\\mathbf{\\xi}$.\n",
      "- $(\\mathbf{\\xi},\\mathbf{W})$ parametrization.\n",
      "\n",
      "Depending on the required operations, different parametrizations will be convenient. \n",
      "\n",
      "A GaussianMessage is constructed by passing valid parameter values to the constructor. Some examples:"
     ]
    },
    {
     "cell_type": "code",
     "collapsed": false,
     "input": [
      "using ForneyLab\n",
      "univariate_gaussian_msg1 = GaussianMessage(m=[0.0], V=[1.0])"
     ],
     "language": "python",
     "metadata": {},
     "outputs": [
      {
       "metadata": {},
       "output_type": "pyout",
       "prompt_number": 1,
       "text": [
        "GaussianMessage\n",
        "m  = [0.0]\n",
        "V  = 1x1 Array{Float64,2}:\n",
        " 1.0\n",
        "W  = nothing\n",
        "xi = nothing\n"
       ]
      }
     ],
     "prompt_number": 1
    },
    {
     "cell_type": "code",
     "collapsed": false,
     "input": [
      "univariate_gaussian_msg2 = GaussianMessage(xi=[2.0], W=[0.5])"
     ],
     "language": "python",
     "metadata": {},
     "outputs": [
      {
       "metadata": {},
       "output_type": "pyout",
       "prompt_number": 2,
       "text": [
        "GaussianMessage\n",
        "m  = nothing\n",
        "V  = nothing\n",
        "W  = 1x1 Array{Float64,2}:\n",
        " 0.5\n",
        "xi = [2.0]\n"
       ]
      }
     ],
     "prompt_number": 2
    },
    {
     "cell_type": "code",
     "collapsed": false,
     "input": [
      "multivariate_gaussian_msg1 = GaussianMessage(m=[0.0, 2.0], V=0.5*eye(2,2))"
     ],
     "language": "python",
     "metadata": {},
     "outputs": [
      {
       "metadata": {},
       "output_type": "pyout",
       "prompt_number": 3,
       "text": [
        "GaussianMessage\n",
        "m  = [0.0,2.0]\n",
        "V  = 2x2 Array{Float64,2}:\n",
        " 0.5  0.0\n",
        " 0.0  0.5\n",
        "W  = nothing\n",
        "xi = nothing\n"
       ]
      }
     ],
     "prompt_number": 3
    },
    {
     "cell_type": "markdown",
     "metadata": {},
     "source": [
      "If no parameter values are passed, default values will be used:"
     ]
    },
    {
     "cell_type": "code",
     "collapsed": false,
     "input": [
      "GaussianMessage()"
     ],
     "language": "python",
     "metadata": {},
     "outputs": [
      {
       "metadata": {},
       "output_type": "pyout",
       "prompt_number": 4,
       "text": [
        "GaussianMessage\n",
        "m  = [0.0]\n",
        "V  = 1x1 Array{Float64,2}:\n",
        " 1.0\n",
        "W  = nothing\n",
        "xi = nothing\n"
       ]
      }
     ],
     "prompt_number": 4
    },
    {
     "cell_type": "markdown",
     "metadata": {},
     "source": [
      "To inspect the contents of a `GaussianMessage`, use:"
     ]
    },
    {
     "cell_type": "code",
     "collapsed": false,
     "input": [
      "show(univariate_gaussian_msg2)"
     ],
     "language": "python",
     "metadata": {},
     "outputs": [
      {
       "output_type": "stream",
       "stream": "stdout",
       "text": [
        "GaussianMessage\n"
       ]
      },
      {
       "output_type": "stream",
       "stream": "stdout",
       "text": [
        "m  = nothing\n",
        "V  = nothing\n",
        "W  = 1x1 Array{Float64,2}:\n",
        " 0.5\n",
        "xi = [2.0]\n"
       ]
      }
     ],
     "prompt_number": 5
    },
    {
     "cell_type": "markdown",
     "metadata": {},
     "source": [
      "###Converting parametrizations\n",
      "\n",
      "ForneyLab.jl provides functions to convert the parametrization of a `GaussianMessage`. This is useful if you for example need the mean vector of a `GaussianMessage` in $(\\mathbf{\\xi},\\mathbf{W})$ parametrization.\n",
      "\n",
      "The following parametrization conversion functions are available:\n",
      "- `ensureMVParametrization!(msg::GaussianMessage)`: calculate $(\\mathbf{m},\\mathbf{V})$ parameters.\n",
      "- `ensureMWParametrization!(msg::GaussianMessage)`: calculate $(\\mathbf{m},\\mathbf{W})$ parameters.\n",
      "- `ensureXiVParametrization!(msg::GaussianMessage)`: calculate $(\\mathbf{\\xi},\\mathbf{V})$ parameters.\n",
      "- `ensureXiWParametrization!(msg::GaussianMessage)`: calculate $(\\mathbf{\\xi},\\mathbf{W})$ parameters.\n",
      "\n",
      "The message is modified, and a reference to the message is also returned. The old parameters are still valid, so they won't be deleted. Example:"
     ]
    },
    {
     "cell_type": "code",
     "collapsed": false,
     "input": [
      "show(univariate_gaussian_msg2)\n",
      "ensureMVParametrization!(univariate_gaussian_msg2)\n",
      "show(univariate_gaussian_msg2)"
     ],
     "language": "python",
     "metadata": {},
     "outputs": [
      {
       "output_type": "stream",
       "stream": "stdout",
       "text": [
        "GaussianMessage\n"
       ]
      },
      {
       "output_type": "stream",
       "stream": "stdout",
       "text": [
        "m  = nothing\n",
        "V  = nothing\n",
        "W  = 1x1 Array{Float64,2}:\n",
        " 0.5\n",
        "xi = [2.0]\n",
        "GaussianMessage"
       ]
      },
      {
       "output_type": "stream",
       "stream": "stdout",
       "text": [
        "\n",
        "m  = [4.0]\n",
        "V  = 1x1 Array{Float64,2}:\n",
        " 2.0\n",
        "W  = 1x1 Array{Float64,2}:\n",
        " 0.5\n",
        "xi = [2.0]\n"
       ]
      }
     ],
     "prompt_number": 6
    },
    {
     "cell_type": "markdown",
     "metadata": {},
     "source": [
      "If a `GaussianMessage` is 'over-parametrized', the values of the different parameters should be consistent. For example, it should always hold that $\\mathbf{W}=\\mathbf{V}^{-1}$ and $\\mathbf{\\xi} = \\mathbf{W}\\mathbf{m}$. To check the consistency of a `GaussianMessage`, use the `isConsistent(msg::GaussianMessage)` function:"
     ]
    },
    {
     "cell_type": "code",
     "collapsed": false,
     "input": [
      "isConsistent(univariate_gaussian_msg2)"
     ],
     "language": "python",
     "metadata": {},
     "outputs": [
      {
       "metadata": {},
       "output_type": "pyout",
       "prompt_number": 7,
       "text": [
        "true"
       ]
      }
     ],
     "prompt_number": 7
    },
    {
     "cell_type": "markdown",
     "metadata": {},
     "source": [
      "<a name=\"generalmessage\"></a>`GeneralMessage`\n",
      "---------------------------------------------\n",
      "---\n",
      "Implemented in file: `/src/messages.jl`.\n",
      "\n",
      "A `GeneralMessage` can hold an arbitrary payload, for example a scalar, a matrix or a self-defined type. \n",
      "To create a `GeneralMessage`, simply pass the desired payload to the constructor. The payload is stored in the `value` field of the message. Example:"
     ]
    },
    {
     "cell_type": "code",
     "collapsed": false,
     "input": [
      "general_msg = GeneralMessage(1.0)"
     ],
     "language": "python",
     "metadata": {},
     "outputs": [
      {
       "metadata": {},
       "output_type": "pyout",
       "prompt_number": 8,
       "text": [
        "GeneralMessage with value = 1.0"
       ]
      },
      {
       "output_type": "stream",
       "stream": "stdout",
       "text": [
        "\n"
       ]
      }
     ],
     "prompt_number": 8
    },
    {
     "cell_type": "code",
     "collapsed": false,
     "input": [
      "show(general_msg.value)"
     ],
     "language": "python",
     "metadata": {},
     "outputs": [
      {
       "output_type": "stream",
       "stream": "stdout",
       "text": [
        "1.0"
       ]
      }
     ],
     "prompt_number": 9
    },
    {
     "cell_type": "code",
     "collapsed": false,
     "input": [
      "general_msg_vector = GeneralMessage([1.0, 2.0, 3.0])"
     ],
     "language": "python",
     "metadata": {},
     "outputs": [
      {
       "metadata": {},
       "output_type": "pyout",
       "prompt_number": 10,
       "text": [
        "GeneralMessage with value = [1.0,2.0,3.0]"
       ]
      },
      {
       "output_type": "stream",
       "stream": "stdout",
       "text": [
        "\n"
       ]
      }
     ],
     "prompt_number": 10
    },
    {
     "cell_type": "markdown",
     "metadata": {},
     "source": [
      "The default payload is 1.0:"
     ]
    },
    {
     "cell_type": "code",
     "collapsed": false,
     "input": [
      "GeneralMessage()"
     ],
     "language": "python",
     "metadata": {},
     "outputs": [
      {
       "metadata": {},
       "output_type": "pyout",
       "prompt_number": 11,
       "text": [
        "GeneralMessage with value = 1.0"
       ]
      },
      {
       "output_type": "stream",
       "stream": "stdout",
       "text": [
        "\n"
       ]
      }
     ],
     "prompt_number": 11
    }
   ],
   "metadata": {}
  }
 ]
}