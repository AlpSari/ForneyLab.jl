{
 "metadata": {
  "language": "Julia",
  "name": "messages",
  "signature": "sha256:222315d1c49f9ae953cbf4abba5f05ab93926f8981c084cd68f2383edc0c479c"
 },
 "nbformat": 3,
 "nbformat_minor": 0,
 "worksheets": [
  {
   "cells": [
    {
     "cell_type": "markdown",
     "metadata": {},
     "source": "Message types documentation\n===========================\n\nThis notebook lists and describes all built-in message types in ForneyLab.jl. Message-specific functions are also covered.\n\nCurrently, ForneyLab.jl comes with the following built-in message types:\n- **[Message{Float64}](#float64message)** carries a scalar as payload value\n- **[Message{Array{Float64, N}}](#arrayfloat64message)** carries a vector or matrix\n- **[Message{GaussianDistribution}](#gaussianmessage)**: encodes an univariate or multivariate Gaussian PDF\n- **[Message{InverseGammaDistribution}](#inversegammamessage)**: inverse gamma message, parameterized by shape and rate\n- **[Message{GammaDistribution}](#gammamessage)**: standard gamma message, parameterized by shape and rate"
    },
    {
     "cell_type": "markdown",
     "metadata": {},
     "source": "<a name=\"inversegammamessage\"></a>`Message{InverseGammaDistribution}`\n---------------\n---\n`Message{InverseGammaDistribution}` is the inverse gamma message as parameterized by shape and rate, used as a prior for the variance of a Gaussian."
    },
    {
     "cell_type": "code",
     "collapsed": false,
     "input": "using ForneyLab\nMessage(InverseGammaDistribution(a=3.0, b=4.0))",
     "language": "python",
     "metadata": {},
     "outputs": [
      {
       "metadata": {},
       "output_type": "pyout",
       "prompt_number": 1,
       "text": "Message{InverseGammaDistribution} with value InverseGammaDistribution\na = 3.0 (shape)\nb = 4.0 (rate)\n.\n"
      }
     ],
     "prompt_number": 1
    },
    {
     "cell_type": "markdown",
     "metadata": {},
     "source": "The uninformative function returns an `InverseGammaDistribution` that is an effective multiplication factor of one."
    },
    {
     "cell_type": "code",
     "collapsed": false,
     "input": "uninformative(InverseGammaDistribution)",
     "language": "python",
     "metadata": {},
     "outputs": [
      {
       "metadata": {},
       "output_type": "pyout",
       "prompt_number": 2,
       "text": "InverseGammaDistribution\na = -0.999 (shape)\nb = 0.001 (rate)\n"
      }
     ],
     "prompt_number": 2
    },
    {
     "cell_type": "markdown",
     "metadata": {},
     "source": "Some functions are available for returning the mean and variance"
    },
    {
     "cell_type": "code",
     "collapsed": false,
     "input": "println( mean(InverseGammaDistribution(a=3.0, b=4.0)) )\nprintln( var(InverseGammaDistribution(a=3.0, b=4.0)) )",
     "language": "python",
     "metadata": {},
     "outputs": [
      {
       "output_type": "stream",
       "stream": "stdout",
       "text": "2.0"
      },
      {
       "output_type": "stream",
       "stream": "stdout",
       "text": "\n4.0\n"
      }
     ],
     "prompt_number": 3
    },
    {
     "cell_type": "markdown",
     "metadata": {},
     "source": "<a name=\"gammamessage\"></a>`Message{GammaDistribution}`\n---------------\n---\n`Message{GammaDistribution}` is the standard gamma message as parameterized by shape and rate. It can be used as a prior distribution over the precision of a Gaussian."
    },
    {
     "cell_type": "code",
     "collapsed": false,
     "input": "Message(GammaDistribution(a=3.0, b=4.0))",
     "language": "python",
     "metadata": {},
     "outputs": [
      {
       "metadata": {},
       "output_type": "pyout",
       "prompt_number": 2,
       "text": "Message{GammaDistribution} with value GammaDistribution\na = 3.0 (shape)\nb = 4.0 (rate)\n.\n"
      }
     ],
     "prompt_number": 2
    },
    {
     "cell_type": "markdown",
     "metadata": {},
     "source": "There is also an uninformative gamma distribution that represents an effective multiplication factor of one"
    },
    {
     "cell_type": "code",
     "collapsed": false,
     "input": "uninformative(GammaDistribution)",
     "language": "python",
     "metadata": {},
     "outputs": [
      {
       "metadata": {},
       "output_type": "pyout",
       "prompt_number": 5,
       "text": "GammaDistribution\na = 0.999 (shape)\nb = 0.001 (rate)\n"
      }
     ],
     "prompt_number": 5
    },
    {
     "cell_type": "markdown",
     "metadata": {},
     "source": "There are also functions that return the mean and variance for the GammaMessage"
    },
    {
     "cell_type": "code",
     "collapsed": false,
     "input": "println( mean(GammaDistribution(a=3.0, b=4.0)) )\nprintln( var(GammaDistribution(a=3.0, b=4.0)) )",
     "language": "python",
     "metadata": {},
     "outputs": [
      {
       "output_type": "stream",
       "stream": "stdout",
       "text": "0."
      },
      {
       "output_type": "stream",
       "stream": "stdout",
       "text": "75\n0.1875\n"
      }
     ],
     "prompt_number": 6
    },
    {
     "cell_type": "markdown",
     "metadata": {},
     "source": "<a name=\"gaussianmessage\"></a>`Message{GaussianDistribution}`\n---------------\n---\n`Message{GaussianDistribution}` encodes a message that carries a univariate or multivariate Gaussian probability density function. A Gaussian PDF can be parametrized in various ways. `GaussianDistribution` allows 4 different parametrizations:\n- $(\\mathbf{m},\\mathbf{V})$ parametrization. $\\mathbf{m}$ is the mean vector and $\\mathbf{V}$ is the covariance matrix. In case of a univariate distribution, $\\mathbf{m}$ has length 1 and $\\mathbf{V}$ is a $1 \\times 1$ matrix.\n- $(\\mathbf{m},\\mathbf{W})$ parametrization. $\\mathbf{m}$ is the mean vector and $\\mathbf{W}$ is the weight matrix. If $\\mathbf{W}^{-1}$ exists, then it holds that $\\mathbf{V}=\\mathbf{W}^{-1}$.\n- $(\\mathbf{\\xi},\\mathbf{V})$ parametrization. $\\mathbf{\\xi}$ is the weighted mean vector: $\\mathbf{\\xi} = \\mathbf{W}\\mathbf{m}$. Also, $\\mathbf{m} = \\mathbf{V}\\mathbf{\\xi}$.\n- $(\\mathbf{\\xi},\\mathbf{W})$ parametrization.\n\nDepending on the required operations, different parametrizations will be convenient. \n\nA message carrying a `GaussianDistribution` is constructed by passing valid parameter values to the constructor. Some examples:"
    },
    {
     "cell_type": "code",
     "collapsed": false,
     "input": "univariate_gaussian_msg1 = Message(GaussianDistribution(m=[0.0], V=[1.0]))",
     "language": "python",
     "metadata": {},
     "outputs": [
      {
       "metadata": {},
       "output_type": "pyout",
       "prompt_number": 3,
       "text": "Message{GaussianDistribution} with value GaussianDistribution\nm  = [0.0]\nV  = 1x1 Array{Float64,2}:\n 1.0\nW  = nothing\nxi = nothing\n.\n"
      }
     ],
     "prompt_number": 3
    },
    {
     "cell_type": "code",
     "collapsed": false,
     "input": "univariate_gaussian_msg2 = Message(GaussianDistribution(xi=[2.0], W=[0.5]))",
     "language": "python",
     "metadata": {},
     "outputs": [
      {
       "metadata": {},
       "output_type": "pyout",
       "prompt_number": 4,
       "text": "Message{GaussianDistribution} with value GaussianDistribution\nm  = nothing\nV  = nothing\nW  = 1x1 Array{Float64,2}:\n 0.5\nxi = [2.0]\n.\n"
      }
     ],
     "prompt_number": 4
    },
    {
     "cell_type": "code",
     "collapsed": false,
     "input": "multivariate_gaussian_msg1 = Message(GaussianDistribution(m=[0.0, 2.0], V=0.5*eye(2,2)))",
     "language": "python",
     "metadata": {},
     "outputs": [
      {
       "metadata": {},
       "output_type": "pyout",
       "prompt_number": 5,
       "text": "Message{GaussianDistribution} with value GaussianDistribution\nm  = [0.0,2.0]\nV  = 2x2 Array{Float64,2}:\n 0.5  0.0\n 0.0  0.5\nW  = nothing\nxi = nothing\n.\n"
      }
     ],
     "prompt_number": 5
    },
    {
     "cell_type": "markdown",
     "metadata": {},
     "source": "If no parameter values are passed, default values will be used:"
    },
    {
     "cell_type": "code",
     "collapsed": false,
     "input": "Message(GaussianDistribution())",
     "language": "python",
     "metadata": {},
     "outputs": [
      {
       "metadata": {},
       "output_type": "pyout",
       "prompt_number": 6,
       "text": "Message{GaussianDistribution} with value GaussianDistribution\nm  = [0.0]\nV  = 1x1 Array{Float64,2}:\n 1.0\nW  = nothing\nxi = nothing\n.\n"
      }
     ],
     "prompt_number": 6
    },
    {
     "cell_type": "markdown",
     "metadata": {},
     "source": "To inspect the contents of the message, use:"
    },
    {
     "cell_type": "code",
     "collapsed": false,
     "input": "show(univariate_gaussian_msg2)",
     "language": "python",
     "metadata": {},
     "outputs": [
      {
       "output_type": "stream",
       "stream": "stdout",
       "text": "Message{"
      },
      {
       "output_type": "stream",
       "stream": "stdout",
       "text": "GaussianDistribution} with value GaussianDistribution"
      },
      {
       "output_type": "stream",
       "stream": "stdout",
       "text": "\nm  = nothing\nV  = nothing\nW  = 1x1 Array{Float64,2}:\n 0.5\nxi = [2.0]\n.\n"
      }
     ],
     "prompt_number": 7
    },
    {
     "cell_type": "markdown",
     "metadata": {},
     "source": "There is also an uninformative Gaussian distribution, which represent an effective multiplication factor of one."
    },
    {
     "cell_type": "code",
     "collapsed": false,
     "input": "uninformative(GaussianDistribution)",
     "language": "python",
     "metadata": {},
     "outputs": [
      {
       "metadata": {},
       "output_type": "pyout",
       "prompt_number": 12,
       "text": "GaussianDistribution\nm  = [0.0]\nV  = 1x1 Array{Float64,2}:\n 1000.0\nW  = nothing\nxi = nothing\n"
      }
     ],
     "prompt_number": 12
    },
    {
     "cell_type": "markdown",
     "metadata": {},
     "source": "###Converting parametrizations\n\nForneyLab.jl provides functions to convert the parametrization of a `GaussianDistribution`. This is useful if you for example need the mean vector in $(\\mathbf{\\xi},\\mathbf{W})$ parametrization.\n\nThe following parametrization conversion functions are available:\n- `ensureMVParametrization!(msg::GaussianDistribution)`: calculate $(\\mathbf{m},\\mathbf{V})$ parameters.\n- `ensureMWParametrization!(msg::GaussianDistribution)`: calculate $(\\mathbf{m},\\mathbf{W})$ parameters.\n- `ensureXiVParametrization!(msg::GaussianDistribution)`: calculate $(\\mathbf{\\xi},\\mathbf{V})$ parameters.\n- `ensureXiWParametrization!(msg::GaussianDistribution)`: calculate $(\\mathbf{\\xi},\\mathbf{W})$ parameters.\n\nThe distribution is modified, and a reference to the distribution is also returned. The old parameters are still valid, so they won't be deleted. Example:"
    },
    {
     "cell_type": "code",
     "collapsed": false,
     "input": "show(univariate_gaussian_msg2)\nensureMVParametrization!(univariate_gaussian_msg2.value)\nshow(univariate_gaussian_msg2)",
     "language": "python",
     "metadata": {},
     "outputs": [
      {
       "output_type": "stream",
       "stream": "stdout",
       "text": "Message{"
      },
      {
       "output_type": "stream",
       "stream": "stdout",
       "text": "GaussianDistribution} with value GaussianDistribution\nm  = nothing\nV  = nothing\nW  = 1x1 Array{Float64,2}:\n 0.5\nxi = [2.0]\n.\nMessage"
      },
      {
       "output_type": "stream",
       "stream": "stdout",
       "text": "{GaussianDistribution} with value GaussianDistribution\nm  = [4.0]\nV  = 1x1 Array{Float64,2}:\n 2.0\nW  = 1x1 Array{Float64,2}:\n 0.5\nxi = [2.0]\n.\n"
      }
     ],
     "prompt_number": 8
    },
    {
     "cell_type": "markdown",
     "metadata": {},
     "source": "If a `GaussianDistribution` is 'over-parametrized', the values of the different parameters should be consistent. For example, it should always hold that $\\mathbf{W}=\\mathbf{V}^{-1}$ and $\\mathbf{\\xi} = \\mathbf{W}\\mathbf{m}$. To check the consistency of a `GaussianDistribution`, use the `isConsistent(msg::GaussianDistribution)` function:"
    },
    {
     "cell_type": "code",
     "collapsed": false,
     "input": "isConsistent(univariate_gaussian_msg2.value)",
     "language": "python",
     "metadata": {},
     "outputs": [
      {
       "metadata": {},
       "output_type": "pyout",
       "prompt_number": 9,
       "text": "true"
      }
     ],
     "prompt_number": 9
    },
    {
     "cell_type": "markdown",
     "metadata": {},
     "source": "<a name=\"float64message\"></a>`Message{Float64}`\n---------------------------------------------\n---\nA `Message{Float64}` hold a scalar payload. To create a `Message{Float64}`, simply pass the desired payload to the constructor. The payload is stored in the `value` field of the message. Example:"
    },
    {
     "cell_type": "code",
     "collapsed": false,
     "input": "general_msg = Message(1.0)",
     "language": "python",
     "metadata": {},
     "outputs": [
      {
       "metadata": {},
       "output_type": "pyout",
       "prompt_number": 15,
       "text": "Message{Float64} with value 1.0.\n"
      }
     ],
     "prompt_number": 15
    },
    {
     "cell_type": "code",
     "collapsed": false,
     "input": "show(general_msg.value)",
     "language": "python",
     "metadata": {},
     "outputs": [
      {
       "output_type": "stream",
       "stream": "stdout",
       "text": "1"
      },
      {
       "output_type": "stream",
       "stream": "stdout",
       "text": ".0"
      }
     ],
     "prompt_number": 16
    },
    {
     "cell_type": "markdown",
     "metadata": {},
     "source": "The default payload is 1.0:"
    },
    {
     "cell_type": "code",
     "collapsed": false,
     "input": "Message()",
     "language": "python",
     "metadata": {},
     "outputs": [
      {
       "metadata": {},
       "output_type": "pyout",
       "prompt_number": 13,
       "text": "Message{Float64} with value 1.0.\n"
      }
     ],
     "prompt_number": 13
    },
    {
     "cell_type": "markdown",
     "metadata": {},
     "source": "Also the informative function returns a value of one"
    },
    {
     "cell_type": "code",
     "collapsed": false,
     "input": "uninformative(Float64)",
     "language": "python",
     "metadata": {},
     "outputs": [
      {
       "metadata": {},
       "output_type": "pyout",
       "prompt_number": 18,
       "text": "Message{Float64} with value 1.0.\n"
      }
     ],
     "prompt_number": 18
    },
    {
     "cell_type": "markdown",
     "metadata": {},
     "source": "<a name=\"arrayfloat64message\"></a>`Message{Array{Float64, N}}`\n---------------------------------------------\n---\n`Message{Array{Float64, N}}` hold vector or martix payload, depending on the value of `N`. To create a `Message{Array{Float64, N}}`, simply pass the desired payload to the constructor."
    },
    {
     "cell_type": "code",
     "collapsed": false,
     "input": "Message([1.0, 2.0, 3.0])",
     "language": "python",
     "metadata": {},
     "outputs": [
      {
       "metadata": {},
       "output_type": "pyout",
       "prompt_number": 14,
       "text": "Message{Array{Float64,1}} with value 1\n2\n3\n.\n"
      }
     ],
     "prompt_number": 14
    },
    {
     "cell_type": "markdown",
     "metadata": {},
     "source": "passing a matrix will work as well"
    },
    {
     "cell_type": "code",
     "collapsed": false,
     "input": "A = eye(2)\nMessage(A)",
     "language": "python",
     "metadata": {},
     "outputs": [
      {
       "metadata": {},
       "output_type": "pyout",
       "prompt_number": 15,
       "text": "Message{Array{Float64,2}} with value 1\t0\n0\t1\n.\n"
      }
     ],
     "prompt_number": 15
    }
   ],
   "metadata": {}
  }
 ]
}