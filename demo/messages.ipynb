{
 "metadata": {
  "language": "Julia",
  "name": "messages",
  "signature": "sha256:222315d1c49f9ae953cbf4abba5f05ab93926f8981c084cd68f2383edc0c479c"
 },
 "nbformat": 3,
 "nbformat_minor": 0,
 "worksheets": [
  {
   "cells": [
    {
     "cell_type": "markdown",
     "metadata": {},
     "source": "Message types documentation\n===========================\n\nThis notebook lists and describes all built-in message types in ForneyLab.jl. Message-specific functions are also covered.\n\nCurrently, ForneyLab.jl comes with the following built-in message types (sorted alphabetically):\n- **[InverseGammaMessage](#inversegammamessage)**: inverse gamma message, parameterized by shape and rate\n- **[GammaMessage](#gammamessage)**: standard gamma message, parameterized by shape and rate\n- **[GaussianMessage](#gaussianmessage)**: encodes an univariate or multivariate Gaussian PDF\n- **[GeneralMessage](#generalmessage)**: carries an arbitrary object (i.e. scalar or matrix) as payload"
    },
    {
     "cell_type": "markdown",
     "metadata": {},
     "source": "<a name=\"inversegammamessage\"></a>`InverseGammaMessage`\n---------------\n---\n`InverseGammaMessage` is the inverse gamma message as parameterized by shape and rate, ad is used as a prior over the variance of a Gaussian."
    },
    {
     "cell_type": "code",
     "collapsed": false,
     "input": "using ForneyLab\nInverseGammaMessage(a=3.0, b=4.0)",
     "language": "python",
     "metadata": {},
     "outputs": [
      {
       "metadata": {},
       "output_type": "pyout",
       "prompt_number": 1,
       "text": "InverseGammaMessage\na = 3.0 (shape)\nb = 4.0 (rate)\n"
      }
     ],
     "prompt_number": 1
    },
    {
     "cell_type": "markdown",
     "metadata": {},
     "source": "The uninformative function returns a `InverseGammaMessage` that is an effective multiplication factor of one."
    },
    {
     "cell_type": "code",
     "collapsed": false,
     "input": "uninformative(InverseGammaMessage)",
     "language": "python",
     "metadata": {},
     "outputs": [
      {
       "metadata": {},
       "output_type": "pyout",
       "prompt_number": 2,
       "text": "InverseGammaMessage\na = -0.999 (shape)\nb = 0.001 (rate)\n"
      }
     ],
     "prompt_number": 2
    },
    {
     "cell_type": "markdown",
     "metadata": {},
     "source": "Some functions are available for returning the mean and variance"
    },
    {
     "cell_type": "code",
     "collapsed": false,
     "input": "println( mean(InverseGammaMessage(a=3.0, b=4.0)) )\nprintln( var(InverseGammaMessage(a=3.0, b=4.0)) )",
     "language": "python",
     "metadata": {},
     "outputs": [
      {
       "output_type": "stream",
       "stream": "stdout",
       "text": "2.0"
      },
      {
       "output_type": "stream",
       "stream": "stdout",
       "text": "\n4.0\n"
      }
     ],
     "prompt_number": 3
    },
    {
     "cell_type": "markdown",
     "metadata": {},
     "source": "<a name=\"gammamessage\"></a>`GammaMessage`\n---------------\n---\n`GammaMessage` is the standard gamma message as parameterized by shape and rate. It can be used as a prior distribution over the precision of a Gaussian."
    },
    {
     "cell_type": "code",
     "collapsed": false,
     "input": "GammaMessage(a=3.0, b=4.0)",
     "language": "python",
     "metadata": {},
     "outputs": [
      {
       "metadata": {},
       "output_type": "pyout",
       "prompt_number": 4,
       "text": "GammaMessage\na = 3.0 (shape)\nb = 4.0 (rate)\n"
      }
     ],
     "prompt_number": 4
    },
    {
     "cell_type": "markdown",
     "metadata": {},
     "source": "There is also an uninformative gamma message that represents an effective multiplication factor of one"
    },
    {
     "cell_type": "code",
     "collapsed": false,
     "input": "uninformative(GammaMessage)",
     "language": "python",
     "metadata": {},
     "outputs": [
      {
       "metadata": {},
       "output_type": "pyout",
       "prompt_number": 5,
       "text": "GammaMessage\na = 0.999 (shape)\nb = 0.001 (rate)\n"
      }
     ],
     "prompt_number": 5
    },
    {
     "cell_type": "markdown",
     "metadata": {},
     "source": "There are also functions that return the mean and variance for the GammaMessage"
    },
    {
     "cell_type": "code",
     "collapsed": false,
     "input": "println( mean(GammaMessage(a=3.0, b=4.0)) )\nprintln( var(GammaMessage(a=3.0, b=4.0)) )",
     "language": "python",
     "metadata": {},
     "outputs": [
      {
       "output_type": "stream",
       "stream": "stdout",
       "text": "0."
      },
      {
       "output_type": "stream",
       "stream": "stdout",
       "text": "75\n0.1875\n"
      }
     ],
     "prompt_number": 6
    },
    {
     "cell_type": "markdown",
     "metadata": {},
     "source": "<a name=\"gaussianmessage\"></a>`GaussianMessage`\n---------------\n---\nImplemented in file: `/src/messages.jl`.\n\nA `GaussianMessage` encodes a univariate or multivariate Gaussian probability density function. A Gaussian PDF can be parametrized in various ways. `GaussianMessage` allows 4 different parametrizations:\n- $(\\mathbf{m},\\mathbf{V})$ parametrization. $\\mathbf{m}$ is the mean vector and $\\mathbf{V}$ is the covariance matrix. In case of a univariate distribution, $\\mathbf{m}$ has length 1 and $\\mathbf{V}$ is a $1 \\times 1$ matrix.\n- $(\\mathbf{m},\\mathbf{W})$ parametrization. $\\mathbf{m}$ is the mean vector and $\\mathbf{W}$ is the weight matrix. If $\\mathbf{W}^{-1}$ exists, then it holds that $\\mathbf{V}=\\mathbf{W}^{-1}$.\n- $(\\mathbf{\\xi},\\mathbf{V})$ parametrization. $\\mathbf{\\xi}$ is the weighted mean vector: $\\mathbf{\\xi} = \\mathbf{W}\\mathbf{m}$. Also, $\\mathbf{m} = \\mathbf{V}\\mathbf{\\xi}$.\n- $(\\mathbf{\\xi},\\mathbf{W})$ parametrization.\n\nDepending on the required operations, different parametrizations will be convenient. \n\nA GaussianMessage is constructed by passing valid parameter values to the constructor. Some examples:"
    },
    {
     "cell_type": "code",
     "collapsed": false,
     "input": "univariate_gaussian_msg1 = GaussianMessage(m=[0.0], V=[1.0])",
     "language": "python",
     "metadata": {},
     "outputs": [
      {
       "metadata": {},
       "output_type": "pyout",
       "prompt_number": 7,
       "text": "GaussianMessage\nm  = [0.0]\nV  = 1x1 Array{Float64,2}:\n 1.0\nW  = nothing\nxi = nothing\n"
      }
     ],
     "prompt_number": 7
    },
    {
     "cell_type": "code",
     "collapsed": false,
     "input": "univariate_gaussian_msg2 = GaussianMessage(xi=[2.0], W=[0.5])",
     "language": "python",
     "metadata": {},
     "outputs": [
      {
       "metadata": {},
       "output_type": "pyout",
       "prompt_number": 8,
       "text": "GaussianMessage\nm  = nothing\nV  = nothing\nW  = 1x1 Array{Float64,2}:\n 0.5\nxi = [2.0]\n"
      }
     ],
     "prompt_number": 8
    },
    {
     "cell_type": "code",
     "collapsed": false,
     "input": "multivariate_gaussian_msg1 = GaussianMessage(m=[0.0, 2.0], V=0.5*eye(2,2))",
     "language": "python",
     "metadata": {},
     "outputs": [
      {
       "metadata": {},
       "output_type": "pyout",
       "prompt_number": 9,
       "text": "GaussianMessage\nm  = [0.0,2.0]\nV  = 2x2 Array{Float64,2}:\n 0.5  0.0\n 0.0  0.5\nW  = nothing\nxi = nothing\n"
      }
     ],
     "prompt_number": 9
    },
    {
     "cell_type": "markdown",
     "metadata": {},
     "source": "If no parameter values are passed, default values will be used:"
    },
    {
     "cell_type": "code",
     "collapsed": false,
     "input": "GaussianMessage()",
     "language": "python",
     "metadata": {},
     "outputs": [
      {
       "metadata": {},
       "output_type": "pyout",
       "prompt_number": 10,
       "text": "GaussianMessage\nm  = [0.0]\nV  = 1x1 Array{Float64,2}:\n 1.0\nW  = nothing\nxi = nothing\n"
      }
     ],
     "prompt_number": 10
    },
    {
     "cell_type": "markdown",
     "metadata": {},
     "source": "To inspect the contents of a `GaussianMessage`, use:"
    },
    {
     "cell_type": "code",
     "collapsed": false,
     "input": "show(univariate_gaussian_msg2)",
     "language": "python",
     "metadata": {},
     "outputs": [
      {
       "output_type": "stream",
       "stream": "stdout",
       "text": "GaussianMessage"
      },
      {
       "output_type": "stream",
       "stream": "stdout",
       "text": "\nm  = nothing\nV  = nothing\nW  = 1x1 Array{Float64,2}:\n "
      },
      {
       "output_type": "stream",
       "stream": "stdout",
       "text": "0.5\nxi = [2.0]\n"
      }
     ],
     "prompt_number": 11
    },
    {
     "cell_type": "markdown",
     "metadata": {},
     "source": "There is also an uninformative Gaussian message, which represent an effective multiplication factor of one."
    },
    {
     "cell_type": "code",
     "collapsed": false,
     "input": "uninformative(GaussianMessage)",
     "language": "python",
     "metadata": {},
     "outputs": [
      {
       "metadata": {},
       "output_type": "pyout",
       "prompt_number": 12,
       "text": "GaussianMessage\nm  = [0.0]\nV  = 1x1 Array{Float64,2}:\n 1000.0\nW  = nothing\nxi = nothing\n"
      }
     ],
     "prompt_number": 12
    },
    {
     "cell_type": "markdown",
     "metadata": {},
     "source": "###Converting parametrizations\n\nForneyLab.jl provides functions to convert the parametrization of a `GaussianMessage`. This is useful if you for example need the mean vector of a `GaussianMessage` in $(\\mathbf{\\xi},\\mathbf{W})$ parametrization.\n\nThe following parametrization conversion functions are available:\n- `ensureMVParametrization!(msg::GaussianMessage)`: calculate $(\\mathbf{m},\\mathbf{V})$ parameters.\n- `ensureMWParametrization!(msg::GaussianMessage)`: calculate $(\\mathbf{m},\\mathbf{W})$ parameters.\n- `ensureXiVParametrization!(msg::GaussianMessage)`: calculate $(\\mathbf{\\xi},\\mathbf{V})$ parameters.\n- `ensureXiWParametrization!(msg::GaussianMessage)`: calculate $(\\mathbf{\\xi},\\mathbf{W})$ parameters.\n\nThe message is modified, and a reference to the message is also returned. The old parameters are still valid, so they won't be deleted. Example:"
    },
    {
     "cell_type": "code",
     "collapsed": false,
     "input": "show(univariate_gaussian_msg2)\nensureMVParametrization!(univariate_gaussian_msg2)\nshow(univariate_gaussian_msg2)",
     "language": "python",
     "metadata": {},
     "outputs": [
      {
       "output_type": "stream",
       "stream": "stdout",
       "text": "GaussianMessage\nm  = nothing\nV  = nothing\nW  = 1x1 Array{Float64,2}:\n 0.5\nxi = [2.0]\nGaussianMessage"
      },
      {
       "output_type": "stream",
       "stream": "stdout",
       "text": "\nm  = [4.0]\nV  = 1x1 Array{Float64,2}:\n 2.0\nW  = 1x1 Array{Float64,2}:\n 0.5\nxi = [2.0]\n"
      }
     ],
     "prompt_number": 13
    },
    {
     "cell_type": "markdown",
     "metadata": {},
     "source": "If a `GaussianMessage` is 'over-parametrized', the values of the different parameters should be consistent. For example, it should always hold that $\\mathbf{W}=\\mathbf{V}^{-1}$ and $\\mathbf{\\xi} = \\mathbf{W}\\mathbf{m}$. To check the consistency of a `GaussianMessage`, use the `isConsistent(msg::GaussianMessage)` function:"
    },
    {
     "cell_type": "code",
     "collapsed": false,
     "input": "isConsistent(univariate_gaussian_msg2)",
     "language": "python",
     "metadata": {},
     "outputs": [
      {
       "metadata": {},
       "output_type": "pyout",
       "prompt_number": 14,
       "text": "true"
      }
     ],
     "prompt_number": 14
    },
    {
     "cell_type": "markdown",
     "metadata": {},
     "source": "<a name=\"generalmessage\"></a>`GeneralMessage`\n---------------------------------------------\n---\nImplemented in file: `/src/messages.jl`.\n\nA `GeneralMessage` can hold an arbitrary payload, for example a scalar, a matrix or a self-defined type. \nTo create a `GeneralMessage`, simply pass the desired payload to the constructor. The payload is stored in the `value` field of the message. Example:"
    },
    {
     "cell_type": "code",
     "collapsed": false,
     "input": "general_msg = GeneralMessage(1.0)",
     "language": "python",
     "metadata": {},
     "outputs": [
      {
       "output_type": "stream",
       "stream": "stdout",
       "text": "\n"
      },
      {
       "metadata": {},
       "output_type": "pyout",
       "prompt_number": 15,
       "text": "GeneralMessage with value = 1.0"
      }
     ],
     "prompt_number": 15
    },
    {
     "cell_type": "code",
     "collapsed": false,
     "input": "show(general_msg.value)",
     "language": "python",
     "metadata": {},
     "outputs": [
      {
       "output_type": "stream",
       "stream": "stdout",
       "text": "1.0"
      }
     ],
     "prompt_number": 16
    },
    {
     "cell_type": "code",
     "collapsed": false,
     "input": "general_msg_vector = GeneralMessage([1.0, 2.0, 3.0])",
     "language": "python",
     "metadata": {},
     "outputs": [
      {
       "metadata": {},
       "output_type": "pyout",
       "prompt_number": 17,
       "text": "GeneralMessage with value = [1.0,2.0,3.0]"
      }
     ],
     "prompt_number": 17
    },
    {
     "cell_type": "markdown",
     "metadata": {},
     "source": "The default payload is 1.0:"
    },
    {
     "cell_type": "code",
     "collapsed": false,
     "input": "GeneralMessage()",
     "language": "python",
     "metadata": {},
     "outputs": [
      {
       "output_type": "stream",
       "stream": "stdout",
       "text": "\n"
      },
      {
       "metadata": {},
       "output_type": "pyout",
       "prompt_number": 18,
       "text": "GeneralMessage with value = 1.0"
      }
     ],
     "prompt_number": 18
    },
    {
     "cell_type": "markdown",
     "metadata": {},
     "source": "Also the informative message has a payload of one"
    },
    {
     "cell_type": "code",
     "collapsed": false,
     "input": "uninformative(GeneralMessage)",
     "language": "python",
     "metadata": {},
     "outputs": [
      {
       "output_type": "stream",
       "stream": "stdout",
       "text": "\n"
      },
      {
       "output_type": "stream",
       "stream": "stdout",
       "text": "\n"
      },
      {
       "metadata": {},
       "output_type": "pyout",
       "prompt_number": 19,
       "text": "GeneralMessage with value = 1.0"
      }
     ],
     "prompt_number": 19
    }
   ],
   "metadata": {}
  }
 ]
}