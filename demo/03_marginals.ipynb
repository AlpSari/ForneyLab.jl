{
 "metadata": {
  "language": "Julia",
  "name": "",
  "signature": "sha256:1688e8a178c2475c89943151b3ffaaf0a89f8b04bbceace66aa1ab076072bd24"
 },
 "nbformat": 3,
 "nbformat_minor": 0,
 "worksheets": [
  {
   "cells": [
    {
     "cell_type": "markdown",
     "metadata": {},
     "source": [
      "Marginals demo\n",
      "==============\n",
      "\n",
      "It is often useful to calculate the marginal probability distribution of a variable (represented by an edge in the factor graph). \n",
      "ForneyLab provides `calculateMarginal(edge)` to calculate this marginal. The banged version `calculateMarginal!(edge)` will save the result to the argument edge as well. The marginal distribution will then be stored in the `edge.marginal` field. It is also possible to pass the forward/backward messages directly, using `calculateMarginal(forward_msg, backward_msg)`.\n",
      "\n",
      "Example of `calculateMarginal(forward_msg, backward_msg)`\n",
      "---------------------------------------------------------"
     ]
    },
    {
     "cell_type": "code",
     "collapsed": false,
     "input": [
      "using ForneyLab\n",
      "fwd_msg = GaussianDistribution(m=0.0, V=1.0)\n",
      "bwd_msg = GaussianDistribution(m=0.0, V=1.0)\n",
      "marginal = calculateMarginal(fwd_msg, bwd_msg)\n",
      "show(marginal)"
     ],
     "language": "python",
     "metadata": {},
     "outputs": [
      {
       "output_type": "stream",
       "stream": "stdout",
       "text": [
        "GaussianDistribution\n"
       ]
      },
      {
       "output_type": "stream",
       "stream": "stdout",
       "text": [
        "m  = nothing\n",
        "V  = nothing\n",
        "W  = ["
       ]
      },
      {
       "output_type": "stream",
       "stream": "stdout",
       "text": [
        "2.0]\n",
        "xi = [0.0]\n"
       ]
      }
     ],
     "prompt_number": 1
    },
    {
     "cell_type": "markdown",
     "metadata": {},
     "source": [
      "As can be seen, the marginal is parametrized by `(xi,W)`. We can calculate the `(m,V)` parametrization for easy interpretation:"
     ]
    },
    {
     "cell_type": "code",
     "collapsed": false,
     "input": [
      "show(ensureMVParametrization!(marginal))"
     ],
     "language": "python",
     "metadata": {},
     "outputs": [
      {
       "output_type": "stream",
       "stream": "stdout",
       "text": [
        "GaussianDistribution"
       ]
      },
      {
       "output_type": "stream",
       "stream": "stdout",
       "text": [
        "\n",
        "m  = [0.0]\n",
        "V  = [0.5]\n",
        "W  = [2.0]\n",
        "xi = [0.0]\n"
       ]
      }
     ],
     "prompt_number": 2
    },
    {
     "cell_type": "markdown",
     "metadata": {},
     "source": [
      "For `GaussianDistribution`, the following functions are available to convert parametrizations:\n",
      "* `ensureMVParametrization!(dist)` for `(m,V)` parametrization.\n",
      "* `ensureMWParametrization!(dist)` for `(m,W)` parametrization.\n",
      "* `ensureXiVParametrization!(dist)` for `(xi,V)` parametrization.\n",
      "* `ensureXiWParametrization!(dist)` for `(xi,W)` parametrization."
     ]
    },
    {
     "cell_type": "markdown",
     "metadata": {},
     "source": [
      "Example of `calculateMarginal!(edge)`\n",
      "------------------------------------\n",
      "\n",
      "Suppose we have the following factor graph with observed variables `x` and `y` and latent variable `z`. Factors `n1` and `n2` represent independent Gaussian noise sources with known means and variances.\n",
      "```\n",
      "               (z)\n",
      "    (x) ---> + ---> + ---> (y)\n",
      "             |      |\n",
      "            (n1)   (n2)\n",
      "```\n",
      "We are now interested in calculating the marginal over the latent variable: `p(z)`.\n",
      "\n",
      "First, let's build the factor graph:"
     ]
    },
    {
     "cell_type": "code",
     "collapsed": false,
     "input": [
      "# Create nodes\n",
      "x = TerminalNode(GaussianDistribution(m=2.0, V=0.0), name=\"x\")\n",
      "y = TerminalNode(GaussianDistribution(m=3.0, V=0.0), name=\"y\")\n",
      "n1 = TerminalNode(GaussianDistribution(m=0.0, V=1.0), name=\"n1\")\n",
      "n2 = TerminalNode(GaussianDistribution(m=2.0, V=1.0), name=\"n2\")\n",
      "add_n1 = AdditionNode(name=\"add_n1\")\n",
      "add_n2 = AdditionNode(name=\"add_n2\")\n",
      "\n",
      "# Create the edges\n",
      "Edge(x.out, add_n1.in1)\n",
      "Edge(n1.out, add_n1.in2)\n",
      "edge_z = Edge(add_n1.out, add_n2.in1)\n",
      "Edge(n2.out, add_n2.in2)\n",
      "Edge(add_n2.out, y.out);"
     ],
     "language": "python",
     "metadata": {},
     "outputs": [],
     "prompt_number": 3
    },
    {
     "cell_type": "markdown",
     "metadata": {},
     "source": [
      "We assign our edge of interest to a variable `edge_z` so we can use it in function calls later on.\n",
      "Now we can calculate the marginal on `edge_z` and convert it to `(m,V)` parametrization for easy interpretation."
     ]
    },
    {
     "cell_type": "code",
     "collapsed": false,
     "input": [
      "# Calculate and show the marginal\n",
      "calculateMessage!(edge_z.head)\n",
      "calculateMessage!(edge_z.tail)\n",
      "z_marginal = calculateMarginal!(edge_z)\n",
      "ensureMVParametrization!(z_marginal)\n",
      "println(\"Marginal p(z):\")\n",
      "show(z_marginal)"
     ],
     "language": "python",
     "metadata": {},
     "outputs": [
      {
       "output_type": "stream",
       "stream": "stdout",
       "text": [
        "Marginal p(z):"
       ]
      },
      {
       "output_type": "stream",
       "stream": "stdout",
       "text": [
        "\n",
        "GaussianDistribution\n",
        "m  = [1.5]\n",
        "V  = [0.5]\n",
        "W  = [2.0]\n",
        "xi = [3.0]\n"
       ]
      }
     ],
     "prompt_number": 4
    },
    {
     "cell_type": "markdown",
     "metadata": {},
     "source": [
      "If the forward or backward message is not defined, `calculateMarginal!()` will throw an error. It is the resposibility of the user to pre-calculate the message on the interfaces, or perhaps set an uninformative message."
     ]
    }
   ],
   "metadata": {}
  }
 ]
}