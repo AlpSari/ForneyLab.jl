{
 "cells": [
  {
   "cell_type": "markdown",
   "metadata": {},
   "source": [
    "# Build (the Generative Model)\n",
    "\n",
    "We start by building an example \"model\"\n",
    "\n",
    "\\begin{align*}\n",
    "    f(x, m, v) = \\mathcal{N}(x \\mid m, v)\n",
    "\\end{align*}\n",
    "\n",
    "with observed mean and variance."
   ]
  },
  {
   "cell_type": "code",
   "execution_count": null,
   "metadata": {
    "collapsed": true
   },
   "outputs": [],
   "source": [
    "using ForneyLab\n",
    "\n",
    "# Start a new graph\n",
    "g = FactorGraph()\n",
    "\n",
    "# Declare a variable\n",
    "x = Variable(id=:x)"
   ]
  },
  {
   "cell_type": "code",
   "execution_count": null,
   "metadata": {
    "collapsed": true
   },
   "outputs": [],
   "source": [
    "# Declare some observed variables\n",
    "m = Variable(id=:m) # Declare variable with id :m\n",
    "Clamp(m, 0.0, id=:m) # Delare node with id :m"
   ]
  },
  {
   "cell_type": "code",
   "execution_count": null,
   "metadata": {
    "collapsed": true
   },
   "outputs": [],
   "source": [
    "# Shorthand notation for clamping a variable to a value\n",
    "v = constant(1.0, id=:v)"
   ]
  },
  {
   "cell_type": "code",
   "execution_count": null,
   "metadata": {
    "collapsed": true
   },
   "outputs": [],
   "source": [
    "# Construct the node f\n",
    "GaussianMeanVariance(x, m, v, id=:x)\n",
    "\n",
    "# Inspect the graph\n",
    "ForneyLab.draw(g)"
   ]
  },
  {
   "cell_type": "markdown",
   "metadata": {},
   "source": [
    "More intuitively, we can build the same model in one line with the \"distributed as\" syntax"
   ]
  },
  {
   "cell_type": "code",
   "execution_count": null,
   "metadata": {
    "collapsed": true
   },
   "outputs": [],
   "source": [
    "h = FactorGraph()\n",
    "\n",
    "# Build the generative model through shorthand notation\n",
    "x ~ GaussianMeanVariance(constant(0.0, id=:m), constant(1.0, id=:v), id=:x)\n",
    "\n",
    "# Verify that the graphs are the same\n",
    "ForneyLab.draw(h)"
   ]
  }
 ],
 "metadata": {
  "kernelspec": {
   "display_name": "Julia 0.5.0",
   "language": "julia",
   "name": "julia-0.5"
  },
  "language_info": {
   "file_extension": ".jl",
   "mimetype": "application/julia",
   "name": "julia",
   "version": "0.5.0"
  }
 },
 "nbformat": 4,
 "nbformat_minor": 2
}
