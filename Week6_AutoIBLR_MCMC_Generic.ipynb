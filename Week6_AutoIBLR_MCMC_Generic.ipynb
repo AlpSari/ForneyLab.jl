{
 "cells": [
  {
   "cell_type": "markdown",
   "metadata": {},
   "source": [
    "## MV GAUSSIAN - MCMC TEST"
   ]
  },
  {
   "cell_type": "code",
   "execution_count": 1,
   "metadata": {},
   "outputs": [],
   "source": [
    "using Random,LinearAlgebra, Flux.Optimise, Plots, ForneyLab\n",
    "using ForneyLab:ParamStr2,renderCVI,iBLR,naturalToBCParams,oneWindowSimulation_MCMC\n",
    "import StatsBase:percentile,autocor"
   ]
  },
  {
   "cell_type": "code",
   "execution_count": 2,
   "metadata": {},
   "outputs": [],
   "source": [
    "Random.seed!(1234);"
   ]
  },
  {
   "cell_type": "code",
   "execution_count": 3,
   "metadata": {},
   "outputs": [
    {
     "data": {
      "text/plain": [
       "Message: 𝒩(xi=[0.00, 0.00], w=[[1.00e+02, 0.00][0.00, 1.00e+02]])\n"
      ]
     },
     "execution_count": 3,
     "metadata": {},
     "output_type": "execute_result"
    }
   ],
   "source": [
    "d=2\n",
    "if d==2\n",
    "    μ_in = [0.0,0.0]\n",
    "    s_in = 100*[1 0;0 1.]\n",
    "    λ_init = [s_in*μ_in;vec(-0.5*s_in)] # Natparams\n",
    "    msg_in = Message(Multivariate, GaussianWeightedMeanPrecision,xi=s_in*μ_in,w=s_in)\n",
    "else\n",
    "    μ_in = 0.0\n",
    "    s_in = 0.01\n",
    "    λ_init = [s_in*μ_in,-0.5*s_in] # Natparams\n",
    "    msg_in = Message(Univariate, GaussianWeightedMeanPrecision,xi=s_in*μ_in,w=s_in)\n",
    "end\n",
    "\n"
   ]
  },
  {
   "cell_type": "code",
   "execution_count": 4,
   "metadata": {},
   "outputs": [
    {
     "name": "stdout",
     "output_type": "stream",
     "text": [
      "𝒩(xi=[1.21e+14, 1.19e+14], w=[[1.00e+12, 0.00][0.00, 1.00e+12]])\n",
      "\n"
     ]
    }
   ],
   "source": [
    "#f(x) = x\n",
    "# σ(x) = 1/(1+exp(-x))\n",
    "# f(x)= [x^2+σ(x)tanh(x)+2*log(abs(x))*x,x]\n",
    "f(x)= x\n",
    "\n",
    "if d==2\n",
    "    μ_out = [f(120.) .+ randn(),f(120.) .+ randn()]\n",
    "    s_out = 1e12*[1 0;0 1.]\n",
    "    msg_out = Message(Multivariate, GaussianWeightedMeanPrecision,xi=s_out*μ_out,w=s_out)\n",
    "else\n",
    "    μ_out = f(120.) .+ randn()\n",
    "    s_out = 100\n",
    "    msg_out = Message(Univariate, GaussianWeightedMeanPrecision,xi=s_out*μ_out,w=s_out) \n",
    "end\n",
    "\n",
    "\n",
    "logp_nc(z) = logPdf(msg_out.dist, f.(z))\n",
    "println(msg_out.dist)"
   ]
  },
  {
   "cell_type": "code",
   "execution_count": null,
   "metadata": {},
   "outputs": [],
   "source": [
    "opt = ParamStr2(eta=0.5,pareto_k_thr=0.05,max_iterations=1e4,mcmc_window_len=1000,\n",
    "    rhat_cutoff=4,mcse_cutoff =1e-7,ess_threshold=150.,convergence_algo=\"MonteCarlo\")\n",
    "#opt= Descent(1e-7)\n",
    "λ = renderCVI(logp_nc,1000,opt,λ_init,msg_in)\n",
    "λ_bc = naturalToBCParams(msg_in.dist,λ)\n",
    "println(\"μ=$(λ_bc[1]),S=$(λ_bc[2])\")\n",
    "\n",
    "    \n"
   ]
  },
  {
   "cell_type": "code",
   "execution_count": 6,
   "metadata": {},
   "outputs": [
    {
     "data": {
      "text/plain": [
       "true"
      ]
     },
     "execution_count": 6,
     "metadata": {},
     "output_type": "execute_result"
    }
   ],
   "source": [
    "(typeof(msg_in.dist) <: Union{ProbabilityDistribution{Multivariate,F},ProbabilityDistribution{Univariate,F}} where F<:Gaussian)"
   ]
  },
  {
   "cell_type": "code",
   "execution_count": 7,
   "metadata": {
    "scrolled": true
   },
   "outputs": [],
   "source": [
    "# opts = ParamStr2(eta=0.1,pareto_k_thr=0.05,max_iterations=1e5,mcmc_window_len=1000,\n",
    "#     rhat_cutoff=4,mcse_cutoff =1e-7,ess_threshold=150.,convergence_algo=\"MonteCarlo\")\n",
    "# opts.current_stepsize=opts.eta\n",
    "# J=11\n",
    "# Window=1000\n",
    "# if d==2\n",
    "#     η=[0.0, 0.01]\n",
    "# λ_initials=[[randn(),randn()],1e12*[1 0;0 1.],1e1*[1 0;0 1.]]\n",
    "# else\n",
    "#     η=[0.0, 0.01]\n",
    "#     λ_initials=[0.0, 0.01]\n",
    "# end\n",
    "\n",
    "# last_params,opt_matrix,stats_dict=oneWindowSimulation_MCMC(J,Window,opts,η,λ_initials,logp_nc,true,msg_in);\n",
    "# stats_dict"
   ]
  }
 ],
 "metadata": {
  "kernelspec": {
   "display_name": "IJulia 1.5.3",
   "language": "julia",
   "name": "ijulia-1.5"
  },
  "language_info": {
   "file_extension": ".jl",
   "mimetype": "application/julia",
   "name": "julia",
   "version": "1.5.3"
  }
 },
 "nbformat": 4,
 "nbformat_minor": 4
}
