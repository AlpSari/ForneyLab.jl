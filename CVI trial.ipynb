{
 "cells": [
  {
   "cell_type": "code",
   "execution_count": 1,
   "metadata": {
    "scrolled": true
   },
   "outputs": [],
   "source": [
    "using LinearAlgebra, Flux.Optimise, Plots, ForneyLab"
   ]
  },
  {
   "cell_type": "code",
   "execution_count": 2,
   "metadata": {},
   "outputs": [],
   "source": [
    "graph = FactorGraph()\n",
    "\n",
    "@RV x ~ GaussianMeanVariance(2.,1.)\n",
    "@RV w ~ Gamma(2.,3.5)\n",
    "@RV y ~ GaussianMeanPrecision(x,w)\n",
    "\n",
    "placeholder(y, :y)\n",
    ";"
   ]
  },
  {
   "cell_type": "code",
   "execution_count": 3,
   "metadata": {},
   "outputs": [
    {
     "name": "stdout",
     "output_type": "stream",
     "text": [
      "begin\n",
      "\n",
      "function stepW!(data::Dict, marginals::Dict=Dict(), messages::Vector{Message}=Array{Message}(undef, 2))\n",
      "\n",
      "messages[1] = ruleVBGammaOut(nothing, ProbabilityDistribution(Univariate, PointMass, m=2.0), ProbabilityDistribution(Univariate, PointMass, m=3.5))\n",
      "messages[2] = ruleVBGaussianMeanPrecisionW(ProbabilityDistribution(Univariate, PointMass, m=data[:y]), marginals[:x], nothing)\n",
      "\n",
      "marginals[:w] = messages[1].dist * messages[2].dist\n",
      "\n",
      "return marginals\n",
      "\n",
      "end\n",
      "\n",
      "function stepX!(data::Dict, marginals::Dict=Dict(), messages::Vector{Message}=Array{Message}(undef, 2))\n",
      "\n",
      "messages[1] = ruleVBGaussianMeanVarianceOut(nothing, ProbabilityDistribution(Univariate, PointMass, m=2.0), ProbabilityDistribution(Univariate, PointMass, m=1.0))\n",
      "messages[2] = ruleVBGaussianMeanPrecisionM(ProbabilityDistribution(Univariate, PointMass, m=data[:y]), nothing, marginals[:w])\n",
      "\n",
      "marginals[:x] = messages[1].dist * messages[2].dist\n",
      "\n",
      "return marginals\n",
      "\n",
      "end\n",
      "\n",
      "function freeEnergy(data::Dict, marginals::Dict)\n",
      "\n",
      "F = 0.0\n",
      "\n",
      "F += averageEnergy(Gamma, marginals[:w], ProbabilityDistribution(Univariate, PointMass, m=2.0), ProbabilityDistribution(Univariate, PointMass, m=3.5))\n",
      "F += averageEnergy(GaussianMeanPrecision, ProbabilityDistribution(Univariate, PointMass, m=data[:y]), marginals[:x], marginals[:w])\n",
      "F += averageEnergy(GaussianMeanVariance, marginals[:x], ProbabilityDistribution(Univariate, PointMass, m=2.0), ProbabilityDistribution(Univariate, PointMass, m=1.0))\n",
      "\n",
      "F -= differentialEntropy(marginals[:w])\n",
      "F -= differentialEntropy(marginals[:x])\n",
      "\n",
      "return F\n",
      "\n",
      "end\n",
      "\n",
      "end # block\n"
     ]
    }
   ],
   "source": [
    "pfz = PosteriorFactorization(x, w, ids=[:X, :W])\n",
    "algo = messagePassingAlgorithm(free_energy=true)\n",
    "source_code = algorithmSourceCode(algo, free_energy=true)\n",
    "eval(Meta.parse(source_code));\n",
    "println(source_code)"
   ]
  },
  {
   "cell_type": "code",
   "execution_count": 4,
   "metadata": {},
   "outputs": [],
   "source": [
    "# Execute algorithm\n",
    "n_its = 5\n",
    "marginals = Dict()\n",
    "F = zeros(n_its)\n",
    "data = Dict(:y => 11.4)\n",
    "\n",
    "marginals[:x] = vague(GaussianMeanVariance)\n",
    "marginals[:w] = vague(Gamma)\n",
    "\n",
    "for i = 1:n_its\n",
    "    stepX!(data, marginals)\n",
    "    stepW!(data, marginals)\n",
    "    \n",
    "    F[i] = freeEnergy(data, marginals)\n",
    "end"
   ]
  },
  {
   "cell_type": "code",
   "execution_count": 5,
   "metadata": {},
   "outputs": [
    {
     "data": {
      "text/plain": [
       "5-element Array{Float64,1}:\n",
       " 58.75614770485671\n",
       " 13.198016410548277\n",
       "  7.857830010678137\n",
       "  7.692763736169844\n",
       "  7.690828089185899"
      ]
     },
     "execution_count": 5,
     "metadata": {},
     "output_type": "execute_result"
    }
   ],
   "source": [
    "F"
   ]
  },
  {
   "cell_type": "code",
   "execution_count": 6,
   "metadata": {},
   "outputs": [
    {
     "data": {
      "text/plain": [
       "Dict{Any,Any} with 2 entries:\n",
       "  :w => Gam(a=2.50, b=43.42)…\n",
       "  :x => 𝒩(xi=2.66, w=1.06)…"
      ]
     },
     "execution_count": 6,
     "metadata": {},
     "output_type": "execute_result"
    }
   ],
   "source": [
    "marginals"
   ]
  },
  {
   "cell_type": "code",
   "execution_count": 7,
   "metadata": {},
   "outputs": [
    {
     "data": {
      "text/plain": [
       "2.517509781970646"
      ]
     },
     "execution_count": 7,
     "metadata": {},
     "output_type": "execute_result"
    }
   ],
   "source": [
    "mean(marginals[:x])"
   ]
  },
  {
   "cell_type": "code",
   "execution_count": 8,
   "metadata": {},
   "outputs": [
    {
     "data": {
      "text/plain": [
       "0.9449457678754632"
      ]
     },
     "execution_count": 8,
     "metadata": {},
     "output_type": "execute_result"
    }
   ],
   "source": [
    "var(marginals[:x])"
   ]
  },
  {
   "cell_type": "code",
   "execution_count": 9,
   "metadata": {},
   "outputs": [],
   "source": [
    "# CVI\n",
    "graph = FactorGraph()\n",
    "\n",
    "f(x) = x\n",
    "\n",
    "@RV x ~ GaussianMeanVariance(2.,1.)\n",
    "@RV x_ ~ Cvi(x,g=f,opt=Descent(0.1),num_samples=1000,num_iterations=100)\n",
    "@RV w ~ Gamma(2.,3.5)\n",
    "@RV y ~ GaussianMeanPrecision(x_,w)\n",
    "\n",
    "placeholder(y, :y)\n",
    ";"
   ]
  },
  {
   "cell_type": "code",
   "execution_count": 10,
   "metadata": {},
   "outputs": [
    {
     "name": "stdout",
     "output_type": "stream",
     "text": [
      "begin\n",
      "\n",
      "function stepW!(data::Dict, marginals::Dict=Dict(), messages::Vector{Message}=Array{Message}(undef, 2))\n",
      "\n",
      "messages[1] = ruleVBGammaOut(nothing, ProbabilityDistribution(Univariate, PointMass, m=2.0), ProbabilityDistribution(Univariate, PointMass, m=3.5))\n",
      "messages[2] = ruleVBGaussianMeanPrecisionW(ProbabilityDistribution(Univariate, PointMass, m=data[:y]), marginals[:x_], nothing)\n",
      "\n",
      "marginals[:w] = messages[1].dist * messages[2].dist\n",
      "\n",
      "return marginals\n",
      "\n",
      "end\n",
      "\n",
      "function stepX!(data::Dict, marginals::Dict=Dict(), messages::Vector{Message}=Array{Message}(undef, 4))\n",
      "\n",
      "messages[1] = ruleVBGaussianMeanVarianceOut(nothing, ProbabilityDistribution(Univariate, PointMass, m=2.0), ProbabilityDistribution(Univariate, PointMass, m=1.0))\n",
      "messages[2] = ruleSPCVIOutVD(:cvi_1, nothing, messages[1])\n",
      "messages[3] = ruleVBGaussianMeanPrecisionM(ProbabilityDistribution(Univariate, PointMass, m=data[:y]), nothing, marginals[:w])\n",
      "messages[4] = ruleSPCVIIn1MV(:cvi_1, messages[3], messages[1])\n",
      "\n",
      "marginals[:x] = messages[1].dist * messages[4].dist\n",
      "marginals[:x_] = messages[2].dist * messages[3].dist\n",
      "\n",
      "return marginals\n",
      "\n",
      "end\n",
      "\n",
      "function freeEnergy(data::Dict, marginals::Dict)\n",
      "\n",
      "F = 0.0\n",
      "\n",
      "F += averageEnergy(Gamma, marginals[:w], ProbabilityDistribution(Univariate, PointMass, m=2.0), ProbabilityDistribution(Univariate, PointMass, m=3.5))\n",
      "F += averageEnergy(GaussianMeanPrecision, ProbabilityDistribution(Univariate, PointMass, m=data[:y]), marginals[:x_], marginals[:w])\n",
      "F += averageEnergy(GaussianMeanVariance, marginals[:x], ProbabilityDistribution(Univariate, PointMass, m=2.0), ProbabilityDistribution(Univariate, PointMass, m=1.0))\n",
      "\n",
      "F -= differentialEntropy(marginals[:w])\n",
      "F -= differentialEntropy(marginals[:x])\n",
      "\n",
      "return F\n",
      "\n",
      "end\n",
      "\n",
      "end # block\n"
     ]
    }
   ],
   "source": [
    "pfz = PosteriorFactorization(x, w, ids=[:X, :W])\n",
    "algo = messagePassingAlgorithm(free_energy=true)\n",
    "source_code = algorithmSourceCode(algo, free_energy=true)\n",
    "eval(Meta.parse(source_code));\n",
    "println(source_code)"
   ]
  },
  {
   "cell_type": "code",
   "execution_count": 11,
   "metadata": {},
   "outputs": [],
   "source": [
    "# Execute algorithm\n",
    "n_its = 5\n",
    "marginals = Dict()\n",
    "F = zeros(n_its)\n",
    "data = Dict(:y => 11.4)\n",
    "\n",
    "marginals[:x] = vague(GaussianMeanVariance)\n",
    "marginals[:w] = vague(Gamma)\n",
    "\n",
    "for i = 1:n_its\n",
    "    stepX!(data, marginals)\n",
    "    stepW!(data, marginals)\n",
    "    \n",
    "    F[i] = freeEnergy(data, marginals)\n",
    "end"
   ]
  },
  {
   "cell_type": "code",
   "execution_count": 12,
   "metadata": {},
   "outputs": [
    {
     "data": {
      "text/plain": [
       "5-element Array{Float64,1}:\n",
       " 58.75616991383632\n",
       " 13.159539423818055\n",
       "  7.830488814981333\n",
       "  7.686974526271021\n",
       "  7.690629922850485"
      ]
     },
     "execution_count": 12,
     "metadata": {},
     "output_type": "execute_result"
    }
   ],
   "source": [
    "F"
   ]
  },
  {
   "cell_type": "code",
   "execution_count": 13,
   "metadata": {},
   "outputs": [
    {
     "data": {
      "text/plain": [
       "Dict{Any,Any} with 3 entries:\n",
       "  :w  => Gam(a=2.50, b=43.41)…\n",
       "  :x_ => SampleList(s=[1.85, 3.62, 1.25, 3.12, 1.53, 5.59, 1.61, 2.17, 0.56, 2.…\n",
       "  :x  => 𝒩(xi=2.67, w=1.06)…"
      ]
     },
     "execution_count": 13,
     "metadata": {},
     "output_type": "execute_result"
    }
   ],
   "source": [
    "marginals"
   ]
  },
  {
   "cell_type": "code",
   "execution_count": 14,
   "metadata": {},
   "outputs": [],
   "source": [
    "# CVI\n",
    "graph = FactorGraph()\n",
    "\n",
    "f(x) = x^2\n",
    "\n",
    "@RV x ~ GaussianMeanVariance(2.,1.)\n",
    "@RV x_ ~ Cvi(x,g=f,opt=Descent(0.1),num_samples=1000,num_iterations=100)\n",
    "@RV w ~ Gamma(2.,3.5)\n",
    "@RV y ~ GaussianMeanPrecision(x_,w)\n",
    "\n",
    "placeholder(y, :y)\n",
    ";"
   ]
  },
  {
   "cell_type": "code",
   "execution_count": 15,
   "metadata": {},
   "outputs": [
    {
     "name": "stdout",
     "output_type": "stream",
     "text": [
      "begin\n",
      "\n",
      "function stepW!(data::Dict, marginals::Dict=Dict(), messages::Vector{Message}=Array{Message}(undef, 2))\n",
      "\n",
      "messages[1] = ruleVBGammaOut(nothing, ProbabilityDistribution(Univariate, PointMass, m=2.0), ProbabilityDistribution(Univariate, PointMass, m=3.5))\n",
      "messages[2] = ruleVBGaussianMeanPrecisionW(ProbabilityDistribution(Univariate, PointMass, m=data[:y]), marginals[:x_], nothing)\n",
      "\n",
      "marginals[:w] = messages[1].dist * messages[2].dist\n",
      "\n",
      "return marginals\n",
      "\n",
      "end\n",
      "\n",
      "function stepX!(data::Dict, marginals::Dict=Dict(), messages::Vector{Message}=Array{Message}(undef, 4))\n",
      "\n",
      "messages[1] = ruleVBGaussianMeanVarianceOut(nothing, ProbabilityDistribution(Univariate, PointMass, m=2.0), ProbabilityDistribution(Univariate, PointMass, m=1.0))\n",
      "messages[2] = ruleSPCVIOutVD(:cvi_1, nothing, messages[1])\n",
      "messages[3] = ruleVBGaussianMeanPrecisionM(ProbabilityDistribution(Univariate, PointMass, m=data[:y]), nothing, marginals[:w])\n",
      "messages[4] = ruleSPCVIIn1MV(:cvi_1, messages[3], messages[1])\n",
      "\n",
      "marginals[:x] = messages[1].dist * messages[4].dist\n",
      "marginals[:x_] = messages[2].dist * messages[3].dist\n",
      "\n",
      "return marginals\n",
      "\n",
      "end\n",
      "\n",
      "function freeEnergy(data::Dict, marginals::Dict)\n",
      "\n",
      "F = 0.0\n",
      "\n",
      "F += averageEnergy(Gamma, marginals[:w], ProbabilityDistribution(Univariate, PointMass, m=2.0), ProbabilityDistribution(Univariate, PointMass, m=3.5))\n",
      "F += averageEnergy(GaussianMeanPrecision, ProbabilityDistribution(Univariate, PointMass, m=data[:y]), marginals[:x_], marginals[:w])\n",
      "F += averageEnergy(GaussianMeanVariance, marginals[:x], ProbabilityDistribution(Univariate, PointMass, m=2.0), ProbabilityDistribution(Univariate, PointMass, m=1.0))\n",
      "\n",
      "F -= differentialEntropy(marginals[:w])\n",
      "F -= differentialEntropy(marginals[:x])\n",
      "\n",
      "return F\n",
      "\n",
      "end\n",
      "\n",
      "end # block\n"
     ]
    }
   ],
   "source": [
    "pfz = PosteriorFactorization(x, w, ids=[:X, :W])\n",
    "algo = messagePassingAlgorithm(free_energy=true)\n",
    "source_code = algorithmSourceCode(algo, free_energy=true)\n",
    "eval(Meta.parse(source_code));\n",
    "println(source_code)"
   ]
  },
  {
   "cell_type": "code",
   "execution_count": 16,
   "metadata": {},
   "outputs": [],
   "source": [
    "# Execute algorithm\n",
    "n_its = 5\n",
    "marginals = Dict()\n",
    "F = zeros(n_its)\n",
    "data = Dict(:y => 11.4)\n",
    "\n",
    "marginals[:x] = vague(GaussianMeanVariance)\n",
    "marginals[:w] = vague(Gamma)\n",
    "\n",
    "for i = 1:n_its\n",
    "    stepX!(data, marginals)\n",
    "    stepW!(data, marginals)\n",
    "    \n",
    "    F[i] = freeEnergy(data, marginals)\n",
    "end"
   ]
  },
  {
   "cell_type": "code",
   "execution_count": 17,
   "metadata": {},
   "outputs": [
    {
     "data": {
      "text/plain": [
       "5-element Array{Float64,1}:\n",
       " 17.433302878439797\n",
       "  3.8589459295245243\n",
       "  3.9028404679782627\n",
       "  3.951863299950009\n",
       "  3.876962222435946"
      ]
     },
     "execution_count": 17,
     "metadata": {},
     "output_type": "execute_result"
    }
   ],
   "source": [
    "F"
   ]
  },
  {
   "cell_type": "code",
   "execution_count": 18,
   "metadata": {},
   "outputs": [
    {
     "data": {
      "text/plain": [
       "Dict{Any,Any} with 3 entries:\n",
       "  :w  => Gam(a=2.50, b=4.43)…\n",
       "  :x_ => SampleList(s=[9.69, 12.73, 11.51, 12.70, 11.09, 10.08, 10.96, 10.92, 7…\n",
       "  :x  => 𝒩(xi=85.45, w=25.66)…"
      ]
     },
     "execution_count": 18,
     "metadata": {},
     "output_type": "execute_result"
    }
   ],
   "source": [
    "marginals"
   ]
  },
  {
   "cell_type": "code",
   "execution_count": null,
   "metadata": {},
   "outputs": [],
   "source": []
  }
 ],
 "metadata": {
  "kernelspec": {
   "display_name": "Julia 1.5.3",
   "language": "julia",
   "name": "julia-1.5"
  },
  "language_info": {
   "file_extension": ".jl",
   "mimetype": "application/julia",
   "name": "julia",
   "version": "1.5.3"
  }
 },
 "nbformat": 4,
 "nbformat_minor": 4
}
