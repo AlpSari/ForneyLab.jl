{
 "cells": [
  {
   "cell_type": "markdown",
   "metadata": {},
   "source": [
    "# Auto iBLR Gaussian Implementation Test "
   ]
  },
  {
   "cell_type": "code",
   "execution_count": 1,
   "metadata": {},
   "outputs": [],
   "source": [
    "using Random,LinearAlgebra, Flux.Optimise, Plots, ForneyLab\n",
    "using ForneyLab:ParamStr2,renderCVI,naturalToBCParams,oneWindowSimulation_MCMC,Pareto_k_fit\n",
    "import ForneyLab:bcToNaturalParams,naturalParams,bcToStandardDist,sampleBCDist "
   ]
  },
  {
   "cell_type": "code",
   "execution_count": 2,
   "metadata": {},
   "outputs": [],
   "source": [
    "Random.seed!(1234);"
   ]
  },
  {
   "cell_type": "markdown",
   "metadata": {},
   "source": [
    "# Multivariate Results"
   ]
  },
  {
   "cell_type": "code",
   "execution_count": 3,
   "metadata": {},
   "outputs": [
    {
     "data": {
      "text/plain": [
       "Message: 𝒩(xi=[1.00e+02, 1.00e+02], w=diag[1.00e+02, 1.00e+02])\n"
      ]
     },
     "execution_count": 3,
     "metadata": {},
     "output_type": "execute_result"
    }
   ],
   "source": [
    "d=2\n",
    "if d>=2\n",
    "    μ_in = ones(d) #[0.0,0.0]\n",
    "    s_in = 100*diageye(d)  #100*[1 0;0 1.]\n",
    "    λ_init = [s_in*μ_in;vec(-0.5*s_in)] # Natparams\n",
    "    msg_in = Message(Multivariate, GaussianWeightedMeanPrecision,xi=s_in*μ_in,w=s_in)\n",
    "else\n",
    "    μ_in = 0.0\n",
    "    s_in = 0.01\n",
    "    λ_init = [s_in*μ_in,-0.5*s_in] # Natparams\n",
    "    msg_in = Message(Univariate, GaussianWeightedMeanPrecision,xi=s_in*μ_in,w=s_in)\n",
    "end\n",
    "\n"
   ]
  },
  {
   "cell_type": "code",
   "execution_count": 4,
   "metadata": {},
   "outputs": [
    {
     "name": "stdout",
     "output_type": "stream",
     "text": [
      "𝒩(xi=[1.21e+14, 1.19e+14], w=diag[1.00e+12, 1.00e+12])\n",
      "\n"
     ]
    }
   ],
   "source": [
    "f(x)= norm(x)\n",
    "if d>=2\n",
    "    μ_out = [f(120.)+randn() for i in 1:d]#[f(120.) .+ randn(),f(120.) .+ randn()]\n",
    "    s_out = 1e12*diageye(d) #[1 0;0 1.]\n",
    "    msg_out = Message(Multivariate, GaussianWeightedMeanPrecision,xi=s_out*μ_out,w=s_out)\n",
    "else\n",
    "    μ_out = f(120.) .+ randn()\n",
    "    s_out = 100\n",
    "    msg_out = Message(Univariate, GaussianWeightedMeanPrecision,xi=s_out*μ_out,w=s_out) \n",
    "end\n",
    "\n",
    "logp_nc(z) = logPdf(msg_out.dist, f.(z))\n",
    "println(msg_out.dist)"
   ]
  },
  {
   "cell_type": "markdown",
   "metadata": {},
   "source": [
    "### 1e-7 Step Size"
   ]
  },
  {
   "cell_type": "code",
   "execution_count": 5,
   "metadata": {},
   "outputs": [
    {
     "name": "stdout",
     "output_type": "stream",
     "text": [
      "FE (1.086811452011988e14) is smaller now,FE_check starts when i=5200\n",
      "Importance ratios are 0, fitted Pareto shape parameter = NaN\n",
      "μ=[120.27455910196221, 118.51421725861942],S=[9.99993150993619e9 0.0; 0.0 9.99993150993619e9]\n",
      "Importance ratios are 0, fitted Pareto shape parameter = NaN\n",
      "μ=[120.2745589142024, 118.51421538529854],S=[9.99993150993619e9 0.0; 0.0 9.99993150993619e9]\n",
      "Warning: Stationary Distribution is not achieved.\n",
      "             VI result might be inaccurate!\n",
      "μ=[120.27157754942513, 118.51127953055705],S=[9.950479110851395e9 0.0; 0.0 9.950479110851395e9]\n"
     ]
    }
   ],
   "source": [
    "max_iterations = 1e5\n",
    "for str in [\"free_energy\",\"none\",\"MonteCarlo\"]\n",
    "opt = ParamStr2(eta=1e-7,pareto_k_thr=0.05,max_iterations=max_iterations,mcmc_window_len=2000,\n",
    "    rhat_cutoff=1.5,mcse_cutoff =1e-3,ess_threshold=150.,convergence_algo=str,verbose=true)\n",
    "λ = renderCVI(logp_nc,Int64(max_iterations),opt,λ_init,msg_in)\n",
    "λ_bc = naturalToBCParams(msg_in.dist,λ)\n",
    "println(\"μ=$(λ_bc[1]),S=$(λ_bc[2])\")\n",
    "end\n",
    "    \n"
   ]
  },
  {
   "cell_type": "markdown",
   "metadata": {},
   "source": [
    "### 0.5 Step Size"
   ]
  },
  {
   "cell_type": "code",
   "execution_count": 6,
   "metadata": {},
   "outputs": [
    {
     "name": "stdout",
     "output_type": "stream",
     "text": [
      "FE (1.4157655916345334e6) is smaller now,FE_check starts when i=5200\n",
      "Algorithm converged at iteration 9200\n",
      "Importance ratios are 0, fitted Pareto shape parameter = NaN\n",
      "μ=[120.86734686783716, 119.09825595213465],S=[1.0000000001e12 0.0; 0.0 1.0000000001e12]\n",
      "Importance ratios are 0, fitted Pareto shape parameter = NaN\n",
      "μ=[120.86734725221505, 119.09825700563239],S=[1.0000000001e12 0.0; 0.0 1.0000000001e12]\n",
      "VI converged.\n",
      "μ=[120.86734718315336, 119.09825616764302],S=[1.0000000001e12 0.0; 0.0 1.0000000001e12]\n"
     ]
    }
   ],
   "source": [
    "max_iterations = 1e5\n",
    "for str in [\"free_energy\",\"none\",\"MonteCarlo\"]\n",
    "opt = ParamStr2(eta=0.5,pareto_k_thr=0.05,max_iterations=max_iterations,mcmc_window_len=2000,\n",
    "    rhat_cutoff=1.5,mcse_cutoff =1e-3,ess_threshold=150.,convergence_algo=str,verbose=true)\n",
    "#opt= Descent(1e-7)\n",
    "λ = renderCVI(logp_nc,Int64(max_iterations),opt,λ_init,msg_in)\n",
    "λ_bc = naturalToBCParams(msg_in.dist,λ)\n",
    "println(\"μ=$(λ_bc[1]),S=$(λ_bc[2])\")\n",
    "end"
   ]
  },
  {
   "cell_type": "markdown",
   "metadata": {},
   "source": [
    "# Univariate Results"
   ]
  },
  {
   "cell_type": "code",
   "execution_count": 7,
   "metadata": {},
   "outputs": [
    {
     "name": "stdout",
     "output_type": "stream",
     "text": [
      "𝒩(xi=1.19e+04, w=100)\n",
      "\n"
     ]
    }
   ],
   "source": [
    "d=1\n",
    "if d==2\n",
    "    μ_in = [0.0,0.0]\n",
    "    s_in = 100*[1 0;0 1.]\n",
    "    λ_init = [s_in*μ_in;vec(-0.5*s_in)] # Natparams\n",
    "    msg_in = Message(Multivariate, GaussianWeightedMeanPrecision,xi=s_in*μ_in,w=s_in)\n",
    "else\n",
    "    μ_in = 0.0\n",
    "    s_in = 0.01\n",
    "    λ_init = [s_in*μ_in,-0.5*s_in] # Natparams\n",
    "    msg_in = Message(Univariate, GaussianWeightedMeanPrecision,xi=s_in*μ_in,w=s_in)\n",
    "end\n",
    "#f(x) = x\n",
    "# σ(x) = 1/(1+exp(-x))\n",
    "# f(x)= [x^2+σ(x)tanh(x)+2*log(abs(x))*x,x]\n",
    "#f(x)= (x^3)*exp(-0.005*abs(x))*-1\n",
    "f(x)=norm(x)\n",
    "if d==2\n",
    "    μ_out = [f(120.) .+ randn(),f(120.) .+ randn()]\n",
    "    s_out = 1e12*[1 0;0 1.]\n",
    "    msg_out = Message(Multivariate, GaussianWeightedMeanPrecision,xi=s_out*μ_out,w=s_out)\n",
    "else\n",
    "    μ_out = f(120.) .+ randn()\n",
    "    s_out = 100\n",
    "    msg_out = Message(Univariate, GaussianWeightedMeanPrecision,xi=s_out*μ_out,w=s_out) \n",
    "end\n",
    "\n",
    "\n",
    "logp_nc(z) = logPdf(msg_out.dist, f.(z))\n",
    "println(msg_out.dist)\n"
   ]
  },
  {
   "cell_type": "markdown",
   "metadata": {},
   "source": [
    "### 1e-7 Step Size"
   ]
  },
  {
   "cell_type": "code",
   "execution_count": 8,
   "metadata": {},
   "outputs": [
    {
     "name": "stdout",
     "output_type": "stream",
     "text": [
      "FE (583472.0273407327) is smaller now,FE_check starts when i=58\n",
      "Importance ratios are 0, fitted Pareto shape parameter = NaN\n",
      "μ=-31.30725128826589,S=0.02000296664809481\n",
      "Importance ratios are 0, fitted Pareto shape parameter = NaN\n",
      "μ=31.77012756913559,S=0.02000296664809481\n",
      "Warning: Stationary Distribution is not achieved.\n",
      "             VI result might be inaccurate!\n",
      "μ=0.8129151431289064,S=0.02500838210516391\n"
     ]
    }
   ],
   "source": [
    "max_iterations = 1e3\n",
    "for str in [\"free_energy\",\"none\",\"MonteCarlo\"]\n",
    "opt = ParamStr2(eta=1e-7,pareto_k_thr=0.05,max_iterations=max_iterations,mcmc_window_len=2000,\n",
    "    rhat_cutoff=1.5,mcse_cutoff =1e-3,ess_threshold=150.,convergence_algo=str,verbose=true)\n",
    "#opt= Descent(1e-7)\n",
    "λ = renderCVI(logp_nc,Int64(max_iterations),opt,λ_init,msg_in)\n",
    "λ_bc = naturalToBCParams(msg_in.dist,λ)\n",
    "println(\"μ=$(λ_bc[1]),S=$(λ_bc[2])\")\n",
    "end\n",
    "    \n"
   ]
  },
  {
   "cell_type": "markdown",
   "metadata": {},
   "source": [
    "### 0.5 Step Size"
   ]
  },
  {
   "cell_type": "code",
   "execution_count": 9,
   "metadata": {},
   "outputs": [
    {
     "name": "stdout",
     "output_type": "stream",
     "text": [
      "FE (713111.3251198871) is smaller now,FE_check starts when i=52\n",
      "Algorithm converged at iteration 92\n",
      "Warning, fitted Pareto shape parameter =0.18546962295530448>=0.05!\n",
      "μ=118.84569607416516,S=100.01000000000002\n",
      "Warning, fitted Pareto shape parameter =0.34068557996939935>=0.05!\n",
      "μ=118.92292353499404,S=100.01000000000002\n",
      "Warning: Stationary Distribution is not achieved.\n",
      "             VI result might be inaccurate!\n",
      "μ=23.77809518644229,S=100.01000000000023\n"
     ]
    }
   ],
   "source": [
    "max_iterations = 1e3\n",
    "for str in [\"free_energy\",\"none\",\"MonteCarlo\"]\n",
    "opt = ParamStr2(eta=0.5,pareto_k_thr=0.05,max_iterations=max_iterations,mcmc_window_len=2000,\n",
    "    rhat_cutoff=1.5,mcse_cutoff =1e-3,ess_threshold=150.,convergence_algo=str,verbose=true)\n",
    "#opt= Descent(1e-7)\n",
    "λ = renderCVI(logp_nc,Int64(max_iterations),opt,λ_init,msg_in)\n",
    "λ_bc = naturalToBCParams(msg_in.dist,λ)\n",
    "println(\"μ=$(λ_bc[1]),S=$(λ_bc[2])\")\n",
    "end"
   ]
  },
  {
   "cell_type": "markdown",
   "metadata": {},
   "source": [
    "## With Initial Step Size found by InexactLineSearch"
   ]
  },
  {
   "cell_type": "code",
   "execution_count": 10,
   "metadata": {},
   "outputs": [
    {
     "name": "stdout",
     "output_type": "stream",
     "text": [
      "inexactLineSearch succeeded, setting initial stepsize to 1.0280139715407661e-5\n",
      "Burninmax reached (50000), FE_check starts when i=50200\n",
      "Algorithm converged at iteration 54200\n",
      "Warning, fitted Pareto shape parameter =1.0972024623344898>=0.05!\n",
      "μ=-118.87378524576447,S=42.73061573935452\n",
      "inexactLineSearch succeeded, setting initial stepsize to 6.744799667278967e-6\n",
      "Warning, fitted Pareto shape parameter =1.0976474084859107>=0.05!\n",
      "μ=-118.881293176378,S=49.06944915376517\n",
      "inexactLineSearch succeeded, setting initial stepsize to 1.4101700569832182e-5\n",
      "Warning: Stationary Distribution is not achieved.\n",
      "             VI result might be inaccurate!\n",
      "μ=-71.33369850991906,S=75.4288631126996\n"
     ]
    }
   ],
   "source": [
    "max_iterations = 1e5\n",
    "for str in [\"free_energy\",\"none\",\"MonteCarlo\"]\n",
    "opt = ParamStr2(pareto_k_thr=0.05,max_iterations=max_iterations,mcmc_window_len=2000,\n",
    "    rhat_cutoff=1.5,mcse_cutoff =1e-3,ess_threshold=150.,convergence_algo=str,verbose=true)\n",
    "#opt= Descent(1e-7)\n",
    "λ = renderCVI(logp_nc,Int64(max_iterations),opt,λ_init,msg_in)\n",
    "λ_bc = naturalToBCParams(msg_in.dist,λ)\n",
    "println(\"μ=$(λ_bc[1]),S=$(λ_bc[2])\")\n",
    "end"
   ]
  },
  {
   "cell_type": "markdown",
   "metadata": {},
   "source": [
    "## With Step Size found by Adaptive Step Size"
   ]
  },
  {
   "cell_type": "code",
   "execution_count": 11,
   "metadata": {
    "scrolled": true
   },
   "outputs": [
    {
     "name": "stdout",
     "output_type": "stream",
     "text": [
      "Burninmax reached (50000), FE_check starts when i=50200\n",
      "Algorithm converged at iteration 54200\n",
      "Importance ratios are 0, fitted Pareto shape parameter = NaN\n",
      "μ=-106.88064641894836,S=109.33044274133975\n",
      "Importance ratios are 0, fitted Pareto shape parameter = NaN\n",
      "μ=111.9560668408084,S=105.08045854109831\n",
      "Warning: Stationary Distribution is not achieved.\n",
      "             VI result might be inaccurate!\n",
      "μ=23.75599507705373,S=38.42141149669742\n"
     ]
    }
   ],
   "source": [
    "max_iterations = 1e5\n",
    "for str in [\"free_energy\",\"none\",\"MonteCarlo\"]\n",
    "opt = ParamStr2(stepsize_update=\"adaptive\",pareto_k_thr=0.7,max_iterations=max_iterations,mcmc_window_len=2000,\n",
    "    rhat_cutoff=1.5,mcse_cutoff =1e-3,ess_threshold=150.,convergence_algo=str,verbose=true)\n",
    "#opt= Descent(1e-7)\n",
    "λ = renderCVI(logp_nc,Int64(max_iterations),opt,λ_init,msg_in)\n",
    "λ_bc = naturalToBCParams(msg_in.dist,λ)\n",
    "println(\"μ=$(λ_bc[1]),S=$(λ_bc[2])\")\n",
    "end"
   ]
  },
  {
   "cell_type": "markdown",
   "metadata": {},
   "source": [
    "## With Step Size decay by Robbins - Monro"
   ]
  },
  {
   "cell_type": "code",
   "execution_count": 12,
   "metadata": {},
   "outputs": [
    {
     "name": "stdout",
     "output_type": "stream",
     "text": [
      "FE (711762.9770136658) is smaller now,FE_check starts when i=5200\n",
      "Algorithm converged at iteration 9200\n",
      "Warning, fitted Pareto shape parameter =0.8709271258414547>=0.7!\n",
      "μ=-118.88898488920779,S=100.01000000000114\n",
      "Warning, fitted Pareto shape parameter =1.063950424341222>=0.7!\n",
      "μ=118.89237239488084,S=100.01000000000114\n",
      "Warning: Stationary Distribution is not achieved.\n",
      "             VI result might be inaccurate!\n",
      "μ=-23.77908966607842,S=100.01000000000187\n"
     ]
    }
   ],
   "source": [
    "max_iterations = 1e5\n",
    "for str in [\"free_energy\",\"none\",\"MonteCarlo\"]\n",
    "opt = ParamStr2(eta=0.5,stepsize_update=\"decay\",pareto_k_thr=0.7,max_iterations=max_iterations,mcmc_window_len=2000,\n",
    "    rhat_cutoff=1.5,mcse_cutoff =1e-3,ess_threshold=150.,convergence_algo=str,verbose=true)\n",
    "#opt= Descent(1e-7)\n",
    "λ = renderCVI(logp_nc,Int64(max_iterations),opt,λ_init,msg_in)\n",
    "λ_bc = naturalToBCParams(msg_in.dist,λ)\n",
    "println(\"μ=$(λ_bc[1]),S=$(λ_bc[2])\")\n",
    "end"
   ]
  },
  {
   "cell_type": "markdown",
   "metadata": {},
   "source": [
    "## Check if Opt is updated after MCMC"
   ]
  },
  {
   "cell_type": "code",
   "execution_count": 13,
   "metadata": {},
   "outputs": [
    {
     "name": "stdout",
     "output_type": "stream",
     "text": [
      "Warning: Stationary Distribution is not achieved.\n",
      "             VI result might be inaccurate!\n",
      "μ=21.05205772245176,S=111.4264397113747\n",
      "1.243104021397104e12---[-180651.3289917953, 100.0]---100.0\n",
      "[2345.755840611151, -55.71321985568735][21.05205772245176, 111.4264397113747]\n"
     ]
    }
   ],
   "source": [
    "max_iterations = 1e4\n",
    "str = \"MonteCarlo\"\n",
    "opt = ParamStr2(stepsize_update=\"adaptive\",pareto_k_thr=0.7,max_iterations=max_iterations,mcmc_window_len=2000,\n",
    "    rhat_cutoff=1.5,mcse_cutoff =1e-3,ess_threshold=150.,convergence_algo=str,verbose=true)\n",
    "λ = renderCVI(logp_nc,Int64(max_iterations),opt,λ_init,msg_in)\n",
    "λ_bc = naturalToBCParams(msg_in.dist,λ)\n",
    "println(\"μ=$(λ_bc[1]),S=$(λ_bc[2])\")\n",
    "println(opt.h̄,\"---\",opt.ḡ,\"---\",opt.tau)\n",
    "println(λ,λ_bc)"
   ]
  }
 ],
 "metadata": {
  "kernelspec": {
   "display_name": "IJulia 1.5.3",
   "language": "julia",
   "name": "ijulia-1.5"
  },
  "language_info": {
   "file_extension": ".jl",
   "mimetype": "application/julia",
   "name": "julia",
   "version": "1.5.3"
  }
 },
 "nbformat": 4,
 "nbformat_minor": 4
}
