{
 "cells": [
  {
   "cell_type": "code",
   "execution_count": 1,
   "metadata": {
    "scrolled": true
   },
   "outputs": [
    {
     "name": "stderr",
     "output_type": "stream",
     "text": [
      "┌ Info: Precompiling ForneyLab [9fc3f58a-c2cc-5bff-9419-6a294fefdca9]\n",
      "└ @ Base loading.jl:1278\n",
      "WARNING: Method definition (::ForneyLab.var\"#logp_nc#360\"{msg_out, thenode, inx_list, arg_sample, j})(Any) in module ForneyLab at C:\\AlpOkul\\TUe_Masters\\Internship_BIASLab\\CVI_AlpSemih\\src\\engines\\julia\\update_rules\\cvi.jl:128 overwritten at C:\\AlpOkul\\TUe_Masters\\Internship_BIASLab\\CVI_AlpSemih\\src\\engines\\julia\\update_rules\\cvi.jl:131.\n",
      "  ** incremental compilation may be fatally broken for this module **\n",
      "\n",
      "WARNING: Method definition (::Type{ForneyLab.DefaultOptim})() in module ForneyLab at util.jl:438 overwritten at C:\\AlpOkul\\TUe_Masters\\Internship_BIASLab\\CVI_AlpSemih\\src\\engines\\julia\\update_rules\\cvi.jl:257.\n",
      "  ** incremental compilation may be fatally broken for this module **\n",
      "\n",
      "WARNING: Method definition Type##kw(Any, Type{ForneyLab.DefaultOptim}) in module ForneyLab at util.jl:438 overwritten at C:\\AlpOkul\\TUe_Masters\\Internship_BIASLab\\CVI_AlpSemih\\src\\engines\\julia\\update_rules\\cvi.jl:257.\n",
      "  ** incremental compilation may be fatally broken for this module **\n",
      "\n",
      "WARNING: Method definition (::Type{ForneyLab.ConvergenceStatsFE})() in module ForneyLab at util.jl:438 overwritten at C:\\AlpOkul\\TUe_Masters\\Internship_BIASLab\\CVI_AlpSemih\\src\\engines\\julia\\update_rules\\cvi.jl:276.\n",
      "  ** incremental compilation may be fatally broken for this module **\n",
      "\n",
      "WARNING: Method definition Type##kw(Any, Type{ForneyLab.ConvergenceStatsFE}) in module ForneyLab at util.jl:438 overwritten at C:\\AlpOkul\\TUe_Masters\\Internship_BIASLab\\CVI_AlpSemih\\src\\engines\\julia\\update_rules\\cvi.jl:276.\n",
      "  ** incremental compilation may be fatally broken for this module **\n",
      "\n",
      "WARNING: Method definition (::Type{ForneyLab.ConvergenceParamsFE})() in module ForneyLab at util.jl:438 overwritten at C:\\AlpOkul\\TUe_Masters\\Internship_BIASLab\\CVI_AlpSemih\\src\\engines\\julia\\update_rules\\cvi.jl:289.\n",
      "  ** incremental compilation may be fatally broken for this module **\n",
      "\n",
      "WARNING: Method definition Type##kw(Any, Type{ForneyLab.ConvergenceParamsFE}) in module ForneyLab at util.jl:438 overwritten at C:\\AlpOkul\\TUe_Masters\\Internship_BIASLab\\CVI_AlpSemih\\src\\engines\\julia\\update_rules\\cvi.jl:289.\n",
      "  ** incremental compilation may be fatally broken for this module **\n",
      "\n",
      "WARNING: Method definition (::Type{ForneyLab.ConvergenceParamsMC})() in module ForneyLab at util.jl:438 overwritten at C:\\AlpOkul\\TUe_Masters\\Internship_BIASLab\\CVI_AlpSemih\\src\\engines\\julia\\update_rules\\cvi.jl:316.\n",
      "  ** incremental compilation may be fatally broken for this module **\n",
      "\n",
      "WARNING: Method definition Type##kw(Any, Type{ForneyLab.ConvergenceParamsMC}) in module ForneyLab at util.jl:438 overwritten at C:\\AlpOkul\\TUe_Masters\\Internship_BIASLab\\CVI_AlpSemih\\src\\engines\\julia\\update_rules\\cvi.jl:316.\n",
      "  ** incremental compilation may be fatally broken for this module **\n",
      "\n",
      "WARNING: Method definition (::Type{ForneyLab.StepSizeParams})() in module ForneyLab at util.jl:438 overwritten at C:\\AlpOkul\\TUe_Masters\\Internship_BIASLab\\CVI_AlpSemih\\src\\engines\\julia\\update_rules\\cvi.jl:342.\n",
      "  ** incremental compilation may be fatally broken for this module **\n",
      "\n",
      "WARNING: Method definition Type##kw(Any, Type{ForneyLab.StepSizeParams}) in module ForneyLab at util.jl:438 overwritten at C:\\AlpOkul\\TUe_Masters\\Internship_BIASLab\\CVI_AlpSemih\\src\\engines\\julia\\update_rules\\cvi.jl:342.\n",
      "  ** incremental compilation may be fatally broken for this module **\n",
      "\n",
      "WARNING: Method definition (::Type{ForneyLab.ParamStr2})() in module ForneyLab at util.jl:438 overwritten at C:\\AlpOkul\\TUe_Masters\\Internship_BIASLab\\CVI_AlpSemih\\src\\engines\\julia\\update_rules\\cvi.jl:378.\n",
      "  ** incremental compilation may be fatally broken for this module **\n",
      "\n",
      "WARNING: Method definition Type##kw(Any, Type{ForneyLab.ParamStr2}) in module ForneyLab at util.jl:438 overwritten at C:\\AlpOkul\\TUe_Masters\\Internship_BIASLab\\CVI_AlpSemih\\src\\engines\\julia\\update_rules\\cvi.jl:378.\n",
      "  ** incremental compilation may be fatally broken for this module **\n",
      "\n"
     ]
    }
   ],
   "source": [
    "using Random,LinearAlgebra, Flux.Optimise, Plots, ForneyLab\n",
    "using ForneyLab:ParamStr2,renderCVI,iBLR\n",
    "using Statistics:median\n",
    "using StatsBase:percentile\n"
   ]
  },
  {
   "cell_type": "code",
   "execution_count": 2,
   "metadata": {},
   "outputs": [],
   "source": [
    "Random.seed!(1234);"
   ]
  },
  {
   "cell_type": "code",
   "execution_count": 3,
   "metadata": {},
   "outputs": [
    {
     "data": {
      "text/plain": [
       "Message: 𝒩(xi=0.00, w=1.00e-02)\n"
      ]
     },
     "execution_count": 3,
     "metadata": {},
     "output_type": "execute_result"
    }
   ],
   "source": [
    "μ_in = 0.0\n",
    "s_in = 0.01\n",
    "λ_init = [s_in*μ_in,-0.5*s_in] # Natparams\n",
    "msg_in = Message(Univariate, GaussianWeightedMeanPrecision,xi=s_in*μ_in,w=s_in)"
   ]
  },
  {
   "cell_type": "code",
   "execution_count": 4,
   "metadata": {},
   "outputs": [
    {
     "name": "stdout",
     "output_type": "stream",
     "text": [
      "𝒩(xi=1.56e+02, w=1.00e-02)\n",
      "\n"
     ]
    }
   ],
   "source": [
    "#f(x) = x\n",
    "σ(x) = 1/(1+exp(-x))\n",
    "f(x)= x^2+σ(x)tanh(x)+2*log(abs(x))*x\n",
    "μ_out = f(120.)+randn()\n",
    "s_out = 0.01\n",
    "msg_out = Message(Univariate, GaussianWeightedMeanPrecision,xi=s_out*μ_out,w=s_out)\n",
    "logp_nc(z) = logPdf(msg_out.dist, f(z))\n",
    "println(msg_out.dist)"
   ]
  },
  {
   "cell_type": "markdown",
   "metadata": {},
   "source": [
    "## ΔFE Convergence Optimizer"
   ]
  },
  {
   "cell_type": "code",
   "execution_count": 13,
   "metadata": {
    "scrolled": true
   },
   "outputs": [
    {
     "name": "stdout",
     "output_type": "stream",
     "text": [
      "FE (716967.8353583849) is smaller now,FE_check starts when i=52000\n",
      "Algorithm converged at iteration 92000\n",
      "Result at 1 = 119.82517444811091\n",
      "FE (716639.1691227983) is smaller now,FE_check starts when i=52000\n",
      "Algorithm converged at iteration 92000\n",
      "Result at 2 = 119.83367405487616\n",
      "FE (717945.2418658283) is smaller now,FE_check starts when i=52000\n",
      "Algorithm converged at iteration 150000\n",
      "Result at 3 = 119.89145296054949\n"
     ]
    }
   ],
   "source": [
    "opt = ParamStr2(eta=1e-8,max_iterations=1e6,convergence_algo=\"free_energy\")\n",
    "for i =1:3\n",
    "λ_nat_posterior = renderCVI(logp_nc,1000,opt,λ_init,msg_in)\n",
    "println(\"Result at $i = $(-0.5*λ_nat_posterior[1]/λ_nat_posterior[2])\")\n",
    "end"
   ]
  },
  {
   "cell_type": "markdown",
   "metadata": {},
   "source": [
    "## MCMC Convergence Optimizer"
   ]
  },
  {
   "cell_type": "code",
   "execution_count": 14,
   "metadata": {
    "scrolled": true
   },
   "outputs": [
    {
     "name": "stdout",
     "output_type": "stream",
     "text": [
      "Warning! The algorithm might not have been converged!\n",
      "Result at 1 = 119.99128749079439\n",
      "Warning! The algorithm might not have been converged!\n",
      "Result at 2 = 119.98699600297124\n",
      "Warning! The algorithm might not have been converged!\n",
      "Result at 3 = 119.99058037001006\n"
     ]
    }
   ],
   "source": [
    "opt = ParamStr2(eta=1e-8,max_iterations=1e6,convergence_algo=\"MonteCarlo\")\n",
    "λ_nat_posterior=nothing\n",
    "for i =1:3\n",
    "λ_nat_posterior = renderCVI(logp_nc,1000,opt,λ_init,msg_in)\n",
    "println(\"Result at $i = $(-0.5*λ_nat_posterior[1]/λ_nat_posterior[2])\")\n",
    "end"
   ]
  },
  {
   "cell_type": "code",
   "execution_count": 11,
   "metadata": {},
   "outputs": [
    {
     "data": {
      "text/plain": [
       "119.90891585917"
      ]
     },
     "execution_count": 11,
     "metadata": {},
     "output_type": "execute_result"
    }
   ],
   "source": []
  },
  {
   "cell_type": "markdown",
   "metadata": {},
   "source": [
    "## No Convergence Optimizer"
   ]
  },
  {
   "cell_type": "code",
   "execution_count": 15,
   "metadata": {},
   "outputs": [
    {
     "name": "stdout",
     "output_type": "stream",
     "text": [
      "Result at 1 = 119.98058772635001\n",
      "Result at 2 = 119.98095046747734\n",
      "Result at 3 = 119.98015131047924\n"
     ]
    }
   ],
   "source": [
    "opt = ParamStr2(eta=1e-8,max_iterations=1e6,convergence_algo=\"none\")\n",
    "for i =1:3\n",
    "λ_nat_posterior = renderCVI(logp_nc,1000,opt,λ_init,msg_in)\n",
    "println(\"Result at $i = $(-0.5*λ_nat_posterior[1]/λ_nat_posterior[2])\")\n",
    "end"
   ]
  }
 ],
 "metadata": {
  "kernelspec": {
   "display_name": "IJulia 1.5.3",
   "language": "julia",
   "name": "ijulia-1.5"
  },
  "language_info": {
   "file_extension": ".jl",
   "mimetype": "application/julia",
   "name": "julia",
   "version": "1.5.3"
  }
 },
 "nbformat": 4,
 "nbformat_minor": 4
}
