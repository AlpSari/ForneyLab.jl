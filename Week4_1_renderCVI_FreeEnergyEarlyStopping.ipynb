{
 "cells": [
  {
   "cell_type": "markdown",
   "metadata": {},
   "source": [
    "This notebook shows a Free Energy(FE) based method on CVI node to detect convergence of FE. If convergence is detected, the algorithm is stopped and parameters satisfying minimal FE is returned. If no convergence is achieved, it returns parameters from the last iteration. Another option is to return the parameters minimizing all FE, which can be prior parameters --> DISCUSS"
   ]
  },
  {
   "cell_type": "markdown",
   "metadata": {},
   "source": [
    "## IMPORTS"
   ]
  },
  {
   "cell_type": "code",
   "execution_count": 20,
   "metadata": {},
   "outputs": [],
   "source": [
    "using Random,LinearAlgebra, Flux.Optimise, Plots, ForneyLab\n",
    "using ForneyLab: iBLR,renderCVI_Δ_FE\n",
    "using Statistics:median"
   ]
  },
  {
   "cell_type": "code",
   "execution_count": 21,
   "metadata": {},
   "outputs": [],
   "source": [
    "Random.seed!(1234);"
   ]
  },
  {
   "cell_type": "markdown",
   "metadata": {},
   "source": [
    "## Algorithm Params"
   ]
  },
  {
   "cell_type": "code",
   "execution_count": 22,
   "metadata": {},
   "outputs": [
    {
     "data": {
      "text/plain": [
       "Message: 𝒩(xi=1.50e+04, w=5.00e+03)\n"
      ]
     },
     "execution_count": 22,
     "metadata": {},
     "output_type": "execute_result"
    }
   ],
   "source": [
    "μ_out = 3.0\n",
    "s_out = 5000.0\n",
    "msg_out = Message(Univariate, GaussianWeightedMeanPrecision,xi=s_out*μ_out,w=s_out)"
   ]
  },
  {
   "cell_type": "code",
   "execution_count": 23,
   "metadata": {},
   "outputs": [
    {
     "data": {
      "text/plain": [
       "Message: 𝒩(xi=0.00, w=1.00e-02)\n"
      ]
     },
     "execution_count": 23,
     "metadata": {},
     "output_type": "execute_result"
    }
   ],
   "source": [
    "μ_in = 0.0\n",
    "s_in = 0.01\n",
    "λ_init = [s_in*μ_in,-0.5*s_in] # Natparams\n",
    "msg_in = Message(Univariate, GaussianWeightedMeanPrecision,xi=s_in*μ_in,w=s_in)"
   ]
  },
  {
   "cell_type": "code",
   "execution_count": 24,
   "metadata": {},
   "outputs": [
    {
     "data": {
      "text/plain": [
       "logp_nc (generic function with 1 method)"
      ]
     },
     "execution_count": 24,
     "metadata": {},
     "output_type": "execute_result"
    }
   ],
   "source": [
    "f(x) = x\n",
    "logp_nc(z) = logPdf(msg_out.dist, f(z))"
   ]
  },
  {
   "cell_type": "markdown",
   "metadata": {},
   "source": [
    "## iBLR with Free Energy Stop Criteria"
   ]
  },
  {
   "cell_type": "code",
   "execution_count": 25,
   "metadata": {
    "scrolled": false
   },
   "outputs": [
    {
     "name": "stdout",
     "output_type": "stream",
     "text": [
      "---Δ_FE Parameters---\n",
      "Evaluate FE every 10'th iteration\n",
      "Tolerance (%):0.005\n",
      "Burn_in_min:9 ,Burn_in_max:100.0\n",
      "-------\n",
      "FE_check starts when i=110\n",
      "mean_T=-28.56595198760268\n"
     ]
    }
   ],
   "source": [
    "# Step size = 0.01 num_iterations = 1000 , \n",
    "opt = iBLR(0.01)\n",
    "num_iterations = 1000\n",
    "λ = renderCVI_Δ_FE(logp_nc,num_iterations,opt,λ_init,msg_in);\n",
    "prec = -2*λ[2]\n",
    "mean_t = λ[1]/prec\n",
    "println(\"mean_T=$mean_t\")"
   ]
  },
  {
   "cell_type": "code",
   "execution_count": 26,
   "metadata": {},
   "outputs": [
    {
     "name": "stdout",
     "output_type": "stream",
     "text": [
      "---Δ_FE Parameters---\n",
      "Evaluate FE every 10'th iteration\n",
      "Tolerance (%):0.005\n",
      "Burn_in_min:9 ,Burn_in_max:1000.0\n",
      "-------\n",
      "FE_check starts when i=510\n",
      "Algorithm converged at iteration 2760\n",
      "mean_T=2.9979676597583307\n"
     ]
    }
   ],
   "source": [
    "# Step size = 0.01 num_iterations = 10000\n",
    "opt = iBLR(0.01)\n",
    "num_iterations = 10000\n",
    "λ = renderCVI_Δ_FE(logp_nc,num_iterations,opt,λ_init,msg_in);\n",
    "prec = -2*λ[2]\n",
    "mean_t = λ[1]/prec\n",
    "println(\"mean_T=$mean_t\")"
   ]
  },
  {
   "cell_type": "code",
   "execution_count": 27,
   "metadata": {},
   "outputs": [
    {
     "name": "stdout",
     "output_type": "stream",
     "text": [
      "---Δ_FE Parameters---\n",
      "Evaluate FE every 10'th iteration\n",
      "Tolerance (%):0.005\n",
      "Burn_in_min:9 ,Burn_in_max:100.0\n",
      "-------\n",
      "FE_check starts when i=30\n",
      "Algorithm converged at iteration 50\n",
      "mean_T=2.9876914898629297\n"
     ]
    }
   ],
   "source": [
    "# Step size = 0.9 num_iterations = 1000\n",
    "opt = iBLR(0.9)\n",
    "num_iterations = 1000\n",
    "λ = renderCVI_Δ_FE(logp_nc,num_iterations,opt,λ_init,msg_in);\n",
    "prec = -2*λ[2]\n",
    "mean_t = λ[1]/prec\n",
    "println(\"mean_T=$mean_t\")"
   ]
  },
  {
   "cell_type": "code",
   "execution_count": 28,
   "metadata": {},
   "outputs": [
    {
     "name": "stdout",
     "output_type": "stream",
     "text": [
      "---Δ_FE Parameters---\n",
      "Evaluate FE every 10'th iteration\n",
      "Tolerance (%):0.005\n",
      "Burn_in_min:9 ,Burn_in_max:10000.0\n",
      "-------\n",
      "FE_check starts when i=30\n",
      "Algorithm converged at iteration 50\n",
      "mean_T=2.9945198993719235\n"
     ]
    }
   ],
   "source": [
    "# Step size = 0.9 num_iterations = 10000\n",
    "opt = iBLR(0.9)\n",
    "num_iterations = 100000\n",
    "λ = renderCVI_Δ_FE(logp_nc,num_iterations,opt,λ_init,msg_in);\n",
    "prec = -2*λ[2]\n",
    "mean_t = λ[1]/prec\n",
    "println(\"mean_T=$mean_t\")"
   ]
  },
  {
   "cell_type": "code",
   "execution_count": null,
   "metadata": {},
   "outputs": [],
   "source": []
  }
 ],
 "metadata": {
  "kernelspec": {
   "display_name": "IJulia 1.5.3",
   "language": "julia",
   "name": "ijulia-1.5"
  },
  "language_info": {
   "file_extension": ".jl",
   "mimetype": "application/julia",
   "name": "julia",
   "version": "1.5.3"
  }
 },
 "nbformat": 4,
 "nbformat_minor": 4
}
