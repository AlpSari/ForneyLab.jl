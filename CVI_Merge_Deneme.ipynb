{
 "cells": [
  {
   "cell_type": "code",
   "execution_count": 1,
   "metadata": {},
   "outputs": [
    {
     "name": "stderr",
     "output_type": "stream",
     "text": [
      "\u001b[32m\u001b[1m Activating\u001b[22m\u001b[39m environment at `C:\\Users\\ALP\\Desktop\\Sioux\\ForneyInternship\\ForneyLab.jl\\Project.toml`\n"
     ]
    }
   ],
   "source": [
    "using Pkg\n",
    "Pkg.activate(\".\")\n",
    "Pkg.instantiate();"
   ]
  },
  {
   "cell_type": "code",
   "execution_count": 2,
   "metadata": {},
   "outputs": [
    {
     "name": "stderr",
     "output_type": "stream",
     "text": [
      "┌ Info: Precompiling ForneyLab [9fc3f58a-c2cc-5bff-9419-6a294fefdca9]\n",
      "└ @ Base loading.jl:1278\n",
      "┌ Warning: This version of CUDA.jl only supports NVIDIA drivers for CUDA 10.1 or higher (yours is for CUDA 9.2.0)\n",
      "└ @ CUDA C:\\Users\\ALP\\.julia\\packages\\CUDA\\mbPFj\\src\\initialization.jl:100\n",
      "┌ Warning: This version of CUDA.jl only supports NVIDIA drivers for CUDA 10.1 or higher (yours is for CUDA 9.2.0)\n",
      "└ @ CUDA C:\\Users\\ALP\\.julia\\packages\\CUDA\\mbPFj\\src\\initialization.jl:100\n"
     ]
    }
   ],
   "source": [
    "using ForneyLab\n",
    "using Random,LinearAlgebra, Plots,Flux\n",
    "#using ForneyLab:iBLR,KL_bc\n",
    "#using ColorSchemes\n",
    ";"
   ]
  },
  {
   "cell_type": "code",
   "execution_count": 3,
   "metadata": {},
   "outputs": [],
   "source": [
    "Random.seed!(1235);"
   ]
  },
  {
   "cell_type": "code",
   "execution_count": 4,
   "metadata": {},
   "outputs": [
    {
     "name": "stdout",
     "output_type": "stream",
     "text": [
      "Measurement = -948346.6163545972\n"
     ]
    }
   ],
   "source": [
    "# Data and the Underlying Function\n",
    "true_value = 120.0\n",
    "f(x)=(x^3)*exp(-0.005*abs(x))*-1\n",
    "y_obs=f(true_value)+randn();\n",
    "\n",
    "N=10 # number of experiments\n",
    "\n",
    "println(\"Measurement = $y_obs\")"
   ]
  },
  {
   "cell_type": "code",
   "execution_count": 5,
   "metadata": {},
   "outputs": [
    {
     "name": "stdout",
     "output_type": "stream",
     "text": [
      "Descent method, mean of the posterior is = 16.146654221287015\n",
      "---\n",
      "Descent method, mean of the posterior is = 8.30059957930877\n",
      "---\n",
      "Descent method, mean of the posterior is = 7.319074892659945\n",
      "---\n",
      "Descent method, mean of the posterior is = 9.864118003448667\n",
      "---\n",
      "Descent method, mean of the posterior is = 12.107998520022498\n",
      "---\n",
      "Descent method, mean of the posterior is = 10.187962788201935\n",
      "---\n",
      "Descent method, mean of the posterior is = 12.818466293175396\n",
      "---\n",
      "Descent method, mean of the posterior is = 9.968827813711409\n",
      "---\n",
      "Descent method, mean of the posterior is = 9.217064833781928\n",
      "---\n",
      "Descent method, mean of the posterior is = 8.01978878131029\n",
      "---\n"
     ]
    }
   ],
   "source": [
    "num_samples = 1000\n",
    "g = FactorGraph()\n",
    "@RV z ~ GaussianMeanVariance(0.0, 100.0)\n",
    "@RV x ~ Cvi(z,g=f,opt=Descent(1e-5),num_samples=num_samples,num_iterations=Int64(100000))\n",
    "@RV y ~ GaussianMeanVariance(x, 100.0)\n",
    "placeholder(y, :y)\n",
    "# Infer algorithm\n",
    "pfz = PosteriorFactorization(g)\n",
    "algo = messagePassingAlgorithm(z)\n",
    "source_code = algorithmSourceCode(algo)\n",
    "eval(Meta.parse(source_code));\n",
    "marginals = Dict()\n",
    "for i=1:N\n",
    "    data = Dict(:y => y_obs)\n",
    "    marginals = step!(data,marginals)\n",
    "    #insert_data!(all_data,1,idx_counter,mean(marginals[:z]),NaN)\n",
    "    #idx_counter+=1\n",
    "    println(\"Descent method, mean of the posterior is = $(mean(marginals[:z]))\")\n",
    "    println(\"---\")\n",
    "end"
   ]
  },
  {
   "cell_type": "code",
   "execution_count": 6,
   "metadata": {
    "scrolled": false
   },
   "outputs": [
    {
     "name": "stdout",
     "output_type": "stream",
     "text": [
      "Warning! Convergence diagnostic indicator is = 1.0182245342576115\n",
      "Descent method, mean of the posterior is = 120.0002129940355\n",
      "---\n",
      "Warning! Convergence diagnostic indicator is = 1.008180517947621\n",
      "Descent method, mean of the posterior is = 120.00148353871853\n",
      "---\n",
      "Warning! Convergence diagnostic indicator is = NaN\n",
      "Descent method, mean of the posterior is = 528.5607537180615\n",
      "---\n",
      "Warning! Convergence diagnostic indicator is = NaN\n",
      "Descent method, mean of the posterior is = 34.88723494872153\n",
      "---\n",
      "Warning! Convergence diagnostic indicator is = NaN\n",
      "Descent method, mean of the posterior is = 1716.2396579879219\n",
      "---\n",
      "Warning! Convergence diagnostic indicator is = 1.0179272424799237\n",
      "Descent method, mean of the posterior is = 119.99997076153262\n",
      "---\n",
      "Warning! Convergence diagnostic indicator is = NaN\n",
      "Descent method, mean of the posterior is = 1716.2244181045546\n",
      "---\n",
      "Warning! Convergence diagnostic indicator is = NaN\n",
      "Descent method, mean of the posterior is = 1716.2002461699024\n",
      "---\n",
      "Warning! Convergence diagnostic indicator is = NaN\n",
      "Descent method, mean of the posterior is = 1715.3192097789768\n",
      "---\n",
      "Warning! Convergence diagnostic indicator is = 1.0105540586469504\n",
      "Descent method, mean of the posterior is = 120.00119546376526\n",
      "---\n"
     ]
    }
   ],
   "source": [
    "num_samples = 1000\n",
    "g = FactorGraph()\n",
    "@RV z ~ GaussianMeanVariance(0.0, 100.0)\n",
    "@RV x ~ Cvi(z,g=f,opt=Descent(1e-7),num_samples=num_samples,num_iterations=Int64(100000),convergence_optimizer = ConvergenceParamsFE())\n",
    "@RV y ~ GaussianMeanVariance(x, 100.0)\n",
    "placeholder(y, :y)\n",
    "# Infer algorithm\n",
    "pfz = PosteriorFactorization(g)\n",
    "algo = messagePassingAlgorithm(z)\n",
    "source_code = algorithmSourceCode(algo)\n",
    "eval(Meta.parse(source_code));\n",
    "marginals = Dict()\n",
    "for i=1:N\n",
    "    data = Dict(:y => y_obs)\n",
    "    marginals = step!(data,marginals)\n",
    "    #insert_data!(all_data,1,idx_counter,mean(marginals[:z]),NaN)\n",
    "    #idx_counter+=1\n",
    "    println(\"Descent method, mean of the posterior is = $(mean(marginals[:z]))\")\n",
    "    println(\"---\")\n",
    "end"
   ]
  },
  {
   "cell_type": "code",
   "execution_count": 7,
   "metadata": {
    "scrolled": false
   },
   "outputs": [
    {
     "name": "stdout",
     "output_type": "stream",
     "text": [
      "Warning: Stationary Distribution is not achieved.VI result might be inaccurate!\n",
      "Descent method, mean of the posterior is = 144.8385748704807\n",
      "---\n",
      "Warning: Stationary Distribution is not achieved.VI result might be inaccurate!\n",
      "Descent method, mean of the posterior is = 128.5035996692634\n",
      "---\n",
      "Warning: Stationary Distribution is not achieved.VI result might be inaccurate!\n",
      "Descent method, mean of the posterior is = 120.00054137879609\n",
      "---\n",
      "Warning: Stationary Distribution is not achieved.VI result might be inaccurate!\n",
      "Descent method, mean of the posterior is = 119.03923968470154\n",
      "---\n",
      "Warning: Stationary Distribution is not achieved.VI result might be inaccurate!\n",
      "Descent method, mean of the posterior is = 127.26043650879741\n",
      "---\n",
      "Warning: Stationary Distribution is not achieved.VI result might be inaccurate!\n",
      "Descent method, mean of the posterior is = 128.60083427879798\n",
      "---\n",
      "Warning: Stationary Distribution is not achieved.VI result might be inaccurate!\n",
      "Descent method, mean of the posterior is = 140.82378640331694\n",
      "---\n",
      "Warning: Stationary Distribution is not achieved.VI result might be inaccurate!\n",
      "Descent method, mean of the posterior is = 134.45697198514387\n",
      "---\n",
      "Warning: Stationary Distribution is not achieved.VI result might be inaccurate!\n",
      "Descent method, mean of the posterior is = 133.31901525691322\n",
      "---\n",
      "Warning: Stationary Distribution is not achieved.VI result might be inaccurate!\n",
      "Descent method, mean of the posterior is = 119.99594936828136\n",
      "---\n"
     ]
    }
   ],
   "source": [
    "num_samples = 1000\n",
    "g = FactorGraph()\n",
    "@RV z ~ GaussianMeanVariance(0.0, 100.0)\n",
    "@RV x ~ Cvi(z,g=f,opt=Descent(1e-7),num_samples=num_samples,num_iterations=Int64(100000),convergence_optimizer = ConvergenceParamsMC())\n",
    "@RV y ~ GaussianMeanVariance(x, 100.0)\n",
    "placeholder(y, :y)\n",
    "# Infer algorithm\n",
    "pfz = PosteriorFactorization(g)\n",
    "algo = messagePassingAlgorithm(z)\n",
    "source_code = algorithmSourceCode(algo)\n",
    "eval(Meta.parse(source_code));\n",
    "marginals = Dict()\n",
    "for i=1:N\n",
    "    data = Dict(:y => y_obs)\n",
    "    marginals = step!(data,marginals)\n",
    "    #insert_data!(all_data,1,idx_counter,mean(marginals[:z]),NaN)\n",
    "    #idx_counter+=1\n",
    "    println(\"Descent method, mean of the posterior is = $(mean(marginals[:z]))\")\n",
    "    println(\"---\")\n",
    "end"
   ]
  }
 ],
 "metadata": {
  "kernelspec": {
   "display_name": "julia 1.5.2",
   "language": "julia",
   "name": "julia-1.5"
  },
  "language_info": {
   "file_extension": ".jl",
   "mimetype": "application/julia",
   "name": "julia",
   "version": "1.5.2"
  }
 },
 "nbformat": 4,
 "nbformat_minor": 4
}
